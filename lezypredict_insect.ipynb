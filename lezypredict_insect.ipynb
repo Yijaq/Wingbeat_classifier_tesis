{
 "cells": [
  {
   "cell_type": "markdown",
   "id": "aae4f39d-e08f-44d8-bd03-0f6a574c8b51",
   "metadata": {},
   "source": [
    "# Librerías "
   ]
  },
  {
   "cell_type": "code",
   "execution_count": 1,
   "id": "77104d7f-bc64-47e1-8474-a8c8b3bca840",
   "metadata": {},
   "outputs": [],
   "source": [
    "# Librerías\n",
    "import pandas as pd\n",
    "import numpy as np\n",
    "import datetime\n",
    "import time\n",
    "import os\n",
    "\n",
    "import matplotlib.pyplot as plt\n",
    "%matplotlib inline\n",
    "import seaborn as sns\n",
    "\n",
    "from sklearn.svm import SVC\n",
    "from sklearn.model_selection import validation_curve\n",
    "from sklearn.preprocessing import LabelEncoder\n",
    "\n",
    "%config InlineBackend.figure_format='retina'\n",
    "sns.set()         # Revert to matplotlib defaults\n",
    "plt.rcParams['figure.figsize'] = (9, 6)\n",
    "plt.rcParams['axes.labelpad'] = 10\n",
    "sns.set_style(\"darkgrid\")\n",
    "\n",
    "#import lazypredict\n",
    "#from lazypredict.Supervised import LazyClassifier\n",
    "from sklearn.model_selection import train_test_split\n",
    "\n",
    "from lazypredict_mod.Supervised import LazyClassifier"
   ]
  },
  {
   "cell_type": "markdown",
   "id": "95534fb6-4a76-4032-a351-5a28390efa05",
   "metadata": {},
   "source": [
    "# Espectral "
   ]
  },
  {
   "cell_type": "code",
   "execution_count": 2,
   "id": "d5a9eb0d-a449-43a5-bf75-e814bc604dcd",
   "metadata": {},
   "outputs": [],
   "source": [
    "df = pd.read_csv(\"../Features/Resultados/clean_spectral_insect.csv\")"
   ]
  },
  {
   "cell_type": "code",
   "execution_count": 3,
   "id": "f68e0646-4eea-4b15-9462-4976292d8ce4",
   "metadata": {},
   "outputs": [
    {
     "data": {
      "text/plain": [
       "insect\n",
       "Ae. aegypti.f     4945\n",
       "Ae. aegypti.m     4945\n",
       "Cx. quinq.f       4884\n",
       "Cx. quinq.m       4967\n",
       "Cx. stigma.f      4935\n",
       "Cx. stigma.m      4887\n",
       "Cx. tarsalis.f    4959\n",
       "Cx. tarsalis.m    4959\n",
       "D. simulans       4945\n",
       "M. domestica      4978\n",
       "dtype: int64"
      ]
     },
     "execution_count": 3,
     "metadata": {},
     "output_type": "execute_result"
    }
   ],
   "source": [
    "# Distribución de las clases\n",
    "df.groupby('insect').size()"
   ]
  },
  {
   "cell_type": "code",
   "execution_count": 4,
   "id": "e6b928e8-e854-4c18-98d9-1f125e0caace",
   "metadata": {},
   "outputs": [],
   "source": [
    "# Codificación de la variable objetivo\n",
    "from sklearn.preprocessing import LabelEncoder\n",
    "\n",
    "encoder = LabelEncoder()\n",
    "df.insect = encoder.fit_transform(df.insect)"
   ]
  },
  {
   "cell_type": "code",
   "execution_count": 5,
   "id": "dbae741e-6d32-4383-b63c-8cd62c09cbe6",
   "metadata": {},
   "outputs": [],
   "source": [
    "# División del dataset en train y test\n",
    "#from sklearn.model_selection import train_test_split\n",
    "\n",
    "features = df.columns.tolist()\n",
    "features.remove('insect')\n",
    "features.remove('Path_name')\n",
    "\n",
    "X_train, X_test, y_train, y_test = train_test_split(df[features].values,\\\n",
    "                                                    df['insect'].values,\\\n",
    "                                                    test_size=0.2,\\\n",
    "                                                    random_state=1)"
   ]
  },
  {
   "cell_type": "code",
   "execution_count": null,
   "id": "94cfe2d7-c2fc-4179-b816-aa240f822c3b",
   "metadata": {
    "scrolled": true
   },
   "outputs": [
    {
     "name": "stderr",
     "output_type": "stream",
     "text": [
      "  4%|▎         | 1/27 [00:25<11:08, 25.72s/it]"
     ]
    },
    {
     "name": "stdout",
     "output_type": "stream",
     "text": [
      "{'Model': 'AdaBoostClassifier', 'Accuracy': 0.5051108187430422, 'Balanced Accuracy': 0.5028433222391537, 'ROC AUC': None, 'F1 Score': 0.49223583184524017, 'Time taken': 25.715389013290405}\n"
     ]
    },
    {
     "name": "stderr",
     "output_type": "stream",
     "text": [
      "  7%|▋         | 2/27 [00:58<12:21, 29.64s/it]"
     ]
    },
    {
     "name": "stdout",
     "output_type": "stream",
     "text": [
      "{'Model': 'BaggingClassifier', 'Accuracy': 0.622811456330331, 'Balanced Accuracy': 0.621688749272612, 'ROC AUC': None, 'F1 Score': 0.6217238804215177, 'Time taken': 32.36812496185303}\n"
     ]
    },
    {
     "name": "stderr",
     "output_type": "stream",
     "text": [
      " 11%|█         | 3/27 [00:58<06:29, 16.24s/it]"
     ]
    },
    {
     "name": "stdout",
     "output_type": "stream",
     "text": [
      "{'Model': 'BernoulliNB', 'Accuracy': 0.35239348244104846, 'Balanced Accuracy': 0.35363246873029086, 'ROC AUC': None, 'F1 Score': 0.34721936506878504, 'Time taken': 0.27756166458129883}\n"
     ]
    },
    {
     "name": "stderr",
     "output_type": "stream",
     "text": [
      " 15%|█▍        | 4/27 [01:40<10:08, 26.47s/it]"
     ]
    },
    {
     "name": "stdout",
     "output_type": "stream",
     "text": [
      "{'Model': 'CalibratedClassifierCV', 'Accuracy': 0.4138245116891003, 'Balanced Accuracy': 0.41043563778126907, 'ROC AUC': None, 'F1 Score': 0.4029878714204311, 'Time taken': 42.16735792160034}\n"
     ]
    },
    {
     "name": "stderr",
     "output_type": "stream",
     "text": [
      " 22%|██▏       | 6/27 [01:42<04:34, 13.05s/it]"
     ]
    },
    {
     "name": "stdout",
     "output_type": "stream",
     "text": [
      "{'Model': 'DecisionTreeClassifier', 'Accuracy': 0.5417467867624735, 'Balanced Accuracy': 0.5408135427717552, 'ROC AUC': None, 'F1 Score': 0.5417865113938712, 'Time taken': 2.212190866470337}\n",
      "{'Model': 'DummyClassifier', 'Accuracy': 0.09766217994130148, 'Balanced Accuracy': 0.1, 'ROC AUC': None, 'F1 Score': 0.017378573417546728, 'Time taken': 0.09584999084472656}\n"
     ]
    },
    {
     "name": "stderr",
     "output_type": "stream",
     "text": [
      " 30%|██▉       | 8/27 [01:43<02:22,  7.49s/it]"
     ]
    },
    {
     "name": "stdout",
     "output_type": "stream",
     "text": [
      "{'Model': 'ExtraTreeClassifier', 'Accuracy': 0.4722194109907904, 'Balanced Accuracy': 0.4714912777517501, 'ROC AUC': None, 'F1 Score': 0.4726312416327943, 'Time taken': 0.19904303550720215}\n"
     ]
    },
    {
     "name": "stderr",
     "output_type": "stream",
     "text": [
      " 37%|███▋      | 10/27 [01:53<01:44,  6.14s/it]"
     ]
    },
    {
     "name": "stdout",
     "output_type": "stream",
     "text": [
      "{'Model': 'ExtraTreesClassifier', 'Accuracy': 0.6495293998583139, 'Balanced Accuracy': 0.6478226923919342, 'ROC AUC': None, 'F1 Score': 0.6462767873780187, 'Time taken': 10.319271326065063}\n",
      "{'Model': 'GaussianNB', 'Accuracy': 0.3499645784839591, 'Balanced Accuracy': 0.3456808510853847, 'ROC AUC': None, 'F1 Score': 0.32389826577627906, 'Time taken': 0.14913725852966309}\n"
     ]
    },
    {
     "name": "stderr",
     "output_type": "stream",
     "text": [
      " 41%|████      | 11/27 [01:56<01:23,  5.25s/it]"
     ]
    },
    {
     "name": "stdout",
     "output_type": "stream",
     "text": [
      "{'Model': 'KNeighborsClassifier', 'Accuracy': 0.49954458050804573, 'Balanced Accuracy': 0.49759487655218937, 'ROC AUC': None, 'F1 Score': 0.497684561043598, 'Time taken': 2.764472007751465}\n"
     ]
    },
    {
     "name": "stderr",
     "output_type": "stream",
     "text": [
      " 44%|████▍     | 12/27 [01:56<00:58,  3.90s/it]"
     ]
    },
    {
     "name": "stdout",
     "output_type": "stream",
     "text": [
      "{'Model': 'LinearDiscriminantAnalysis', 'Accuracy': 0.41645582430928046, 'Balanced Accuracy': 0.4141694036219855, 'ROC AUC': None, 'F1 Score': 0.41029192621424937, 'Time taken': 0.31554198265075684}\n"
     ]
    },
    {
     "name": "stderr",
     "output_type": "stream",
     "text": [
      " 48%|████▊     | 13/27 [03:39<07:25, 31.84s/it]"
     ]
    },
    {
     "name": "stdout",
     "output_type": "stream",
     "text": [
      "{'Model': 'LinearSVC', 'Accuracy': 0.4046149175184698, 'Balanced Accuracy': 0.40069808828420045, 'ROC AUC': None, 'F1 Score': 0.37827225736563497, 'Time taken': 103.18332505226135}\n"
     ]
    },
    {
     "name": "stderr",
     "output_type": "stream",
     "text": [
      " 56%|█████▌    | 15/27 [03:42<03:19, 16.62s/it]"
     ]
    },
    {
     "name": "stdout",
     "output_type": "stream",
     "text": [
      "{'Model': 'LogisticRegression', 'Accuracy': 0.4307256350571804, 'Balanced Accuracy': 0.42750767173854853, 'ROC AUC': None, 'F1 Score': 0.4228065173702148, 'Time taken': 2.337707042694092}\n",
      "{'Model': 'NearestCentroid', 'Accuracy': 0.32820564720170026, 'Balanced Accuracy': 0.32757470083220896, 'ROC AUC': None, 'F1 Score': 0.3262960091833922, 'Time taken': 0.11052989959716797}\n"
     ]
    },
    {
     "name": "stderr",
     "output_type": "stream",
     "text": [
      " 59%|█████▉    | 16/27 [11:23<26:57, 147.05s/it]"
     ]
    },
    {
     "name": "stdout",
     "output_type": "stream",
     "text": [
      "{'Model': 'NuSVC', 'Accuracy': 0.5927537698613501, 'Balanced Accuracy': 0.5907395332035511, 'ROC AUC': None, 'F1 Score': 0.5901261610359257, 'Time taken': 461.23646998405457}\n"
     ]
    },
    {
     "name": "stderr",
     "output_type": "stream",
     "text": [
      " 63%|██████▎   | 17/27 [11:24<17:18, 103.85s/it]"
     ]
    },
    {
     "name": "stdout",
     "output_type": "stream",
     "text": [
      "{'Model': 'PassiveAggressiveClassifier', 'Accuracy': 0.28944438821981583, 'Balanced Accuracy': 0.28844282533076304, 'ROC AUC': None, 'F1 Score': 0.2838792738004628, 'Time taken': 0.7702438831329346}\n"
     ]
    },
    {
     "name": "stderr",
     "output_type": "stream",
     "text": [
      " 70%|███████   | 19/27 [11:25<06:52, 51.51s/it] "
     ]
    },
    {
     "name": "stdout",
     "output_type": "stream",
     "text": [
      "{'Model': 'Perceptron', 'Accuracy': 0.22872178929258172, 'Balanced Accuracy': 0.22747344451046292, 'ROC AUC': None, 'F1 Score': 0.21949542639810798, 'Time taken': 0.7906532287597656}\n",
      "{'Model': 'QuadraticDiscriminantAnalysis', 'Accuracy': 0.37445602671794354, 'Balanced Accuracy': 0.36976419255014925, 'ROC AUC': None, 'F1 Score': 0.3344667205377567, 'Time taken': 0.1786038875579834}\n"
     ]
    },
    {
     "name": "stderr",
     "output_type": "stream",
     "text": [
      " 78%|███████▊  | 21/27 [11:53<03:07, 31.28s/it]"
     ]
    },
    {
     "name": "stdout",
     "output_type": "stream",
     "text": [
      "{'Model': 'RandomForestClassifier', 'Accuracy': 0.6587389940289444, 'Balanced Accuracy': 0.6573182517885632, 'ROC AUC': None, 'F1 Score': 0.6563630719625018, 'Time taken': 28.191993236541748}\n",
      "{'Model': 'RidgeClassifier', 'Accuracy': 0.37809938265357756, 'Balanced Accuracy': 0.37498266651545065, 'ROC AUC': None, 'F1 Score': 0.34928433179369556, 'Time taken': 0.12460899353027344}\n"
     ]
    },
    {
     "name": "stderr",
     "output_type": "stream",
     "text": [
      " 81%|████████▏ | 22/27 [11:53<01:49, 21.98s/it]"
     ]
    },
    {
     "name": "stdout",
     "output_type": "stream",
     "text": [
      "{'Model': 'RidgeClassifierCV', 'Accuracy': 0.3789090173059407, 'Balanced Accuracy': 0.3758001343312012, 'ROC AUC': None, 'F1 Score': 0.35029486366390006, 'Time taken': 0.2109670639038086}\n"
     ]
    },
    {
     "name": "stderr",
     "output_type": "stream",
     "text": [
      " 85%|████████▌ | 23/27 [11:55<01:04, 16.01s/it]"
     ]
    },
    {
     "name": "stdout",
     "output_type": "stream",
     "text": [
      "{'Model': 'SGDClassifier', 'Accuracy': 0.3039166076308066, 'Balanced Accuracy': 0.29914678252662663, 'ROC AUC': None, 'F1 Score': 0.27756552605867824, 'Time taken': 2.032589912414551}\n"
     ]
    },
    {
     "name": "stderr",
     "output_type": "stream",
     "text": [
      " 89%|████████▉ | 24/27 [14:28<02:51, 57.03s/it]"
     ]
    },
    {
     "name": "stdout",
     "output_type": "stream",
     "text": [
      "{'Model': 'SVC', 'Accuracy': 0.6331342981479607, 'Balanced Accuracy': 0.6312855440069021, 'ROC AUC': None, 'F1 Score': 0.6298093976224964, 'Time taken': 152.91949796676636}\n"
     ]
    },
    {
     "name": "stderr",
     "output_type": "stream",
     "text": [
      " 96%|█████████▋| 26/27 [14:36<00:32, 32.50s/it]"
     ]
    },
    {
     "name": "stdout",
     "output_type": "stream",
     "text": [
      "{'Model': 'XGBClassifier', 'Accuracy': 0.6649124582532132, 'Balanced Accuracy': 0.6634750253432613, 'ROC AUC': None, 'F1 Score': 0.6633076661104046, 'Time taken': 7.680250883102417}\n"
     ]
    }
   ],
   "source": [
    "clf = LazyClassifier(verbose=1,ignore_warnings=True, custom_metric=None)\n",
    "models,predictions = clf.fit(X_train, X_test, y_train, y_test)"
   ]
  },
  {
   "cell_type": "code",
   "execution_count": null,
   "id": "3ad55f01-93af-4190-af37-c80781397154",
   "metadata": {},
   "outputs": [],
   "source": [
    "print(models)"
   ]
  },
  {
   "cell_type": "markdown",
   "id": "3648430f-b754-4f1c-a515-aa4a8b5fcab0",
   "metadata": {},
   "source": [
    "# Temporal "
   ]
  },
  {
   "cell_type": "code",
   "execution_count": 53,
   "id": "ec4cb60c-4f49-44be-b75c-7c26b076bf0e",
   "metadata": {},
   "outputs": [],
   "source": [
    "df = pd.read_csv(\"../Features/Resultados/clean_temporal_insect.csv\")"
   ]
  },
  {
   "cell_type": "code",
   "execution_count": 54,
   "id": "0343ffe3-dcec-4c81-996a-4328325ad2bc",
   "metadata": {},
   "outputs": [
    {
     "data": {
      "text/plain": [
       "insect\n",
       "Ae. aegypti.f     5000\n",
       "Ae. aegypti.m     4999\n",
       "Cx. quinq.f       4999\n",
       "Cx. quinq.m       4997\n",
       "Cx. stigma.f      4999\n",
       "Cx. stigma.m      4997\n",
       "Cx. tarsalis.f    5000\n",
       "Cx. tarsalis.m    4998\n",
       "D. simulans       4999\n",
       "M. domestica      4999\n",
       "dtype: int64"
      ]
     },
     "execution_count": 54,
     "metadata": {},
     "output_type": "execute_result"
    }
   ],
   "source": [
    "# Distribución de las clases\n",
    "df.groupby('insect').size()"
   ]
  },
  {
   "cell_type": "code",
   "execution_count": 55,
   "id": "cd24f1e7-0c89-44ec-8008-f34078fab1e0",
   "metadata": {
    "scrolled": true
   },
   "outputs": [],
   "source": [
    "# Codificación de la variable objetivo\n",
    "from sklearn.preprocessing import LabelEncoder\n",
    "\n",
    "encoder = LabelEncoder()\n",
    "df.insect = encoder.fit_transform(df.insect)"
   ]
  },
  {
   "cell_type": "code",
   "execution_count": 56,
   "id": "214ae8a7-d5a3-42e3-84e9-1e6ad5a7e9f8",
   "metadata": {},
   "outputs": [],
   "source": [
    "features = df.columns.tolist()\n",
    "features.remove('insect')\n",
    "features.remove('Path_name')"
   ]
  },
  {
   "cell_type": "code",
   "execution_count": 57,
   "id": "cf709630-4e2f-40e5-9135-dd7b5c2a5675",
   "metadata": {},
   "outputs": [],
   "source": [
    "X_train, X_test, y_train, y_test = train_test_split(df[features].values,\\\n",
    "                                                    df['insect'].values,\\\n",
    "                                                    test_size=0.2,\\\n",
    "                                                    random_state=7)"
   ]
  },
  {
   "cell_type": "code",
   "execution_count": 58,
   "id": "2c23f36b-6bf9-4c48-988c-71eabf8638c2",
   "metadata": {
    "collapsed": true,
    "jupyter": {
     "outputs_hidden": true
    }
   },
   "outputs": [
    {
     "name": "stderr",
     "output_type": "stream",
     "text": [
      " 96%|█████████▋| 26/27 [18:50<01:03, 63.21s/it] "
     ]
    },
    {
     "name": "stdout",
     "output_type": "stream",
     "text": [
      "[LightGBM] [Info] Auto-choosing col-wise multi-threading, the overhead of testing was 0.004535 seconds.\n",
      "You can set `force_col_wise=true` to remove the overhead.\n",
      "[LightGBM] [Info] Total Bins 2805\n",
      "[LightGBM] [Info] Number of data points in the train set: 39989, number of used features: 11\n",
      "[LightGBM] [Info] Start training from score -2.294094\n",
      "[LightGBM] [Info] Start training from score -2.298816\n",
      "[LightGBM] [Info] Start training from score -2.301311\n",
      "[LightGBM] [Info] Start training from score -2.296080\n",
      "[LightGBM] [Info] Start training from score -2.308328\n",
      "[LightGBM] [Info] Start training from score -2.300811\n",
      "[LightGBM] [Info] Start training from score -2.304813\n",
      "[LightGBM] [Info] Start training from score -2.310342\n",
      "[LightGBM] [Info] Start training from score -2.303561\n",
      "[LightGBM] [Info] Start training from score -2.307825\n"
     ]
    },
    {
     "name": "stderr",
     "output_type": "stream",
     "text": [
      "100%|██████████| 27/27 [18:53<00:00, 42.00s/it]\n"
     ]
    }
   ],
   "source": [
    "clf = LazyClassifier(verbose=0,ignore_warnings=True, custom_metric=None)\n",
    "models,predictions = clf.fit(X_train, X_test, y_train, y_test)"
   ]
  },
  {
   "cell_type": "code",
   "execution_count": 59,
   "id": "2092ca58-352b-4041-84c0-9ae082fc6ffe",
   "metadata": {},
   "outputs": [
    {
     "name": "stdout",
     "output_type": "stream",
     "text": [
      "                               Accuracy  Balanced Accuracy ROC AUC  F1 Score  \\\n",
      "Model                                                                          \n",
      "LGBMClassifier                     0.41               0.41    None      0.40   \n",
      "XGBClassifier                      0.41               0.41    None      0.40   \n",
      "RandomForestClassifier             0.39               0.39    None      0.38   \n",
      "NuSVC                              0.38               0.38    None      0.37   \n",
      "SVC                                0.37               0.37    None      0.36   \n",
      "ExtraTreesClassifier               0.36               0.35    None      0.34   \n",
      "BaggingClassifier                  0.34               0.34    None      0.34   \n",
      "LogisticRegression                 0.31               0.31    None      0.28   \n",
      "CalibratedClassifierCV             0.30               0.30    None      0.28   \n",
      "KNeighborsClassifier               0.30               0.30    None      0.29   \n",
      "LinearSVC                          0.29               0.29    None      0.24   \n",
      "LinearDiscriminantAnalysis         0.29               0.29    None      0.28   \n",
      "AdaBoostClassifier                 0.28               0.28    None      0.27   \n",
      "RidgeClassifierCV                  0.28               0.28    None      0.24   \n",
      "RidgeClassifier                    0.28               0.28    None      0.23   \n",
      "DecisionTreeClassifier             0.27               0.27    None      0.27   \n",
      "ExtraTreeClassifier                0.22               0.22    None      0.22   \n",
      "QuadraticDiscriminantAnalysis      0.22               0.22    None      0.18   \n",
      "NearestCentroid                    0.21               0.21    None      0.20   \n",
      "SGDClassifier                      0.21               0.21    None      0.18   \n",
      "GaussianNB                         0.19               0.19    None      0.16   \n",
      "BernoulliNB                        0.18               0.18    None      0.15   \n",
      "Perceptron                         0.16               0.16    None      0.14   \n",
      "PassiveAggressiveClassifier        0.13               0.13    None      0.10   \n",
      "DummyClassifier                    0.10               0.10    None      0.02   \n",
      "\n",
      "                               Time Taken  \n",
      "Model                                      \n",
      "LGBMClassifier                       3.57  \n",
      "XGBClassifier                        6.05  \n",
      "RandomForestClassifier              36.41  \n",
      "NuSVC                              613.97  \n",
      "SVC                                339.26  \n",
      "ExtraTreesClassifier                 9.41  \n",
      "BaggingClassifier                    7.99  \n",
      "LogisticRegression                   1.78  \n",
      "CalibratedClassifierCV              13.63  \n",
      "KNeighborsClassifier                 4.49  \n",
      "LinearSVC                           85.51  \n",
      "LinearDiscriminantAnalysis           0.11  \n",
      "AdaBoostClassifier                   6.00  \n",
      "RidgeClassifierCV                    0.23  \n",
      "RidgeClassifier                      0.19  \n",
      "DecisionTreeClassifier               1.30  \n",
      "ExtraTreeClassifier                  0.16  \n",
      "QuadraticDiscriminantAnalysis        0.11  \n",
      "NearestCentroid                      0.08  \n",
      "SGDClassifier                        2.05  \n",
      "GaussianNB                           0.10  \n",
      "BernoulliNB                          0.08  \n",
      "Perceptron                           0.70  \n",
      "PassiveAggressiveClassifier          0.65  \n",
      "DummyClassifier                      0.07  \n"
     ]
    }
   ],
   "source": [
    "print(models)"
   ]
  },
  {
   "cell_type": "code",
   "execution_count": 9,
   "id": "5292f460-fe2d-4902-90c3-22fa33e96e06",
   "metadata": {},
   "outputs": [
    {
     "name": "stdout",
     "output_type": "stream",
     "text": [
      "  key  value1  value2\n",
      "0   A       1       4\n",
      "1   B       2       5\n"
     ]
    }
   ],
   "source": [
    "# Crear dos DataFrames de ejemplo\n",
    "df1 = pd.DataFrame({\n",
    "    'key': ['A', 'B', 'C'],\n",
    "    'value1': [1, 2, 3]\n",
    "})\n",
    "\n",
    "df2 = pd.DataFrame({\n",
    "    'key': ['A', 'B', 'D'],\n",
    "    'value2': [4, 5, 6]\n",
    "})\n",
    "\n",
    "# Unión por clave\n",
    "result = pd.merge(df1, df2, on='key', how='inner')  # inner, left, right, outer\n",
    "print(result)"
   ]
  },
  {
   "cell_type": "markdown",
   "id": "d209b9e1-74f8-4720-858e-08c51252d4e5",
   "metadata": {},
   "source": [
    "# Espectral + temporal "
   ]
  },
  {
   "cell_type": "code",
   "execution_count": 39,
   "id": "d558b702-2917-418e-9232-e66cedc3fdf5",
   "metadata": {},
   "outputs": [],
   "source": [
    "df1 = pd.read_csv(\"../Features/Resultados/clean_spectral_insect.csv\")\n",
    "df2 = pd.read_csv(\"../Features/Resultados/clean_temporal_insect.csv\")"
   ]
  },
  {
   "cell_type": "code",
   "execution_count": 40,
   "id": "ba7e3c6b-be10-4a89-b451-4d0178a0e587",
   "metadata": {},
   "outputs": [],
   "source": [
    "df1.drop(columns=['insect'], inplace=True)"
   ]
  },
  {
   "cell_type": "code",
   "execution_count": 41,
   "id": "9cbac6f7-4b47-4c1b-bee2-6c0a130eda22",
   "metadata": {},
   "outputs": [],
   "source": [
    "data = pd.merge(df1, df2, on='Path_name', how='inner')"
   ]
  },
  {
   "cell_type": "code",
   "execution_count": 42,
   "id": "bd0eb0b0-41bc-4d70-8f35-b7927d9484ca",
   "metadata": {},
   "outputs": [
    {
     "data": {
      "text/plain": [
       "insect\n",
       "Ae. aegypti.f     4975\n",
       "Ae. aegypti.m     4986\n",
       "Cx. quinq.f       4991\n",
       "Cx. quinq.m       4979\n",
       "Cx. stigma.f      4992\n",
       "Cx. stigma.m      4983\n",
       "Cx. tarsalis.f    4981\n",
       "Cx. tarsalis.m    4986\n",
       "D. simulans       4992\n",
       "M. domestica      4995\n",
       "dtype: int64"
      ]
     },
     "execution_count": 42,
     "metadata": {},
     "output_type": "execute_result"
    }
   ],
   "source": [
    "# Distribución de las clases\n",
    "data.groupby('insect').size()"
   ]
  },
  {
   "cell_type": "code",
   "execution_count": 43,
   "id": "7aa45f2b-3f84-4f68-ad90-0ab0d2cbe009",
   "metadata": {},
   "outputs": [],
   "source": [
    "# Codificación de la variable objetivo\n",
    "from sklearn.preprocessing import LabelEncoder\n",
    "\n",
    "encoder = LabelEncoder()\n",
    "data.insect = encoder.fit_transform(data.insect)"
   ]
  },
  {
   "cell_type": "code",
   "execution_count": 44,
   "id": "d7982522-de46-40de-8d8b-a5514b0d546d",
   "metadata": {},
   "outputs": [],
   "source": [
    "features = data.columns.tolist()\n",
    "features.remove('insect')\n",
    "features.remove('Path_name')"
   ]
  },
  {
   "cell_type": "code",
   "execution_count": 45,
   "id": "6c171e8e-f902-4d68-9f46-e6f697eafcbd",
   "metadata": {},
   "outputs": [],
   "source": [
    "X_train, X_test, y_train, y_test = train_test_split(data[features].values,\\\n",
    "                                                    data['insect'].values,\\\n",
    "                                                    test_size=0.2,\\\n",
    "                                                    random_state=7)"
   ]
  },
  {
   "cell_type": "code",
   "execution_count": 46,
   "id": "11e20470-a454-4364-aa34-5eb82df54113",
   "metadata": {
    "collapsed": true,
    "jupyter": {
     "outputs_hidden": true
    },
    "scrolled": true
   },
   "outputs": [
    {
     "name": "stderr",
     "output_type": "stream",
     "text": [
      "  4%|▎         | 1/27 [00:17<07:32, 17.41s/it]"
     ]
    },
    {
     "name": "stdout",
     "output_type": "stream",
     "text": [
      "{'Model': 'AdaBoostClassifier', 'Accuracy': 0.5119334135579623, 'Balanced Accuracy': 0.513797804252263, 'ROC AUC': None, 'F1 Score': 0.50470027318849, 'Time taken': 17.411038875579834}\n"
     ]
    },
    {
     "name": "stderr",
     "output_type": "stream",
     "text": [
      " 11%|█         | 3/27 [00:39<04:23, 10.96s/it]"
     ]
    },
    {
     "name": "stdout",
     "output_type": "stream",
     "text": [
      "{'Model': 'BaggingClassifier', 'Accuracy': 0.6241476133172884, 'Balanced Accuracy': 0.6250139019970804, 'ROC AUC': None, 'F1 Score': 0.6230611688871792, 'Time taken': 21.888232231140137}\n",
      "{'Model': 'BernoulliNB', 'Accuracy': 0.33473726434015244, 'Balanced Accuracy': 0.3343076613689634, 'ROC AUC': None, 'F1 Score': 0.32613839595853783, 'Time taken': 0.15725302696228027}\n"
     ]
    },
    {
     "name": "stderr",
     "output_type": "stream",
     "text": [
      " 15%|█▍        | 4/27 [02:06<15:46, 41.14s/it]"
     ]
    },
    {
     "name": "stdout",
     "output_type": "stream",
     "text": [
      "{'Model': 'CalibratedClassifierCV', 'Accuracy': 0.47081829121540314, 'Balanced Accuracy': 0.4717685133167461, 'ROC AUC': None, 'F1 Score': 0.4615606055837625, 'Time taken': 87.38784384727478}\n"
     ]
    },
    {
     "name": "stderr",
     "output_type": "stream",
     "text": [
      " 22%|██▏       | 6/27 [02:10<07:05, 20.27s/it]"
     ]
    },
    {
     "name": "stdout",
     "output_type": "stream",
     "text": [
      "{'Model': 'DecisionTreeClassifier', 'Accuracy': 0.5431207380665865, 'Balanced Accuracy': 0.5438633080368241, 'ROC AUC': None, 'F1 Score': 0.5430433463306137, 'Time taken': 3.4610071182250977}\n",
      "{'Model': 'DummyClassifier', 'Accuracy': 0.09767348576012835, 'Balanced Accuracy': 0.1, 'ROC AUC': None, 'F1 Score': 0.01738241825879134, 'Time taken': 0.0973348617553711}\n"
     ]
    },
    {
     "name": "stderr",
     "output_type": "stream",
     "text": [
      " 30%|██▉       | 8/27 [02:10<03:40, 11.61s/it]"
     ]
    },
    {
     "name": "stdout",
     "output_type": "stream",
     "text": [
      "{'Model': 'ExtraTreeClassifier', 'Accuracy': 0.37735659847573205, 'Balanced Accuracy': 0.3774169112974544, 'ROC AUC': None, 'F1 Score': 0.3776842412203674, 'Time taken': 0.23493599891662598}\n"
     ]
    },
    {
     "name": "stderr",
     "output_type": "stream",
     "text": [
      " 37%|███▋      | 10/27 [02:21<02:25,  8.55s/it]"
     ]
    },
    {
     "name": "stdout",
     "output_type": "stream",
     "text": [
      "{'Model': 'ExtraTreesClassifier', 'Accuracy': 0.6504211793020457, 'Balanced Accuracy': 0.6510221568821752, 'ROC AUC': None, 'F1 Score': 0.6455724159536076, 'Time taken': 10.613280057907104}\n",
      "{'Model': 'GaussianNB', 'Accuracy': 0.3314279983955074, 'Balanced Accuracy': 0.3328413521815734, 'ROC AUC': None, 'F1 Score': 0.3078196568016828, 'Time taken': 0.15743184089660645}\n"
     ]
    },
    {
     "name": "stderr",
     "output_type": "stream",
     "text": [
      " 41%|████      | 11/27 [02:23<01:49,  6.86s/it]"
     ]
    },
    {
     "name": "stdout",
     "output_type": "stream",
     "text": [
      "{'Model': 'KNeighborsClassifier', 'Accuracy': 0.4927797833935018, 'Balanced Accuracy': 0.49438158003454385, 'ROC AUC': None, 'F1 Score': 0.49162760703815467, 'Time taken': 2.144810914993286}\n"
     ]
    },
    {
     "name": "stderr",
     "output_type": "stream",
     "text": [
      " 44%|████▍     | 12/27 [02:23<01:16,  5.07s/it]"
     ]
    },
    {
     "name": "stdout",
     "output_type": "stream",
     "text": [
      "{'Model': 'LinearDiscriminantAnalysis', 'Accuracy': 0.45697954271961494, 'Balanced Accuracy': 0.45788313201869857, 'ROC AUC': None, 'F1 Score': 0.4535932128894635, 'Time taken': 0.32710695266723633}\n"
     ]
    },
    {
     "name": "stderr",
     "output_type": "stream",
     "text": [
      " 48%|████▊     | 13/27 [04:29<09:03, 38.85s/it]"
     ]
    },
    {
     "name": "stdout",
     "output_type": "stream",
     "text": [
      "{'Model': 'LinearSVC', 'Accuracy': 0.46891295627757723, 'Balanced Accuracy': 0.46988198888643895, 'ROC AUC': None, 'F1 Score': 0.4468101197851033, 'Time taken': 125.10172080993652}\n"
     ]
    },
    {
     "name": "stderr",
     "output_type": "stream",
     "text": [
      " 56%|█████▌    | 15/27 [04:31<04:01, 20.09s/it]"
     ]
    },
    {
     "name": "stdout",
     "output_type": "stream",
     "text": [
      "{'Model': 'LogisticRegression', 'Accuracy': 0.49207781789009225, 'Balanced Accuracy': 0.4927591507323668, 'ROC AUC': None, 'F1 Score': 0.4844083599138558, 'Time taken': 1.9540269374847412}\n",
      "{'Model': 'NearestCentroid', 'Accuracy': 0.32731648616125153, 'Balanced Accuracy': 0.3271013355388673, 'ROC AUC': None, 'F1 Score': 0.32401961805918283, 'Time taken': 0.12667226791381836}\n"
     ]
    },
    {
     "name": "stderr",
     "output_type": "stream",
     "text": [
      " 59%|█████▉    | 16/27 [11:06<23:50, 130.08s/it]"
     ]
    },
    {
     "name": "stdout",
     "output_type": "stream",
     "text": [
      "{'Model': 'NuSVC', 'Accuracy': 0.6179302045728039, 'Balanced Accuracy': 0.6182860105720296, 'ROC AUC': None, 'F1 Score': 0.6159958321070432, 'Time taken': 395.00476717948914}\n"
     ]
    },
    {
     "name": "stderr",
     "output_type": "stream",
     "text": [
      " 63%|██████▎   | 17/27 [11:07<15:19, 91.93s/it] "
     ]
    },
    {
     "name": "stdout",
     "output_type": "stream",
     "text": [
      "{'Model': 'PassiveAggressiveClassifier', 'Accuracy': 0.25140393100681907, 'Balanced Accuracy': 0.2523072602800607, 'ROC AUC': None, 'F1 Score': 0.2407895754953969, 'Time taken': 0.9019198417663574}\n"
     ]
    },
    {
     "name": "stderr",
     "output_type": "stream",
     "text": [
      " 67%|██████▋   | 18/27 [11:08<09:44, 64.96s/it]"
     ]
    },
    {
     "name": "stdout",
     "output_type": "stream",
     "text": [
      "{'Model': 'Perceptron', 'Accuracy': 0.3194945848375451, 'Balanced Accuracy': 0.32154863915607945, 'ROC AUC': None, 'F1 Score': 0.30231525257016434, 'Time taken': 1.0164661407470703}\n"
     ]
    },
    {
     "name": "stderr",
     "output_type": "stream",
     "text": [
      " 70%|███████   | 19/27 [11:08<06:05, 45.69s/it]"
     ]
    },
    {
     "name": "stdout",
     "output_type": "stream",
     "text": [
      "{'Model': 'QuadraticDiscriminantAnalysis', 'Accuracy': 0.39029281989570797, 'Balanced Accuracy': 0.3930425460150898, 'ROC AUC': None, 'F1 Score': 0.3633207355901792, 'Time taken': 0.24034714698791504}\n"
     ]
    },
    {
     "name": "stderr",
     "output_type": "stream",
     "text": [
      " 78%|███████▊  | 21/27 [11:44<02:59, 29.99s/it]"
     ]
    },
    {
     "name": "stdout",
     "output_type": "stream",
     "text": [
      "{'Model': 'RandomForestClassifier', 'Accuracy': 0.6688728439630967, 'Balanced Accuracy': 0.6694929542114003, 'ROC AUC': None, 'F1 Score': 0.6663396234987301, 'Time taken': 35.68271207809448}\n",
      "{'Model': 'RidgeClassifier', 'Accuracy': 0.43291215403128763, 'Balanced Accuracy': 0.4338111293440069, 'ROC AUC': None, 'F1 Score': 0.4090743282524079, 'Time taken': 0.1464099884033203}\n"
     ]
    },
    {
     "name": "stderr",
     "output_type": "stream",
     "text": [
      " 81%|████████▏ | 22/27 [11:44<01:45, 21.11s/it]"
     ]
    },
    {
     "name": "stdout",
     "output_type": "stream",
     "text": [
      "{'Model': 'RidgeClassifierCV', 'Accuracy': 0.43110709987966306, 'Balanced Accuracy': 0.43196597568059164, 'ROC AUC': None, 'F1 Score': 0.4072641109465771, 'Time taken': 0.3184468746185303}\n"
     ]
    },
    {
     "name": "stderr",
     "output_type": "stream",
     "text": [
      " 85%|████████▌ | 23/27 [11:47<01:03, 15.77s/it]"
     ]
    },
    {
     "name": "stdout",
     "output_type": "stream",
     "text": [
      "{'Model': 'SGDClassifier', 'Accuracy': 0.39861612515042116, 'Balanced Accuracy': 0.39923151549571534, 'ROC AUC': None, 'F1 Score': 0.36883771870258153, 'Time taken': 3.267214059829712}\n"
     ]
    },
    {
     "name": "stderr",
     "output_type": "stream",
     "text": [
      " 89%|████████▉ | 24/27 [14:59<03:25, 68.56s/it]"
     ]
    },
    {
     "name": "stdout",
     "output_type": "stream",
     "text": [
      "{'Model': 'SVC', 'Accuracy': 0.6628559967910148, 'Balanced Accuracy': 0.6632366530639237, 'ROC AUC': None, 'F1 Score': 0.6595969123199881, 'Time taken': 191.9765660762787}\n"
     ]
    },
    {
     "name": "stderr",
     "output_type": "stream",
     "text": [
      " 96%|█████████▋| 26/27 [15:11<00:39, 39.77s/it]"
     ]
    },
    {
     "name": "stdout",
     "output_type": "stream",
     "text": [
      "{'Model': 'XGBClassifier', 'Accuracy': 0.7055756117127958, 'Balanced Accuracy': 0.705940480313099, 'ROC AUC': None, 'F1 Score': 0.7047524263726468, 'Time taken': 12.262611865997314}\n",
      "[LightGBM] [Info] Auto-choosing col-wise multi-threading, the overhead of testing was 0.009283 seconds.\n",
      "You can set `force_col_wise=true` to remove the overhead.\n",
      "[LightGBM] [Info] Total Bins 7615\n",
      "[LightGBM] [Info] Number of data points in the train set: 39888, number of used features: 32\n",
      "[LightGBM] [Info] Start training from score -2.297534\n",
      "[LightGBM] [Info] Start training from score -2.297534\n",
      "[LightGBM] [Info] Start training from score -2.307813\n",
      "[LightGBM] [Info] Start training from score -2.296786\n",
      "[LightGBM] [Info] Start training from score -2.317691\n",
      "[LightGBM] [Info] Start training from score -2.301032\n",
      "[LightGBM] [Info] Start training from score -2.300782\n",
      "[LightGBM] [Info] Start training from score -2.300531\n",
      "[LightGBM] [Info] Start training from score -2.295291\n",
      "[LightGBM] [Info] Start training from score -2.311095\n"
     ]
    },
    {
     "name": "stderr",
     "output_type": "stream",
     "text": [
      "100%|██████████| 27/27 [15:18<00:00, 34.02s/it]"
     ]
    },
    {
     "name": "stdout",
     "output_type": "stream",
     "text": [
      "{'Model': 'LGBMClassifier', 'Accuracy': 0.7011632571199358, 'Balanced Accuracy': 0.7014641319109907, 'ROC AUC': None, 'F1 Score': 0.7004730760686667, 'Time taken': 6.590959072113037}\n"
     ]
    },
    {
     "name": "stderr",
     "output_type": "stream",
     "text": [
      "\n"
     ]
    }
   ],
   "source": [
    "clf = LazyClassifier(verbose=1,ignore_warnings=True, custom_metric=None)\n",
    "models,predictions = clf.fit(X_train, X_test, y_train, y_test)"
   ]
  },
  {
   "cell_type": "code",
   "execution_count": 47,
   "id": "774d1eeb-8436-4f0f-b71c-2fa06bc0334e",
   "metadata": {},
   "outputs": [
    {
     "name": "stdout",
     "output_type": "stream",
     "text": [
      "                               Accuracy  Balanced Accuracy ROC AUC  F1 Score  \\\n",
      "Model                                                                          \n",
      "XGBClassifier                      0.71               0.71    None      0.70   \n",
      "LGBMClassifier                     0.70               0.70    None      0.70   \n",
      "RandomForestClassifier             0.67               0.67    None      0.67   \n",
      "SVC                                0.66               0.66    None      0.66   \n",
      "ExtraTreesClassifier               0.65               0.65    None      0.65   \n",
      "BaggingClassifier                  0.62               0.63    None      0.62   \n",
      "NuSVC                              0.62               0.62    None      0.62   \n",
      "DecisionTreeClassifier             0.54               0.54    None      0.54   \n",
      "AdaBoostClassifier                 0.51               0.51    None      0.50   \n",
      "KNeighborsClassifier               0.49               0.49    None      0.49   \n",
      "LogisticRegression                 0.49               0.49    None      0.48   \n",
      "CalibratedClassifierCV             0.47               0.47    None      0.46   \n",
      "LinearSVC                          0.47               0.47    None      0.45   \n",
      "LinearDiscriminantAnalysis         0.46               0.46    None      0.45   \n",
      "RidgeClassifier                    0.43               0.43    None      0.41   \n",
      "RidgeClassifierCV                  0.43               0.43    None      0.41   \n",
      "SGDClassifier                      0.40               0.40    None      0.37   \n",
      "QuadraticDiscriminantAnalysis      0.39               0.39    None      0.36   \n",
      "ExtraTreeClassifier                0.38               0.38    None      0.38   \n",
      "BernoulliNB                        0.33               0.33    None      0.33   \n",
      "GaussianNB                         0.33               0.33    None      0.31   \n",
      "NearestCentroid                    0.33               0.33    None      0.32   \n",
      "Perceptron                         0.32               0.32    None      0.30   \n",
      "PassiveAggressiveClassifier        0.25               0.25    None      0.24   \n",
      "DummyClassifier                    0.10               0.10    None      0.02   \n",
      "\n",
      "                               Time Taken  \n",
      "Model                                      \n",
      "XGBClassifier                       12.26  \n",
      "LGBMClassifier                       6.59  \n",
      "RandomForestClassifier              35.68  \n",
      "SVC                                191.98  \n",
      "ExtraTreesClassifier                10.61  \n",
      "BaggingClassifier                   21.89  \n",
      "NuSVC                              395.00  \n",
      "DecisionTreeClassifier               3.46  \n",
      "AdaBoostClassifier                  17.41  \n",
      "KNeighborsClassifier                 2.14  \n",
      "LogisticRegression                   1.95  \n",
      "CalibratedClassifierCV              87.39  \n",
      "LinearSVC                          125.10  \n",
      "LinearDiscriminantAnalysis           0.33  \n",
      "RidgeClassifier                      0.15  \n",
      "RidgeClassifierCV                    0.32  \n",
      "SGDClassifier                        3.27  \n",
      "QuadraticDiscriminantAnalysis        0.24  \n",
      "ExtraTreeClassifier                  0.23  \n",
      "BernoulliNB                          0.16  \n",
      "GaussianNB                           0.16  \n",
      "NearestCentroid                      0.13  \n",
      "Perceptron                           1.02  \n",
      "PassiveAggressiveClassifier          0.90  \n",
      "DummyClassifier                      0.10  \n"
     ]
    }
   ],
   "source": [
    "print(models)"
   ]
  },
  {
   "cell_type": "markdown",
   "id": "e07a9e9e-d378-423b-a545-199ad652c7bf",
   "metadata": {},
   "source": [
    "# Transformada wavelet discreta "
   ]
  },
  {
   "cell_type": "markdown",
   "id": "d27382d0-3d95-4458-a7ce-80956fcaccb4",
   "metadata": {},
   "source": [
    "## dwt sym5 level 4 "
   ]
  },
  {
   "cell_type": "code",
   "execution_count": 3,
   "id": "9a255682-7b25-4c8c-b57d-5af2fb685168",
   "metadata": {},
   "outputs": [],
   "source": [
    "df = pd.read_csv(\"../Features/Resultados/clean_wavelet_wt1_insect.csv\")"
   ]
  },
  {
   "cell_type": "code",
   "execution_count": 4,
   "id": "acbaa481-4d8f-4ced-bd30-1685f570bbd8",
   "metadata": {},
   "outputs": [
    {
     "data": {
      "text/plain": [
       "insect\n",
       "Ae. aegypti.f     5000\n",
       "Ae. aegypti.m     5000\n",
       "Cx. quinq.f       4999\n",
       "Cx. quinq.m       5000\n",
       "Cx. stigma.f      4999\n",
       "Cx. stigma.m      5000\n",
       "Cx. tarsalis.f    5000\n",
       "Cx. tarsalis.m    4998\n",
       "D. simulans       4999\n",
       "M. domestica      4999\n",
       "dtype: int64"
      ]
     },
     "execution_count": 4,
     "metadata": {},
     "output_type": "execute_result"
    }
   ],
   "source": [
    "# Distribución de las clases\n",
    "df.groupby('insect').size()"
   ]
  },
  {
   "cell_type": "code",
   "execution_count": 5,
   "id": "8f109b04-d78d-426b-9055-e9c5c3e4315c",
   "metadata": {
    "collapsed": true,
    "jupyter": {
     "outputs_hidden": true
    }
   },
   "outputs": [
    {
     "data": {
      "text/html": [
       "<div>\n",
       "<style scoped>\n",
       "    .dataframe tbody tr th:only-of-type {\n",
       "        vertical-align: middle;\n",
       "    }\n",
       "\n",
       "    .dataframe tbody tr th {\n",
       "        vertical-align: top;\n",
       "    }\n",
       "\n",
       "    .dataframe thead th {\n",
       "        text-align: right;\n",
       "    }\n",
       "</style>\n",
       "<table border=\"1\" class=\"dataframe\">\n",
       "  <thead>\n",
       "    <tr style=\"text-align: right;\">\n",
       "      <th></th>\n",
       "      <th>Path_name</th>\n",
       "      <th>RMS_wt1</th>\n",
       "      <th>interval_wt1</th>\n",
       "      <th>energia_wt1</th>\n",
       "      <th>momento_3wt1</th>\n",
       "      <th>momento_4wt1</th>\n",
       "      <th>zero_rate_wt1</th>\n",
       "      <th>complexity_wt1</th>\n",
       "      <th>mean_wt1</th>\n",
       "      <th>variance_wt1</th>\n",
       "      <th>std_wt1</th>\n",
       "      <th>kurtosis_wt1</th>\n",
       "      <th>skewness_wt1</th>\n",
       "      <th>insect</th>\n",
       "    </tr>\n",
       "  </thead>\n",
       "  <tbody>\n",
       "    <tr>\n",
       "      <th>0</th>\n",
       "      <td>Data/images/aedes_female/aedes_female_120501_f...</td>\n",
       "      <td>0.07</td>\n",
       "      <td>0.92</td>\n",
       "      <td>0.00</td>\n",
       "      <td>-0.03</td>\n",
       "      <td>65.82</td>\n",
       "      <td>0.52</td>\n",
       "      <td>3.93</td>\n",
       "      <td>0.00</td>\n",
       "      <td>0.00</td>\n",
       "      <td>0.07</td>\n",
       "      <td>65.88</td>\n",
       "      <td>-0.03</td>\n",
       "      <td>0</td>\n",
       "    </tr>\n",
       "    <tr>\n",
       "      <th>1</th>\n",
       "      <td>Data/images/aedes_female/aedes_female_120501_f...</td>\n",
       "      <td>0.08</td>\n",
       "      <td>0.79</td>\n",
       "      <td>0.01</td>\n",
       "      <td>-0.03</td>\n",
       "      <td>38.81</td>\n",
       "      <td>0.61</td>\n",
       "      <td>5.37</td>\n",
       "      <td>-0.00</td>\n",
       "      <td>0.01</td>\n",
       "      <td>0.08</td>\n",
       "      <td>38.85</td>\n",
       "      <td>-0.03</td>\n",
       "      <td>0</td>\n",
       "    </tr>\n",
       "    <tr>\n",
       "      <th>2</th>\n",
       "      <td>Data/images/aedes_female/aedes_female_120501_f...</td>\n",
       "      <td>0.06</td>\n",
       "      <td>1.42</td>\n",
       "      <td>0.00</td>\n",
       "      <td>0.85</td>\n",
       "      <td>95.81</td>\n",
       "      <td>0.56</td>\n",
       "      <td>4.63</td>\n",
       "      <td>0.00</td>\n",
       "      <td>0.00</td>\n",
       "      <td>0.06</td>\n",
       "      <td>95.90</td>\n",
       "      <td>0.85</td>\n",
       "      <td>0</td>\n",
       "    </tr>\n",
       "    <tr>\n",
       "      <th>3</th>\n",
       "      <td>Data/images/aedes_female/aedes_female_120501_f...</td>\n",
       "      <td>0.07</td>\n",
       "      <td>1.45</td>\n",
       "      <td>0.01</td>\n",
       "      <td>-1.32</td>\n",
       "      <td>69.49</td>\n",
       "      <td>0.55</td>\n",
       "      <td>4.70</td>\n",
       "      <td>-0.00</td>\n",
       "      <td>0.01</td>\n",
       "      <td>0.07</td>\n",
       "      <td>69.56</td>\n",
       "      <td>-1.32</td>\n",
       "      <td>0</td>\n",
       "    </tr>\n",
       "    <tr>\n",
       "      <th>4</th>\n",
       "      <td>Data/images/aedes_female/aedes_female_120501_f...</td>\n",
       "      <td>0.08</td>\n",
       "      <td>0.82</td>\n",
       "      <td>0.01</td>\n",
       "      <td>-0.41</td>\n",
       "      <td>40.01</td>\n",
       "      <td>0.50</td>\n",
       "      <td>5.07</td>\n",
       "      <td>-0.00</td>\n",
       "      <td>0.01</td>\n",
       "      <td>0.08</td>\n",
       "      <td>40.05</td>\n",
       "      <td>-0.41</td>\n",
       "      <td>0</td>\n",
       "    </tr>\n",
       "    <tr>\n",
       "      <th>...</th>\n",
       "      <td>...</td>\n",
       "      <td>...</td>\n",
       "      <td>...</td>\n",
       "      <td>...</td>\n",
       "      <td>...</td>\n",
       "      <td>...</td>\n",
       "      <td>...</td>\n",
       "      <td>...</td>\n",
       "      <td>...</td>\n",
       "      <td>...</td>\n",
       "      <td>...</td>\n",
       "      <td>...</td>\n",
       "      <td>...</td>\n",
       "      <td>...</td>\n",
       "    </tr>\n",
       "    <tr>\n",
       "      <th>49989</th>\n",
       "      <td>Data/images/tarsalis_male/tarsalis_male_120819...</td>\n",
       "      <td>0.09</td>\n",
       "      <td>2.27</td>\n",
       "      <td>0.01</td>\n",
       "      <td>-4.08</td>\n",
       "      <td>111.61</td>\n",
       "      <td>0.54</td>\n",
       "      <td>4.54</td>\n",
       "      <td>-0.00</td>\n",
       "      <td>0.01</td>\n",
       "      <td>0.09</td>\n",
       "      <td>111.72</td>\n",
       "      <td>-4.09</td>\n",
       "      <td>7</td>\n",
       "    </tr>\n",
       "    <tr>\n",
       "      <th>49990</th>\n",
       "      <td>Data/images/tarsalis_male/tarsalis_male_120819...</td>\n",
       "      <td>0.08</td>\n",
       "      <td>1.33</td>\n",
       "      <td>0.01</td>\n",
       "      <td>0.42</td>\n",
       "      <td>104.96</td>\n",
       "      <td>0.61</td>\n",
       "      <td>6.07</td>\n",
       "      <td>-0.00</td>\n",
       "      <td>0.01</td>\n",
       "      <td>0.08</td>\n",
       "      <td>105.06</td>\n",
       "      <td>0.42</td>\n",
       "      <td>7</td>\n",
       "    </tr>\n",
       "    <tr>\n",
       "      <th>49991</th>\n",
       "      <td>Data/images/tarsalis_male/tarsalis_male_120819...</td>\n",
       "      <td>0.04</td>\n",
       "      <td>0.63</td>\n",
       "      <td>0.00</td>\n",
       "      <td>-1.08</td>\n",
       "      <td>63.27</td>\n",
       "      <td>0.60</td>\n",
       "      <td>2.73</td>\n",
       "      <td>0.00</td>\n",
       "      <td>0.00</td>\n",
       "      <td>0.04</td>\n",
       "      <td>63.33</td>\n",
       "      <td>-1.09</td>\n",
       "      <td>7</td>\n",
       "    </tr>\n",
       "    <tr>\n",
       "      <th>49992</th>\n",
       "      <td>Data/images/tarsalis_male/tarsalis_male_120819...</td>\n",
       "      <td>0.03</td>\n",
       "      <td>0.60</td>\n",
       "      <td>0.00</td>\n",
       "      <td>-1.11</td>\n",
       "      <td>106.31</td>\n",
       "      <td>0.57</td>\n",
       "      <td>1.98</td>\n",
       "      <td>0.00</td>\n",
       "      <td>0.00</td>\n",
       "      <td>0.03</td>\n",
       "      <td>106.41</td>\n",
       "      <td>-1.11</td>\n",
       "      <td>7</td>\n",
       "    </tr>\n",
       "    <tr>\n",
       "      <th>49993</th>\n",
       "      <td>Data/images/tarsalis_male/tarsalis_male_120819...</td>\n",
       "      <td>0.08</td>\n",
       "      <td>1.44</td>\n",
       "      <td>0.01</td>\n",
       "      <td>0.23</td>\n",
       "      <td>102.39</td>\n",
       "      <td>0.38</td>\n",
       "      <td>6.28</td>\n",
       "      <td>-0.00</td>\n",
       "      <td>0.01</td>\n",
       "      <td>0.08</td>\n",
       "      <td>102.48</td>\n",
       "      <td>0.23</td>\n",
       "      <td>7</td>\n",
       "    </tr>\n",
       "  </tbody>\n",
       "</table>\n",
       "<p>49994 rows × 14 columns</p>\n",
       "</div>"
      ],
      "text/plain": [
       "                                               Path_name  RMS_wt1  \\\n",
       "0      Data/images/aedes_female/aedes_female_120501_f...     0.07   \n",
       "1      Data/images/aedes_female/aedes_female_120501_f...     0.08   \n",
       "2      Data/images/aedes_female/aedes_female_120501_f...     0.06   \n",
       "3      Data/images/aedes_female/aedes_female_120501_f...     0.07   \n",
       "4      Data/images/aedes_female/aedes_female_120501_f...     0.08   \n",
       "...                                                  ...      ...   \n",
       "49989  Data/images/tarsalis_male/tarsalis_male_120819...     0.09   \n",
       "49990  Data/images/tarsalis_male/tarsalis_male_120819...     0.08   \n",
       "49991  Data/images/tarsalis_male/tarsalis_male_120819...     0.04   \n",
       "49992  Data/images/tarsalis_male/tarsalis_male_120819...     0.03   \n",
       "49993  Data/images/tarsalis_male/tarsalis_male_120819...     0.08   \n",
       "\n",
       "       interval_wt1  energia_wt1  momento_3wt1  momento_4wt1  zero_rate_wt1  \\\n",
       "0              0.92         0.00         -0.03         65.82           0.52   \n",
       "1              0.79         0.01         -0.03         38.81           0.61   \n",
       "2              1.42         0.00          0.85         95.81           0.56   \n",
       "3              1.45         0.01         -1.32         69.49           0.55   \n",
       "4              0.82         0.01         -0.41         40.01           0.50   \n",
       "...             ...          ...           ...           ...            ...   \n",
       "49989          2.27         0.01         -4.08        111.61           0.54   \n",
       "49990          1.33         0.01          0.42        104.96           0.61   \n",
       "49991          0.63         0.00         -1.08         63.27           0.60   \n",
       "49992          0.60         0.00         -1.11        106.31           0.57   \n",
       "49993          1.44         0.01          0.23        102.39           0.38   \n",
       "\n",
       "       complexity_wt1  mean_wt1  variance_wt1  std_wt1  kurtosis_wt1  \\\n",
       "0                3.93      0.00          0.00     0.07         65.88   \n",
       "1                5.37     -0.00          0.01     0.08         38.85   \n",
       "2                4.63      0.00          0.00     0.06         95.90   \n",
       "3                4.70     -0.00          0.01     0.07         69.56   \n",
       "4                5.07     -0.00          0.01     0.08         40.05   \n",
       "...               ...       ...           ...      ...           ...   \n",
       "49989            4.54     -0.00          0.01     0.09        111.72   \n",
       "49990            6.07     -0.00          0.01     0.08        105.06   \n",
       "49991            2.73      0.00          0.00     0.04         63.33   \n",
       "49992            1.98      0.00          0.00     0.03        106.41   \n",
       "49993            6.28     -0.00          0.01     0.08        102.48   \n",
       "\n",
       "       skewness_wt1  insect  \n",
       "0             -0.03       0  \n",
       "1             -0.03       0  \n",
       "2              0.85       0  \n",
       "3             -1.32       0  \n",
       "4             -0.41       0  \n",
       "...             ...     ...  \n",
       "49989         -4.09       7  \n",
       "49990          0.42       7  \n",
       "49991         -1.09       7  \n",
       "49992         -1.11       7  \n",
       "49993          0.23       7  \n",
       "\n",
       "[49994 rows x 14 columns]"
      ]
     },
     "execution_count": 5,
     "metadata": {},
     "output_type": "execute_result"
    }
   ],
   "source": [
    "# Codificación de la variable objetivo\n",
    "from sklearn.preprocessing import LabelEncoder\n",
    "\n",
    "encoder = LabelEncoder()\n",
    "df.insect = encoder.fit_transform(df.insect)\n",
    "df"
   ]
  },
  {
   "cell_type": "code",
   "execution_count": 6,
   "id": "28d24e0b-0a9f-4b79-a283-123e2cbcb040",
   "metadata": {},
   "outputs": [],
   "source": [
    "features = df.columns.tolist()\n",
    "features.remove('insect')\n",
    "features.remove('Path_name')"
   ]
  },
  {
   "cell_type": "code",
   "execution_count": 8,
   "id": "5b3e2d62-4ad5-4021-88e1-16c16f67ba14",
   "metadata": {},
   "outputs": [],
   "source": [
    "X_train, X_test, y_train, y_test = train_test_split(df[features].values,\\\n",
    "                                                    df['insect'].values,\\\n",
    "                                                    test_size=0.2,\\\n",
    "                                                    random_state=1)"
   ]
  },
  {
   "cell_type": "code",
   "execution_count": 10,
   "id": "219224a6-ca91-4407-9b8d-400360c54c15",
   "metadata": {
    "collapsed": true,
    "jupyter": {
     "outputs_hidden": true
    }
   },
   "outputs": [
    {
     "name": "stderr",
     "output_type": "stream",
     "text": [
      "  3%|▎         | 1/29 [00:07<03:25,  7.33s/it]"
     ]
    },
    {
     "name": "stdout",
     "output_type": "stream",
     "text": [
      "{'Model': 'AdaBoostClassifier', 'Accuracy': 0.2986298629862986, 'Balanced Accuracy': 0.29676380190725016, 'ROC AUC': None, 'F1 Score': 0.2816906008704066, 'Time taken': 7.32988715171814}\n"
     ]
    },
    {
     "name": "stderr",
     "output_type": "stream",
     "text": [
      "  7%|▋         | 2/29 [00:19<04:36, 10.25s/it]"
     ]
    },
    {
     "name": "stdout",
     "output_type": "stream",
     "text": [
      "{'Model': 'BaggingClassifier', 'Accuracy': 0.34393439343934396, 'Balanced Accuracy': 0.3417899064357852, 'ROC AUC': None, 'F1 Score': 0.3401588781434817, 'Time taken': 12.296492099761963}\n"
     ]
    },
    {
     "name": "stderr",
     "output_type": "stream",
     "text": [
      " 10%|█         | 3/29 [00:19<02:28,  5.72s/it]"
     ]
    },
    {
     "name": "stdout",
     "output_type": "stream",
     "text": [
      "{'Model': 'BernoulliNB', 'Accuracy': 0.2143214321432143, 'Balanced Accuracy': 0.21377775487216216, 'ROC AUC': None, 'F1 Score': 0.17836171531309986, 'Time taken': 0.3168489933013916}\n"
     ]
    },
    {
     "name": "stderr",
     "output_type": "stream",
     "text": [
      " 14%|█▍        | 4/29 [00:32<03:32,  8.50s/it]"
     ]
    },
    {
     "name": "stdout",
     "output_type": "stream",
     "text": [
      "{'Model': 'CalibratedClassifierCV', 'Accuracy': 0.33063306330633063, 'Balanced Accuracy': 0.32755146333762286, 'ROC AUC': None, 'F1 Score': 0.297590527419864, 'Time taken': 12.769678115844727}\n"
     ]
    },
    {
     "name": "stderr",
     "output_type": "stream",
     "text": [
      " 21%|██        | 6/29 [00:34<01:41,  4.43s/it]"
     ]
    },
    {
     "name": "stdout",
     "output_type": "stream",
     "text": [
      "{'Model': 'DecisionTreeClassifier', 'Accuracy': 0.2741274127412741, 'Balanced Accuracy': 0.2727796349283616, 'ROC AUC': None, 'F1 Score': 0.2752310331202679, 'Time taken': 1.5872430801391602}\n",
      "{'Model': 'DummyClassifier', 'Accuracy': 0.09360936093609361, 'Balanced Accuracy': 0.1, 'ROC AUC': None, 'F1 Score': 0.016025306234327134, 'Time taken': 0.06572103500366211}\n"
     ]
    },
    {
     "name": "stderr",
     "output_type": "stream",
     "text": [
      " 28%|██▊       | 8/29 [00:34<00:53,  2.57s/it]"
     ]
    },
    {
     "name": "stdout",
     "output_type": "stream",
     "text": [
      "{'Model': 'ExtraTreeClassifier', 'Accuracy': 0.23602360236023603, 'Balanced Accuracy': 0.23491183891056786, 'ROC AUC': None, 'F1 Score': 0.23757569403093376, 'Time taken': 0.1612701416015625}\n"
     ]
    },
    {
     "name": "stderr",
     "output_type": "stream",
     "text": [
      " 34%|███▍      | 10/29 [00:43<00:56,  2.99s/it]"
     ]
    },
    {
     "name": "stdout",
     "output_type": "stream",
     "text": [
      "{'Model': 'ExtraTreesClassifier', 'Accuracy': 0.37503750375037503, 'Balanced Accuracy': 0.3723450934594725, 'ROC AUC': None, 'F1 Score': 0.3644907340245636, 'Time taken': 8.48040509223938}\n",
      "{'Model': 'GaussianNB', 'Accuracy': 0.24302430243024303, 'Balanced Accuracy': 0.24027866620875535, 'ROC AUC': None, 'F1 Score': 0.21972073000810854, 'Time taken': 0.09973502159118652}\n"
     ]
    },
    {
     "name": "stderr",
     "output_type": "stream",
     "text": [
      " 38%|███▊      | 11/29 [00:45<00:50,  2.81s/it]"
     ]
    },
    {
     "name": "stdout",
     "output_type": "stream",
     "text": [
      "{'Model': 'KNeighborsClassifier', 'Accuracy': 0.31003100310031, 'Balanced Accuracy': 0.3079463738875471, 'ROC AUC': None, 'F1 Score': 0.30866088919333823, 'Time taken': 2.2940428256988525}\n"
     ]
    },
    {
     "name": "stderr",
     "output_type": "stream",
     "text": [
      " 41%|████▏     | 12/29 [03:09<11:47, 41.61s/it]"
     ]
    },
    {
     "name": "stdout",
     "output_type": "stream",
     "text": [
      "{'Model': 'LabelPropagation', 'Accuracy': 0.29512951295129514, 'Balanced Accuracy': 0.2936250957550352, 'ROC AUC': None, 'F1 Score': 0.2965156877838391, 'Time taken': 144.22733783721924}\n"
     ]
    },
    {
     "name": "stderr",
     "output_type": "stream",
     "text": [
      " 45%|████▍     | 13/29 [57:42<4:13:36, 951.04s/it]"
     ]
    },
    {
     "name": "stdout",
     "output_type": "stream",
     "text": [
      "{'Model': 'LabelSpreading', 'Accuracy': 0.29852985298529855, 'Balanced Accuracy': 0.29693070831644597, 'ROC AUC': None, 'F1 Score': 0.29960838178650884, 'Time taken': 3272.72581410408}\n"
     ]
    },
    {
     "name": "stderr",
     "output_type": "stream",
     "text": [
      " 48%|████▊     | 14/29 [57:43<2:49:37, 678.48s/it]"
     ]
    },
    {
     "name": "stdout",
     "output_type": "stream",
     "text": [
      "{'Model': 'LinearDiscriminantAnalysis', 'Accuracy': 0.324032403240324, 'Balanced Accuracy': 0.3222457149827065, 'ROC AUC': None, 'F1 Score': 0.3025795631162559, 'Time taken': 0.5028901100158691}\n"
     ]
    },
    {
     "name": "stderr",
     "output_type": "stream",
     "text": [
      " 52%|█████▏    | 15/29 [59:11<1:58:16, 506.88s/it]"
     ]
    },
    {
     "name": "stdout",
     "output_type": "stream",
     "text": [
      "{'Model': 'LinearSVC', 'Accuracy': 0.32573257325732574, 'Balanced Accuracy': 0.3218377292090512, 'ROC AUC': None, 'F1 Score': 0.2611853662988958, 'Time taken': 87.99161076545715}\n"
     ]
    },
    {
     "name": "stderr",
     "output_type": "stream",
     "text": [
      " 55%|█████▌    | 16/29 [59:13<1:17:43, 358.76s/it]"
     ]
    },
    {
     "name": "stdout",
     "output_type": "stream",
     "text": [
      "{'Model': 'LogisticRegression', 'Accuracy': 0.3266326632663266, 'Balanced Accuracy': 0.32406134669408854, 'ROC AUC': None, 'F1 Score': 0.30164784998885247, 'Time taken': 1.960792064666748}\n"
     ]
    },
    {
     "name": "stderr",
     "output_type": "stream",
     "text": [
      " 59%|█████▊    | 17/29 [59:13<50:35, 252.96s/it]  "
     ]
    },
    {
     "name": "stdout",
     "output_type": "stream",
     "text": [
      "{'Model': 'NearestCentroid', 'Accuracy': 0.2373237323732373, 'Balanced Accuracy': 0.23798979431240763, 'ROC AUC': None, 'F1 Score': 0.22092225410020094, 'Time taken': 0.5156030654907227}\n"
     ]
    },
    {
     "name": "stderr",
     "output_type": "stream",
     "text": [
      " 62%|██████▏   | 18/29 [1:07:54<1:00:55, 332.30s/it]"
     ]
    },
    {
     "name": "stdout",
     "output_type": "stream",
     "text": [
      "{'Model': 'NuSVC', 'Accuracy': 0.3836383638363836, 'Balanced Accuracy': 0.38032907439194863, 'ROC AUC': None, 'F1 Score': 0.3697028004080312, 'Time taken': 520.3528740406036}\n"
     ]
    },
    {
     "name": "stderr",
     "output_type": "stream",
     "text": [
      " 66%|██████▌   | 19/29 [1:07:54<38:55, 233.57s/it]  "
     ]
    },
    {
     "name": "stdout",
     "output_type": "stream",
     "text": [
      "{'Model': 'PassiveAggressiveClassifier', 'Accuracy': 0.16671667166716672, 'Balanced Accuracy': 0.16596457821521798, 'ROC AUC': None, 'F1 Score': 0.16324721051321275, 'Time taken': 0.640571117401123}\n"
     ]
    },
    {
     "name": "stderr",
     "output_type": "stream",
     "text": [
      " 72%|███████▏  | 21/29 [1:07:55<15:20, 115.05s/it]"
     ]
    },
    {
     "name": "stdout",
     "output_type": "stream",
     "text": [
      "{'Model': 'Perceptron', 'Accuracy': 0.17441744174417442, 'Balanced Accuracy': 0.17268829649894096, 'ROC AUC': None, 'F1 Score': 0.17292741219252528, 'Time taken': 0.552459716796875}\n",
      "{'Model': 'QuadraticDiscriminantAnalysis', 'Accuracy': 0.29372937293729373, 'Balanced Accuracy': 0.29217878721454804, 'ROC AUC': None, 'F1 Score': 0.2580092804724022, 'Time taken': 0.10627388954162598}\n"
     ]
    },
    {
     "name": "stderr",
     "output_type": "stream",
     "text": [
      " 79%|███████▉  | 23/29 [1:08:21<06:11, 61.95s/it] "
     ]
    },
    {
     "name": "stdout",
     "output_type": "stream",
     "text": [
      "{'Model': 'RandomForestClassifier', 'Accuracy': 0.38183818381838186, 'Balanced Accuracy': 0.37932038262733836, 'ROC AUC': None, 'F1 Score': 0.3716391285345396, 'Time taken': 25.925616979599}\n",
      "{'Model': 'RidgeClassifier', 'Accuracy': 0.30743074307430746, 'Balanced Accuracy': 0.30402060659830366, 'ROC AUC': None, 'F1 Score': 0.23968913283603818, 'Time taken': 0.1254279613494873}\n"
     ]
    },
    {
     "name": "stderr",
     "output_type": "stream",
     "text": [
      " 83%|████████▎ | 24/29 [1:08:21<03:37, 43.45s/it]"
     ]
    },
    {
     "name": "stdout",
     "output_type": "stream",
     "text": [
      "{'Model': 'RidgeClassifierCV', 'Accuracy': 0.30953095309530954, 'Balanced Accuracy': 0.3060689050347764, 'ROC AUC': None, 'F1 Score': 0.2413789739252115, 'Time taken': 0.17915606498718262}\n"
     ]
    },
    {
     "name": "stderr",
     "output_type": "stream",
     "text": [
      " 86%|████████▌ | 25/29 [1:08:23<02:03, 30.92s/it]"
     ]
    },
    {
     "name": "stdout",
     "output_type": "stream",
     "text": [
      "{'Model': 'SGDClassifier', 'Accuracy': 0.23472347234723473, 'Balanced Accuracy': 0.23147107764231914, 'ROC AUC': None, 'F1 Score': 0.20293307030658486, 'Time taken': 1.645862102508545}\n"
     ]
    },
    {
     "name": "stderr",
     "output_type": "stream",
     "text": [
      " 90%|████████▉ | 26/29 [1:13:47<05:56, 118.87s/it]"
     ]
    },
    {
     "name": "stdout",
     "output_type": "stream",
     "text": [
      "{'Model': 'SVC', 'Accuracy': 0.3917391739173917, 'Balanced Accuracy': 0.3894089231401063, 'ROC AUC': None, 'F1 Score': 0.37469925037663937, 'Time taken': 324.2700972557068}\n"
     ]
    },
    {
     "name": "stderr",
     "output_type": "stream",
     "text": [
      " 97%|█████████▋| 28/29 [1:13:54<01:05, 65.62s/it] "
     ]
    },
    {
     "name": "stdout",
     "output_type": "stream",
     "text": [
      "{'Model': 'XGBClassifier', 'Accuracy': 0.40034003400340035, 'Balanced Accuracy': 0.39811519597290435, 'ROC AUC': None, 'F1 Score': 0.38870043446559105, 'Time taken': 6.903127908706665}\n",
      "[LightGBM] [Info] Auto-choosing col-wise multi-threading, the overhead of testing was 0.007095 seconds.\n",
      "You can set `force_col_wise=true` to remove the overhead.\n",
      "[LightGBM] [Info] Total Bins 3060\n",
      "[LightGBM] [Info] Number of data points in the train set: 39995, number of used features: 12\n",
      "[LightGBM] [Info] Start training from score -2.309736\n",
      "[LightGBM] [Info] Start training from score -2.316305\n",
      "[LightGBM] [Info] Start training from score -2.297970\n",
      "[LightGBM] [Info] Start training from score -2.286587\n",
      "[LightGBM] [Info] Start training from score -2.289050\n",
      "[LightGBM] [Info] Start training from score -2.306217\n",
      "[LightGBM] [Info] Start training from score -2.296230\n",
      "[LightGBM] [Info] Start training from score -2.310996\n",
      "[LightGBM] [Info] Start training from score -2.303461\n",
      "[LightGBM] [Info] Start training from score -2.309736\n"
     ]
    },
    {
     "name": "stderr",
     "output_type": "stream",
     "text": [
      "100%|██████████| 29/29 [1:13:58<00:00, 153.05s/it]"
     ]
    },
    {
     "name": "stdout",
     "output_type": "stream",
     "text": [
      "{'Model': 'LGBMClassifier', 'Accuracy': 0.40234023402340235, 'Balanced Accuracy': 0.3999285568443678, 'ROC AUC': None, 'F1 Score': 0.388362639481187, 'Time taken': 3.87690806388855}\n"
     ]
    },
    {
     "name": "stderr",
     "output_type": "stream",
     "text": [
      "\n"
     ]
    }
   ],
   "source": [
    "clf = LazyClassifier(verbose=1,ignore_warnings=True, custom_metric=None)\n",
    "models,predictions = clf.fit(X_train, X_test, y_train, y_test)"
   ]
  },
  {
   "cell_type": "code",
   "execution_count": 11,
   "id": "74e7f716-4e30-42fe-975c-30b54e78cbf5",
   "metadata": {},
   "outputs": [
    {
     "name": "stdout",
     "output_type": "stream",
     "text": [
      "                               Accuracy  Balanced Accuracy ROC AUC  F1 Score  \\\n",
      "Model                                                                          \n",
      "LGBMClassifier                     0.40               0.40    None      0.39   \n",
      "XGBClassifier                      0.40               0.40    None      0.39   \n",
      "SVC                                0.39               0.39    None      0.37   \n",
      "NuSVC                              0.38               0.38    None      0.37   \n",
      "RandomForestClassifier             0.38               0.38    None      0.37   \n",
      "ExtraTreesClassifier               0.38               0.37    None      0.36   \n",
      "BaggingClassifier                  0.34               0.34    None      0.34   \n",
      "CalibratedClassifierCV             0.33               0.33    None      0.30   \n",
      "LogisticRegression                 0.33               0.32    None      0.30   \n",
      "LinearDiscriminantAnalysis         0.32               0.32    None      0.30   \n",
      "LinearSVC                          0.33               0.32    None      0.26   \n",
      "KNeighborsClassifier               0.31               0.31    None      0.31   \n",
      "RidgeClassifierCV                  0.31               0.31    None      0.24   \n",
      "RidgeClassifier                    0.31               0.30    None      0.24   \n",
      "LabelSpreading                     0.30               0.30    None      0.30   \n",
      "AdaBoostClassifier                 0.30               0.30    None      0.28   \n",
      "LabelPropagation                   0.30               0.29    None      0.30   \n",
      "QuadraticDiscriminantAnalysis      0.29               0.29    None      0.26   \n",
      "DecisionTreeClassifier             0.27               0.27    None      0.28   \n",
      "GaussianNB                         0.24               0.24    None      0.22   \n",
      "NearestCentroid                    0.24               0.24    None      0.22   \n",
      "ExtraTreeClassifier                0.24               0.23    None      0.24   \n",
      "SGDClassifier                      0.23               0.23    None      0.20   \n",
      "BernoulliNB                        0.21               0.21    None      0.18   \n",
      "Perceptron                         0.17               0.17    None      0.17   \n",
      "PassiveAggressiveClassifier        0.17               0.17    None      0.16   \n",
      "DummyClassifier                    0.09               0.10    None      0.02   \n",
      "\n",
      "                               Time Taken  \n",
      "Model                                      \n",
      "LGBMClassifier                       3.88  \n",
      "XGBClassifier                        6.90  \n",
      "SVC                                324.27  \n",
      "NuSVC                              520.35  \n",
      "RandomForestClassifier              25.93  \n",
      "ExtraTreesClassifier                 8.48  \n",
      "BaggingClassifier                   12.30  \n",
      "CalibratedClassifierCV              12.77  \n",
      "LogisticRegression                   1.96  \n",
      "LinearDiscriminantAnalysis           0.50  \n",
      "LinearSVC                           87.99  \n",
      "KNeighborsClassifier                 2.29  \n",
      "RidgeClassifierCV                    0.18  \n",
      "RidgeClassifier                      0.13  \n",
      "LabelSpreading                    3272.73  \n",
      "AdaBoostClassifier                   7.33  \n",
      "LabelPropagation                   144.23  \n",
      "QuadraticDiscriminantAnalysis        0.11  \n",
      "DecisionTreeClassifier               1.59  \n",
      "GaussianNB                           0.10  \n",
      "NearestCentroid                      0.52  \n",
      "ExtraTreeClassifier                  0.16  \n",
      "SGDClassifier                        1.65  \n",
      "BernoulliNB                          0.32  \n",
      "Perceptron                           0.55  \n",
      "PassiveAggressiveClassifier          0.64  \n",
      "DummyClassifier                      0.07  \n"
     ]
    }
   ],
   "source": [
    "print(models)"
   ]
  },
  {
   "cell_type": "markdown",
   "id": "bb731355-7a45-4b54-85eb-67c177a54973",
   "metadata": {},
   "source": [
    "## dwt db5 level 5 "
   ]
  },
  {
   "cell_type": "code",
   "execution_count": 12,
   "id": "fd81b592-af22-444e-942d-ea53ab338890",
   "metadata": {},
   "outputs": [
    {
     "data": {
      "text/plain": [
       "insect\n",
       "Ae. aegypti.f     5000\n",
       "Ae. aegypti.m     5000\n",
       "Cx. quinq.f       4999\n",
       "Cx. quinq.m       5000\n",
       "Cx. stigma.f      4999\n",
       "Cx. stigma.m      5000\n",
       "Cx. tarsalis.f    5000\n",
       "Cx. tarsalis.m    4998\n",
       "D. simulans       4999\n",
       "M. domestica      4999\n",
       "dtype: int64"
      ]
     },
     "execution_count": 12,
     "metadata": {},
     "output_type": "execute_result"
    }
   ],
   "source": [
    "df = pd.read_csv(\"../Features/Resultados/clean_dwt_db5_5_insect.csv\")\n",
    "# Distribución de las clases\n",
    "df.groupby('insect').size()"
   ]
  },
  {
   "cell_type": "code",
   "execution_count": 13,
   "id": "35fec492-5c0a-4623-8724-7aa23b06f0ef",
   "metadata": {},
   "outputs": [],
   "source": [
    "# Codificación de la variable objetivo\n",
    "from sklearn.preprocessing import LabelEncoder\n",
    "\n",
    "encoder = LabelEncoder()\n",
    "df.insect = encoder.fit_transform(df.insect)\n",
    "\n",
    "features = df.columns.tolist()\n",
    "features.remove('insect')\n",
    "features.remove('Path_name')\n",
    "\n",
    "X_train, X_test, y_train, y_test = train_test_split(df[features].values,\\\n",
    "                                                    df['insect'].values,\\\n",
    "                                                    test_size=0.2,\\\n",
    "                                                    random_state=7)"
   ]
  },
  {
   "cell_type": "code",
   "execution_count": 14,
   "id": "f04e9784-d2e4-4a82-9134-a72cbeb72d75",
   "metadata": {
    "collapsed": true,
    "jupyter": {
     "outputs_hidden": true
    }
   },
   "outputs": [
    {
     "name": "stderr",
     "output_type": "stream",
     "text": [
      " 96%|█████████▋| 26/27 [15:42<00:53, 53.39s/it] "
     ]
    },
    {
     "name": "stdout",
     "output_type": "stream",
     "text": [
      "[LightGBM] [Info] Auto-choosing col-wise multi-threading, the overhead of testing was 0.005062 seconds.\n",
      "You can set `force_col_wise=true` to remove the overhead.\n",
      "[LightGBM] [Info] Total Bins 3060\n",
      "[LightGBM] [Info] Number of data points in the train set: 39995, number of used features: 12\n",
      "[LightGBM] [Info] Start training from score -2.293996\n",
      "[LightGBM] [Info] Start training from score -2.298966\n",
      "[LightGBM] [Info] Start training from score -2.302960\n",
      "[LightGBM] [Info] Start training from score -2.293748\n",
      "[LightGBM] [Info] Start training from score -2.314027\n",
      "[LightGBM] [Info] Start training from score -2.295484\n",
      "[LightGBM] [Info] Start training from score -2.308478\n",
      "[LightGBM] [Info] Start training from score -2.309485\n",
      "[LightGBM] [Info] Start training from score -2.300712\n",
      "[LightGBM] [Info] Start training from score -2.308227\n"
     ]
    },
    {
     "name": "stderr",
     "output_type": "stream",
     "text": [
      "100%|██████████| 27/27 [15:46<00:00, 35.07s/it]\n"
     ]
    }
   ],
   "source": [
    "clf = LazyClassifier(verbose=0,ignore_warnings=True, custom_metric=None)\n",
    "models,predictions = clf.fit(X_train, X_test, y_train, y_test)"
   ]
  },
  {
   "cell_type": "code",
   "execution_count": 15,
   "id": "bf76b706-3f1a-4010-bedc-08595c766c72",
   "metadata": {},
   "outputs": [
    {
     "name": "stdout",
     "output_type": "stream",
     "text": [
      "                               Accuracy  Balanced Accuracy ROC AUC  F1 Score  \\\n",
      "Model                                                                          \n",
      "LGBMClassifier                     0.44               0.44    None      0.44   \n",
      "SVC                                0.44               0.44    None      0.43   \n",
      "XGBClassifier                      0.43               0.43    None      0.43   \n",
      "RandomForestClassifier             0.43               0.43    None      0.42   \n",
      "ExtraTreesClassifier               0.42               0.42    None      0.41   \n",
      "NuSVC                              0.42               0.42    None      0.41   \n",
      "BaggingClassifier                  0.39               0.39    None      0.39   \n",
      "LinearDiscriminantAnalysis         0.36               0.36    None      0.36   \n",
      "LogisticRegression                 0.35               0.35    None      0.34   \n",
      "CalibratedClassifierCV             0.34               0.34    None      0.32   \n",
      "KNeighborsClassifier               0.34               0.34    None      0.34   \n",
      "LinearSVC                          0.34               0.33    None      0.29   \n",
      "AdaBoostClassifier                 0.33               0.33    None      0.32   \n",
      "RidgeClassifierCV                  0.33               0.33    None      0.28   \n",
      "QuadraticDiscriminantAnalysis      0.32               0.32    None      0.29   \n",
      "RidgeClassifier                    0.31               0.31    None      0.26   \n",
      "DecisionTreeClassifier             0.31               0.31    None      0.31   \n",
      "ExtraTreeClassifier                0.25               0.25    None      0.25   \n",
      "SGDClassifier                      0.25               0.25    None      0.23   \n",
      "GaussianNB                         0.23               0.23    None      0.22   \n",
      "NearestCentroid                    0.23               0.23    None      0.21   \n",
      "PassiveAggressiveClassifier        0.20               0.20    None      0.19   \n",
      "BernoulliNB                        0.21               0.20    None      0.18   \n",
      "Perceptron                         0.19               0.19    None      0.18   \n",
      "DummyClassifier                    0.10               0.10    None      0.02   \n",
      "\n",
      "                               Time Taken  \n",
      "Model                                      \n",
      "LGBMClassifier                       3.90  \n",
      "SVC                                303.55  \n",
      "XGBClassifier                        6.18  \n",
      "RandomForestClassifier              25.47  \n",
      "ExtraTreesClassifier                 8.32  \n",
      "NuSVC                              476.02  \n",
      "BaggingClassifier                    9.28  \n",
      "LinearDiscriminantAnalysis           0.11  \n",
      "LogisticRegression                   1.72  \n",
      "CalibratedClassifierCV              14.32  \n",
      "KNeighborsClassifier                 2.11  \n",
      "LinearSVC                           83.36  \n",
      "AdaBoostClassifier                   7.42  \n",
      "RidgeClassifierCV                    0.15  \n",
      "QuadraticDiscriminantAnalysis        0.09  \n",
      "RidgeClassifier                      0.09  \n",
      "DecisionTreeClassifier               1.45  \n",
      "ExtraTreeClassifier                  0.12  \n",
      "SGDClassifier                        1.54  \n",
      "GaussianNB                           0.09  \n",
      "NearestCentroid                      0.08  \n",
      "PassiveAggressiveClassifier          0.57  \n",
      "BernoulliNB                          0.08  \n",
      "Perceptron                           0.72  \n",
      "DummyClassifier                      0.05  \n"
     ]
    }
   ],
   "source": [
    "print(models)"
   ]
  },
  {
   "cell_type": "markdown",
   "id": "b9ebb953-b857-4654-be18-7e32b5bdbb32",
   "metadata": {},
   "source": [
    "## dwt db5 level 6  "
   ]
  },
  {
   "cell_type": "code",
   "execution_count": 3,
   "id": "ece63a5c-a55d-4b49-b902-4484ed03f913",
   "metadata": {},
   "outputs": [
    {
     "data": {
      "text/plain": [
       "insect\n",
       "Ae. aegypti.f     5000\n",
       "Ae. aegypti.m     5000\n",
       "Cx. quinq.f       4999\n",
       "Cx. quinq.m       5000\n",
       "Cx. stigma.f      4999\n",
       "Cx. stigma.m      5000\n",
       "Cx. tarsalis.f    5000\n",
       "Cx. tarsalis.m    4998\n",
       "D. simulans       4999\n",
       "M. domestica      4999\n",
       "dtype: int64"
      ]
     },
     "execution_count": 3,
     "metadata": {},
     "output_type": "execute_result"
    }
   ],
   "source": [
    "df = pd.read_csv(\"../Features/Resultados/clean_dwt_db5_6_insect.csv\")\n",
    "# Distribución de las clases\n",
    "df.groupby('insect').size()"
   ]
  },
  {
   "cell_type": "code",
   "execution_count": 4,
   "id": "2dd1d058-0d3b-48b6-b380-1564f49acf8d",
   "metadata": {},
   "outputs": [],
   "source": [
    "# Codificación de la variable objetivo\n",
    "from sklearn.preprocessing import LabelEncoder\n",
    "\n",
    "encoder = LabelEncoder()\n",
    "df.insect = encoder.fit_transform(df.insect)\n",
    "\n",
    "features = df.columns.tolist()\n",
    "features.remove('insect')\n",
    "features.remove('Path_name')\n",
    "\n",
    "X_train, X_test, y_train, y_test = train_test_split(df[features].values,\\\n",
    "                                                    df['insect'].values,\\\n",
    "                                                    test_size=0.2,\\\n",
    "                                                    random_state=1)"
   ]
  },
  {
   "cell_type": "code",
   "execution_count": 5,
   "id": "41613b17-6d56-4d7e-9995-2df62d3f63cc",
   "metadata": {
    "collapsed": true,
    "jupyter": {
     "outputs_hidden": true
    }
   },
   "outputs": [
    {
     "name": "stderr",
     "output_type": "stream",
     "text": [
      "  3%|▎         | 1/29 [00:06<03:14,  6.96s/it]"
     ]
    },
    {
     "name": "stdout",
     "output_type": "stream",
     "text": [
      "{'Model': 'AdaBoostClassifier', 'Accuracy': 0.31193119311931194, 'Balanced Accuracy': 0.3109534284348132, 'ROC AUC': None, 'F1 Score': 0.30134208099757825, 'Time taken': 6.96300196647644}\n"
     ]
    },
    {
     "name": "stderr",
     "output_type": "stream",
     "text": [
      "  7%|▋         | 2/29 [00:15<03:40,  8.17s/it]"
     ]
    },
    {
     "name": "stdout",
     "output_type": "stream",
     "text": [
      "{'Model': 'BaggingClassifier', 'Accuracy': 0.33083308330833083, 'Balanced Accuracy': 0.3305665239739145, 'ROC AUC': None, 'F1 Score': 0.3292590473228172, 'Time taken': 9.021323680877686}\n",
      "{'Model': 'BernoulliNB', 'Accuracy': 0.19441944194419442, 'Balanced Accuracy': 0.19502707262717758, 'ROC AUC': None, 'F1 Score': 0.16207001237775626, 'Time taken': 0.08925199508666992}\n"
     ]
    },
    {
     "name": "stderr",
     "output_type": "stream",
     "text": [
      " 14%|█▍        | 4/29 [00:29<03:05,  7.44s/it]"
     ]
    },
    {
     "name": "stdout",
     "output_type": "stream",
     "text": [
      "{'Model': 'CalibratedClassifierCV', 'Accuracy': 0.3035303530353035, 'Balanced Accuracy': 0.3027196737302097, 'ROC AUC': None, 'F1 Score': 0.28098141218382683, 'Time taken': 13.90165400505066}\n"
     ]
    },
    {
     "name": "stderr",
     "output_type": "stream",
     "text": [
      " 28%|██▊       | 8/29 [00:31<00:54,  2.60s/it]"
     ]
    },
    {
     "name": "stdout",
     "output_type": "stream",
     "text": [
      "{'Model': 'DecisionTreeClassifier', 'Accuracy': 0.26532653265326533, 'Balanced Accuracy': 0.2651649772836234, 'ROC AUC': None, 'F1 Score': 0.26607677014889936, 'Time taken': 1.4777610301971436}\n",
      "{'Model': 'DummyClassifier', 'Accuracy': 0.09360936093609361, 'Balanced Accuracy': 0.1, 'ROC AUC': None, 'F1 Score': 0.016025306234327134, 'Time taken': 0.05383872985839844}\n",
      "{'Model': 'ExtraTreeClassifier', 'Accuracy': 0.22912291229122914, 'Balanced Accuracy': 0.22911642532083518, 'ROC AUC': None, 'F1 Score': 0.2296745728521053, 'Time taken': 0.13936734199523926}\n"
     ]
    },
    {
     "name": "stderr",
     "output_type": "stream",
     "text": [
      " 31%|███       | 9/29 [00:40<01:18,  3.91s/it]"
     ]
    },
    {
     "name": "stdout",
     "output_type": "stream",
     "text": [
      "{'Model': 'ExtraTreesClassifier', 'Accuracy': 0.3647364736473647, 'Balanced Accuracy': 0.36464020337627917, 'ROC AUC': None, 'F1 Score': 0.36051273230409925, 'Time taken': 8.465436935424805}\n",
      "{'Model': 'GaussianNB', 'Accuracy': 0.2158215821582158, 'Balanced Accuracy': 0.21314453742620074, 'ROC AUC': None, 'F1 Score': 0.18868204522651383, 'Time taken': 0.09219098091125488}\n"
     ]
    },
    {
     "name": "stderr",
     "output_type": "stream",
     "text": [
      " 38%|███▊      | 11/29 [00:42<00:50,  2.82s/it]"
     ]
    },
    {
     "name": "stdout",
     "output_type": "stream",
     "text": [
      "{'Model': 'KNeighborsClassifier', 'Accuracy': 0.30933093309330933, 'Balanced Accuracy': 0.3089772881729931, 'ROC AUC': None, 'F1 Score': 0.3083409650697808, 'Time taken': 2.1610729694366455}\n"
     ]
    },
    {
     "name": "stderr",
     "output_type": "stream",
     "text": [
      " 41%|████▏     | 12/29 [10:13<35:49, 126.46s/it]"
     ]
    },
    {
     "name": "stdout",
     "output_type": "stream",
     "text": [
      "{'Model': 'LabelPropagation', 'Accuracy': 0.29062906290629065, 'Balanced Accuracy': 0.29072444034863315, 'ROC AUC': None, 'F1 Score': 0.29094521204033064, 'Time taken': 570.5762851238251}\n"
     ]
    },
    {
     "name": "stderr",
     "output_type": "stream",
     "text": [
      " 45%|████▍     | 13/29 [1:03:15<3:47:05, 851.59s/it]"
     ]
    },
    {
     "name": "stdout",
     "output_type": "stream",
     "text": [
      "{'Model': 'LabelSpreading', 'Accuracy': 0.2942294229422942, 'Balanced Accuracy': 0.2942960388540899, 'ROC AUC': None, 'F1 Score': 0.2943194065329471, 'Time taken': 3182.5438981056213}\n"
     ]
    },
    {
     "name": "stderr",
     "output_type": "stream",
     "text": [
      " 48%|████▊     | 14/29 [1:03:17<2:39:08, 636.56s/it]"
     ]
    },
    {
     "name": "stdout",
     "output_type": "stream",
     "text": [
      "{'Model': 'LinearDiscriminantAnalysis', 'Accuracy': 0.31353135313531355, 'Balanced Accuracy': 0.3140358012613488, 'ROC AUC': None, 'F1 Score': 0.30242990789846347, 'Time taken': 2.047959089279175}\n"
     ]
    },
    {
     "name": "stderr",
     "output_type": "stream",
     "text": [
      " 52%|█████▏    | 15/29 [1:05:21<1:56:46, 500.45s/it]"
     ]
    },
    {
     "name": "stdout",
     "output_type": "stream",
     "text": [
      "{'Model': 'LinearSVC', 'Accuracy': 0.3055305530553055, 'Balanced Accuracy': 0.3050997312019888, 'ROC AUC': None, 'F1 Score': 0.27070490632572747, 'Time taken': 124.0679988861084}\n"
     ]
    },
    {
     "name": "stderr",
     "output_type": "stream",
     "text": [
      " 55%|█████▌    | 16/29 [1:05:25<1:18:48, 363.72s/it]"
     ]
    },
    {
     "name": "stdout",
     "output_type": "stream",
     "text": [
      "{'Model': 'LogisticRegression', 'Accuracy': 0.3049304930493049, 'Balanced Accuracy': 0.30417052022425595, 'ROC AUC': None, 'F1 Score': 0.2906663567811313, 'Time taken': 3.3506791591644287}\n"
     ]
    },
    {
     "name": "stderr",
     "output_type": "stream",
     "text": [
      " 59%|█████▊    | 17/29 [1:05:25<52:14, 261.24s/it]  "
     ]
    },
    {
     "name": "stdout",
     "output_type": "stream",
     "text": [
      "{'Model': 'NearestCentroid', 'Accuracy': 0.21812181218121812, 'Balanced Accuracy': 0.21871443363618592, 'ROC AUC': None, 'F1 Score': 0.19313638618367296, 'Time taken': 0.410916805267334}\n"
     ]
    },
    {
     "name": "stderr",
     "output_type": "stream",
     "text": [
      " 62%|██████▏   | 18/29 [1:14:21<1:02:20, 340.08s/it]"
     ]
    },
    {
     "name": "stdout",
     "output_type": "stream",
     "text": [
      "{'Model': 'NuSVC', 'Accuracy': 0.37703770377037704, 'Balanced Accuracy': 0.37626176385346205, 'ROC AUC': None, 'F1 Score': 0.3687125476033748, 'Time taken': 535.7416100502014}\n"
     ]
    },
    {
     "name": "stderr",
     "output_type": "stream",
     "text": [
      " 66%|██████▌   | 19/29 [1:14:22<40:13, 241.31s/it]  "
     ]
    },
    {
     "name": "stdout",
     "output_type": "stream",
     "text": [
      "{'Model': 'PassiveAggressiveClassifier', 'Accuracy': 0.20332033203320332, 'Balanced Accuracy': 0.20465556182064168, 'ROC AUC': None, 'F1 Score': 0.18365296095988703, 'Time taken': 0.611400842666626}\n"
     ]
    },
    {
     "name": "stderr",
     "output_type": "stream",
     "text": [
      " 69%|██████▉   | 20/29 [1:14:22<25:35, 170.65s/it]"
     ]
    },
    {
     "name": "stdout",
     "output_type": "stream",
     "text": [
      "{'Model': 'Perceptron', 'Accuracy': 0.20462046204620463, 'Balanced Accuracy': 0.2052645589662149, 'ROC AUC': None, 'F1 Score': 0.16162226254666834, 'Time taken': 0.6200230121612549}\n",
      "{'Model': 'QuadraticDiscriminantAnalysis', 'Accuracy': 0.28032803280328034, 'Balanced Accuracy': 0.277823555039037, 'ROC AUC': None, 'F1 Score': 0.24429893725332438, 'Time taken': 0.09882998466491699}\n"
     ]
    },
    {
     "name": "stderr",
     "output_type": "stream",
     "text": [
      " 76%|███████▌  | 22/29 [1:14:48<11:30, 98.62s/it] "
     ]
    },
    {
     "name": "stdout",
     "output_type": "stream",
     "text": [
      "{'Model': 'RandomForestClassifier', 'Accuracy': 0.38293829382938294, 'Balanced Accuracy': 0.382616039037555, 'ROC AUC': None, 'F1 Score': 0.3787747674646532, 'Time taken': 25.402059078216553}\n",
      "{'Model': 'RidgeClassifier', 'Accuracy': 0.294029402940294, 'Balanced Accuracy': 0.2948076896417572, 'ROC AUC': None, 'F1 Score': 0.26229076885539065, 'Time taken': 0.09830689430236816}\n"
     ]
    },
    {
     "name": "stderr",
     "output_type": "stream",
     "text": [
      " 83%|████████▎ | 24/29 [1:14:48<04:58, 59.75s/it]"
     ]
    },
    {
     "name": "stdout",
     "output_type": "stream",
     "text": [
      "{'Model': 'RidgeClassifierCV', 'Accuracy': 0.30343034303430344, 'Balanced Accuracy': 0.3041923382951929, 'ROC AUC': None, 'F1 Score': 0.27260285871424417, 'Time taken': 0.15046310424804688}\n"
     ]
    },
    {
     "name": "stderr",
     "output_type": "stream",
     "text": [
      " 86%|████████▌ | 25/29 [1:14:49<03:07, 46.93s/it]"
     ]
    },
    {
     "name": "stdout",
     "output_type": "stream",
     "text": [
      "{'Model': 'SGDClassifier', 'Accuracy': 0.2226222622262226, 'Balanced Accuracy': 0.22027499769945477, 'ROC AUC': None, 'F1 Score': 0.18968988357859876, 'Time taken': 1.4392461776733398}\n"
     ]
    },
    {
     "name": "stderr",
     "output_type": "stream",
     "text": [
      " 90%|████████▉ | 26/29 [1:20:05<05:33, 111.18s/it]"
     ]
    },
    {
     "name": "stdout",
     "output_type": "stream",
     "text": [
      "{'Model': 'SVC', 'Accuracy': 0.3921392139213921, 'Balanced Accuracy': 0.39225869489401755, 'ROC AUC': None, 'F1 Score': 0.3814011960932677, 'Time taken': 315.7146382331848}\n"
     ]
    },
    {
     "name": "stderr",
     "output_type": "stream",
     "text": [
      " 97%|█████████▋| 28/29 [1:20:11<01:07, 67.32s/it] "
     ]
    },
    {
     "name": "stdout",
     "output_type": "stream",
     "text": [
      "{'Model': 'XGBClassifier', 'Accuracy': 0.39383938393839385, 'Balanced Accuracy': 0.3935159308922777, 'ROC AUC': None, 'F1 Score': 0.39041482139966904, 'Time taken': 6.203456878662109}\n",
      "[LightGBM] [Info] Auto-choosing col-wise multi-threading, the overhead of testing was 0.005947 seconds.\n",
      "You can set `force_col_wise=true` to remove the overhead.\n",
      "[LightGBM] [Info] Total Bins 3060\n",
      "[LightGBM] [Info] Number of data points in the train set: 39995, number of used features: 12\n",
      "[LightGBM] [Info] Start training from score -2.309736\n",
      "[LightGBM] [Info] Start training from score -2.316305\n",
      "[LightGBM] [Info] Start training from score -2.297970\n",
      "[LightGBM] [Info] Start training from score -2.286587\n",
      "[LightGBM] [Info] Start training from score -2.289050\n",
      "[LightGBM] [Info] Start training from score -2.306217\n",
      "[LightGBM] [Info] Start training from score -2.296230\n",
      "[LightGBM] [Info] Start training from score -2.310996\n",
      "[LightGBM] [Info] Start training from score -2.303461\n",
      "[LightGBM] [Info] Start training from score -2.309736\n"
     ]
    },
    {
     "name": "stderr",
     "output_type": "stream",
     "text": [
      "100%|██████████| 29/29 [1:20:15<00:00, 166.05s/it]"
     ]
    },
    {
     "name": "stdout",
     "output_type": "stream",
     "text": [
      "{'Model': 'LGBMClassifier', 'Accuracy': 0.39703970397039706, 'Balanced Accuracy': 0.396873017999794, 'ROC AUC': None, 'F1 Score': 0.3927610775807618, 'Time taken': 3.6924939155578613}\n"
     ]
    },
    {
     "name": "stderr",
     "output_type": "stream",
     "text": [
      "\n"
     ]
    }
   ],
   "source": [
    "clf = LazyClassifier(verbose=1,ignore_warnings=True, custom_metric=None)\n",
    "models,predictions = clf.fit(X_train, X_test, y_train, y_test)"
   ]
  },
  {
   "cell_type": "code",
   "execution_count": 6,
   "id": "05d15675-f12f-44ea-8924-f9ce5d1e15b4",
   "metadata": {},
   "outputs": [
    {
     "name": "stdout",
     "output_type": "stream",
     "text": [
      "                               Accuracy  Balanced Accuracy ROC AUC  F1 Score  \\\n",
      "Model                                                                          \n",
      "LGBMClassifier                     0.40               0.40    None      0.39   \n",
      "XGBClassifier                      0.39               0.39    None      0.39   \n",
      "SVC                                0.39               0.39    None      0.38   \n",
      "RandomForestClassifier             0.38               0.38    None      0.38   \n",
      "NuSVC                              0.38               0.38    None      0.37   \n",
      "ExtraTreesClassifier               0.36               0.36    None      0.36   \n",
      "BaggingClassifier                  0.33               0.33    None      0.33   \n",
      "LinearDiscriminantAnalysis         0.31               0.31    None      0.30   \n",
      "AdaBoostClassifier                 0.31               0.31    None      0.30   \n",
      "KNeighborsClassifier               0.31               0.31    None      0.31   \n",
      "LinearSVC                          0.31               0.31    None      0.27   \n",
      "RidgeClassifierCV                  0.30               0.30    None      0.27   \n",
      "LogisticRegression                 0.30               0.30    None      0.29   \n",
      "CalibratedClassifierCV             0.30               0.30    None      0.28   \n",
      "RidgeClassifier                    0.29               0.29    None      0.26   \n",
      "LabelSpreading                     0.29               0.29    None      0.29   \n",
      "LabelPropagation                   0.29               0.29    None      0.29   \n",
      "QuadraticDiscriminantAnalysis      0.28               0.28    None      0.24   \n",
      "DecisionTreeClassifier             0.27               0.27    None      0.27   \n",
      "ExtraTreeClassifier                0.23               0.23    None      0.23   \n",
      "SGDClassifier                      0.22               0.22    None      0.19   \n",
      "NearestCentroid                    0.22               0.22    None      0.19   \n",
      "GaussianNB                         0.22               0.21    None      0.19   \n",
      "Perceptron                         0.20               0.21    None      0.16   \n",
      "PassiveAggressiveClassifier        0.20               0.20    None      0.18   \n",
      "BernoulliNB                        0.19               0.20    None      0.16   \n",
      "DummyClassifier                    0.09               0.10    None      0.02   \n",
      "\n",
      "                               Time Taken  \n",
      "Model                                      \n",
      "LGBMClassifier                       3.69  \n",
      "XGBClassifier                        6.20  \n",
      "SVC                                315.71  \n",
      "RandomForestClassifier              25.40  \n",
      "NuSVC                              535.74  \n",
      "ExtraTreesClassifier                 8.47  \n",
      "BaggingClassifier                    9.02  \n",
      "LinearDiscriminantAnalysis           2.05  \n",
      "AdaBoostClassifier                   6.96  \n",
      "KNeighborsClassifier                 2.16  \n",
      "LinearSVC                          124.07  \n",
      "RidgeClassifierCV                    0.15  \n",
      "LogisticRegression                   3.35  \n",
      "CalibratedClassifierCV              13.90  \n",
      "RidgeClassifier                      0.10  \n",
      "LabelSpreading                    3182.54  \n",
      "LabelPropagation                   570.58  \n",
      "QuadraticDiscriminantAnalysis        0.10  \n",
      "DecisionTreeClassifier               1.48  \n",
      "ExtraTreeClassifier                  0.14  \n",
      "SGDClassifier                        1.44  \n",
      "NearestCentroid                      0.41  \n",
      "GaussianNB                           0.09  \n",
      "Perceptron                           0.62  \n",
      "PassiveAggressiveClassifier          0.61  \n",
      "BernoulliNB                          0.09  \n",
      "DummyClassifier                      0.05  \n"
     ]
    }
   ],
   "source": [
    "print(models)"
   ]
  },
  {
   "cell_type": "markdown",
   "id": "6bc9401b-1fbd-4b98-99a7-9c8300fe92c7",
   "metadata": {},
   "source": [
    "# Wavelet WPD  "
   ]
  },
  {
   "cell_type": "markdown",
   "id": "fa68f91b-acd0-46d2-bc2c-618eb4071345",
   "metadata": {},
   "source": [
    "## WPD sym5 level 5 "
   ]
  },
  {
   "cell_type": "code",
   "execution_count": 2,
   "id": "33f8f076-ba6c-4f88-ae60-8ee6213eacd5",
   "metadata": {},
   "outputs": [],
   "source": [
    "df = pd.read_csv(\"../Features/Resultados/clean_wpd_insect.csv\")"
   ]
  },
  {
   "cell_type": "code",
   "execution_count": 3,
   "id": "b1a6ee5a-46cb-4dee-bc1d-4e744d46a24a",
   "metadata": {},
   "outputs": [
    {
     "data": {
      "text/plain": [
       "insect\n",
       "Ae. aegypti.f     5000\n",
       "Ae. aegypti.m     5000\n",
       "Cx. quinq.f       4999\n",
       "Cx. quinq.m       5000\n",
       "Cx. stigma.f      4999\n",
       "Cx. stigma.m      5000\n",
       "Cx. tarsalis.f    5000\n",
       "Cx. tarsalis.m    4998\n",
       "D. simulans       4999\n",
       "M. domestica      4999\n",
       "dtype: int64"
      ]
     },
     "execution_count": 3,
     "metadata": {},
     "output_type": "execute_result"
    }
   ],
   "source": [
    "# Distribución de las clases\n",
    "df.groupby('insect').size()"
   ]
  },
  {
   "cell_type": "code",
   "execution_count": 4,
   "id": "c325252d-4a66-4dc9-850b-6aa2d6e74c34",
   "metadata": {},
   "outputs": [],
   "source": [
    "# Codificación de la variable objetivo\n",
    "from sklearn.preprocessing import LabelEncoder\n",
    "\n",
    "encoder = LabelEncoder()\n",
    "df.insect = encoder.fit_transform(df.insect)"
   ]
  },
  {
   "cell_type": "code",
   "execution_count": 5,
   "id": "23c4dab3-1b05-40b7-bec3-0de269139fc4",
   "metadata": {},
   "outputs": [],
   "source": [
    "features = df.columns.tolist()\n",
    "features.remove('insect')\n",
    "features.remove('Path_name')"
   ]
  },
  {
   "cell_type": "code",
   "execution_count": 6,
   "id": "a72939bf-c5b8-4fbb-90a4-f7e0bdaa69b4",
   "metadata": {},
   "outputs": [],
   "source": [
    "X_train, X_test, y_train, y_test = train_test_split(df[features].values,\\\n",
    "                                                    df['insect'].values,\\\n",
    "                                                    test_size=0.2,\\\n",
    "                                                    random_state=1)"
   ]
  },
  {
   "cell_type": "code",
   "execution_count": 7,
   "id": "be2ff5f3-cac5-4876-a8f3-0f0955a9549d",
   "metadata": {
    "collapsed": true,
    "jupyter": {
     "outputs_hidden": true
    },
    "scrolled": true
   },
   "outputs": [
    {
     "name": "stderr",
     "output_type": "stream",
     "text": [
      "  3%|▎         | 1/29 [00:06<03:13,  6.91s/it]"
     ]
    },
    {
     "name": "stdout",
     "output_type": "stream",
     "text": [
      "{'Model': 'AdaBoostClassifier', 'Accuracy': 0.30833083308330833, 'Balanced Accuracy': 0.3084026050016038, 'ROC AUC': None, 'F1 Score': 0.30594208665454203, 'Time taken': 6.911186933517456}\n"
     ]
    },
    {
     "name": "stderr",
     "output_type": "stream",
     "text": [
      " 10%|█         | 3/29 [00:16<01:59,  4.60s/it]"
     ]
    },
    {
     "name": "stdout",
     "output_type": "stream",
     "text": [
      "{'Model': 'BaggingClassifier', 'Accuracy': 0.30163016301630163, 'Balanced Accuracy': 0.30133630638933917, 'ROC AUC': None, 'F1 Score': 0.3025006467382556, 'Time taken': 9.399671077728271}\n",
      "{'Model': 'BernoulliNB', 'Accuracy': 0.22592259225922592, 'Balanced Accuracy': 0.22820536261726102, 'ROC AUC': None, 'F1 Score': 0.2040747447139278, 'Time taken': 0.09973931312561035}\n"
     ]
    },
    {
     "name": "stderr",
     "output_type": "stream",
     "text": [
      " 14%|█▍        | 4/29 [00:27<03:03,  7.34s/it]"
     ]
    },
    {
     "name": "stdout",
     "output_type": "stream",
     "text": [
      "{'Model': 'CalibratedClassifierCV', 'Accuracy': 0.29812981298129815, 'Balanced Accuracy': 0.2974207369812293, 'ROC AUC': None, 'F1 Score': 0.27944709814341906, 'Time taken': 11.54704999923706}\n"
     ]
    },
    {
     "name": "stderr",
     "output_type": "stream",
     "text": [
      " 21%|██        | 6/29 [00:29<01:28,  3.85s/it]"
     ]
    },
    {
     "name": "stdout",
     "output_type": "stream",
     "text": [
      "{'Model': 'DecisionTreeClassifier', 'Accuracy': 0.2371237123712371, 'Balanced Accuracy': 0.23644377327438262, 'ROC AUC': None, 'F1 Score': 0.23816191353433622, 'Time taken': 1.4637887477874756}\n",
      "{'Model': 'DummyClassifier', 'Accuracy': 0.09360936093609361, 'Balanced Accuracy': 0.1, 'ROC AUC': None, 'F1 Score': 0.016025306234327134, 'Time taken': 0.0661916732788086}\n"
     ]
    },
    {
     "name": "stderr",
     "output_type": "stream",
     "text": [
      " 28%|██▊       | 8/29 [00:29<00:47,  2.24s/it]"
     ]
    },
    {
     "name": "stdout",
     "output_type": "stream",
     "text": [
      "{'Model': 'ExtraTreeClassifier', 'Accuracy': 0.21942194219421943, 'Balanced Accuracy': 0.21894485620899978, 'ROC AUC': None, 'F1 Score': 0.21971455863391134, 'Time taken': 0.15766501426696777}\n"
     ]
    },
    {
     "name": "stderr",
     "output_type": "stream",
     "text": [
      " 34%|███▍      | 10/29 [00:38<00:54,  2.86s/it]"
     ]
    },
    {
     "name": "stdout",
     "output_type": "stream",
     "text": [
      "{'Model': 'ExtraTreesClassifier', 'Accuracy': 0.32453245324532454, 'Balanced Accuracy': 0.3242555555705423, 'ROC AUC': None, 'F1 Score': 0.3209377160209317, 'Time taken': 8.78406810760498}\n",
      "{'Model': 'GaussianNB', 'Accuracy': 0.23192319231923192, 'Balanced Accuracy': 0.2297453413730013, 'ROC AUC': None, 'F1 Score': 0.22495548972545296, 'Time taken': 0.10364627838134766}\n"
     ]
    },
    {
     "name": "stderr",
     "output_type": "stream",
     "text": [
      " 38%|███▊      | 11/29 [00:40<00:48,  2.70s/it]"
     ]
    },
    {
     "name": "stdout",
     "output_type": "stream",
     "text": [
      "{'Model': 'KNeighborsClassifier', 'Accuracy': 0.26392639263926393, 'Balanced Accuracy': 0.26332419749215313, 'ROC AUC': None, 'F1 Score': 0.266042143354598, 'Time taken': 2.250143051147461}\n"
     ]
    },
    {
     "name": "stderr",
     "output_type": "stream",
     "text": [
      " 41%|████▏     | 12/29 [38:39<2:57:32, 626.62s/it]"
     ]
    },
    {
     "name": "stdout",
     "output_type": "stream",
     "text": [
      "{'Model': 'LabelPropagation', 'Accuracy': 0.25622562256225623, 'Balanced Accuracy': 0.2560011651141343, 'ROC AUC': None, 'F1 Score': 0.25784057114315395, 'Time taken': 2278.3556759357452}\n"
     ]
    },
    {
     "name": "stderr",
     "output_type": "stream",
     "text": [
      " 45%|████▍     | 13/29 [3:13:44<13:38:27, 3069.24s/it]"
     ]
    },
    {
     "name": "stdout",
     "output_type": "stream",
     "text": [
      "{'Model': 'LabelSpreading', 'Accuracy': 0.25782578257825783, 'Balanced Accuracy': 0.2576142025158873, 'ROC AUC': None, 'F1 Score': 0.2593909082466456, 'Time taken': 9305.484273195267}\n"
     ]
    },
    {
     "name": "stderr",
     "output_type": "stream",
     "text": [
      " 48%|████▊     | 14/29 [3:13:45<9:07:18, 2189.24s/it] "
     ]
    },
    {
     "name": "stdout",
     "output_type": "stream",
     "text": [
      "{'Model': 'LinearDiscriminantAnalysis', 'Accuracy': 0.30053005300530056, 'Balanced Accuracy': 0.3010518974311043, 'ROC AUC': None, 'F1 Score': 0.2874571018521063, 'Time taken': 0.45853686332702637}\n"
     ]
    },
    {
     "name": "stderr",
     "output_type": "stream",
     "text": [
      " 52%|█████▏    | 15/29 [3:15:40<6:10:12, 1586.58s/it]"
     ]
    },
    {
     "name": "stdout",
     "output_type": "stream",
     "text": [
      "{'Model': 'LinearSVC', 'Accuracy': 0.2907290729072907, 'Balanced Accuracy': 0.28999040054658687, 'ROC AUC': None, 'F1 Score': 0.2541796757976325, 'Time taken': 115.47899508476257}\n"
     ]
    },
    {
     "name": "stderr",
     "output_type": "stream",
     "text": [
      " 55%|█████▌    | 16/29 [3:15:44<4:03:07, 1122.14s/it]"
     ]
    },
    {
     "name": "stdout",
     "output_type": "stream",
     "text": [
      "{'Model': 'LogisticRegression', 'Accuracy': 0.31503150315031503, 'Balanced Accuracy': 0.31486473158857536, 'ROC AUC': None, 'F1 Score': 0.30566979849298614, 'Time taken': 3.42385196685791}\n"
     ]
    },
    {
     "name": "stderr",
     "output_type": "stream",
     "text": [
      " 59%|█████▊    | 17/29 [3:15:44<2:38:10, 790.88s/it] "
     ]
    },
    {
     "name": "stdout",
     "output_type": "stream",
     "text": [
      "{'Model': 'NearestCentroid', 'Accuracy': 0.23592359235923593, 'Balanced Accuracy': 0.23715660316811782, 'ROC AUC': None, 'F1 Score': 0.2177393402957946, 'Time taken': 0.4648721218109131}\n"
     ]
    },
    {
     "name": "stderr",
     "output_type": "stream",
     "text": [
      " 62%|██████▏   | 18/29 [3:27:11<2:19:20, 760.03s/it]"
     ]
    },
    {
     "name": "stdout",
     "output_type": "stream",
     "text": [
      "{'Model': 'NuSVC', 'Accuracy': 0.3465346534653465, 'Balanced Accuracy': 0.3465708373290958, 'ROC AUC': None, 'F1 Score': 0.3469445160765848, 'Time taken': 686.8859720230103}\n"
     ]
    },
    {
     "name": "stderr",
     "output_type": "stream",
     "text": [
      " 66%|██████▌   | 19/29 [3:27:12<1:29:00, 534.00s/it]"
     ]
    },
    {
     "name": "stdout",
     "output_type": "stream",
     "text": [
      "{'Model': 'PassiveAggressiveClassifier', 'Accuracy': 0.16861686168616863, 'Balanced Accuracy': 0.16868457141936002, 'ROC AUC': None, 'F1 Score': 0.13819070898128688, 'Time taken': 0.7517409324645996}\n"
     ]
    },
    {
     "name": "stderr",
     "output_type": "stream",
     "text": [
      " 69%|██████▉   | 20/29 [3:27:12<56:13, 374.84s/it]  "
     ]
    },
    {
     "name": "stdout",
     "output_type": "stream",
     "text": [
      "{'Model': 'Perceptron', 'Accuracy': 0.21612161216121611, 'Balanced Accuracy': 0.21673872670920877, 'ROC AUC': None, 'F1 Score': 0.20554119298953527, 'Time taken': 0.5930547714233398}\n",
      "{'Model': 'QuadraticDiscriminantAnalysis', 'Accuracy': 0.22732273227322733, 'Balanced Accuracy': 0.22358171346084146, 'ROC AUC': None, 'F1 Score': 0.2136815520409859, 'Time taken': 0.08964180946350098}\n"
     ]
    },
    {
     "name": "stderr",
     "output_type": "stream",
     "text": [
      " 79%|███████▉  | 23/29 [3:27:38<15:40, 156.76s/it]"
     ]
    },
    {
     "name": "stdout",
     "output_type": "stream",
     "text": [
      "{'Model': 'RandomForestClassifier', 'Accuracy': 0.33783378337833786, 'Balanced Accuracy': 0.337653953712399, 'ROC AUC': None, 'F1 Score': 0.3348120913406784, 'Time taken': 25.61345100402832}\n",
      "{'Model': 'RidgeClassifier', 'Accuracy': 0.285028502850285, 'Balanced Accuracy': 0.2853121511374551, 'ROC AUC': None, 'F1 Score': 0.24191235088786486, 'Time taken': 0.1068260669708252}\n"
     ]
    },
    {
     "name": "stderr",
     "output_type": "stream",
     "text": [
      " 83%|████████▎ | 24/29 [3:27:38<09:39, 115.87s/it]"
     ]
    },
    {
     "name": "stdout",
     "output_type": "stream",
     "text": [
      "{'Model': 'RidgeClassifierCV', 'Accuracy': 0.2857285728572857, 'Balanced Accuracy': 0.28598295637996546, 'ROC AUC': None, 'F1 Score': 0.24290318421941753, 'Time taken': 0.15421390533447266}\n"
     ]
    },
    {
     "name": "stderr",
     "output_type": "stream",
     "text": [
      " 86%|████████▌ | 25/29 [3:27:40<05:39, 84.76s/it] "
     ]
    },
    {
     "name": "stdout",
     "output_type": "stream",
     "text": [
      "{'Model': 'SGDClassifier', 'Accuracy': 0.20432043204320433, 'Balanced Accuracy': 0.19979599810183432, 'ROC AUC': None, 'F1 Score': 0.17285627920333985, 'Time taken': 1.3754050731658936}\n"
     ]
    },
    {
     "name": "stderr",
     "output_type": "stream",
     "text": [
      " 90%|████████▉ | 26/29 [3:33:19<07:47, 155.98s/it]"
     ]
    },
    {
     "name": "stdout",
     "output_type": "stream",
     "text": [
      "{'Model': 'SVC', 'Accuracy': 0.34563456345634563, 'Balanced Accuracy': 0.34634562715763867, 'ROC AUC': None, 'F1 Score': 0.3400920169672198, 'Time taken': 339.4849510192871}\n"
     ]
    },
    {
     "name": "stderr",
     "output_type": "stream",
     "text": [
      " 97%|█████████▋| 28/29 [3:33:26<01:28, 88.29s/it] "
     ]
    },
    {
     "name": "stdout",
     "output_type": "stream",
     "text": [
      "{'Model': 'XGBClassifier', 'Accuracy': 0.35123512351235125, 'Balanced Accuracy': 0.3510474233188176, 'ROC AUC': None, 'F1 Score': 0.3471263668792006, 'Time taken': 7.10984206199646}\n",
      "[LightGBM] [Info] Auto-choosing col-wise multi-threading, the overhead of testing was 0.006717 seconds.\n",
      "You can set `force_col_wise=true` to remove the overhead.\n",
      "[LightGBM] [Info] Total Bins 3060\n",
      "[LightGBM] [Info] Number of data points in the train set: 39995, number of used features: 12\n",
      "[LightGBM] [Info] Start training from score -2.309736\n",
      "[LightGBM] [Info] Start training from score -2.316305\n",
      "[LightGBM] [Info] Start training from score -2.297970\n",
      "[LightGBM] [Info] Start training from score -2.286587\n",
      "[LightGBM] [Info] Start training from score -2.289050\n",
      "[LightGBM] [Info] Start training from score -2.306217\n",
      "[LightGBM] [Info] Start training from score -2.296230\n",
      "[LightGBM] [Info] Start training from score -2.310996\n",
      "[LightGBM] [Info] Start training from score -2.303461\n",
      "[LightGBM] [Info] Start training from score -2.309736\n"
     ]
    },
    {
     "name": "stderr",
     "output_type": "stream",
     "text": [
      "100%|██████████| 29/29 [3:33:30<00:00, 441.73s/it]"
     ]
    },
    {
     "name": "stdout",
     "output_type": "stream",
     "text": [
      "{'Model': 'LGBMClassifier', 'Accuracy': 0.35453545354535454, 'Balanced Accuracy': 0.354498001952713, 'ROC AUC': None, 'F1 Score': 0.34940665342687194, 'Time taken': 3.419747829437256}\n"
     ]
    },
    {
     "name": "stderr",
     "output_type": "stream",
     "text": [
      "\n"
     ]
    }
   ],
   "source": [
    "clf = LazyClassifier(verbose=1,ignore_warnings=True, custom_metric=None)\n",
    "models,predictions = clf.fit(X_train, X_test, y_train, y_test)"
   ]
  },
  {
   "cell_type": "code",
   "execution_count": 8,
   "id": "6f3f564d-0b0e-4323-bf2c-bdf68b8092b5",
   "metadata": {},
   "outputs": [
    {
     "name": "stdout",
     "output_type": "stream",
     "text": [
      "                               Accuracy  Balanced Accuracy ROC AUC  F1 Score  \\\n",
      "Model                                                                          \n",
      "LGBMClassifier                     0.35               0.35    None      0.35   \n",
      "XGBClassifier                      0.35               0.35    None      0.35   \n",
      "NuSVC                              0.35               0.35    None      0.35   \n",
      "SVC                                0.35               0.35    None      0.34   \n",
      "RandomForestClassifier             0.34               0.34    None      0.33   \n",
      "ExtraTreesClassifier               0.32               0.32    None      0.32   \n",
      "LogisticRegression                 0.32               0.31    None      0.31   \n",
      "AdaBoostClassifier                 0.31               0.31    None      0.31   \n",
      "BaggingClassifier                  0.30               0.30    None      0.30   \n",
      "LinearDiscriminantAnalysis         0.30               0.30    None      0.29   \n",
      "CalibratedClassifierCV             0.30               0.30    None      0.28   \n",
      "LinearSVC                          0.29               0.29    None      0.25   \n",
      "RidgeClassifierCV                  0.29               0.29    None      0.24   \n",
      "RidgeClassifier                    0.29               0.29    None      0.24   \n",
      "KNeighborsClassifier               0.26               0.26    None      0.27   \n",
      "LabelSpreading                     0.26               0.26    None      0.26   \n",
      "LabelPropagation                   0.26               0.26    None      0.26   \n",
      "NearestCentroid                    0.24               0.24    None      0.22   \n",
      "DecisionTreeClassifier             0.24               0.24    None      0.24   \n",
      "GaussianNB                         0.23               0.23    None      0.22   \n",
      "BernoulliNB                        0.23               0.23    None      0.20   \n",
      "QuadraticDiscriminantAnalysis      0.23               0.22    None      0.21   \n",
      "ExtraTreeClassifier                0.22               0.22    None      0.22   \n",
      "Perceptron                         0.22               0.22    None      0.21   \n",
      "SGDClassifier                      0.20               0.20    None      0.17   \n",
      "PassiveAggressiveClassifier        0.17               0.17    None      0.14   \n",
      "DummyClassifier                    0.09               0.10    None      0.02   \n",
      "\n",
      "                               Time Taken  \n",
      "Model                                      \n",
      "LGBMClassifier                       3.42  \n",
      "XGBClassifier                        7.11  \n",
      "NuSVC                              686.89  \n",
      "SVC                                339.48  \n",
      "RandomForestClassifier              25.61  \n",
      "ExtraTreesClassifier                 8.78  \n",
      "LogisticRegression                   3.42  \n",
      "AdaBoostClassifier                   6.91  \n",
      "BaggingClassifier                    9.40  \n",
      "LinearDiscriminantAnalysis           0.46  \n",
      "CalibratedClassifierCV              11.55  \n",
      "LinearSVC                          115.48  \n",
      "RidgeClassifierCV                    0.15  \n",
      "RidgeClassifier                      0.11  \n",
      "KNeighborsClassifier                 2.25  \n",
      "LabelSpreading                    9305.48  \n",
      "LabelPropagation                  2278.36  \n",
      "NearestCentroid                      0.46  \n",
      "DecisionTreeClassifier               1.46  \n",
      "GaussianNB                           0.10  \n",
      "BernoulliNB                          0.10  \n",
      "QuadraticDiscriminantAnalysis        0.09  \n",
      "ExtraTreeClassifier                  0.16  \n",
      "Perceptron                           0.59  \n",
      "SGDClassifier                        1.38  \n",
      "PassiveAggressiveClassifier          0.75  \n",
      "DummyClassifier                      0.07  \n"
     ]
    }
   ],
   "source": [
    "print(models)"
   ]
  },
  {
   "cell_type": "markdown",
   "id": "f406df85-23a3-43ca-b326-0a5804ce4f56",
   "metadata": {},
   "source": [
    "## WPD sym5 level 4  "
   ]
  },
  {
   "cell_type": "code",
   "execution_count": 2,
   "id": "cd490d8e-e031-47cd-ada6-ae448cab24d2",
   "metadata": {},
   "outputs": [
    {
     "data": {
      "text/plain": [
       "insect\n",
       "Ae. aegypti.f     5000\n",
       "Ae. aegypti.m     5000\n",
       "Cx. quinq.f       4999\n",
       "Cx. quinq.m       5000\n",
       "Cx. stigma.f      4999\n",
       "Cx. stigma.m      5000\n",
       "Cx. tarsalis.f    5000\n",
       "Cx. tarsalis.m    4998\n",
       "D. simulans       4999\n",
       "M. domestica      4999\n",
       "dtype: int64"
      ]
     },
     "execution_count": 2,
     "metadata": {},
     "output_type": "execute_result"
    }
   ],
   "source": [
    "df = pd.read_csv(\"../Features/Resultados/clean_wpd_insect.csv\")\n",
    "# Distribución de las clases\n",
    "df.groupby('insect').size()"
   ]
  },
  {
   "cell_type": "code",
   "execution_count": 3,
   "id": "d0eeec92-0cd5-469f-b652-3396e9b742f5",
   "metadata": {},
   "outputs": [],
   "source": [
    "# Codificación de la variable objetivo\n",
    "from sklearn.preprocessing import LabelEncoder\n",
    "\n",
    "encoder = LabelEncoder()\n",
    "df.insect = encoder.fit_transform(df.insect)\n",
    "\n",
    "features = df.columns.tolist()\n",
    "features.remove('insect')\n",
    "features.remove('Path_name')\n",
    "\n",
    "X_train, X_test, y_train, y_test = train_test_split(df[features].values,\\\n",
    "                                                    df['insect'].values,\\\n",
    "                                                    test_size=0.2,\\\n",
    "                                                    random_state=1)"
   ]
  },
  {
   "cell_type": "code",
   "execution_count": 4,
   "id": "b9779b1c-fe5a-45ab-b183-28ac062a0787",
   "metadata": {
    "collapsed": true,
    "jupyter": {
     "outputs_hidden": true
    }
   },
   "outputs": [
    {
     "name": "stderr",
     "output_type": "stream",
     "text": [
      "  3%|▎         | 1/29 [00:06<03:12,  6.87s/it]"
     ]
    },
    {
     "name": "stdout",
     "output_type": "stream",
     "text": [
      "{'Model': 'AdaBoostClassifier', 'Accuracy': 0.27342734273427344, 'Balanced Accuracy': 0.27371389516998806, 'ROC AUC': None, 'F1 Score': 0.257251271453376, 'Time taken': 6.873789072036743}\n"
     ]
    },
    {
     "name": "stderr",
     "output_type": "stream",
     "text": [
      "  7%|▋         | 2/29 [00:16<03:55,  8.72s/it]"
     ]
    },
    {
     "name": "stdout",
     "output_type": "stream",
     "text": [
      "{'Model': 'BaggingClassifier', 'Accuracy': 0.27222722272227223, 'Balanced Accuracy': 0.2721653553694456, 'ROC AUC': None, 'F1 Score': 0.27276017671909625, 'Time taken': 10.010949850082397}\n",
      "{'Model': 'BernoulliNB', 'Accuracy': 0.1999199919991999, 'Balanced Accuracy': 0.20125837214686743, 'ROC AUC': None, 'F1 Score': 0.1721629233930966, 'Time taken': 0.0875997543334961}\n"
     ]
    },
    {
     "name": "stderr",
     "output_type": "stream",
     "text": [
      " 14%|█▍        | 4/29 [00:28<02:51,  6.85s/it]"
     ]
    },
    {
     "name": "stdout",
     "output_type": "stream",
     "text": [
      "{'Model': 'CalibratedClassifierCV', 'Accuracy': 0.27782778277827785, 'Balanced Accuracy': 0.2772295332399853, 'ROC AUC': None, 'F1 Score': 0.2496144008904755, 'Time taken': 11.380577087402344}\n"
     ]
    },
    {
     "name": "stderr",
     "output_type": "stream",
     "text": [
      " 21%|██        | 6/29 [00:30<01:32,  4.01s/it]"
     ]
    },
    {
     "name": "stdout",
     "output_type": "stream",
     "text": [
      "{'Model': 'DecisionTreeClassifier', 'Accuracy': 0.22582258225822582, 'Balanced Accuracy': 0.22598284075694086, 'ROC AUC': None, 'F1 Score': 0.22653612117409355, 'Time taken': 1.661133050918579}\n",
      "{'Model': 'DummyClassifier', 'Accuracy': 0.09360936093609361, 'Balanced Accuracy': 0.1, 'ROC AUC': None, 'F1 Score': 0.016025306234327134, 'Time taken': 0.05991411209106445}\n",
      "{'Model': 'ExtraTreeClassifier', 'Accuracy': 0.19551955195519552, 'Balanced Accuracy': 0.1956171096913615, 'ROC AUC': None, 'F1 Score': 0.19602070932181037, 'Time taken': 0.1441793441772461}\n"
     ]
    },
    {
     "name": "stderr",
     "output_type": "stream",
     "text": [
      " 31%|███       | 9/29 [00:38<01:16,  3.83s/it]"
     ]
    },
    {
     "name": "stdout",
     "output_type": "stream",
     "text": [
      "{'Model': 'ExtraTreesClassifier', 'Accuracy': 0.3057305730573057, 'Balanced Accuracy': 0.30580756069661785, 'ROC AUC': None, 'F1 Score': 0.2977996672677141, 'Time taken': 8.675432920455933}\n",
      "{'Model': 'GaussianNB', 'Accuracy': 0.2159215921592159, 'Balanced Accuracy': 0.21429235473960562, 'ROC AUC': None, 'F1 Score': 0.2028597092027189, 'Time taken': 0.0866539478302002}\n"
     ]
    },
    {
     "name": "stderr",
     "output_type": "stream",
     "text": [
      " 38%|███▊      | 11/29 [00:41<00:50,  2.78s/it]"
     ]
    },
    {
     "name": "stdout",
     "output_type": "stream",
     "text": [
      "{'Model': 'KNeighborsClassifier', 'Accuracy': 0.24632463246324632, 'Balanced Accuracy': 0.24654739020191685, 'ROC AUC': None, 'F1 Score': 0.24845093863800574, 'Time taken': 2.18442702293396}\n"
     ]
    },
    {
     "name": "stderr",
     "output_type": "stream",
     "text": [
      " 41%|████▏     | 12/29 [06:34<22:25, 79.13s/it]"
     ]
    },
    {
     "name": "stdout",
     "output_type": "stream",
     "text": [
      "{'Model': 'LabelPropagation', 'Accuracy': 0.2372237223722372, 'Balanced Accuracy': 0.23762672778518387, 'ROC AUC': None, 'F1 Score': 0.23742756343902607, 'Time taken': 353.3403377532959}\n"
     ]
    },
    {
     "name": "stderr",
     "output_type": "stream",
     "text": [
      " 45%|████▍     | 13/29 [1:07:27<4:07:13, 927.12s/it]"
     ]
    },
    {
     "name": "stdout",
     "output_type": "stream",
     "text": [
      "{'Model': 'LabelSpreading', 'Accuracy': 0.24092409240924093, 'Balanced Accuracy': 0.24128635256501166, 'ROC AUC': None, 'F1 Score': 0.24093196733575276, 'Time taken': 3653.0041201114655}\n"
     ]
    },
    {
     "name": "stderr",
     "output_type": "stream",
     "text": [
      " 48%|████▊     | 14/29 [1:07:28<2:53:08, 692.55s/it]"
     ]
    },
    {
     "name": "stdout",
     "output_type": "stream",
     "text": [
      "{'Model': 'LinearDiscriminantAnalysis', 'Accuracy': 0.28252825282528254, 'Balanced Accuracy': 0.28347130626080996, 'ROC AUC': None, 'F1 Score': 0.26110529958109285, 'Time taken': 0.49478697776794434}\n"
     ]
    },
    {
     "name": "stderr",
     "output_type": "stream",
     "text": [
      " 52%|█████▏    | 15/29 [1:09:02<2:04:32, 533.72s/it]"
     ]
    },
    {
     "name": "stdout",
     "output_type": "stream",
     "text": [
      "{'Model': 'LinearSVC', 'Accuracy': 0.27222722272227223, 'Balanced Accuracy': 0.2725243228859958, 'ROC AUC': None, 'F1 Score': 0.2201364728176337, 'Time taken': 94.52491593360901}\n"
     ]
    },
    {
     "name": "stderr",
     "output_type": "stream",
     "text": [
      " 55%|█████▌    | 16/29 [1:09:04<1:23:56, 387.41s/it]"
     ]
    },
    {
     "name": "stdout",
     "output_type": "stream",
     "text": [
      "{'Model': 'LogisticRegression', 'Accuracy': 0.28332833283328335, 'Balanced Accuracy': 0.28310758379137424, 'ROC AUC': None, 'F1 Score': 0.2602095741184264, 'Time taken': 1.7959330081939697}\n"
     ]
    },
    {
     "name": "stderr",
     "output_type": "stream",
     "text": [
      " 59%|█████▊    | 17/29 [1:09:05<55:39, 278.26s/it]  "
     ]
    },
    {
     "name": "stdout",
     "output_type": "stream",
     "text": [
      "{'Model': 'NearestCentroid', 'Accuracy': 0.22132213221322133, 'Balanced Accuracy': 0.22404207514615102, 'ROC AUC': None, 'F1 Score': 0.20275516245737513, 'Time taken': 0.4526808261871338}\n"
     ]
    },
    {
     "name": "stderr",
     "output_type": "stream",
     "text": [
      " 62%|██████▏   | 18/29 [1:19:11<1:08:18, 372.59s/it]"
     ]
    },
    {
     "name": "stdout",
     "output_type": "stream",
     "text": [
      "{'Model': 'NuSVC', 'Accuracy': 0.32613261326132614, 'Balanced Accuracy': 0.32704079711351214, 'ROC AUC': None, 'F1 Score': 0.3132603187716889, 'Time taken': 606.6860861778259}\n"
     ]
    },
    {
     "name": "stderr",
     "output_type": "stream",
     "text": [
      " 66%|██████▌   | 19/29 [1:19:12<44:03, 264.37s/it]  "
     ]
    },
    {
     "name": "stdout",
     "output_type": "stream",
     "text": [
      "{'Model': 'PassiveAggressiveClassifier', 'Accuracy': 0.17261726172617262, 'Balanced Accuracy': 0.1727805150939013, 'ROC AUC': None, 'F1 Score': 0.13885169643610648, 'Time taken': 0.635221004486084}\n"
     ]
    },
    {
     "name": "stderr",
     "output_type": "stream",
     "text": [
      " 72%|███████▏  | 21/29 [1:19:13<17:33, 131.72s/it]"
     ]
    },
    {
     "name": "stdout",
     "output_type": "stream",
     "text": [
      "{'Model': 'Perceptron', 'Accuracy': 0.1934193419341934, 'Balanced Accuracy': 0.1966267136757999, 'ROC AUC': None, 'F1 Score': 0.17242106219286915, 'Time taken': 0.5938429832458496}\n",
      "{'Model': 'QuadraticDiscriminantAnalysis', 'Accuracy': 0.2222222222222222, 'Balanced Accuracy': 0.2200722761215818, 'ROC AUC': None, 'F1 Score': 0.19723265436734688, 'Time taken': 0.10783720016479492}\n"
     ]
    },
    {
     "name": "stderr",
     "output_type": "stream",
     "text": [
      " 79%|███████▉  | 23/29 [1:19:39<07:03, 70.65s/it] "
     ]
    },
    {
     "name": "stdout",
     "output_type": "stream",
     "text": [
      "{'Model': 'RandomForestClassifier', 'Accuracy': 0.3106310631063106, 'Balanced Accuracy': 0.310883069435795, 'ROC AUC': None, 'F1 Score': 0.3029877508613266, 'Time taken': 26.747029066085815}\n",
      "{'Model': 'RidgeClassifier', 'Accuracy': 0.26282628262826285, 'Balanced Accuracy': 0.2635211461240118, 'ROC AUC': None, 'F1 Score': 0.20645570208368524, 'Time taken': 0.11473989486694336}\n"
     ]
    },
    {
     "name": "stderr",
     "output_type": "stream",
     "text": [
      " 83%|████████▎ | 24/29 [1:19:40<04:08, 49.62s/it]"
     ]
    },
    {
     "name": "stdout",
     "output_type": "stream",
     "text": [
      "{'Model': 'RidgeClassifierCV', 'Accuracy': 0.2654265426542654, 'Balanced Accuracy': 0.26616943877483756, 'ROC AUC': None, 'F1 Score': 0.20845851224265877, 'Time taken': 0.17666316032409668}\n"
     ]
    },
    {
     "name": "stderr",
     "output_type": "stream",
     "text": [
      " 86%|████████▌ | 25/29 [1:19:41<02:21, 35.28s/it]"
     ]
    },
    {
     "name": "stdout",
     "output_type": "stream",
     "text": [
      "{'Model': 'SGDClassifier', 'Accuracy': 0.18211821182118212, 'Balanced Accuracy': 0.18103038033283708, 'ROC AUC': None, 'F1 Score': 0.17992636524868993, 'Time taken': 1.6346850395202637}\n"
     ]
    },
    {
     "name": "stderr",
     "output_type": "stream",
     "text": [
      " 90%|████████▉ | 26/29 [1:25:52<06:47, 135.73s/it]"
     ]
    },
    {
     "name": "stdout",
     "output_type": "stream",
     "text": [
      "{'Model': 'SVC', 'Accuracy': 0.32913291329132915, 'Balanced Accuracy': 0.32976969517254273, 'ROC AUC': None, 'F1 Score': 0.3106473006684309, 'Time taken': 370.9909529685974}\n"
     ]
    },
    {
     "name": "stderr",
     "output_type": "stream",
     "text": [
      " 97%|█████████▋| 28/29 [1:25:58<01:14, 74.52s/it] "
     ]
    },
    {
     "name": "stdout",
     "output_type": "stream",
     "text": [
      "{'Model': 'XGBClassifier', 'Accuracy': 0.33283328332833284, 'Balanced Accuracy': 0.33356604520363425, 'ROC AUC': None, 'F1 Score': 0.3233926391609434, 'Time taken': 5.845747947692871}\n",
      "[LightGBM] [Info] Auto-choosing col-wise multi-threading, the overhead of testing was 0.006329 seconds.\n",
      "You can set `force_col_wise=true` to remove the overhead.\n",
      "[LightGBM] [Info] Total Bins 3060\n",
      "[LightGBM] [Info] Number of data points in the train set: 39995, number of used features: 12\n",
      "[LightGBM] [Info] Start training from score -2.309736\n",
      "[LightGBM] [Info] Start training from score -2.316305\n",
      "[LightGBM] [Info] Start training from score -2.297970\n",
      "[LightGBM] [Info] Start training from score -2.286587\n",
      "[LightGBM] [Info] Start training from score -2.289050\n",
      "[LightGBM] [Info] Start training from score -2.306217\n",
      "[LightGBM] [Info] Start training from score -2.296230\n",
      "[LightGBM] [Info] Start training from score -2.310996\n",
      "[LightGBM] [Info] Start training from score -2.303461\n",
      "[LightGBM] [Info] Start training from score -2.309736\n"
     ]
    },
    {
     "name": "stderr",
     "output_type": "stream",
     "text": [
      "100%|██████████| 29/29 [1:26:02<00:00, 178.00s/it]"
     ]
    },
    {
     "name": "stdout",
     "output_type": "stream",
     "text": [
      "{'Model': 'LGBMClassifier', 'Accuracy': 0.32973297329732976, 'Balanced Accuracy': 0.33029906563746697, 'ROC AUC': None, 'F1 Score': 0.31789096393578825, 'Time taken': 3.463899850845337}\n"
     ]
    },
    {
     "name": "stderr",
     "output_type": "stream",
     "text": [
      "\n"
     ]
    }
   ],
   "source": [
    "clf = LazyClassifier(verbose=1,ignore_warnings=True, custom_metric=None)\n",
    "models,predictions = clf.fit(X_train, X_test, y_train, y_test)"
   ]
  },
  {
   "cell_type": "code",
   "execution_count": 5,
   "id": "1492eec3-c5e2-4108-8ba8-93f17bc0cc33",
   "metadata": {},
   "outputs": [
    {
     "name": "stdout",
     "output_type": "stream",
     "text": [
      "                               Accuracy  Balanced Accuracy ROC AUC  F1 Score  \\\n",
      "Model                                                                          \n",
      "XGBClassifier                      0.33               0.33    None      0.32   \n",
      "LGBMClassifier                     0.33               0.33    None      0.32   \n",
      "SVC                                0.33               0.33    None      0.31   \n",
      "NuSVC                              0.33               0.33    None      0.31   \n",
      "RandomForestClassifier             0.31               0.31    None      0.30   \n",
      "ExtraTreesClassifier               0.31               0.31    None      0.30   \n",
      "LinearDiscriminantAnalysis         0.28               0.28    None      0.26   \n",
      "LogisticRegression                 0.28               0.28    None      0.26   \n",
      "CalibratedClassifierCV             0.28               0.28    None      0.25   \n",
      "AdaBoostClassifier                 0.27               0.27    None      0.26   \n",
      "LinearSVC                          0.27               0.27    None      0.22   \n",
      "BaggingClassifier                  0.27               0.27    None      0.27   \n",
      "RidgeClassifierCV                  0.27               0.27    None      0.21   \n",
      "RidgeClassifier                    0.26               0.26    None      0.21   \n",
      "KNeighborsClassifier               0.25               0.25    None      0.25   \n",
      "LabelSpreading                     0.24               0.24    None      0.24   \n",
      "LabelPropagation                   0.24               0.24    None      0.24   \n",
      "DecisionTreeClassifier             0.23               0.23    None      0.23   \n",
      "NearestCentroid                    0.22               0.22    None      0.20   \n",
      "QuadraticDiscriminantAnalysis      0.22               0.22    None      0.20   \n",
      "GaussianNB                         0.22               0.21    None      0.20   \n",
      "BernoulliNB                        0.20               0.20    None      0.17   \n",
      "Perceptron                         0.19               0.20    None      0.17   \n",
      "ExtraTreeClassifier                0.20               0.20    None      0.20   \n",
      "SGDClassifier                      0.18               0.18    None      0.18   \n",
      "PassiveAggressiveClassifier        0.17               0.17    None      0.14   \n",
      "DummyClassifier                    0.09               0.10    None      0.02   \n",
      "\n",
      "                               Time Taken  \n",
      "Model                                      \n",
      "XGBClassifier                        5.85  \n",
      "LGBMClassifier                       3.46  \n",
      "SVC                                370.99  \n",
      "NuSVC                              606.69  \n",
      "RandomForestClassifier              26.75  \n",
      "ExtraTreesClassifier                 8.68  \n",
      "LinearDiscriminantAnalysis           0.49  \n",
      "LogisticRegression                   1.80  \n",
      "CalibratedClassifierCV              11.38  \n",
      "AdaBoostClassifier                   6.87  \n",
      "LinearSVC                           94.52  \n",
      "BaggingClassifier                   10.01  \n",
      "RidgeClassifierCV                    0.18  \n",
      "RidgeClassifier                      0.11  \n",
      "KNeighborsClassifier                 2.18  \n",
      "LabelSpreading                    3653.00  \n",
      "LabelPropagation                   353.34  \n",
      "DecisionTreeClassifier               1.66  \n",
      "NearestCentroid                      0.45  \n",
      "QuadraticDiscriminantAnalysis        0.11  \n",
      "GaussianNB                           0.09  \n",
      "BernoulliNB                          0.09  \n",
      "Perceptron                           0.59  \n",
      "ExtraTreeClassifier                  0.14  \n",
      "SGDClassifier                        1.63  \n",
      "PassiveAggressiveClassifier          0.64  \n",
      "DummyClassifier                      0.06  \n"
     ]
    }
   ],
   "source": [
    "print(models)"
   ]
  },
  {
   "cell_type": "markdown",
   "id": "6923a6b7-9609-462c-acb3-8e8a8ad7c9e6",
   "metadata": {},
   "source": [
    "## WPD db5 level 5"
   ]
  },
  {
   "cell_type": "code",
   "execution_count": 4,
   "id": "353cdfbc-e026-48ee-aa8a-04a228041923",
   "metadata": {},
   "outputs": [
    {
     "data": {
      "text/plain": [
       "insect\n",
       "Ae. aegypti.f     5000\n",
       "Ae. aegypti.m     5000\n",
       "Cx. quinq.f       4999\n",
       "Cx. quinq.m       5000\n",
       "Cx. stigma.f      4999\n",
       "Cx. stigma.m      5000\n",
       "Cx. tarsalis.f    5000\n",
       "Cx. tarsalis.m    4998\n",
       "D. simulans       4999\n",
       "M. domestica      4999\n",
       "dtype: int64"
      ]
     },
     "execution_count": 4,
     "metadata": {},
     "output_type": "execute_result"
    }
   ],
   "source": [
    "df = pd.read_csv(\"../Features/Resultados/clean_wpd_db5_5_insect.csv\")\n",
    "# Distribución de las clases\n",
    "df.groupby('insect').size()"
   ]
  },
  {
   "cell_type": "code",
   "execution_count": 5,
   "id": "ec178a29-8c09-41c9-9ac4-633c41db1df9",
   "metadata": {},
   "outputs": [],
   "source": [
    "# Codificación de la variable objetivo\n",
    "from sklearn.preprocessing import LabelEncoder\n",
    "\n",
    "encoder = LabelEncoder()\n",
    "df.insect = encoder.fit_transform(df.insect)\n",
    "\n",
    "features = df.columns.tolist()\n",
    "features.remove('insect')\n",
    "features.remove('Path_name')\n",
    "\n",
    "X_train, X_test, y_train, y_test = train_test_split(df[features].values,\\\n",
    "                                                    df['insect'].values,\\\n",
    "                                                    test_size=0.2,\\\n",
    "                                                    random_state=1)"
   ]
  },
  {
   "cell_type": "code",
   "execution_count": 6,
   "id": "29e03056-7fad-4e16-a250-c152ab8e74c8",
   "metadata": {
    "collapsed": true,
    "jupyter": {
     "outputs_hidden": true
    },
    "scrolled": true
   },
   "outputs": [
    {
     "name": "stderr",
     "output_type": "stream",
     "text": [
      "  3%|▎         | 1/29 [00:06<03:12,  6.86s/it]"
     ]
    },
    {
     "name": "stdout",
     "output_type": "stream",
     "text": [
      "{'Model': 'AdaBoostClassifier', 'Accuracy': 0.3086308630863086, 'Balanced Accuracy': 0.30861909113048286, 'ROC AUC': None, 'F1 Score': 0.30660103192740257, 'Time taken': 6.863460063934326}\n"
     ]
    },
    {
     "name": "stderr",
     "output_type": "stream",
     "text": [
      "  7%|▋         | 2/29 [00:16<03:46,  8.39s/it]"
     ]
    },
    {
     "name": "stdout",
     "output_type": "stream",
     "text": [
      "{'Model': 'BaggingClassifier', 'Accuracy': 0.29352935293529353, 'Balanced Accuracy': 0.29300747904508306, 'ROC AUC': None, 'F1 Score': 0.295020310845745, 'Time taken': 9.45748496055603}\n",
      "{'Model': 'BernoulliNB', 'Accuracy': 0.22552255225522552, 'Balanced Accuracy': 0.2280334558681914, 'ROC AUC': None, 'F1 Score': 0.20351825657331596, 'Time taken': 0.09168195724487305}\n"
     ]
    },
    {
     "name": "stderr",
     "output_type": "stream",
     "text": [
      " 14%|█▍        | 4/29 [00:28<02:50,  6.83s/it]"
     ]
    },
    {
     "name": "stdout",
     "output_type": "stream",
     "text": [
      "{'Model': 'CalibratedClassifierCV', 'Accuracy': 0.29512951295129514, 'Balanced Accuracy': 0.29424850431052363, 'ROC AUC': None, 'F1 Score': 0.2781156294915341, 'Time taken': 11.704726934432983}\n"
     ]
    },
    {
     "name": "stderr",
     "output_type": "stream",
     "text": [
      " 21%|██        | 6/29 [00:29<01:31,  3.96s/it]"
     ]
    },
    {
     "name": "stdout",
     "output_type": "stream",
     "text": [
      "{'Model': 'DecisionTreeClassifier', 'Accuracy': 0.24252425242524253, 'Balanced Accuracy': 0.2421165417251629, 'ROC AUC': None, 'F1 Score': 0.24321133416734572, 'Time taken': 1.4706659317016602}\n",
      "{'Model': 'DummyClassifier', 'Accuracy': 0.09360936093609361, 'Balanced Accuracy': 0.1, 'ROC AUC': None, 'F1 Score': 0.016025306234327134, 'Time taken': 0.06197190284729004}\n"
     ]
    },
    {
     "name": "stderr",
     "output_type": "stream",
     "text": [
      " 28%|██▊       | 8/29 [00:29<00:50,  2.41s/it]"
     ]
    },
    {
     "name": "stdout",
     "output_type": "stream",
     "text": [
      "{'Model': 'ExtraTreeClassifier', 'Accuracy': 0.22682268226822683, 'Balanced Accuracy': 0.22635488632183023, 'ROC AUC': None, 'F1 Score': 0.22817020182448297, 'Time taken': 0.15058112144470215}\n"
     ]
    },
    {
     "name": "stderr",
     "output_type": "stream",
     "text": [
      " 31%|███       | 9/29 [00:38<01:16,  3.82s/it]"
     ]
    },
    {
     "name": "stdout",
     "output_type": "stream",
     "text": [
      "{'Model': 'ExtraTreesClassifier', 'Accuracy': 0.32123212321232125, 'Balanced Accuracy': 0.32085901002663925, 'ROC AUC': None, 'F1 Score': 0.3187418377867891, 'Time taken': 8.72235107421875}\n",
      "{'Model': 'GaussianNB', 'Accuracy': 0.22762276227622763, 'Balanced Accuracy': 0.22589585087863878, 'ROC AUC': None, 'F1 Score': 0.2225622638993474, 'Time taken': 0.09539079666137695}\n"
     ]
    },
    {
     "name": "stderr",
     "output_type": "stream",
     "text": [
      " 38%|███▊      | 11/29 [00:40<00:49,  2.77s/it]"
     ]
    },
    {
     "name": "stdout",
     "output_type": "stream",
     "text": [
      "{'Model': 'KNeighborsClassifier', 'Accuracy': 0.2779277927792779, 'Balanced Accuracy': 0.2771817821540901, 'ROC AUC': None, 'F1 Score': 0.2811750844513134, 'Time taken': 2.1522860527038574}\n"
     ]
    },
    {
     "name": "stderr",
     "output_type": "stream",
     "text": [
      " 41%|████▏     | 12/29 [26:36<1:36:37, 341.02s/it]"
     ]
    },
    {
     "name": "stdout",
     "output_type": "stream",
     "text": [
      "{'Model': 'LabelPropagation', 'Accuracy': 0.26242624262426245, 'Balanced Accuracy': 0.26214167734561655, 'ROC AUC': None, 'F1 Score': 0.2645632865023848, 'Time taken': 1556.0915472507477}\n"
     ]
    },
    {
     "name": "stderr",
     "output_type": "stream",
     "text": [
      " 45%|████▍     | 13/29 [1:18:36<4:26:46, 1000.38s/it]"
     ]
    },
    {
     "name": "stdout",
     "output_type": "stream",
     "text": [
      "{'Model': 'LabelSpreading', 'Accuracy': 0.26472647264726473, 'Balanced Accuracy': 0.2645031191089845, 'ROC AUC': None, 'F1 Score': 0.26664564624810594, 'Time taken': 3119.83949303627}\n"
     ]
    },
    {
     "name": "stderr",
     "output_type": "stream",
     "text": [
      " 48%|████▊     | 14/29 [1:18:37<3:06:48, 747.27s/it] "
     ]
    },
    {
     "name": "stdout",
     "output_type": "stream",
     "text": [
      "{'Model': 'LinearDiscriminantAnalysis', 'Accuracy': 0.30073007300730076, 'Balanced Accuracy': 0.30122109908647676, 'ROC AUC': None, 'F1 Score': 0.2887816502728613, 'Time taken': 0.49327611923217773}\n"
     ]
    },
    {
     "name": "stderr",
     "output_type": "stream",
     "text": [
      " 52%|█████▏    | 15/29 [1:19:57<2:13:02, 570.18s/it]"
     ]
    },
    {
     "name": "stdout",
     "output_type": "stream",
     "text": [
      "{'Model': 'LinearSVC', 'Accuracy': 0.2905290529052905, 'Balanced Accuracy': 0.28976334823063554, 'ROC AUC': None, 'F1 Score': 0.2551650069020723, 'Time taken': 80.48699903488159}\n"
     ]
    },
    {
     "name": "stderr",
     "output_type": "stream",
     "text": [
      " 55%|█████▌    | 16/29 [1:19:59<1:29:39, 413.82s/it]"
     ]
    },
    {
     "name": "stdout",
     "output_type": "stream",
     "text": [
      "{'Model': 'LogisticRegression', 'Accuracy': 0.30323032303230324, 'Balanced Accuracy': 0.30286087693353714, 'ROC AUC': None, 'F1 Score': 0.294859580086676, 'Time taken': 1.7388980388641357}\n"
     ]
    },
    {
     "name": "stderr",
     "output_type": "stream",
     "text": [
      " 59%|█████▊    | 17/29 [1:20:00<59:26, 297.21s/it]  "
     ]
    },
    {
     "name": "stdout",
     "output_type": "stream",
     "text": [
      "{'Model': 'NearestCentroid', 'Accuracy': 0.23642364236423644, 'Balanced Accuracy': 0.23739273967414415, 'ROC AUC': None, 'F1 Score': 0.21806137893110492, 'Time taken': 0.44196391105651855}\n"
     ]
    },
    {
     "name": "stderr",
     "output_type": "stream",
     "text": [
      " 62%|██████▏   | 18/29 [1:29:58<1:10:20, 383.64s/it]"
     ]
    },
    {
     "name": "stdout",
     "output_type": "stream",
     "text": [
      "{'Model': 'NuSVC', 'Accuracy': 0.34233423342334235, 'Balanced Accuracy': 0.3418667137713439, 'ROC AUC': None, 'F1 Score': 0.343322117152267, 'Time taken': 598.1057727336884}\n"
     ]
    },
    {
     "name": "stderr",
     "output_type": "stream",
     "text": [
      " 66%|██████▌   | 19/29 [1:29:58<45:21, 272.19s/it]  "
     ]
    },
    {
     "name": "stdout",
     "output_type": "stream",
     "text": [
      "{'Model': 'PassiveAggressiveClassifier', 'Accuracy': 0.16851685168516853, 'Balanced Accuracy': 0.16799865232891115, 'ROC AUC': None, 'F1 Score': 0.146304104544432, 'Time taken': 0.578021764755249}\n"
     ]
    },
    {
     "name": "stderr",
     "output_type": "stream",
     "text": [
      " 72%|███████▏  | 21/29 [1:29:59<18:04, 135.61s/it]"
     ]
    },
    {
     "name": "stdout",
     "output_type": "stream",
     "text": [
      "{'Model': 'Perceptron', 'Accuracy': 0.1928192819281928, 'Balanced Accuracy': 0.19064999788991302, 'ROC AUC': None, 'F1 Score': 0.17398374492675434, 'Time taken': 0.5937299728393555}\n",
      "{'Model': 'QuadraticDiscriminantAnalysis', 'Accuracy': 0.24052405240524052, 'Balanced Accuracy': 0.23871978596165394, 'ROC AUC': None, 'F1 Score': 0.2281217196010738, 'Time taken': 0.10502910614013672}\n"
     ]
    },
    {
     "name": "stderr",
     "output_type": "stream",
     "text": [
      " 79%|███████▉  | 23/29 [1:30:25<07:14, 72.40s/it] "
     ]
    },
    {
     "name": "stdout",
     "output_type": "stream",
     "text": [
      "{'Model': 'RandomForestClassifier', 'Accuracy': 0.33323332333233324, 'Balanced Accuracy': 0.3331616787408208, 'ROC AUC': None, 'F1 Score': 0.33089399041279455, 'Time taken': 25.892738819122314}\n",
      "{'Model': 'RidgeClassifier', 'Accuracy': 0.28372837283728375, 'Balanced Accuracy': 0.2839215077456808, 'ROC AUC': None, 'F1 Score': 0.2415259134807842, 'Time taken': 0.11684894561767578}\n"
     ]
    },
    {
     "name": "stderr",
     "output_type": "stream",
     "text": [
      " 83%|████████▎ | 24/29 [1:30:25<04:14, 50.84s/it]"
     ]
    },
    {
     "name": "stdout",
     "output_type": "stream",
     "text": [
      "{'Model': 'RidgeClassifierCV', 'Accuracy': 0.284028402840284, 'Balanced Accuracy': 0.2841323149239142, 'ROC AUC': None, 'F1 Score': 0.24231280325879442, 'Time taken': 0.16872382164001465}\n"
     ]
    },
    {
     "name": "stderr",
     "output_type": "stream",
     "text": [
      " 86%|████████▌ | 25/29 [1:30:27<02:25, 36.30s/it]"
     ]
    },
    {
     "name": "stdout",
     "output_type": "stream",
     "text": [
      "{'Model': 'SGDClassifier', 'Accuracy': 0.22122212221222123, 'Balanced Accuracy': 0.21857371251514873, 'ROC AUC': None, 'F1 Score': 0.19316995792707992, 'Time taken': 2.196868896484375}\n"
     ]
    },
    {
     "name": "stderr",
     "output_type": "stream",
     "text": [
      " 90%|████████▉ | 26/29 [1:36:08<06:22, 127.44s/it]"
     ]
    },
    {
     "name": "stdout",
     "output_type": "stream",
     "text": [
      "{'Model': 'SVC', 'Accuracy': 0.3505350535053505, 'Balanced Accuracy': 0.3510045199618558, 'ROC AUC': None, 'F1 Score': 0.34644121528583793, 'Time taken': 340.85267210006714}\n"
     ]
    },
    {
     "name": "stderr",
     "output_type": "stream",
     "text": [
      " 97%|█████████▋| 28/29 [1:36:14<01:10, 70.11s/it] "
     ]
    },
    {
     "name": "stdout",
     "output_type": "stream",
     "text": [
      "{'Model': 'XGBClassifier', 'Accuracy': 0.3473347334733473, 'Balanced Accuracy': 0.3469366295577082, 'ROC AUC': None, 'F1 Score': 0.3449713793435976, 'Time taken': 6.122636079788208}\n",
      "[LightGBM] [Info] Auto-choosing col-wise multi-threading, the overhead of testing was 0.006391 seconds.\n",
      "You can set `force_col_wise=true` to remove the overhead.\n",
      "[LightGBM] [Info] Total Bins 3060\n",
      "[LightGBM] [Info] Number of data points in the train set: 39995, number of used features: 12\n",
      "[LightGBM] [Info] Start training from score -2.309736\n",
      "[LightGBM] [Info] Start training from score -2.316305\n",
      "[LightGBM] [Info] Start training from score -2.297970\n",
      "[LightGBM] [Info] Start training from score -2.286587\n",
      "[LightGBM] [Info] Start training from score -2.289050\n",
      "[LightGBM] [Info] Start training from score -2.306217\n",
      "[LightGBM] [Info] Start training from score -2.296230\n",
      "[LightGBM] [Info] Start training from score -2.310996\n",
      "[LightGBM] [Info] Start training from score -2.303461\n",
      "[LightGBM] [Info] Start training from score -2.309736\n"
     ]
    },
    {
     "name": "stderr",
     "output_type": "stream",
     "text": [
      "100%|██████████| 29/29 [1:36:18<00:00, 199.26s/it]"
     ]
    },
    {
     "name": "stdout",
     "output_type": "stream",
     "text": [
      "{'Model': 'LGBMClassifier', 'Accuracy': 0.3566356635663566, 'Balanced Accuracy': 0.3562696452867578, 'ROC AUC': None, 'F1 Score': 0.3529274269975781, 'Time taken': 3.685943126678467}\n"
     ]
    },
    {
     "name": "stderr",
     "output_type": "stream",
     "text": [
      "\n"
     ]
    }
   ],
   "source": [
    "clf = LazyClassifier(verbose=1,ignore_warnings=True, custom_metric=None)\n",
    "models,predictions = clf.fit(X_train, X_test, y_train, y_test)"
   ]
  },
  {
   "cell_type": "code",
   "execution_count": 7,
   "id": "d8c3152b-8dcd-4c96-a622-9bfa0e7a6526",
   "metadata": {},
   "outputs": [
    {
     "name": "stdout",
     "output_type": "stream",
     "text": [
      "                               Accuracy  Balanced Accuracy ROC AUC  F1 Score  \\\n",
      "Model                                                                          \n",
      "LGBMClassifier                     0.36               0.36    None      0.35   \n",
      "SVC                                0.35               0.35    None      0.35   \n",
      "XGBClassifier                      0.35               0.35    None      0.34   \n",
      "NuSVC                              0.34               0.34    None      0.34   \n",
      "RandomForestClassifier             0.33               0.33    None      0.33   \n",
      "ExtraTreesClassifier               0.32               0.32    None      0.32   \n",
      "AdaBoostClassifier                 0.31               0.31    None      0.31   \n",
      "LogisticRegression                 0.30               0.30    None      0.29   \n",
      "LinearDiscriminantAnalysis         0.30               0.30    None      0.29   \n",
      "CalibratedClassifierCV             0.30               0.29    None      0.28   \n",
      "BaggingClassifier                  0.29               0.29    None      0.30   \n",
      "LinearSVC                          0.29               0.29    None      0.26   \n",
      "RidgeClassifierCV                  0.28               0.28    None      0.24   \n",
      "RidgeClassifier                    0.28               0.28    None      0.24   \n",
      "KNeighborsClassifier               0.28               0.28    None      0.28   \n",
      "LabelSpreading                     0.26               0.26    None      0.27   \n",
      "LabelPropagation                   0.26               0.26    None      0.26   \n",
      "DecisionTreeClassifier             0.24               0.24    None      0.24   \n",
      "QuadraticDiscriminantAnalysis      0.24               0.24    None      0.23   \n",
      "NearestCentroid                    0.24               0.24    None      0.22   \n",
      "BernoulliNB                        0.23               0.23    None      0.20   \n",
      "ExtraTreeClassifier                0.23               0.23    None      0.23   \n",
      "GaussianNB                         0.23               0.23    None      0.22   \n",
      "SGDClassifier                      0.22               0.22    None      0.19   \n",
      "Perceptron                         0.19               0.19    None      0.17   \n",
      "PassiveAggressiveClassifier        0.17               0.17    None      0.15   \n",
      "DummyClassifier                    0.09               0.10    None      0.02   \n",
      "\n",
      "                               Time Taken  \n",
      "Model                                      \n",
      "LGBMClassifier                       3.69  \n",
      "SVC                                340.85  \n",
      "XGBClassifier                        6.12  \n",
      "NuSVC                              598.11  \n",
      "RandomForestClassifier              25.89  \n",
      "ExtraTreesClassifier                 8.72  \n",
      "AdaBoostClassifier                   6.86  \n",
      "LogisticRegression                   1.74  \n",
      "LinearDiscriminantAnalysis           0.49  \n",
      "CalibratedClassifierCV              11.70  \n",
      "BaggingClassifier                    9.46  \n",
      "LinearSVC                           80.49  \n",
      "RidgeClassifierCV                    0.17  \n",
      "RidgeClassifier                      0.12  \n",
      "KNeighborsClassifier                 2.15  \n",
      "LabelSpreading                    3119.84  \n",
      "LabelPropagation                  1556.09  \n",
      "DecisionTreeClassifier               1.47  \n",
      "QuadraticDiscriminantAnalysis        0.11  \n",
      "NearestCentroid                      0.44  \n",
      "BernoulliNB                          0.09  \n",
      "ExtraTreeClassifier                  0.15  \n",
      "GaussianNB                           0.10  \n",
      "SGDClassifier                        2.20  \n",
      "Perceptron                           0.59  \n",
      "PassiveAggressiveClassifier          0.58  \n",
      "DummyClassifier                      0.06  \n"
     ]
    }
   ],
   "source": [
    "print(models)"
   ]
  },
  {
   "cell_type": "markdown",
   "id": "4cb2d3c8-9de6-4afc-8083-fd00c0effb49",
   "metadata": {},
   "source": [
    "# DWT Vector de coeficientes "
   ]
  },
  {
   "cell_type": "markdown",
   "id": "06d67782-167d-462e-b191-cfa5c2ab63ce",
   "metadata": {},
   "source": [
    "## DWT det level 5 "
   ]
  },
  {
   "cell_type": "code",
   "execution_count": 2,
   "id": "e37be68f-7102-4b43-b44d-fa1d9348da79",
   "metadata": {},
   "outputs": [
    {
     "data": {
      "text/plain": [
       "insect\n",
       "Ae. aegypti.f     5000\n",
       "Ae. aegypti.m     5000\n",
       "Cx. quinq.f       5000\n",
       "Cx. quinq.m       5000\n",
       "Cx. stigma.f      5000\n",
       "Cx. stigma.m      5000\n",
       "Cx. tarsalis.f    5000\n",
       "Cx. tarsalis.m    5000\n",
       "D. simulans       5000\n",
       "M. domestica      5000\n",
       "dtype: int64"
      ]
     },
     "execution_count": 2,
     "metadata": {},
     "output_type": "execute_result"
    }
   ],
   "source": [
    "df = pd.read_csv(\"../Features/Resultados/clean_dwt_det_db5_5_insect.csv\")\n",
    "# Distribución de las clases\n",
    "df.groupby('insect').size()"
   ]
  },
  {
   "cell_type": "code",
   "execution_count": 3,
   "id": "1d07e657-1fce-44f9-b8d3-d6aca70bcf9c",
   "metadata": {},
   "outputs": [],
   "source": [
    "encoder = LabelEncoder()\n",
    "df.insect = encoder.fit_transform(df.insect)\n",
    "\n",
    "features = df.columns.tolist()\n",
    "features.remove('insect')\n",
    "features.remove('Path_name')\n",
    "\n",
    "X_train, X_test, y_train, y_test = train_test_split(df[features].values,\\\n",
    "                                                    df['insect'].values,\\\n",
    "                                                    test_size=0.2,\\\n",
    "                                                    random_state=7)"
   ]
  },
  {
   "cell_type": "code",
   "execution_count": 4,
   "id": "183a8716-ac80-4076-9b51-4e6edb123ba7",
   "metadata": {
    "collapsed": true,
    "jupyter": {
     "outputs_hidden": true
    }
   },
   "outputs": [
    {
     "name": "stderr",
     "output_type": "stream",
     "text": [
      " 96%|█████████▋| 26/27 [46:31<02:22, 142.90s/it] "
     ]
    },
    {
     "name": "stdout",
     "output_type": "stream",
     "text": [
      "[LightGBM] [Info] Auto-choosing col-wise multi-threading, the overhead of testing was 0.071436 seconds.\n",
      "You can set `force_col_wise=true` to remove the overhead.\n",
      "[LightGBM] [Info] Total Bins 53040\n",
      "[LightGBM] [Info] Number of data points in the train set: 40000, number of used features: 208\n",
      "[LightGBM] [Info] Start training from score -2.294121\n",
      "[LightGBM] [Info] Start training from score -2.299091\n",
      "[LightGBM] [Info] Start training from score -2.300338\n",
      "[LightGBM] [Info] Start training from score -2.290410\n",
      "[LightGBM] [Info] Start training from score -2.321258\n",
      "[LightGBM] [Info] Start training from score -2.296106\n",
      "[LightGBM] [Info] Start training from score -2.304337\n",
      "[LightGBM] [Info] Start training from score -2.309610\n",
      "[LightGBM] [Info] Start training from score -2.300837\n",
      "[LightGBM] [Info] Start training from score -2.310113\n"
     ]
    },
    {
     "name": "stderr",
     "output_type": "stream",
     "text": [
      "100%|██████████| 27/27 [47:14<00:00, 104.99s/it]\n"
     ]
    }
   ],
   "source": [
    "clf = LazyClassifier(verbose=0,ignore_warnings=True, custom_metric=None)\n",
    "models,predictions = clf.fit(X_train, X_test, y_train, y_test)"
   ]
  },
  {
   "cell_type": "code",
   "execution_count": 5,
   "id": "74991a07-500b-434f-8892-40a79c77f370",
   "metadata": {},
   "outputs": [
    {
     "name": "stdout",
     "output_type": "stream",
     "text": [
      "                               Accuracy  Balanced Accuracy ROC AUC  F1 Score  \\\n",
      "Model                                                                          \n",
      "XGBClassifier                      0.60               0.61    None      0.60   \n",
      "LGBMClassifier                     0.59               0.60    None      0.59   \n",
      "QuadraticDiscriminantAnalysis      0.56               0.56    None      0.54   \n",
      "ExtraTreesClassifier               0.54               0.54    None      0.53   \n",
      "RandomForestClassifier             0.53               0.53    None      0.52   \n",
      "NuSVC                              0.49               0.49    None      0.50   \n",
      "SVC                                0.48               0.48    None      0.48   \n",
      "KNeighborsClassifier               0.47               0.47    None      0.46   \n",
      "BaggingClassifier                  0.44               0.44    None      0.43   \n",
      "DecisionTreeClassifier             0.34               0.34    None      0.34   \n",
      "ExtraTreeClassifier                0.25               0.26    None      0.26   \n",
      "GaussianNB                         0.23               0.23    None      0.18   \n",
      "AdaBoostClassifier                 0.22               0.22    None      0.21   \n",
      "LinearDiscriminantAnalysis         0.22               0.22    None      0.21   \n",
      "RidgeClassifier                    0.21               0.21    None      0.21   \n",
      "RidgeClassifierCV                  0.21               0.21    None      0.21   \n",
      "LogisticRegression                 0.21               0.21    None      0.21   \n",
      "NearestCentroid                    0.21               0.21    None      0.21   \n",
      "LinearSVC                          0.18               0.18    None      0.18   \n",
      "CalibratedClassifierCV             0.18               0.18    None      0.15   \n",
      "SGDClassifier                      0.16               0.16    None      0.16   \n",
      "BernoulliNB                        0.16               0.16    None      0.13   \n",
      "Perceptron                         0.14               0.14    None      0.14   \n",
      "PassiveAggressiveClassifier        0.14               0.14    None      0.14   \n",
      "DummyClassifier                    0.10               0.10    None      0.02   \n",
      "\n",
      "                               Time Taken  \n",
      "Model                                      \n",
      "XGBClassifier                       87.24  \n",
      "LGBMClassifier                      42.84  \n",
      "QuadraticDiscriminantAnalysis        1.96  \n",
      "ExtraTreesClassifier                34.84  \n",
      "RandomForestClassifier             115.19  \n",
      "NuSVC                              833.19  \n",
      "SVC                                653.51  \n",
      "KNeighborsClassifier                 6.22  \n",
      "BaggingClassifier                  162.79  \n",
      "DecisionTreeClassifier              26.80  \n",
      "ExtraTreeClassifier                  0.87  \n",
      "GaussianNB                           0.77  \n",
      "AdaBoostClassifier                  82.07  \n",
      "LinearDiscriminantAnalysis           2.31  \n",
      "RidgeClassifier                      0.66  \n",
      "RidgeClassifierCV                    2.28  \n",
      "LogisticRegression                   4.90  \n",
      "NearestCentroid                      0.50  \n",
      "LinearSVC                          451.84  \n",
      "CalibratedClassifierCV             289.80  \n",
      "SGDClassifier                       26.84  \n",
      "BernoulliNB                          0.89  \n",
      "Perceptron                           2.07  \n",
      "PassiveAggressiveClassifier          3.36  \n",
      "DummyClassifier                      0.43  \n"
     ]
    }
   ],
   "source": [
    "print(models)"
   ]
  },
  {
   "cell_type": "markdown",
   "id": "2d9cdc3c-d6db-4306-a8cf-3005c374c904",
   "metadata": {},
   "source": [
    "## DWT det level 6"
   ]
  },
  {
   "cell_type": "code",
   "execution_count": 2,
   "id": "47dbd131-134f-424a-acad-7d3f27f43c1a",
   "metadata": {},
   "outputs": [
    {
     "data": {
      "text/plain": [
       "insect\n",
       "Ae. aegypti.f     5000\n",
       "Ae. aegypti.m     5000\n",
       "Cx. quinq.f       5000\n",
       "Cx. quinq.m       5000\n",
       "Cx. stigma.f      5000\n",
       "Cx. stigma.m      5000\n",
       "Cx. tarsalis.f    5000\n",
       "Cx. tarsalis.m    5000\n",
       "D. simulans       5000\n",
       "M. domestica      5000\n",
       "dtype: int64"
      ]
     },
     "execution_count": 2,
     "metadata": {},
     "output_type": "execute_result"
    }
   ],
   "source": [
    "df = pd.read_csv(\"../Features/Resultados/clean_dwt_det_db5_6_insect.csv\")\n",
    "# Distribución de las clases\n",
    "df.groupby('insect').size()"
   ]
  },
  {
   "cell_type": "code",
   "execution_count": 3,
   "id": "8421b0ec-e073-404c-9ea6-3e770f0d1c86",
   "metadata": {},
   "outputs": [],
   "source": [
    "encoder = LabelEncoder()\n",
    "df.insect = encoder.fit_transform(df.insect)\n",
    "\n",
    "features = df.columns.tolist()\n",
    "features.remove('insect')\n",
    "features.remove('Path_name')\n",
    "\n",
    "X_train, X_test, y_train, y_test = train_test_split(df[features].values,\\\n",
    "                                                    df['insect'].values,\\\n",
    "                                                    test_size=0.2,\\\n",
    "                                                    random_state=7)"
   ]
  },
  {
   "cell_type": "code",
   "execution_count": 4,
   "id": "a5d84896-3af2-45ea-b04e-bf5db4e70c40",
   "metadata": {
    "collapsed": true,
    "jupyter": {
     "outputs_hidden": true
    }
   },
   "outputs": [
    {
     "name": "stderr",
     "output_type": "stream",
     "text": [
      " 96%|█████████▋| 26/27 [32:23<01:39, 99.36s/it] "
     ]
    },
    {
     "name": "stdout",
     "output_type": "stream",
     "text": [
      "[LightGBM] [Info] Auto-choosing col-wise multi-threading, the overhead of testing was 0.037987 seconds.\n",
      "You can set `force_col_wise=true` to remove the overhead.\n",
      "[LightGBM] [Info] Total Bins 28560\n",
      "[LightGBM] [Info] Number of data points in the train set: 40000, number of used features: 112\n",
      "[LightGBM] [Info] Start training from score -2.294121\n",
      "[LightGBM] [Info] Start training from score -2.299091\n",
      "[LightGBM] [Info] Start training from score -2.300338\n",
      "[LightGBM] [Info] Start training from score -2.290410\n",
      "[LightGBM] [Info] Start training from score -2.321258\n",
      "[LightGBM] [Info] Start training from score -2.296106\n",
      "[LightGBM] [Info] Start training from score -2.304337\n",
      "[LightGBM] [Info] Start training from score -2.309610\n",
      "[LightGBM] [Info] Start training from score -2.300837\n",
      "[LightGBM] [Info] Start training from score -2.310113\n"
     ]
    },
    {
     "name": "stderr",
     "output_type": "stream",
     "text": [
      "100%|██████████| 27/27 [32:46<00:00, 72.82s/it]\n"
     ]
    }
   ],
   "source": [
    "clf = LazyClassifier(verbose=0,ignore_warnings=True, custom_metric=None)\n",
    "models,predictions = clf.fit(X_train, X_test, y_train, y_test)"
   ]
  },
  {
   "cell_type": "code",
   "execution_count": 5,
   "id": "0394c309-59ed-4347-8c76-f79663f2c1d9",
   "metadata": {},
   "outputs": [
    {
     "name": "stdout",
     "output_type": "stream",
     "text": [
      "                               Accuracy  Balanced Accuracy ROC AUC  F1 Score  \\\n",
      "Model                                                                          \n",
      "XGBClassifier                      0.58               0.58    None      0.58   \n",
      "LGBMClassifier                     0.58               0.58    None      0.58   \n",
      "ExtraTreesClassifier               0.54               0.54    None      0.53   \n",
      "RandomForestClassifier             0.53               0.53    None      0.52   \n",
      "QuadraticDiscriminantAnalysis      0.47               0.47    None      0.45   \n",
      "NuSVC                              0.45               0.45    None      0.45   \n",
      "BaggingClassifier                  0.44               0.44    None      0.44   \n",
      "SVC                                0.43               0.43    None      0.43   \n",
      "KNeighborsClassifier               0.43               0.43    None      0.42   \n",
      "DecisionTreeClassifier             0.33               0.33    None      0.33   \n",
      "AdaBoostClassifier                 0.30               0.30    None      0.28   \n",
      "ExtraTreeClassifier                0.28               0.28    None      0.28   \n",
      "GaussianNB                         0.28               0.28    None      0.27   \n",
      "LinearDiscriminantAnalysis         0.20               0.20    None      0.20   \n",
      "NearestCentroid                    0.20               0.20    None      0.20   \n",
      "LogisticRegression                 0.20               0.20    None      0.19   \n",
      "RidgeClassifierCV                  0.19               0.19    None      0.19   \n",
      "RidgeClassifier                    0.19               0.19    None      0.19   \n",
      "LinearSVC                          0.18               0.18    None      0.18   \n",
      "BernoulliNB                        0.17               0.17    None      0.14   \n",
      "SGDClassifier                      0.17               0.17    None      0.16   \n",
      "CalibratedClassifierCV             0.15               0.15    None      0.13   \n",
      "PassiveAggressiveClassifier        0.14               0.14    None      0.11   \n",
      "Perceptron                         0.13               0.13    None      0.12   \n",
      "DummyClassifier                    0.10               0.10    None      0.02   \n",
      "\n",
      "                               Time Taken  \n",
      "Model                                      \n",
      "XGBClassifier                       39.29  \n",
      "LGBMClassifier                      22.50  \n",
      "ExtraTreesClassifier                29.11  \n",
      "RandomForestClassifier              95.05  \n",
      "QuadraticDiscriminantAnalysis        0.84  \n",
      "NuSVC                              632.99  \n",
      "BaggingClassifier                  100.54  \n",
      "SVC                                481.87  \n",
      "KNeighborsClassifier                 3.87  \n",
      "DecisionTreeClassifier              15.23  \n",
      "AdaBoostClassifier                  44.48  \n",
      "ExtraTreeClassifier                  0.57  \n",
      "GaussianNB                           0.44  \n",
      "LinearDiscriminantAnalysis           1.41  \n",
      "NearestCentroid                      0.29  \n",
      "LogisticRegression                   3.25  \n",
      "RidgeClassifierCV                    1.36  \n",
      "RidgeClassifier                      0.36  \n",
      "LinearSVC                          320.80  \n",
      "BernoulliNB                          0.39  \n",
      "SGDClassifier                       13.67  \n",
      "CalibratedClassifierCV             153.74  \n",
      "PassiveAggressiveClassifier          1.88  \n",
      "Perceptron                           1.72  \n",
      "DummyClassifier                      0.27  \n"
     ]
    }
   ],
   "source": [
    "print(models)"
   ]
  },
  {
   "cell_type": "markdown",
   "id": "01fa846d-3c30-4f86-8f36-f4af3cc75115",
   "metadata": {},
   "source": [
    "## DWT det level 7  "
   ]
  },
  {
   "cell_type": "code",
   "execution_count": 2,
   "id": "d317ef22-6423-44a0-b462-a96de5c840a3",
   "metadata": {},
   "outputs": [
    {
     "data": {
      "text/plain": [
       "insect\n",
       "Ae. aegypti.f     5000\n",
       "Ae. aegypti.m     5000\n",
       "Cx. quinq.f       5000\n",
       "Cx. quinq.m       5000\n",
       "Cx. stigma.f      5000\n",
       "Cx. stigma.m      5000\n",
       "Cx. tarsalis.f    5000\n",
       "Cx. tarsalis.m    5000\n",
       "D. simulans       5000\n",
       "M. domestica      5000\n",
       "dtype: int64"
      ]
     },
     "execution_count": 2,
     "metadata": {},
     "output_type": "execute_result"
    }
   ],
   "source": [
    "df = pd.read_csv(\"../Features/Resultados/clean_dwt_det_db5_7_insect.csv\")\n",
    "# Distribución de las clases\n",
    "df.groupby('insect').size()"
   ]
  },
  {
   "cell_type": "code",
   "execution_count": 3,
   "id": "450b8c52-5378-476c-84ae-255ea6688a3f",
   "metadata": {},
   "outputs": [],
   "source": [
    "encoder = LabelEncoder()\n",
    "df.insect = encoder.fit_transform(df.insect)\n",
    "\n",
    "features = df.columns.tolist()\n",
    "features.remove('insect')\n",
    "features.remove('Path_name')\n",
    "\n",
    "X_train, X_test, y_train, y_test = train_test_split(df[features].values,\\\n",
    "                                                    df['insect'].values,\\\n",
    "                                                    test_size=0.2,\\\n",
    "                                                    random_state=7)"
   ]
  },
  {
   "cell_type": "code",
   "execution_count": 4,
   "id": "351b583c-7911-4820-9cf5-780d9f836c45",
   "metadata": {
    "collapsed": true,
    "jupyter": {
     "outputs_hidden": true
    }
   },
   "outputs": [
    {
     "name": "stderr",
     "output_type": "stream",
     "text": [
      " 96%|█████████▋| 26/27 [29:08<01:34, 94.06s/it] "
     ]
    },
    {
     "name": "stdout",
     "output_type": "stream",
     "text": [
      "[LightGBM] [Info] Auto-choosing col-wise multi-threading, the overhead of testing was 0.019381 seconds.\n",
      "You can set `force_col_wise=true` to remove the overhead.\n",
      "[LightGBM] [Info] Total Bins 16320\n",
      "[LightGBM] [Info] Number of data points in the train set: 40000, number of used features: 64\n",
      "[LightGBM] [Info] Start training from score -2.294121\n",
      "[LightGBM] [Info] Start training from score -2.299091\n",
      "[LightGBM] [Info] Start training from score -2.300338\n",
      "[LightGBM] [Info] Start training from score -2.290410\n",
      "[LightGBM] [Info] Start training from score -2.321258\n",
      "[LightGBM] [Info] Start training from score -2.296106\n",
      "[LightGBM] [Info] Start training from score -2.304337\n",
      "[LightGBM] [Info] Start training from score -2.309610\n",
      "[LightGBM] [Info] Start training from score -2.300837\n",
      "[LightGBM] [Info] Start training from score -2.310113\n"
     ]
    },
    {
     "name": "stderr",
     "output_type": "stream",
     "text": [
      "100%|██████████| 27/27 [29:21<00:00, 65.26s/it]\n"
     ]
    }
   ],
   "source": [
    "clf = LazyClassifier(verbose=0,ignore_warnings=True, custom_metric=None)\n",
    "models,predictions = clf.fit(X_train, X_test, y_train, y_test)"
   ]
  },
  {
   "cell_type": "code",
   "execution_count": 5,
   "id": "da4abe49-9dcc-418e-a62f-497b536f3c11",
   "metadata": {},
   "outputs": [
    {
     "name": "stdout",
     "output_type": "stream",
     "text": [
      "                               Accuracy  Balanced Accuracy ROC AUC  F1 Score  \\\n",
      "Model                                                                          \n",
      "LGBMClassifier                     0.47               0.47    None      0.46   \n",
      "XGBClassifier                      0.46               0.46    None      0.46   \n",
      "RandomForestClassifier             0.42               0.42    None      0.42   \n",
      "ExtraTreesClassifier               0.42               0.42    None      0.41   \n",
      "BaggingClassifier                  0.34               0.34    None      0.34   \n",
      "NuSVC                              0.33               0.33    None      0.32   \n",
      "QuadraticDiscriminantAnalysis      0.31               0.31    None      0.29   \n",
      "KNeighborsClassifier               0.30               0.30    None      0.30   \n",
      "SVC                                0.30               0.30    None      0.28   \n",
      "AdaBoostClassifier                 0.29               0.29    None      0.27   \n",
      "DecisionTreeClassifier             0.26               0.26    None      0.26   \n",
      "GaussianNB                         0.25               0.25    None      0.22   \n",
      "ExtraTreeClassifier                0.23               0.23    None      0.23   \n",
      "LinearDiscriminantAnalysis         0.18               0.19    None      0.17   \n",
      "LinearSVC                          0.18               0.19    None      0.17   \n",
      "RidgeClassifier                    0.18               0.18    None      0.16   \n",
      "BernoulliNB                        0.18               0.18    None      0.15   \n",
      "LogisticRegression                 0.17               0.17    None      0.16   \n",
      "CalibratedClassifierCV             0.17               0.17    None      0.14   \n",
      "RidgeClassifierCV                  0.17               0.17    None      0.14   \n",
      "SGDClassifier                      0.15               0.15    None      0.12   \n",
      "NearestCentroid                    0.14               0.14    None      0.14   \n",
      "PassiveAggressiveClassifier        0.12               0.12    None      0.08   \n",
      "Perceptron                         0.10               0.10    None      0.10   \n",
      "DummyClassifier                    0.10               0.10    None      0.02   \n",
      "\n",
      "                               Time Taken  \n",
      "Model                                      \n",
      "LGBMClassifier                      13.67  \n",
      "XGBClassifier                       24.09  \n",
      "RandomForestClassifier              73.56  \n",
      "ExtraTreesClassifier                25.92  \n",
      "BaggingClassifier                   55.39  \n",
      "NuSVC                              609.67  \n",
      "QuadraticDiscriminantAnalysis        0.39  \n",
      "KNeighborsClassifier                 2.81  \n",
      "SVC                                483.07  \n",
      "AdaBoostClassifier                  27.28  \n",
      "DecisionTreeClassifier               8.20  \n",
      "GaussianNB                           0.25  \n",
      "ExtraTreeClassifier                  0.44  \n",
      "LinearDiscriminantAnalysis           0.63  \n",
      "LinearSVC                          241.08  \n",
      "RidgeClassifier                      0.23  \n",
      "BernoulliNB                          0.25  \n",
      "LogisticRegression                   2.49  \n",
      "CalibratedClassifierCV             180.06  \n",
      "RidgeClassifierCV                    0.64  \n",
      "SGDClassifier                        8.60  \n",
      "NearestCentroid                      0.17  \n",
      "PassiveAggressiveClassifier          1.51  \n",
      "Perceptron                           1.24  \n",
      "DummyClassifier                      0.17  \n"
     ]
    }
   ],
   "source": [
    "print(models)"
   ]
  },
  {
   "cell_type": "markdown",
   "id": "07ab939e-a48e-4e7e-9ca3-1f25daf82147",
   "metadata": {},
   "source": [
    "## DWT det level 8  "
   ]
  },
  {
   "cell_type": "code",
   "execution_count": 3,
   "id": "a6a4edac-8a83-47fb-a6a8-0bebc14fb841",
   "metadata": {
    "collapsed": true,
    "jupyter": {
     "outputs_hidden": true
    }
   },
   "outputs": [
    {
     "data": {
      "text/plain": [
       "insect\n",
       "Ae. aegypti.f     5000\n",
       "Ae. aegypti.m     5000\n",
       "Cx. quinq.f       5000\n",
       "Cx. quinq.m       5000\n",
       "Cx. stigma.f      5000\n",
       "Cx. stigma.m      5000\n",
       "Cx. tarsalis.f    5000\n",
       "Cx. tarsalis.m    5000\n",
       "D. simulans       5000\n",
       "M. domestica      5000\n",
       "dtype: int64"
      ]
     },
     "execution_count": 3,
     "metadata": {},
     "output_type": "execute_result"
    }
   ],
   "source": [
    "df = pd.read_csv(\"../Features/Resultados/clean_dwt_det_db5_8_insect.csv\")\n",
    "# Distribución de las clases\n",
    "df.groupby('insect').size()"
   ]
  },
  {
   "cell_type": "code",
   "execution_count": 4,
   "id": "08b566c3-b96f-4f67-8a6a-91e748a0a13f",
   "metadata": {},
   "outputs": [],
   "source": [
    "encoder = LabelEncoder()\n",
    "df.insect = encoder.fit_transform(df.insect)\n",
    "\n",
    "features = df.columns.tolist()\n",
    "features.remove('insect')\n",
    "features.remove('Path_name')\n",
    "\n",
    "X_train, X_test, y_train, y_test = train_test_split(df[features].values,\\\n",
    "                                                    df['insect'].values,\\\n",
    "                                                    test_size=0.2,\\\n",
    "                                                    random_state=7)"
   ]
  },
  {
   "cell_type": "code",
   "execution_count": 5,
   "id": "1711957e-5647-4614-9bdf-6f3deecfb61a",
   "metadata": {
    "collapsed": true,
    "jupyter": {
     "outputs_hidden": true
    }
   },
   "outputs": [
    {
     "name": "stderr",
     "output_type": "stream",
     "text": [
      " 96%|█████████▋| 26/27 [28:02<01:45, 105.58s/it]"
     ]
    },
    {
     "name": "stdout",
     "output_type": "stream",
     "text": [
      "[LightGBM] [Info] Auto-choosing col-wise multi-threading, the overhead of testing was 0.017729 seconds.\n",
      "You can set `force_col_wise=true` to remove the overhead.\n",
      "[LightGBM] [Info] Total Bins 10200\n",
      "[LightGBM] [Info] Number of data points in the train set: 40000, number of used features: 40\n",
      "[LightGBM] [Info] Start training from score -2.294121\n",
      "[LightGBM] [Info] Start training from score -2.299091\n",
      "[LightGBM] [Info] Start training from score -2.300338\n",
      "[LightGBM] [Info] Start training from score -2.290410\n",
      "[LightGBM] [Info] Start training from score -2.321258\n",
      "[LightGBM] [Info] Start training from score -2.296106\n",
      "[LightGBM] [Info] Start training from score -2.304337\n",
      "[LightGBM] [Info] Start training from score -2.309610\n",
      "[LightGBM] [Info] Start training from score -2.300837\n",
      "[LightGBM] [Info] Start training from score -2.310113\n"
     ]
    },
    {
     "name": "stderr",
     "output_type": "stream",
     "text": [
      "100%|██████████| 27/27 [28:15<00:00, 62.78s/it] \n"
     ]
    }
   ],
   "source": [
    "clf = LazyClassifier(verbose=0,ignore_warnings=True, custom_metric=None)\n",
    "models,predictions = clf.fit(X_train, X_test, y_train, y_test)"
   ]
  },
  {
   "cell_type": "code",
   "execution_count": 6,
   "id": "816e7d4e-ae08-405f-86e2-7051261f4b8f",
   "metadata": {},
   "outputs": [
    {
     "name": "stdout",
     "output_type": "stream",
     "text": [
      "                               Accuracy  Balanced Accuracy ROC AUC  F1 Score  \\\n",
      "Model                                                                          \n",
      "XGBClassifier                      0.36               0.36    None      0.35   \n",
      "LGBMClassifier                     0.35               0.35    None      0.35   \n",
      "RandomForestClassifier             0.32               0.32    None      0.32   \n",
      "ExtraTreesClassifier               0.32               0.32    None      0.31   \n",
      "NuSVC                              0.26               0.26    None      0.25   \n",
      "BaggingClassifier                  0.25               0.25    None      0.25   \n",
      "AdaBoostClassifier                 0.24               0.24    None      0.22   \n",
      "KNeighborsClassifier               0.23               0.23    None      0.23   \n",
      "SVC                                0.22               0.22    None      0.21   \n",
      "QuadraticDiscriminantAnalysis      0.21               0.21    None      0.18   \n",
      "DecisionTreeClassifier             0.20               0.20    None      0.20   \n",
      "LinearDiscriminantAnalysis         0.19               0.19    None      0.18   \n",
      "ExtraTreeClassifier                0.18               0.18    None      0.18   \n",
      "LinearSVC                          0.17               0.18    None      0.14   \n",
      "CalibratedClassifierCV             0.17               0.18    None      0.15   \n",
      "BernoulliNB                        0.17               0.18    None      0.15   \n",
      "LogisticRegression                 0.17               0.17    None      0.16   \n",
      "GaussianNB                         0.16               0.16    None      0.13   \n",
      "RidgeClassifierCV                  0.16               0.16    None      0.11   \n",
      "RidgeClassifier                    0.16               0.16    None      0.11   \n",
      "NearestCentroid                    0.16               0.16    None      0.14   \n",
      "SGDClassifier                      0.13               0.13    None      0.13   \n",
      "PassiveAggressiveClassifier        0.11               0.11    None      0.08   \n",
      "Perceptron                         0.11               0.10    None      0.09   \n",
      "DummyClassifier                    0.10               0.10    None      0.02   \n",
      "\n",
      "                               Time Taken  \n",
      "Model                                      \n",
      "XGBClassifier                       25.98  \n",
      "LGBMClassifier                      12.93  \n",
      "RandomForestClassifier              48.10  \n",
      "ExtraTreesClassifier                17.43  \n",
      "NuSVC                              666.73  \n",
      "BaggingClassifier                   28.89  \n",
      "AdaBoostClassifier                  17.93  \n",
      "KNeighborsClassifier                 2.30  \n",
      "SVC                                558.34  \n",
      "QuadraticDiscriminantAnalysis        0.24  \n",
      "DecisionTreeClassifier               4.59  \n",
      "LinearDiscriminantAnalysis           0.33  \n",
      "ExtraTreeClassifier                  0.31  \n",
      "LinearSVC                          193.38  \n",
      "CalibratedClassifierCV             106.45  \n",
      "BernoulliNB                          0.16  \n",
      "LogisticRegression                   2.58  \n",
      "GaussianNB                           0.18  \n",
      "RidgeClassifierCV                    0.37  \n",
      "RidgeClassifier                      0.15  \n",
      "NearestCentroid                      0.12  \n",
      "SGDClassifier                        5.64  \n",
      "PassiveAggressiveClassifier          0.98  \n",
      "Perceptron                           0.87  \n",
      "DummyClassifier                      0.10  \n"
     ]
    }
   ],
   "source": [
    "print(models)"
   ]
  },
  {
   "cell_type": "markdown",
   "id": "913aa131-ec7a-4c66-a77a-38dd03628a04",
   "metadata": {},
   "source": [
    "# DWT detalle + aproximación "
   ]
  },
  {
   "cell_type": "code",
   "execution_count": 2,
   "id": "397605fb-0618-4e2c-9047-81914e2916da",
   "metadata": {},
   "outputs": [
    {
     "data": {
      "text/plain": [
       "insect\n",
       "Ae. aegypti.f     5000\n",
       "Ae. aegypti.m     5000\n",
       "Cx. quinq.f       4999\n",
       "Cx. quinq.m       5000\n",
       "Cx. stigma.f      4999\n",
       "Cx. stigma.m      5000\n",
       "Cx. tarsalis.f    5000\n",
       "Cx. tarsalis.m    4998\n",
       "D. simulans       4999\n",
       "M. domestica      4999\n",
       "dtype: int64"
      ]
     },
     "execution_count": 2,
     "metadata": {},
     "output_type": "execute_result"
    }
   ],
   "source": [
    "df = pd.read_csv(\"../Features/Resultados/clean_dwt_det_aprox_db5_5_insect.csv\")\n",
    "# Distribución de las clases\n",
    "df.groupby('insect').size()"
   ]
  },
  {
   "cell_type": "code",
   "execution_count": 3,
   "id": "d8e70030-822b-4bae-945c-1b55d3b04270",
   "metadata": {},
   "outputs": [],
   "source": [
    "encoder = LabelEncoder()\n",
    "df.insect = encoder.fit_transform(df.insect)\n",
    "\n",
    "features = df.columns.tolist()\n",
    "features.remove('insect')\n",
    "features.remove('Path_name')\n",
    "\n",
    "X_train, X_test, y_train, y_test = train_test_split(df[features].values,\\\n",
    "                                                    df['insect'].values,\\\n",
    "                                                    test_size=0.2,\\\n",
    "                                                    random_state=7)"
   ]
  },
  {
   "cell_type": "code",
   "execution_count": 4,
   "id": "a13649b9-d8ba-4a1c-902c-7a4b1e0261e4",
   "metadata": {
    "collapsed": true,
    "jupyter": {
     "outputs_hidden": true
    }
   },
   "outputs": [
    {
     "name": "stderr",
     "output_type": "stream",
     "text": [
      " 96%|█████████▋| 26/27 [27:43<01:18, 78.41s/it] "
     ]
    },
    {
     "name": "stdout",
     "output_type": "stream",
     "text": [
      "[LightGBM] [Info] Auto-choosing col-wise multi-threading, the overhead of testing was 0.028966 seconds.\n",
      "You can set `force_col_wise=true` to remove the overhead.\n",
      "[LightGBM] [Info] Total Bins 21275\n",
      "[LightGBM] [Info] Number of data points in the train set: 39995, number of used features: 84\n",
      "[LightGBM] [Info] Start training from score -2.293996\n",
      "[LightGBM] [Info] Start training from score -2.298966\n",
      "[LightGBM] [Info] Start training from score -2.302960\n",
      "[LightGBM] [Info] Start training from score -2.293748\n",
      "[LightGBM] [Info] Start training from score -2.314027\n",
      "[LightGBM] [Info] Start training from score -2.295484\n",
      "[LightGBM] [Info] Start training from score -2.308478\n",
      "[LightGBM] [Info] Start training from score -2.309485\n",
      "[LightGBM] [Info] Start training from score -2.300712\n",
      "[LightGBM] [Info] Start training from score -2.308227\n"
     ]
    },
    {
     "name": "stderr",
     "output_type": "stream",
     "text": [
      "100%|██████████| 27/27 [28:01<00:00, 62.27s/it]\n"
     ]
    }
   ],
   "source": [
    "clf = LazyClassifier(verbose=0,ignore_warnings=True, custom_metric=None)\n",
    "models,predictions = clf.fit(X_train, X_test, y_train, y_test)"
   ]
  },
  {
   "cell_type": "code",
   "execution_count": 5,
   "id": "619daff8-87a7-4c03-8675-744f9bc18ff5",
   "metadata": {},
   "outputs": [
    {
     "name": "stdout",
     "output_type": "stream",
     "text": [
      "                               Accuracy  Balanced Accuracy ROC AUC  F1 Score  \\\n",
      "Model                                                                          \n",
      "XGBClassifier                      0.58               0.58    None      0.58   \n",
      "LGBMClassifier                     0.58               0.58    None      0.58   \n",
      "ExtraTreesClassifier               0.53               0.53    None      0.52   \n",
      "RandomForestClassifier             0.52               0.52    None      0.51   \n",
      "SVC                                0.51               0.51    None      0.50   \n",
      "NuSVC                              0.50               0.50    None      0.49   \n",
      "KNeighborsClassifier               0.45               0.45    None      0.44   \n",
      "QuadraticDiscriminantAnalysis      0.45               0.45    None      0.43   \n",
      "BaggingClassifier                  0.44               0.44    None      0.43   \n",
      "AdaBoostClassifier                 0.36               0.36    None      0.34   \n",
      "DecisionTreeClassifier             0.35               0.35    None      0.35   \n",
      "LogisticRegression                 0.34               0.34    None      0.33   \n",
      "CalibratedClassifierCV             0.33               0.33    None      0.31   \n",
      "LinearSVC                          0.32               0.32    None      0.29   \n",
      "LinearDiscriminantAnalysis         0.32               0.31    None      0.31   \n",
      "ExtraTreeClassifier                0.31               0.31    None      0.31   \n",
      "RidgeClassifierCV                  0.31               0.31    None      0.28   \n",
      "RidgeClassifier                    0.31               0.31    None      0.28   \n",
      "SGDClassifier                      0.29               0.29    None      0.27   \n",
      "NearestCentroid                    0.28               0.28    None      0.26   \n",
      "BernoulliNB                        0.26               0.26    None      0.23   \n",
      "Perceptron                         0.26               0.26    None      0.26   \n",
      "GaussianNB                         0.22               0.22    None      0.21   \n",
      "PassiveAggressiveClassifier        0.19               0.19    None      0.17   \n",
      "DummyClassifier                    0.10               0.10    None      0.02   \n",
      "\n",
      "                               Time Taken  \n",
      "Model                                      \n",
      "XGBClassifier                       31.50  \n",
      "LGBMClassifier                      18.08  \n",
      "ExtraTreesClassifier                19.25  \n",
      "RandomForestClassifier              72.18  \n",
      "SVC                                377.64  \n",
      "NuSVC                              564.82  \n",
      "KNeighborsClassifier                 3.39  \n",
      "QuadraticDiscriminantAnalysis        0.57  \n",
      "BaggingClassifier                   65.07  \n",
      "AdaBoostClassifier                  35.71  \n",
      "DecisionTreeClassifier              10.13  \n",
      "LogisticRegression                   2.85  \n",
      "CalibratedClassifierCV             211.91  \n",
      "LinearSVC                          251.30  \n",
      "LinearDiscriminantAnalysis           0.99  \n",
      "ExtraTreeClassifier                  0.41  \n",
      "RidgeClassifierCV                    0.92  \n",
      "RidgeClassifier                      0.28  \n",
      "SGDClassifier                        9.04  \n",
      "NearestCentroid                      0.22  \n",
      "BernoulliNB                          0.31  \n",
      "Perceptron                           1.76  \n",
      "GaussianNB                           0.32  \n",
      "PassiveAggressiveClassifier          2.33  \n",
      "DummyClassifier                      0.18  \n"
     ]
    }
   ],
   "source": [
    "print(models)"
   ]
  },
  {
   "cell_type": "markdown",
   "id": "734dc7dd-d20d-43b6-aeba-c1e06aff521d",
   "metadata": {},
   "source": [
    "# DWPD"
   ]
  },
  {
   "cell_type": "code",
   "execution_count": 2,
   "id": "c7ec7671-c18d-4362-99f0-8e3e0d05d8a1",
   "metadata": {
    "collapsed": true,
    "jupyter": {
     "outputs_hidden": true
    }
   },
   "outputs": [
    {
     "data": {
      "text/plain": [
       "insect\n",
       "Ae. aegypti.f     5000\n",
       "Ae. aegypti.m     5000\n",
       "Cx. quinq.f       4999\n",
       "Cx. quinq.m       5000\n",
       "Cx. stigma.f      4999\n",
       "Cx. stigma.m      5000\n",
       "Cx. tarsalis.f    5000\n",
       "Cx. tarsalis.m    4998\n",
       "D. simulans       4999\n",
       "M. domestica      4999\n",
       "dtype: int64"
      ]
     },
     "execution_count": 2,
     "metadata": {},
     "output_type": "execute_result"
    }
   ],
   "source": [
    "df = pd.read_csv(\"../Features/Resultados/clean_dwpd_db5_5_insect.csv\")\n",
    "# Distribución de las clases\n",
    "df.groupby('insect').size()"
   ]
  },
  {
   "cell_type": "code",
   "execution_count": 3,
   "id": "c8aa2be6-3fa4-4c1f-b917-4ec4c639d4b6",
   "metadata": {},
   "outputs": [],
   "source": [
    "# Codificación de la variable objetivo\n",
    "from sklearn.preprocessing import LabelEncoder\n",
    "\n",
    "encoder = LabelEncoder()\n",
    "df.insect = encoder.fit_transform(df.insect)\n",
    "\n",
    "features = df.columns.tolist()\n",
    "features.remove('insect')\n",
    "features.remove('Path_name')\n",
    "\n",
    "X_train, X_test, y_train, y_test = train_test_split(df[features].values,\\\n",
    "                                                    df['insect'].values,\\\n",
    "                                                    test_size=0.2,\\\n",
    "                                                    random_state=7)"
   ]
  },
  {
   "cell_type": "code",
   "execution_count": 4,
   "id": "80d83fb0-9802-4cc0-a3d6-8f753056ed9f",
   "metadata": {
    "collapsed": true,
    "jupyter": {
     "outputs_hidden": true
    }
   },
   "outputs": [
    {
     "name": "stderr",
     "output_type": "stream",
     "text": [
      " 96%|█████████▋| 26/27 [15:47<00:55, 55.63s/it] "
     ]
    },
    {
     "name": "stdout",
     "output_type": "stream",
     "text": [
      "[LightGBM] [Info] Auto-choosing col-wise multi-threading, the overhead of testing was 0.005093 seconds.\n",
      "You can set `force_col_wise=true` to remove the overhead.\n",
      "[LightGBM] [Info] Total Bins 3060\n",
      "[LightGBM] [Info] Number of data points in the train set: 39995, number of used features: 12\n",
      "[LightGBM] [Info] Start training from score -2.293996\n",
      "[LightGBM] [Info] Start training from score -2.298966\n",
      "[LightGBM] [Info] Start training from score -2.302960\n",
      "[LightGBM] [Info] Start training from score -2.293748\n",
      "[LightGBM] [Info] Start training from score -2.314027\n",
      "[LightGBM] [Info] Start training from score -2.295484\n",
      "[LightGBM] [Info] Start training from score -2.308478\n",
      "[LightGBM] [Info] Start training from score -2.309485\n",
      "[LightGBM] [Info] Start training from score -2.300712\n",
      "[LightGBM] [Info] Start training from score -2.308227\n"
     ]
    },
    {
     "name": "stderr",
     "output_type": "stream",
     "text": [
      "100%|██████████| 27/27 [15:51<00:00, 35.24s/it]\n"
     ]
    }
   ],
   "source": [
    "clf = LazyClassifier(verbose=0,ignore_warnings=True, custom_metric=None)\n",
    "models,predictions = clf.fit(X_train, X_test, y_train, y_test)"
   ]
  },
  {
   "cell_type": "code",
   "execution_count": 5,
   "id": "ff52e846-23e7-49cd-9d79-a998fc595bba",
   "metadata": {},
   "outputs": [
    {
     "name": "stdout",
     "output_type": "stream",
     "text": [
      "                               Accuracy  Balanced Accuracy ROC AUC  F1 Score  \\\n",
      "Model                                                                          \n",
      "LGBMClassifier                     0.44               0.44    None      0.43   \n",
      "XGBClassifier                      0.44               0.44    None      0.43   \n",
      "SVC                                0.44               0.44    None      0.42   \n",
      "RandomForestClassifier             0.43               0.43    None      0.42   \n",
      "NuSVC                              0.42               0.42    None      0.41   \n",
      "ExtraTreesClassifier               0.42               0.42    None      0.41   \n",
      "BaggingClassifier                  0.39               0.39    None      0.39   \n",
      "LinearDiscriminantAnalysis         0.36               0.36    None      0.36   \n",
      "LogisticRegression                 0.36               0.36    None      0.34   \n",
      "KNeighborsClassifier               0.34               0.34    None      0.34   \n",
      "CalibratedClassifierCV             0.34               0.34    None      0.31   \n",
      "LinearSVC                          0.33               0.33    None      0.29   \n",
      "AdaBoostClassifier                 0.33               0.33    None      0.31   \n",
      "QuadraticDiscriminantAnalysis      0.33               0.33    None      0.30   \n",
      "RidgeClassifierCV                  0.32               0.32    None      0.27   \n",
      "RidgeClassifier                    0.31               0.31    None      0.26   \n",
      "DecisionTreeClassifier             0.31               0.31    None      0.31   \n",
      "SGDClassifier                      0.28               0.27    None      0.24   \n",
      "ExtraTreeClassifier                0.26               0.26    None      0.26   \n",
      "GaussianNB                         0.24               0.24    None      0.22   \n",
      "NearestCentroid                    0.23               0.23    None      0.22   \n",
      "PassiveAggressiveClassifier        0.21               0.21    None      0.20   \n",
      "BernoulliNB                        0.21               0.20    None      0.18   \n",
      "Perceptron                         0.17               0.17    None      0.17   \n",
      "DummyClassifier                    0.10               0.10    None      0.02   \n",
      "\n",
      "                               Time Taken  \n",
      "Model                                      \n",
      "LGBMClassifier                       3.98  \n",
      "XGBClassifier                        6.36  \n",
      "SVC                                299.02  \n",
      "RandomForestClassifier              25.82  \n",
      "NuSVC                              481.10  \n",
      "ExtraTreesClassifier                 8.56  \n",
      "BaggingClassifier                   10.48  \n",
      "LinearDiscriminantAnalysis           0.11  \n",
      "LogisticRegression                   1.59  \n",
      "KNeighborsClassifier                 2.24  \n",
      "CalibratedClassifierCV              13.48  \n",
      "LinearSVC                           86.53  \n",
      "AdaBoostClassifier                   7.01  \n",
      "QuadraticDiscriminantAnalysis        0.10  \n",
      "RidgeClassifierCV                    0.15  \n",
      "RidgeClassifier                      0.10  \n",
      "DecisionTreeClassifier               1.46  \n",
      "SGDClassifier                        1.48  \n",
      "ExtraTreeClassifier                  0.13  \n",
      "GaussianNB                           0.08  \n",
      "NearestCentroid                      0.17  \n",
      "PassiveAggressiveClassifier          0.56  \n",
      "BernoulliNB                          0.10  \n",
      "Perceptron                           0.71  \n",
      "DummyClassifier                      0.05  \n"
     ]
    }
   ],
   "source": [
    "print(models)"
   ]
  },
  {
   "cell_type": "markdown",
   "id": "17c50707-3091-4ad6-8d20-3db0132f0b4b",
   "metadata": {},
   "source": [
    "# MFCC "
   ]
  },
  {
   "cell_type": "code",
   "execution_count": 6,
   "id": "fe5ecb7b-35a0-4e6f-a5fa-4169034e1e1a",
   "metadata": {},
   "outputs": [
    {
     "data": {
      "text/plain": [
       "insect\n",
       "Ae. aegypti.f     5000\n",
       "Ae. aegypti.m     5000\n",
       "Cx. quinq.f       4999\n",
       "Cx. quinq.m       5000\n",
       "Cx. stigma.f      4999\n",
       "Cx. stigma.m      5000\n",
       "Cx. tarsalis.f    5000\n",
       "Cx. tarsalis.m    4998\n",
       "D. simulans       4999\n",
       "M. domestica      4999\n",
       "dtype: int64"
      ]
     },
     "execution_count": 6,
     "metadata": {},
     "output_type": "execute_result"
    }
   ],
   "source": [
    "df = pd.read_csv(\"../Features/Resultados/clean_mfcc_insect.csv\")\n",
    "# Distribución de las clases\n",
    "df.groupby('insect').size()"
   ]
  },
  {
   "cell_type": "code",
   "execution_count": 7,
   "id": "cef715ac-7695-4ba9-a96e-a19c36cb0d4a",
   "metadata": {},
   "outputs": [],
   "source": [
    "# Codificación de la variable objetivo\n",
    "from sklearn.preprocessing import LabelEncoder\n",
    "\n",
    "encoder = LabelEncoder()\n",
    "df.insect = encoder.fit_transform(df.insect)\n",
    "\n",
    "features = df.columns.tolist()\n",
    "features.remove('insect')\n",
    "features.remove('Path_name')\n",
    "\n",
    "X_train, X_test, y_train, y_test = train_test_split(df[features].values,\\\n",
    "                                                    df['insect'].values,\\\n",
    "                                                    test_size=0.2,\\\n",
    "                                                    random_state=7)"
   ]
  },
  {
   "cell_type": "code",
   "execution_count": 8,
   "id": "b119bbd7-62c8-419b-8da1-750f4d45de30",
   "metadata": {
    "collapsed": true,
    "jupyter": {
     "outputs_hidden": true
    }
   },
   "outputs": [
    {
     "name": "stderr",
     "output_type": "stream",
     "text": [
      " 96%|█████████▋| 26/27 [27:02<01:04, 64.40s/it] "
     ]
    },
    {
     "name": "stdout",
     "output_type": "stream",
     "text": [
      "[LightGBM] [Info] Auto-choosing col-wise multi-threading, the overhead of testing was 0.050764 seconds.\n",
      "You can set `force_col_wise=true` to remove the overhead.\n",
      "[LightGBM] [Info] Total Bins 38250\n",
      "[LightGBM] [Info] Number of data points in the train set: 39995, number of used features: 150\n",
      "[LightGBM] [Info] Start training from score -2.293996\n",
      "[LightGBM] [Info] Start training from score -2.298966\n",
      "[LightGBM] [Info] Start training from score -2.302960\n",
      "[LightGBM] [Info] Start training from score -2.293748\n",
      "[LightGBM] [Info] Start training from score -2.314027\n",
      "[LightGBM] [Info] Start training from score -2.295484\n",
      "[LightGBM] [Info] Start training from score -2.308478\n",
      "[LightGBM] [Info] Start training from score -2.309485\n",
      "[LightGBM] [Info] Start training from score -2.300712\n",
      "[LightGBM] [Info] Start training from score -2.308227\n"
     ]
    },
    {
     "name": "stderr",
     "output_type": "stream",
     "text": [
      "100%|██████████| 27/27 [27:33<00:00, 61.23s/it]\n"
     ]
    }
   ],
   "source": [
    "clf = LazyClassifier(verbose=0,ignore_warnings=True, custom_metric=None)\n",
    "models,predictions = clf.fit(X_train, X_test, y_train, y_test)"
   ]
  },
  {
   "cell_type": "code",
   "execution_count": 9,
   "id": "4d4c5af3-ccde-4544-ad41-d7144fa6c0ea",
   "metadata": {},
   "outputs": [
    {
     "name": "stdout",
     "output_type": "stream",
     "text": [
      "                               Accuracy  Balanced Accuracy ROC AUC  F1 Score  \\\n",
      "Model                                                                          \n",
      "XGBClassifier                      0.74               0.74    None      0.74   \n",
      "LGBMClassifier                     0.73               0.73    None      0.73   \n",
      "SVC                                0.73               0.73    None      0.73   \n",
      "RandomForestClassifier             0.71               0.71    None      0.70   \n",
      "ExtraTreesClassifier               0.70               0.70    None      0.70   \n",
      "NuSVC                              0.68               0.68    None      0.68   \n",
      "KNeighborsClassifier               0.66               0.66    None      0.65   \n",
      "BaggingClassifier                  0.65               0.65    None      0.65   \n",
      "LogisticRegression                 0.64               0.64    None      0.64   \n",
      "CalibratedClassifierCV             0.61               0.61    None      0.60   \n",
      "LinearDiscriminantAnalysis         0.60               0.60    None      0.60   \n",
      "LinearSVC                          0.60               0.60    None      0.59   \n",
      "NearestCentroid                    0.57               0.57    None      0.57   \n",
      "RidgeClassifier                    0.56               0.56    None      0.54   \n",
      "RidgeClassifierCV                  0.56               0.56    None      0.54   \n",
      "SGDClassifier                      0.56               0.56    None      0.55   \n",
      "DecisionTreeClassifier             0.54               0.54    None      0.54   \n",
      "BernoulliNB                        0.54               0.54    None      0.54   \n",
      "GaussianNB                         0.53               0.53    None      0.50   \n",
      "AdaBoostClassifier                 0.51               0.51    None      0.50   \n",
      "ExtraTreeClassifier                0.45               0.46    None      0.46   \n",
      "Perceptron                         0.45               0.45    None      0.44   \n",
      "PassiveAggressiveClassifier        0.44               0.44    None      0.43   \n",
      "QuadraticDiscriminantAnalysis      0.38               0.38    None      0.33   \n",
      "DummyClassifier                    0.10               0.10    None      0.02   \n",
      "\n",
      "                               Time Taken  \n",
      "Model                                      \n",
      "XGBClassifier                       57.59  \n",
      "LGBMClassifier                      31.00  \n",
      "SVC                                242.39  \n",
      "RandomForestClassifier              88.96  \n",
      "ExtraTreesClassifier                18.83  \n",
      "NuSVC                              639.74  \n",
      "KNeighborsClassifier                 4.56  \n",
      "BaggingClassifier                  120.85  \n",
      "LogisticRegression                   4.09  \n",
      "CalibratedClassifierCV              81.06  \n",
      "LinearDiscriminantAnalysis           1.77  \n",
      "LinearSVC                          253.83  \n",
      "NearestCentroid                      0.40  \n",
      "RidgeClassifier                      0.47  \n",
      "RidgeClassifierCV                    1.80  \n",
      "SGDClassifier                       12.15  \n",
      "DecisionTreeClassifier              18.21  \n",
      "BernoulliNB                          0.47  \n",
      "GaussianNB                           0.55  \n",
      "AdaBoostClassifier                  66.75  \n",
      "ExtraTreeClassifier                  0.51  \n",
      "Perceptron                           2.21  \n",
      "PassiveAggressiveClassifier          2.89  \n",
      "QuadraticDiscriminantAnalysis        1.36  \n",
      "DummyClassifier                      0.32  \n"
     ]
    }
   ],
   "source": [
    "print(models)"
   ]
  },
  {
   "cell_type": "markdown",
   "id": "479ebf67-8118-4530-bb3e-23795f00442c",
   "metadata": {},
   "source": [
    "# Espectral + DWT"
   ]
  },
  {
   "cell_type": "code",
   "execution_count": 23,
   "id": "5f1eca84-5c82-4e28-8690-cae52bba7fe1",
   "metadata": {},
   "outputs": [],
   "source": [
    "df1 = pd.read_csv(\"../Features/Resultados/clean_spectral_insect.csv\")\n",
    "df2 = pd.read_csv(\"../Features/Resultados/clean_dwt_db5_5_insect.csv\")"
   ]
  },
  {
   "cell_type": "code",
   "execution_count": 24,
   "id": "514c0855-8cea-4277-a4f6-403682f795e8",
   "metadata": {},
   "outputs": [],
   "source": [
    "df1.drop(columns=['insect'], inplace=True)"
   ]
  },
  {
   "cell_type": "code",
   "execution_count": 25,
   "id": "7af286fa-9a25-4def-a26f-acedf472aee9",
   "metadata": {},
   "outputs": [],
   "source": [
    "data = pd.merge(df1, df2, on='Path_name', how='inner')"
   ]
  },
  {
   "cell_type": "code",
   "execution_count": 26,
   "id": "7f682c75-6a4d-4de3-8e78-c3e0306f67a4",
   "metadata": {},
   "outputs": [
    {
     "data": {
      "text/plain": [
       "insect\n",
       "Ae. aegypti.f     4975\n",
       "Ae. aegypti.m     4986\n",
       "Cx. quinq.f       4991\n",
       "Cx. quinq.m       4979\n",
       "Cx. stigma.f      4992\n",
       "Cx. stigma.m      4983\n",
       "Cx. tarsalis.f    4981\n",
       "Cx. tarsalis.m    4986\n",
       "D. simulans       4992\n",
       "M. domestica      4995\n",
       "dtype: int64"
      ]
     },
     "execution_count": 26,
     "metadata": {},
     "output_type": "execute_result"
    }
   ],
   "source": [
    "# Distribución de las clases\n",
    "data.groupby('insect').size()"
   ]
  },
  {
   "cell_type": "code",
   "execution_count": 27,
   "id": "f8651dd4-8594-46a9-bf15-ef46eb307ec0",
   "metadata": {},
   "outputs": [],
   "source": [
    "# Codificación de la variable objetivo\n",
    "from sklearn.preprocessing import LabelEncoder\n",
    "\n",
    "encoder = LabelEncoder()\n",
    "data.insect = encoder.fit_transform(data.insect)\n",
    "\n",
    "features = data.columns.tolist()\n",
    "features.remove('insect')\n",
    "features.remove('Path_name')\n",
    "\n",
    "X_train, X_test, y_train, y_test = train_test_split(data[features].values,\\\n",
    "                                                    data['insect'].values,\\\n",
    "                                                    test_size=0.2,\\\n",
    "                                                    random_state=7)"
   ]
  },
  {
   "cell_type": "code",
   "execution_count": 28,
   "id": "4b782bc1-5e24-4e0f-b6bc-55689eea0825",
   "metadata": {
    "collapsed": true,
    "jupyter": {
     "outputs_hidden": true
    }
   },
   "outputs": [
    {
     "name": "stderr",
     "output_type": "stream",
     "text": [
      "  4%|▎         | 1/27 [00:15<06:37, 15.28s/it]"
     ]
    },
    {
     "name": "stdout",
     "output_type": "stream",
     "text": [
      "{'Model': 'AdaBoostClassifier', 'Accuracy': 0.5104292017649419, 'Balanced Accuracy': 0.5125782261796743, 'ROC AUC': None, 'F1 Score': 0.50145890416099, 'Time taken': 15.284544944763184}\n"
     ]
    },
    {
     "name": "stderr",
     "output_type": "stream",
     "text": [
      " 11%|█         | 3/27 [00:37<04:15, 10.66s/it]"
     ]
    },
    {
     "name": "stdout",
     "output_type": "stream",
     "text": [
      "{'Model': 'BaggingClassifier', 'Accuracy': 0.622643401524268, 'Balanced Accuracy': 0.6236458648029649, 'ROC AUC': None, 'F1 Score': 0.6214025405171896, 'Time taken': 22.43895673751831}\n",
      "{'Model': 'BernoulliNB', 'Accuracy': 0.3480746089049338, 'Balanced Accuracy': 0.34724171723019703, 'ROC AUC': None, 'F1 Score': 0.33673891013147195, 'Time taken': 0.15423202514648438}\n"
     ]
    },
    {
     "name": "stderr",
     "output_type": "stream",
     "text": [
      " 15%|█▍        | 4/27 [02:02<15:16, 39.84s/it]"
     ]
    },
    {
     "name": "stdout",
     "output_type": "stream",
     "text": [
      "{'Model': 'CalibratedClassifierCV', 'Accuracy': 0.49959887685519455, 'Balanced Accuracy': 0.5005269570078017, 'ROC AUC': None, 'F1 Score': 0.4900729685219199, 'Time taken': 84.56821584701538}\n"
     ]
    },
    {
     "name": "stderr",
     "output_type": "stream",
     "text": [
      " 26%|██▌       | 7/27 [02:06<04:46, 14.32s/it]"
     ]
    },
    {
     "name": "stdout",
     "output_type": "stream",
     "text": [
      "{'Model': 'DecisionTreeClassifier', 'Accuracy': 0.5391095066185319, 'Balanced Accuracy': 0.5400573518838595, 'ROC AUC': None, 'F1 Score': 0.5397029546623149, 'Time taken': 3.600649118423462}\n",
      "{'Model': 'DummyClassifier', 'Accuracy': 0.09767348576012835, 'Balanced Accuracy': 0.1, 'ROC AUC': None, 'F1 Score': 0.01738241825879134, 'Time taken': 0.09998726844787598}\n"
     ]
    },
    {
     "name": "stderr",
     "output_type": "stream",
     "text": [
      " 30%|██▉       | 8/27 [02:06<03:16, 10.34s/it]"
     ]
    },
    {
     "name": "stdout",
     "output_type": "stream",
     "text": [
      "{'Model': 'ExtraTreeClassifier', 'Accuracy': 0.39761331728840754, 'Balanced Accuracy': 0.39837601967415287, 'ROC AUC': None, 'F1 Score': 0.39747803477062116, 'Time taken': 0.21322298049926758}\n"
     ]
    },
    {
     "name": "stderr",
     "output_type": "stream",
     "text": [
      " 37%|███▋      | 10/27 [02:17<02:06,  7.43s/it]"
     ]
    },
    {
     "name": "stdout",
     "output_type": "stream",
     "text": [
      "{'Model': 'ExtraTreesClassifier', 'Accuracy': 0.6462093862815884, 'Balanced Accuracy': 0.646702554597281, 'ROC AUC': None, 'F1 Score': 0.6412281170392471, 'Time taken': 10.596071243286133}\n",
      "{'Model': 'GaussianNB', 'Accuracy': 0.35328920978740475, 'Balanced Accuracy': 0.3543606810262678, 'ROC AUC': None, 'F1 Score': 0.3345014447406552, 'Time taken': 0.15679287910461426}\n"
     ]
    },
    {
     "name": "stderr",
     "output_type": "stream",
     "text": [
      " 41%|████      | 11/27 [02:19<01:34,  5.88s/it]"
     ]
    },
    {
     "name": "stdout",
     "output_type": "stream",
     "text": [
      "{'Model': 'KNeighborsClassifier', 'Accuracy': 0.49037304452466907, 'Balanced Accuracy': 0.491459484775638, 'ROC AUC': None, 'F1 Score': 0.49067338049607157, 'Time taken': 2.126751184463501}\n"
     ]
    },
    {
     "name": "stderr",
     "output_type": "stream",
     "text": [
      " 44%|████▍     | 12/27 [02:19<01:03,  4.23s/it]"
     ]
    },
    {
     "name": "stdout",
     "output_type": "stream",
     "text": [
      "{'Model': 'LinearDiscriminantAnalysis', 'Accuracy': 0.5057160048134778, 'Balanced Accuracy': 0.5065326687404692, 'ROC AUC': None, 'F1 Score': 0.502029596076909, 'Time taken': 0.3183863162994385}\n"
     ]
    },
    {
     "name": "stderr",
     "output_type": "stream",
     "text": [
      " 48%|████▊     | 13/27 [04:12<08:31, 36.57s/it]"
     ]
    },
    {
     "name": "stdout",
     "output_type": "stream",
     "text": [
      "{'Model': 'LinearSVC', 'Accuracy': 0.4953870838347373, 'Balanced Accuracy': 0.4965390851346136, 'ROC AUC': None, 'F1 Score': 0.4746647610848205, 'Time taken': 113.17872476577759}\n"
     ]
    },
    {
     "name": "stderr",
     "output_type": "stream",
     "text": [
      " 56%|█████▌    | 15/27 [04:14<03:41, 18.45s/it]"
     ]
    },
    {
     "name": "stdout",
     "output_type": "stream",
     "text": [
      "{'Model': 'LogisticRegression', 'Accuracy': 0.5224628961091055, 'Balanced Accuracy': 0.5229320050847223, 'ROC AUC': None, 'F1 Score': 0.5161416915652203, 'Time taken': 1.9030239582061768}\n",
      "{'Model': 'NearestCentroid', 'Accuracy': 0.33363417569193743, 'Balanced Accuracy': 0.3331701560220229, 'ROC AUC': None, 'F1 Score': 0.32674805211375124, 'Time taken': 0.11531686782836914}\n"
     ]
    },
    {
     "name": "stderr",
     "output_type": "stream",
     "text": [
      " 59%|█████▉    | 16/27 [11:35<26:31, 144.68s/it]"
     ]
    },
    {
     "name": "stdout",
     "output_type": "stream",
     "text": [
      "{'Model': 'NuSVC', 'Accuracy': 0.6104091456077015, 'Balanced Accuracy': 0.610257136393149, 'ROC AUC': None, 'F1 Score': 0.6071784958710301, 'Time taken': 440.78260684013367}\n"
     ]
    },
    {
     "name": "stderr",
     "output_type": "stream",
     "text": [
      " 63%|██████▎   | 17/27 [11:36<16:56, 101.68s/it]"
     ]
    },
    {
     "name": "stdout",
     "output_type": "stream",
     "text": [
      "{'Model': 'PassiveAggressiveClassifier', 'Accuracy': 0.369634977938227, 'Balanced Accuracy': 0.36719095066224217, 'ROC AUC': None, 'F1 Score': 0.35846751531985727, 'Time taken': 0.9578821659088135}\n"
     ]
    },
    {
     "name": "stderr",
     "output_type": "stream",
     "text": [
      " 67%|██████▋   | 18/27 [11:37<10:43, 71.53s/it] "
     ]
    },
    {
     "name": "stdout",
     "output_type": "stream",
     "text": [
      "{'Model': 'Perceptron', 'Accuracy': 0.35519454472523065, 'Balanced Accuracy': 0.3564571294737002, 'ROC AUC': None, 'F1 Score': 0.35066567551235817, 'Time taken': 0.9954907894134521}\n"
     ]
    },
    {
     "name": "stderr",
     "output_type": "stream",
     "text": [
      " 70%|███████   | 19/27 [11:37<06:41, 50.17s/it]"
     ]
    },
    {
     "name": "stdout",
     "output_type": "stream",
     "text": [
      "{'Model': 'QuadraticDiscriminantAnalysis', 'Accuracy': 0.44213798636181306, 'Balanced Accuracy': 0.44271076080385025, 'ROC AUC': None, 'F1 Score': 0.41141879476884463, 'Time taken': 0.25548601150512695}\n"
     ]
    },
    {
     "name": "stderr",
     "output_type": "stream",
     "text": [
      " 78%|███████▊  | 21/27 [12:13<03:13, 32.18s/it]"
     ]
    },
    {
     "name": "stdout",
     "output_type": "stream",
     "text": [
      "{'Model': 'RandomForestClassifier', 'Accuracy': 0.666466105094264, 'Balanced Accuracy': 0.6670413826353757, 'ROC AUC': None, 'F1 Score': 0.6636097766497343, 'Time taken': 35.879733085632324}\n",
      "{'Model': 'RidgeClassifier', 'Accuracy': 0.4704171680705977, 'Balanced Accuracy': 0.4717652548267475, 'ROC AUC': None, 'F1 Score': 0.4451894797495688, 'Time taken': 0.14788508415222168}\n"
     ]
    },
    {
     "name": "stderr",
     "output_type": "stream",
     "text": [
      " 81%|████████▏ | 22/27 [12:14<01:53, 22.63s/it]"
     ]
    },
    {
     "name": "stdout",
     "output_type": "stream",
     "text": [
      "{'Model': 'RidgeClassifierCV', 'Accuracy': 0.4797432811873245, 'Balanced Accuracy': 0.4810189301803193, 'ROC AUC': None, 'F1 Score': 0.45598183039293283, 'Time taken': 0.3481941223144531}\n"
     ]
    },
    {
     "name": "stderr",
     "output_type": "stream",
     "text": [
      " 85%|████████▌ | 23/27 [12:17<01:07, 16.81s/it]"
     ]
    },
    {
     "name": "stdout",
     "output_type": "stream",
     "text": [
      "{'Model': 'SGDClassifier', 'Accuracy': 0.4499598876855195, 'Balanced Accuracy': 0.4496480792641549, 'ROC AUC': None, 'F1 Score': 0.43215112812737094, 'Time taken': 3.2115447521209717}\n"
     ]
    },
    {
     "name": "stderr",
     "output_type": "stream",
     "text": [
      " 89%|████████▉ | 24/27 [15:51<03:48, 76.05s/it]"
     ]
    },
    {
     "name": "stdout",
     "output_type": "stream",
     "text": [
      "{'Model': 'SVC', 'Accuracy': 0.6610509426393902, 'Balanced Accuracy': 0.6612190064126438, 'ROC AUC': None, 'F1 Score': 0.6577539218377395, 'Time taken': 214.33166885375977}\n"
     ]
    },
    {
     "name": "stderr",
     "output_type": "stream",
     "text": [
      " 96%|█████████▋| 26/27 [16:04<00:43, 43.99s/it]"
     ]
    },
    {
     "name": "stdout",
     "output_type": "stream",
     "text": [
      "{'Model': 'XGBClassifier', 'Accuracy': 0.6966506217408744, 'Balanced Accuracy': 0.6969630297254795, 'ROC AUC': None, 'F1 Score': 0.6954631664457432, 'Time taken': 13.136658191680908}\n",
      "[LightGBM] [Info] Auto-choosing col-wise multi-threading, the overhead of testing was 0.009149 seconds.\n",
      "You can set `force_col_wise=true` to remove the overhead.\n",
      "[LightGBM] [Info] Total Bins 7870\n",
      "[LightGBM] [Info] Number of data points in the train set: 39888, number of used features: 33\n",
      "[LightGBM] [Info] Start training from score -2.297534\n",
      "[LightGBM] [Info] Start training from score -2.297534\n",
      "[LightGBM] [Info] Start training from score -2.307813\n",
      "[LightGBM] [Info] Start training from score -2.296786\n",
      "[LightGBM] [Info] Start training from score -2.317691\n",
      "[LightGBM] [Info] Start training from score -2.301032\n",
      "[LightGBM] [Info] Start training from score -2.300782\n",
      "[LightGBM] [Info] Start training from score -2.300531\n",
      "[LightGBM] [Info] Start training from score -2.295291\n",
      "[LightGBM] [Info] Start training from score -2.311095\n"
     ]
    },
    {
     "name": "stderr",
     "output_type": "stream",
     "text": [
      "100%|██████████| 27/27 [16:12<00:00, 36.00s/it]"
     ]
    },
    {
     "name": "stdout",
     "output_type": "stream",
     "text": [
      "{'Model': 'LGBMClassifier', 'Accuracy': 0.6919374247894103, 'Balanced Accuracy': 0.6920722522309212, 'ROC AUC': None, 'F1 Score': 0.6905501555907353, 'Time taken': 7.112344026565552}\n"
     ]
    },
    {
     "name": "stderr",
     "output_type": "stream",
     "text": [
      "\n"
     ]
    }
   ],
   "source": [
    "clf = LazyClassifier(verbose=1,ignore_warnings=True, custom_metric=None)\n",
    "models,predictions = clf.fit(X_train, X_test, y_train, y_test)"
   ]
  },
  {
   "cell_type": "code",
   "execution_count": 29,
   "id": "004f8282-1d10-4875-9622-164e7ee45332",
   "metadata": {},
   "outputs": [
    {
     "name": "stdout",
     "output_type": "stream",
     "text": [
      "                               Accuracy  Balanced Accuracy ROC AUC  F1 Score  \\\n",
      "Model                                                                          \n",
      "XGBClassifier                      0.70               0.70    None      0.70   \n",
      "LGBMClassifier                     0.69               0.69    None      0.69   \n",
      "RandomForestClassifier             0.67               0.67    None      0.66   \n",
      "SVC                                0.66               0.66    None      0.66   \n",
      "ExtraTreesClassifier               0.65               0.65    None      0.64   \n",
      "BaggingClassifier                  0.62               0.62    None      0.62   \n",
      "NuSVC                              0.61               0.61    None      0.61   \n",
      "DecisionTreeClassifier             0.54               0.54    None      0.54   \n",
      "LogisticRegression                 0.52               0.52    None      0.52   \n",
      "AdaBoostClassifier                 0.51               0.51    None      0.50   \n",
      "LinearDiscriminantAnalysis         0.51               0.51    None      0.50   \n",
      "CalibratedClassifierCV             0.50               0.50    None      0.49   \n",
      "LinearSVC                          0.50               0.50    None      0.47   \n",
      "KNeighborsClassifier               0.49               0.49    None      0.49   \n",
      "RidgeClassifierCV                  0.48               0.48    None      0.46   \n",
      "RidgeClassifier                    0.47               0.47    None      0.45   \n",
      "SGDClassifier                      0.45               0.45    None      0.43   \n",
      "QuadraticDiscriminantAnalysis      0.44               0.44    None      0.41   \n",
      "ExtraTreeClassifier                0.40               0.40    None      0.40   \n",
      "PassiveAggressiveClassifier        0.37               0.37    None      0.36   \n",
      "Perceptron                         0.36               0.36    None      0.35   \n",
      "GaussianNB                         0.35               0.35    None      0.33   \n",
      "BernoulliNB                        0.35               0.35    None      0.34   \n",
      "NearestCentroid                    0.33               0.33    None      0.33   \n",
      "DummyClassifier                    0.10               0.10    None      0.02   \n",
      "\n",
      "                               Time Taken  \n",
      "Model                                      \n",
      "XGBClassifier                       13.14  \n",
      "LGBMClassifier                       7.11  \n",
      "RandomForestClassifier              35.88  \n",
      "SVC                                214.33  \n",
      "ExtraTreesClassifier                10.60  \n",
      "BaggingClassifier                   22.44  \n",
      "NuSVC                              440.78  \n",
      "DecisionTreeClassifier               3.60  \n",
      "LogisticRegression                   1.90  \n",
      "AdaBoostClassifier                  15.28  \n",
      "LinearDiscriminantAnalysis           0.32  \n",
      "CalibratedClassifierCV              84.57  \n",
      "LinearSVC                          113.18  \n",
      "KNeighborsClassifier                 2.13  \n",
      "RidgeClassifierCV                    0.35  \n",
      "RidgeClassifier                      0.15  \n",
      "SGDClassifier                        3.21  \n",
      "QuadraticDiscriminantAnalysis        0.26  \n",
      "ExtraTreeClassifier                  0.21  \n",
      "PassiveAggressiveClassifier          0.96  \n",
      "Perceptron                           1.00  \n",
      "GaussianNB                           0.16  \n",
      "BernoulliNB                          0.15  \n",
      "NearestCentroid                      0.12  \n",
      "DummyClassifier                      0.10  \n"
     ]
    }
   ],
   "source": [
    "print(models)"
   ]
  },
  {
   "cell_type": "markdown",
   "id": "c2e589db-a147-46aa-a0fe-e9d5ad2c6d16",
   "metadata": {},
   "source": [
    "# Espectral + WPD "
   ]
  },
  {
   "cell_type": "code",
   "execution_count": 49,
   "id": "a3b70c79-3ccb-4325-afb2-26f7f4904e32",
   "metadata": {},
   "outputs": [],
   "source": [
    "df1 = pd.read_csv(\"../Features/Resultados/clean_spectral_insect.csv\")\n",
    "df2 = pd.read_csv(\"../Features/Resultados/clean_wpd_db5_5_insect.csv\")"
   ]
  },
  {
   "cell_type": "code",
   "execution_count": 50,
   "id": "ee70a331-c15b-4e3c-bebf-3f513e7b7259",
   "metadata": {},
   "outputs": [
    {
     "data": {
      "text/plain": [
       "insect\n",
       "Ae. aegypti.f     4975\n",
       "Ae. aegypti.m     4986\n",
       "Cx. quinq.f       4991\n",
       "Cx. quinq.m       4979\n",
       "Cx. stigma.f      4992\n",
       "Cx. stigma.m      4983\n",
       "Cx. tarsalis.f    4981\n",
       "Cx. tarsalis.m    4986\n",
       "D. simulans       4992\n",
       "M. domestica      4995\n",
       "dtype: int64"
      ]
     },
     "execution_count": 50,
     "metadata": {},
     "output_type": "execute_result"
    }
   ],
   "source": [
    "df1.drop(columns=['insect'], inplace=True)\n",
    "data = pd.merge(df1, df2, on='Path_name', how='inner')\n",
    "# Distribución de las clases\n",
    "data.groupby('insect').size()"
   ]
  },
  {
   "cell_type": "code",
   "execution_count": 51,
   "id": "9665c4d0-96fe-4f75-be2e-0fe98a161ab4",
   "metadata": {},
   "outputs": [],
   "source": [
    "# Codificación de la variable objetivo\n",
    "from sklearn.preprocessing import LabelEncoder\n",
    "\n",
    "encoder = LabelEncoder()\n",
    "data.insect = encoder.fit_transform(data.insect)\n",
    "\n",
    "features = data.columns.tolist()\n",
    "features.remove('insect')\n",
    "features.remove('Path_name')\n",
    "\n",
    "X_train, X_test, y_train, y_test = train_test_split(data[features].values,\\\n",
    "                                                    data['insect'].values,\\\n",
    "                                                    test_size=0.2,\\\n",
    "                                                    random_state=7)"
   ]
  },
  {
   "cell_type": "code",
   "execution_count": 52,
   "id": "4621de66-3455-44c5-a155-ba4ca931bea7",
   "metadata": {
    "collapsed": true,
    "jupyter": {
     "outputs_hidden": true
    }
   },
   "outputs": [
    {
     "name": "stderr",
     "output_type": "stream",
     "text": [
      "  4%|▎         | 1/27 [00:15<06:48, 15.70s/it]"
     ]
    },
    {
     "name": "stdout",
     "output_type": "stream",
     "text": [
      "{'Model': 'AdaBoostClassifier', 'Accuracy': 0.5098275170477337, 'Balanced Accuracy': 0.5127823980045753, 'ROC AUC': None, 'F1 Score': 0.49959989370541563, 'Time taken': 15.70361590385437}\n"
     ]
    },
    {
     "name": "stderr",
     "output_type": "stream",
     "text": [
      " 11%|█         | 3/27 [00:39<04:27, 11.13s/it]"
     ]
    },
    {
     "name": "stdout",
     "output_type": "stream",
     "text": [
      "{'Model': 'BaggingClassifier', 'Accuracy': 0.6227436823104693, 'Balanced Accuracy': 0.623853871948093, 'ROC AUC': None, 'F1 Score': 0.6210032092518435, 'Time taken': 23.597084760665894}\n",
      "{'Model': 'BernoulliNB', 'Accuracy': 0.35158443642198156, 'Balanced Accuracy': 0.3511415820133717, 'ROC AUC': None, 'F1 Score': 0.3475121439319037, 'Time taken': 0.14997196197509766}\n"
     ]
    },
    {
     "name": "stderr",
     "output_type": "stream",
     "text": [
      " 15%|█▍        | 4/27 [01:55<14:06, 36.79s/it]"
     ]
    },
    {
     "name": "stdout",
     "output_type": "stream",
     "text": [
      "{'Model': 'CalibratedClassifierCV', 'Accuracy': 0.5029081427998395, 'Balanced Accuracy': 0.5041510020874578, 'ROC AUC': None, 'F1 Score': 0.49581522676254824, 'Time taken': 76.1448130607605}\n"
     ]
    },
    {
     "name": "stderr",
     "output_type": "stream",
     "text": [
      " 22%|██▏       | 6/27 [01:59<06:23, 18.26s/it]"
     ]
    },
    {
     "name": "stdout",
     "output_type": "stream",
     "text": [
      "{'Model': 'DecisionTreeClassifier', 'Accuracy': 0.5395106297633373, 'Balanced Accuracy': 0.5405344405660685, 'ROC AUC': None, 'F1 Score': 0.5397735099115963, 'Time taken': 3.5587120056152344}\n",
      "{'Model': 'DummyClassifier', 'Accuracy': 0.09767348576012835, 'Balanced Accuracy': 0.1, 'ROC AUC': None, 'F1 Score': 0.01738241825879134, 'Time taken': 0.09164309501647949}\n"
     ]
    },
    {
     "name": "stderr",
     "output_type": "stream",
     "text": [
      " 30%|██▉       | 8/27 [01:59<03:18, 10.46s/it]"
     ]
    },
    {
     "name": "stdout",
     "output_type": "stream",
     "text": [
      "{'Model': 'ExtraTreeClassifier', 'Accuracy': 0.3714400320898516, 'Balanced Accuracy': 0.3718625517441225, 'ROC AUC': None, 'F1 Score': 0.3717674698433848, 'Time taken': 0.20873403549194336}\n"
     ]
    },
    {
     "name": "stderr",
     "output_type": "stream",
     "text": [
      " 37%|███▋      | 10/27 [02:10<02:15,  7.98s/it]"
     ]
    },
    {
     "name": "stdout",
     "output_type": "stream",
     "text": [
      "{'Model': 'ExtraTreesClassifier', 'Accuracy': 0.6455074207781789, 'Balanced Accuracy': 0.6462621023958895, 'ROC AUC': None, 'F1 Score': 0.641378449776178, 'Time taken': 11.097797155380249}\n",
      "{'Model': 'GaussianNB', 'Accuracy': 0.3472723626153229, 'Balanced Accuracy': 0.34844735773389657, 'ROC AUC': None, 'F1 Score': 0.33236350784384566, 'Time taken': 0.17662739753723145}\n"
     ]
    },
    {
     "name": "stderr",
     "output_type": "stream",
     "text": [
      " 41%|████      | 11/27 [02:13<01:44,  6.54s/it]"
     ]
    },
    {
     "name": "stdout",
     "output_type": "stream",
     "text": [
      "{'Model': 'KNeighborsClassifier', 'Accuracy': 0.49398315282791816, 'Balanced Accuracy': 0.4956729081651193, 'ROC AUC': None, 'F1 Score': 0.49159732928617594, 'Time taken': 2.5195510387420654}\n"
     ]
    },
    {
     "name": "stderr",
     "output_type": "stream",
     "text": [
      " 44%|████▍     | 12/27 [02:13<01:12,  4.83s/it]"
     ]
    },
    {
     "name": "stdout",
     "output_type": "stream",
     "text": [
      "{'Model': 'LinearDiscriminantAnalysis', 'Accuracy': 0.4981949458483754, 'Balanced Accuracy': 0.4993414354860808, 'ROC AUC': None, 'F1 Score': 0.4969732897524962, 'Time taken': 0.3006777763366699}\n"
     ]
    },
    {
     "name": "stderr",
     "output_type": "stream",
     "text": [
      " 48%|████▊     | 13/27 [04:18<09:01, 38.66s/it]"
     ]
    },
    {
     "name": "stdout",
     "output_type": "stream",
     "text": [
      "{'Model': 'LinearSVC', 'Accuracy': 0.49739269955876453, 'Balanced Accuracy': 0.4983199606828805, 'ROC AUC': None, 'F1 Score': 0.48134153529996593, 'Time taken': 125.05291509628296}\n"
     ]
    },
    {
     "name": "stderr",
     "output_type": "stream",
     "text": [
      " 56%|█████▌    | 15/27 [04:20<04:00, 20.00s/it]"
     ]
    },
    {
     "name": "stdout",
     "output_type": "stream",
     "text": [
      "{'Model': 'LogisticRegression', 'Accuracy': 0.5159446450060169, 'Balanced Accuracy': 0.517352112932814, 'ROC AUC': None, 'F1 Score': 0.5116971324688571, 'Time taken': 1.9845569133758545}\n",
      "{'Model': 'NearestCentroid', 'Accuracy': 0.33945046129161655, 'Balanced Accuracy': 0.3388477004694076, 'ROC AUC': None, 'F1 Score': 0.3414994232665013, 'Time taken': 0.12819290161132812}\n"
     ]
    },
    {
     "name": "stderr",
     "output_type": "stream",
     "text": [
      " 59%|█████▉    | 16/27 [12:09<27:47, 151.59s/it]"
     ]
    },
    {
     "name": "stdout",
     "output_type": "stream",
     "text": [
      "{'Model': 'NuSVC', 'Accuracy': 0.6098074608904934, 'Balanced Accuracy': 0.61011715350524, 'ROC AUC': None, 'F1 Score': 0.6075053315353534, 'Time taken': 468.541650056839}\n"
     ]
    },
    {
     "name": "stderr",
     "output_type": "stream",
     "text": [
      " 63%|██████▎   | 17/27 [12:10<17:51, 107.12s/it]"
     ]
    },
    {
     "name": "stdout",
     "output_type": "stream",
     "text": [
      "{'Model': 'PassiveAggressiveClassifier', 'Accuracy': 0.3249097472924188, 'Balanced Accuracy': 0.3246574056403011, 'ROC AUC': None, 'F1 Score': 0.3181996493465511, 'Time taken': 0.9957718849182129}\n"
     ]
    },
    {
     "name": "stderr",
     "output_type": "stream",
     "text": [
      " 67%|██████▋   | 18/27 [12:11<11:20, 75.66s/it] "
     ]
    },
    {
     "name": "stdout",
     "output_type": "stream",
     "text": [
      "{'Model': 'Perceptron', 'Accuracy': 0.34205776173285196, 'Balanced Accuracy': 0.3425373503619363, 'ROC AUC': None, 'F1 Score': 0.3392525223698295, 'Time taken': 1.0942749977111816}\n"
     ]
    },
    {
     "name": "stderr",
     "output_type": "stream",
     "text": [
      " 70%|███████   | 19/27 [12:11<07:05, 53.21s/it]"
     ]
    },
    {
     "name": "stdout",
     "output_type": "stream",
     "text": [
      "{'Model': 'QuadraticDiscriminantAnalysis', 'Accuracy': 0.41897312474929804, 'Balanced Accuracy': 0.4198507821625278, 'ROC AUC': None, 'F1 Score': 0.3932942945710592, 'Time taken': 0.243912935256958}\n"
     ]
    },
    {
     "name": "stderr",
     "output_type": "stream",
     "text": [
      " 78%|███████▊  | 21/27 [12:48<03:23, 33.93s/it]"
     ]
    },
    {
     "name": "stdout",
     "output_type": "stream",
     "text": [
      "{'Model': 'RandomForestClassifier', 'Accuracy': 0.6611512234255916, 'Balanced Accuracy': 0.661818789927336, 'ROC AUC': None, 'F1 Score': 0.658469229879949, 'Time taken': 36.80212879180908}\n",
      "{'Model': 'RidgeClassifier', 'Accuracy': 0.47723626153229043, 'Balanced Accuracy': 0.47777158806437303, 'ROC AUC': None, 'F1 Score': 0.4562202885502346, 'Time taken': 0.1742548942565918}\n"
     ]
    },
    {
     "name": "stderr",
     "output_type": "stream",
     "text": [
      " 81%|████████▏ | 22/27 [12:49<01:59, 23.88s/it]"
     ]
    },
    {
     "name": "stdout",
     "output_type": "stream",
     "text": [
      "{'Model': 'RidgeClassifierCV', 'Accuracy': 0.47723626153229043, 'Balanced Accuracy': 0.4777502905199488, 'ROC AUC': None, 'F1 Score': 0.45597698441317247, 'Time taken': 0.3457798957824707}\n"
     ]
    },
    {
     "name": "stderr",
     "output_type": "stream",
     "text": [
      " 85%|████████▌ | 23/27 [12:52<01:10, 17.73s/it]"
     ]
    },
    {
     "name": "stdout",
     "output_type": "stream",
     "text": [
      "{'Model': 'SGDClassifier', 'Accuracy': 0.45417168070597674, 'Balanced Accuracy': 0.45503111055746165, 'ROC AUC': None, 'F1 Score': 0.42755598731338684, 'Time taken': 3.3345091342926025}\n"
     ]
    },
    {
     "name": "stderr",
     "output_type": "stream",
     "text": [
      " 89%|████████▉ | 24/27 [16:32<03:55, 78.40s/it]"
     ]
    },
    {
     "name": "stdout",
     "output_type": "stream",
     "text": [
      "{'Model': 'SVC', 'Accuracy': 0.6539310068190934, 'Balanced Accuracy': 0.65438469583449, 'ROC AUC': None, 'F1 Score': 0.650302254725813, 'Time taken': 220.22483825683594}\n"
     ]
    },
    {
     "name": "stderr",
     "output_type": "stream",
     "text": [
      " 96%|█████████▋| 26/27 [16:47<00:45, 45.58s/it]"
     ]
    },
    {
     "name": "stdout",
     "output_type": "stream",
     "text": [
      "{'Model': 'XGBClassifier', 'Accuracy': 0.6866225431207381, 'Balanced Accuracy': 0.6872067831692716, 'ROC AUC': None, 'F1 Score': 0.6853091430799111, 'Time taken': 14.464072942733765}\n",
      "[LightGBM] [Info] Auto-choosing col-wise multi-threading, the overhead of testing was 0.015654 seconds.\n",
      "You can set `force_col_wise=true` to remove the overhead.\n",
      "[LightGBM] [Info] Total Bins 7870\n",
      "[LightGBM] [Info] Number of data points in the train set: 39888, number of used features: 33\n",
      "[LightGBM] [Info] Start training from score -2.297534\n",
      "[LightGBM] [Info] Start training from score -2.297534\n",
      "[LightGBM] [Info] Start training from score -2.307813\n",
      "[LightGBM] [Info] Start training from score -2.296786\n",
      "[LightGBM] [Info] Start training from score -2.317691\n",
      "[LightGBM] [Info] Start training from score -2.301032\n",
      "[LightGBM] [Info] Start training from score -2.300782\n",
      "[LightGBM] [Info] Start training from score -2.300531\n",
      "[LightGBM] [Info] Start training from score -2.295291\n",
      "[LightGBM] [Info] Start training from score -2.311095\n"
     ]
    },
    {
     "name": "stderr",
     "output_type": "stream",
     "text": [
      "100%|██████████| 27/27 [16:54<00:00, 37.59s/it]"
     ]
    },
    {
     "name": "stdout",
     "output_type": "stream",
     "text": [
      "{'Model': 'LGBMClassifier', 'Accuracy': 0.6903329322101885, 'Balanced Accuracy': 0.6906182095996729, 'ROC AUC': None, 'F1 Score': 0.6891412958892109, 'Time taken': 7.886627197265625}\n"
     ]
    },
    {
     "name": "stderr",
     "output_type": "stream",
     "text": [
      "\n"
     ]
    }
   ],
   "source": [
    "clf = LazyClassifier(verbose=1,ignore_warnings=True, custom_metric=None)\n",
    "models,predictions = clf.fit(X_train, X_test, y_train, y_test)"
   ]
  },
  {
   "cell_type": "code",
   "execution_count": 53,
   "id": "293d2df9-c27a-4784-8592-84dcb14bac3d",
   "metadata": {},
   "outputs": [
    {
     "name": "stdout",
     "output_type": "stream",
     "text": [
      "                               Accuracy  Balanced Accuracy ROC AUC  F1 Score  \\\n",
      "Model                                                                          \n",
      "LGBMClassifier                     0.69               0.69    None      0.69   \n",
      "XGBClassifier                      0.69               0.69    None      0.69   \n",
      "RandomForestClassifier             0.66               0.66    None      0.66   \n",
      "SVC                                0.65               0.65    None      0.65   \n",
      "ExtraTreesClassifier               0.65               0.65    None      0.64   \n",
      "BaggingClassifier                  0.62               0.62    None      0.62   \n",
      "NuSVC                              0.61               0.61    None      0.61   \n",
      "DecisionTreeClassifier             0.54               0.54    None      0.54   \n",
      "LogisticRegression                 0.52               0.52    None      0.51   \n",
      "AdaBoostClassifier                 0.51               0.51    None      0.50   \n",
      "CalibratedClassifierCV             0.50               0.50    None      0.50   \n",
      "LinearDiscriminantAnalysis         0.50               0.50    None      0.50   \n",
      "LinearSVC                          0.50               0.50    None      0.48   \n",
      "KNeighborsClassifier               0.49               0.50    None      0.49   \n",
      "RidgeClassifier                    0.48               0.48    None      0.46   \n",
      "RidgeClassifierCV                  0.48               0.48    None      0.46   \n",
      "SGDClassifier                      0.45               0.46    None      0.43   \n",
      "QuadraticDiscriminantAnalysis      0.42               0.42    None      0.39   \n",
      "ExtraTreeClassifier                0.37               0.37    None      0.37   \n",
      "BernoulliNB                        0.35               0.35    None      0.35   \n",
      "GaussianNB                         0.35               0.35    None      0.33   \n",
      "Perceptron                         0.34               0.34    None      0.34   \n",
      "NearestCentroid                    0.34               0.34    None      0.34   \n",
      "PassiveAggressiveClassifier        0.32               0.32    None      0.32   \n",
      "DummyClassifier                    0.10               0.10    None      0.02   \n",
      "\n",
      "                               Time Taken  \n",
      "Model                                      \n",
      "LGBMClassifier                       7.89  \n",
      "XGBClassifier                       14.46  \n",
      "RandomForestClassifier              36.80  \n",
      "SVC                                220.22  \n",
      "ExtraTreesClassifier                11.10  \n",
      "BaggingClassifier                   23.60  \n",
      "NuSVC                              468.54  \n",
      "DecisionTreeClassifier               3.56  \n",
      "LogisticRegression                   1.98  \n",
      "AdaBoostClassifier                  15.70  \n",
      "CalibratedClassifierCV              76.14  \n",
      "LinearDiscriminantAnalysis           0.30  \n",
      "LinearSVC                          125.05  \n",
      "KNeighborsClassifier                 2.52  \n",
      "RidgeClassifier                      0.17  \n",
      "RidgeClassifierCV                    0.35  \n",
      "SGDClassifier                        3.33  \n",
      "QuadraticDiscriminantAnalysis        0.24  \n",
      "ExtraTreeClassifier                  0.21  \n",
      "BernoulliNB                          0.15  \n",
      "GaussianNB                           0.18  \n",
      "Perceptron                           1.09  \n",
      "NearestCentroid                      0.13  \n",
      "PassiveAggressiveClassifier          1.00  \n",
      "DummyClassifier                      0.09  \n"
     ]
    }
   ],
   "source": [
    "print(models)"
   ]
  },
  {
   "cell_type": "markdown",
   "id": "837363d5-eebd-4a29-933a-1dfc69df6a6a",
   "metadata": {},
   "source": [
    "# Espectral + DWPD "
   ]
  },
  {
   "cell_type": "code",
   "execution_count": 10,
   "id": "15d6e17b-76c2-47b1-b399-05dc04064302",
   "metadata": {},
   "outputs": [],
   "source": [
    "df1 = pd.read_csv(\"../Features/Resultados/clean_spectral_insect.csv\")\n",
    "df2 = pd.read_csv(\"../Features/Resultados/clean_dwpd_db5_5_insect.csv\")"
   ]
  },
  {
   "cell_type": "code",
   "execution_count": 11,
   "id": "3308beb9-bd89-4b31-bb54-aa970ff6bf84",
   "metadata": {},
   "outputs": [
    {
     "data": {
      "text/plain": [
       "insect\n",
       "Ae. aegypti.f     4975\n",
       "Ae. aegypti.m     4986\n",
       "Cx. quinq.f       4991\n",
       "Cx. quinq.m       4979\n",
       "Cx. stigma.f      4992\n",
       "Cx. stigma.m      4983\n",
       "Cx. tarsalis.f    4981\n",
       "Cx. tarsalis.m    4986\n",
       "D. simulans       4992\n",
       "M. domestica      4995\n",
       "dtype: int64"
      ]
     },
     "execution_count": 11,
     "metadata": {},
     "output_type": "execute_result"
    }
   ],
   "source": [
    "df1.drop(columns=['insect'], inplace=True)\n",
    "data = pd.merge(df1, df2, on='Path_name', how='inner')\n",
    "# Distribución de las clases\n",
    "data.groupby('insect').size()"
   ]
  },
  {
   "cell_type": "code",
   "execution_count": 12,
   "id": "78df9b5f-a2fc-4172-9a61-bffa896f0dc6",
   "metadata": {},
   "outputs": [],
   "source": [
    "# Codificación de la variable objetivo\n",
    "from sklearn.preprocessing import LabelEncoder\n",
    "\n",
    "encoder = LabelEncoder()\n",
    "data.insect = encoder.fit_transform(data.insect)\n",
    "\n",
    "features = data.columns.tolist()\n",
    "features.remove('insect')\n",
    "features.remove('Path_name')\n",
    "\n",
    "X_train, X_test, y_train, y_test = train_test_split(data[features].values,\\\n",
    "                                                    data['insect'].values,\\\n",
    "                                                    test_size=0.2,\\\n",
    "                                                    random_state=7)"
   ]
  },
  {
   "cell_type": "code",
   "execution_count": 13,
   "id": "4b061017-45d4-4a1e-99d6-7c7ef3709d98",
   "metadata": {
    "collapsed": true,
    "jupyter": {
     "outputs_hidden": true
    }
   },
   "outputs": [
    {
     "name": "stderr",
     "output_type": "stream",
     "text": [
      "  4%|▎         | 1/27 [00:15<06:42, 15.46s/it]"
     ]
    },
    {
     "name": "stdout",
     "output_type": "stream",
     "text": [
      "{'Model': 'AdaBoostClassifier', 'Accuracy': 0.5188527878058564, 'Balanced Accuracy': 0.5213694375759415, 'ROC AUC': None, 'F1 Score': 0.5090442734044072, 'Time taken': 15.462493896484375}\n"
     ]
    },
    {
     "name": "stderr",
     "output_type": "stream",
     "text": [
      " 11%|█         | 3/27 [00:39<04:28, 11.18s/it]"
     ]
    },
    {
     "name": "stdout",
     "output_type": "stream",
     "text": [
      "{'Model': 'BaggingClassifier', 'Accuracy': 0.6205375050140393, 'Balanced Accuracy': 0.6216931187969206, 'ROC AUC': None, 'F1 Score': 0.6189384224160217, 'Time taken': 23.9394109249115}\n",
      "{'Model': 'BernoulliNB', 'Accuracy': 0.34667067789811473, 'Balanced Accuracy': 0.34590903294732595, 'ROC AUC': None, 'F1 Score': 0.3353468766519529, 'Time taken': 0.13937997817993164}\n"
     ]
    },
    {
     "name": "stderr",
     "output_type": "stream",
     "text": [
      " 15%|█▍        | 4/27 [02:08<16:00, 41.75s/it]"
     ]
    },
    {
     "name": "stdout",
     "output_type": "stream",
     "text": [
      "{'Model': 'CalibratedClassifierCV', 'Accuracy': 0.4989971921379864, 'Balanced Accuracy': 0.5000015371442521, 'ROC AUC': None, 'F1 Score': 0.4894708856963216, 'Time taken': 88.62138819694519}\n"
     ]
    },
    {
     "name": "stderr",
     "output_type": "stream",
     "text": [
      " 22%|██▏       | 6/27 [02:12<07:13, 20.65s/it]"
     ]
    },
    {
     "name": "stdout",
     "output_type": "stream",
     "text": [
      "{'Model': 'DecisionTreeClassifier', 'Accuracy': 0.5443241075010028, 'Balanced Accuracy': 0.5454808092987304, 'ROC AUC': None, 'F1 Score': 0.5444826871293765, 'Time taken': 3.7774429321289062}\n",
      "{'Model': 'DummyClassifier', 'Accuracy': 0.09767348576012835, 'Balanced Accuracy': 0.1, 'ROC AUC': None, 'F1 Score': 0.01738241825879134, 'Time taken': 0.091644287109375}\n"
     ]
    },
    {
     "name": "stderr",
     "output_type": "stream",
     "text": [
      " 30%|██▉       | 8/27 [02:12<03:44, 11.82s/it]"
     ]
    },
    {
     "name": "stdout",
     "output_type": "stream",
     "text": [
      "{'Model': 'ExtraTreeClassifier', 'Accuracy': 0.36793020457280384, 'Balanced Accuracy': 0.3683437454110271, 'ROC AUC': None, 'F1 Score': 0.3684605351201802, 'Time taken': 0.2160661220550537}\n"
     ]
    },
    {
     "name": "stderr",
     "output_type": "stream",
     "text": [
      " 37%|███▋      | 10/27 [02:23<02:28,  8.71s/it]"
     ]
    },
    {
     "name": "stdout",
     "output_type": "stream",
     "text": [
      "{'Model': 'ExtraTreesClassifier', 'Accuracy': 0.6533293221018853, 'Balanced Accuracy': 0.6538303433763335, 'ROC AUC': None, 'F1 Score': 0.6484294992981686, 'Time taken': 10.803564071655273}\n",
      "{'Model': 'GaussianNB', 'Accuracy': 0.35318892900120336, 'Balanced Accuracy': 0.3542653301285203, 'ROC AUC': None, 'F1 Score': 0.334087172652642, 'Time taken': 0.1852281093597412}\n"
     ]
    },
    {
     "name": "stderr",
     "output_type": "stream",
     "text": [
      " 41%|████      | 11/27 [02:25<01:51,  6.96s/it]"
     ]
    },
    {
     "name": "stdout",
     "output_type": "stream",
     "text": [
      "{'Model': 'KNeighborsClassifier', 'Accuracy': 0.48846770958684316, 'Balanced Accuracy': 0.48952212754287394, 'ROC AUC': None, 'F1 Score': 0.4884703649415492, 'Time taken': 2.103026866912842}\n"
     ]
    },
    {
     "name": "stderr",
     "output_type": "stream",
     "text": [
      " 44%|████▍     | 12/27 [02:25<01:17,  5.15s/it]"
     ]
    },
    {
     "name": "stdout",
     "output_type": "stream",
     "text": [
      "{'Model': 'LinearDiscriminantAnalysis', 'Accuracy': 0.5049137585238668, 'Balanced Accuracy': 0.5057356320782368, 'ROC AUC': None, 'F1 Score': 0.5010769392536616, 'Time taken': 0.33918309211730957}\n"
     ]
    },
    {
     "name": "stderr",
     "output_type": "stream",
     "text": [
      " 48%|████▊     | 13/27 [04:26<08:48, 37.75s/it]"
     ]
    },
    {
     "name": "stdout",
     "output_type": "stream",
     "text": [
      "{'Model': 'LinearSVC', 'Accuracy': 0.4899719213798636, 'Balanced Accuracy': 0.4912348529904242, 'ROC AUC': None, 'F1 Score': 0.46930182294591727, 'Time taken': 120.99569702148438}\n"
     ]
    },
    {
     "name": "stderr",
     "output_type": "stream",
     "text": [
      " 56%|█████▌    | 15/27 [04:28<03:54, 19.56s/it]"
     ]
    },
    {
     "name": "stdout",
     "output_type": "stream",
     "text": [
      "{'Model': 'LogisticRegression', 'Accuracy': 0.5211592458884877, 'Balanced Accuracy': 0.521727244240131, 'ROC AUC': None, 'F1 Score': 0.5149449889294339, 'Time taken': 2.0459530353546143}\n",
      "{'Model': 'NearestCentroid', 'Accuracy': 0.3314279983955074, 'Balanced Accuracy': 0.3309527070106123, 'ROC AUC': None, 'F1 Score': 0.32466725789787654, 'Time taken': 0.13579010963439941}\n"
     ]
    },
    {
     "name": "stderr",
     "output_type": "stream",
     "text": [
      " 59%|█████▉    | 16/27 [12:34<28:39, 156.32s/it]"
     ]
    },
    {
     "name": "stdout",
     "output_type": "stream",
     "text": [
      "{'Model': 'NuSVC', 'Accuracy': 0.6103088648215002, 'Balanced Accuracy': 0.6102111495108729, 'ROC AUC': None, 'F1 Score': 0.6071077842059589, 'Time taken': 485.73246693611145}\n"
     ]
    },
    {
     "name": "stderr",
     "output_type": "stream",
     "text": [
      " 63%|██████▎   | 17/27 [12:35<18:24, 110.45s/it]"
     ]
    },
    {
     "name": "stdout",
     "output_type": "stream",
     "text": [
      "{'Model': 'PassiveAggressiveClassifier', 'Accuracy': 0.3297232250300842, 'Balanced Accuracy': 0.32736373212418907, 'ROC AUC': None, 'F1 Score': 0.3304356964388607, 'Time taken': 1.0019760131835938}\n"
     ]
    },
    {
     "name": "stderr",
     "output_type": "stream",
     "text": [
      " 67%|██████▋   | 18/27 [12:36<11:41, 77.96s/it] "
     ]
    },
    {
     "name": "stdout",
     "output_type": "stream",
     "text": [
      "{'Model': 'Perceptron', 'Accuracy': 0.355294825511432, 'Balanced Accuracy': 0.35629217919287004, 'ROC AUC': None, 'F1 Score': 0.34763109424904914, 'Time taken': 0.9606771469116211}\n"
     ]
    },
    {
     "name": "stderr",
     "output_type": "stream",
     "text": [
      " 70%|███████   | 19/27 [12:36<07:18, 54.83s/it]"
     ]
    },
    {
     "name": "stdout",
     "output_type": "stream",
     "text": [
      "{'Model': 'QuadraticDiscriminantAnalysis', 'Accuracy': 0.43852787805856397, 'Balanced Accuracy': 0.43963382531109474, 'ROC AUC': None, 'F1 Score': 0.40727885764505045, 'Time taken': 0.25894689559936523}\n"
     ]
    },
    {
     "name": "stderr",
     "output_type": "stream",
     "text": [
      " 78%|███████▊  | 21/27 [13:14<03:28, 34.77s/it]"
     ]
    },
    {
     "name": "stdout",
     "output_type": "stream",
     "text": [
      "{'Model': 'RandomForestClassifier', 'Accuracy': 0.6684717208182912, 'Balanced Accuracy': 0.6689229392812515, 'ROC AUC': None, 'F1 Score': 0.6656513656589493, 'Time taken': 37.06539487838745}\n",
      "{'Model': 'RidgeClassifier', 'Accuracy': 0.470517448856799, 'Balanced Accuracy': 0.4719392820479218, 'ROC AUC': None, 'F1 Score': 0.44575309333941193, 'Time taken': 0.13492918014526367}\n"
     ]
    },
    {
     "name": "stderr",
     "output_type": "stream",
     "text": [
      " 81%|████████▏ | 22/27 [13:14<02:02, 24.46s/it]"
     ]
    },
    {
     "name": "stdout",
     "output_type": "stream",
     "text": [
      "{'Model': 'RidgeClassifierCV', 'Accuracy': 0.476032892097874, 'Balanced Accuracy': 0.47742888766482955, 'ROC AUC': None, 'F1 Score': 0.45222566253301494, 'Time taken': 0.31388401985168457}\n"
     ]
    },
    {
     "name": "stderr",
     "output_type": "stream",
     "text": [
      " 85%|████████▌ | 23/27 [13:17<01:12, 18.08s/it]"
     ]
    },
    {
     "name": "stdout",
     "output_type": "stream",
     "text": [
      "{'Model': 'SGDClassifier', 'Accuracy': 0.45156438026474127, 'Balanced Accuracy': 0.45113507022697863, 'ROC AUC': None, 'F1 Score': 0.4310747147622988, 'Time taken': 3.1598269939422607}\n"
     ]
    },
    {
     "name": "stderr",
     "output_type": "stream",
     "text": [
      " 89%|████████▉ | 24/27 [16:54<03:52, 77.65s/it]"
     ]
    },
    {
     "name": "stdout",
     "output_type": "stream",
     "text": [
      "{'Model': 'SVC', 'Accuracy': 0.6621540312876053, 'Balanced Accuracy': 0.6623197577315645, 'ROC AUC': None, 'F1 Score': 0.6590857099110877, 'Time taken': 216.90576601028442}\n"
     ]
    },
    {
     "name": "stderr",
     "output_type": "stream",
     "text": [
      " 96%|█████████▋| 26/27 [17:09<00:45, 45.25s/it]"
     ]
    },
    {
     "name": "stdout",
     "output_type": "stream",
     "text": [
      "{'Model': 'XGBClassifier', 'Accuracy': 0.6987565182511031, 'Balanced Accuracy': 0.6990178180209685, 'ROC AUC': None, 'F1 Score': 0.6974910150473389, 'Time taken': 14.782963037490845}\n",
      "[LightGBM] [Info] Auto-choosing col-wise multi-threading, the overhead of testing was 0.009872 seconds.\n",
      "You can set `force_col_wise=true` to remove the overhead.\n",
      "[LightGBM] [Info] Total Bins 7870\n",
      "[LightGBM] [Info] Number of data points in the train set: 39888, number of used features: 33\n",
      "[LightGBM] [Info] Start training from score -2.297534\n",
      "[LightGBM] [Info] Start training from score -2.297534\n",
      "[LightGBM] [Info] Start training from score -2.307813\n",
      "[LightGBM] [Info] Start training from score -2.296786\n",
      "[LightGBM] [Info] Start training from score -2.317691\n",
      "[LightGBM] [Info] Start training from score -2.301032\n",
      "[LightGBM] [Info] Start training from score -2.300782\n",
      "[LightGBM] [Info] Start training from score -2.300531\n",
      "[LightGBM] [Info] Start training from score -2.295291\n",
      "[LightGBM] [Info] Start training from score -2.311095\n"
     ]
    },
    {
     "name": "stderr",
     "output_type": "stream",
     "text": [
      "100%|██████████| 27/27 [17:17<00:00, 38.41s/it]"
     ]
    },
    {
     "name": "stdout",
     "output_type": "stream",
     "text": [
      "{'Model': 'LGBMClassifier', 'Accuracy': 0.6897312474929803, 'Balanced Accuracy': 0.6899854120350588, 'ROC AUC': None, 'F1 Score': 0.6882821594336965, 'Time taken': 7.7833640575408936}\n"
     ]
    },
    {
     "name": "stderr",
     "output_type": "stream",
     "text": [
      "\n"
     ]
    }
   ],
   "source": [
    "clf = LazyClassifier(verbose=0,ignore_warnings=True, custom_metric=None)\n",
    "models,predictions = clf.fit(X_train, X_test, y_train, y_test)"
   ]
  },
  {
   "cell_type": "code",
   "execution_count": 14,
   "id": "2a518f29-4ca4-4c67-bbd5-e385161969de",
   "metadata": {},
   "outputs": [
    {
     "name": "stdout",
     "output_type": "stream",
     "text": [
      "                               Accuracy  Balanced Accuracy ROC AUC  F1 Score  \\\n",
      "Model                                                                          \n",
      "XGBClassifier                      0.70               0.70    None      0.70   \n",
      "LGBMClassifier                     0.69               0.69    None      0.69   \n",
      "RandomForestClassifier             0.67               0.67    None      0.67   \n",
      "SVC                                0.66               0.66    None      0.66   \n",
      "ExtraTreesClassifier               0.65               0.65    None      0.65   \n",
      "BaggingClassifier                  0.62               0.62    None      0.62   \n",
      "NuSVC                              0.61               0.61    None      0.61   \n",
      "DecisionTreeClassifier             0.54               0.55    None      0.54   \n",
      "LogisticRegression                 0.52               0.52    None      0.51   \n",
      "AdaBoostClassifier                 0.52               0.52    None      0.51   \n",
      "LinearDiscriminantAnalysis         0.50               0.51    None      0.50   \n",
      "CalibratedClassifierCV             0.50               0.50    None      0.49   \n",
      "LinearSVC                          0.49               0.49    None      0.47   \n",
      "KNeighborsClassifier               0.49               0.49    None      0.49   \n",
      "RidgeClassifierCV                  0.48               0.48    None      0.45   \n",
      "RidgeClassifier                    0.47               0.47    None      0.45   \n",
      "SGDClassifier                      0.45               0.45    None      0.43   \n",
      "QuadraticDiscriminantAnalysis      0.44               0.44    None      0.41   \n",
      "ExtraTreeClassifier                0.37               0.37    None      0.37   \n",
      "Perceptron                         0.36               0.36    None      0.35   \n",
      "GaussianNB                         0.35               0.35    None      0.33   \n",
      "BernoulliNB                        0.35               0.35    None      0.34   \n",
      "NearestCentroid                    0.33               0.33    None      0.32   \n",
      "PassiveAggressiveClassifier        0.33               0.33    None      0.33   \n",
      "DummyClassifier                    0.10               0.10    None      0.02   \n",
      "\n",
      "                               Time Taken  \n",
      "Model                                      \n",
      "XGBClassifier                       14.78  \n",
      "LGBMClassifier                       7.78  \n",
      "RandomForestClassifier              37.07  \n",
      "SVC                                216.91  \n",
      "ExtraTreesClassifier                10.80  \n",
      "BaggingClassifier                   23.94  \n",
      "NuSVC                              485.73  \n",
      "DecisionTreeClassifier               3.78  \n",
      "LogisticRegression                   2.05  \n",
      "AdaBoostClassifier                  15.46  \n",
      "LinearDiscriminantAnalysis           0.34  \n",
      "CalibratedClassifierCV              88.62  \n",
      "LinearSVC                          121.00  \n",
      "KNeighborsClassifier                 2.10  \n",
      "RidgeClassifierCV                    0.31  \n",
      "RidgeClassifier                      0.13  \n",
      "SGDClassifier                        3.16  \n",
      "QuadraticDiscriminantAnalysis        0.26  \n",
      "ExtraTreeClassifier                  0.22  \n",
      "Perceptron                           0.96  \n",
      "GaussianNB                           0.19  \n",
      "BernoulliNB                          0.14  \n",
      "NearestCentroid                      0.14  \n",
      "PassiveAggressiveClassifier          1.00  \n",
      "DummyClassifier                      0.09  \n"
     ]
    }
   ],
   "source": [
    "print(models)"
   ]
  },
  {
   "cell_type": "markdown",
   "id": "8d851446-f637-4b75-a0c9-7f65786eeedc",
   "metadata": {},
   "source": [
    "# Espectral + MFCC"
   ]
  },
  {
   "cell_type": "code",
   "execution_count": 15,
   "id": "fd257aab-5f46-4a2a-8c69-f73cb7f9a626",
   "metadata": {},
   "outputs": [],
   "source": [
    "df1 = pd.read_csv(\"../Features/Resultados/clean_spectral_insect.csv\")\n",
    "df2 = pd.read_csv(\"../Features/Resultados/clean_mfcc_insect.csv\")"
   ]
  },
  {
   "cell_type": "code",
   "execution_count": 16,
   "id": "e732d2d8-f47e-4f41-847d-d3e8bde550d0",
   "metadata": {},
   "outputs": [
    {
     "data": {
      "text/plain": [
       "insect\n",
       "Ae. aegypti.f     4975\n",
       "Ae. aegypti.m     4986\n",
       "Cx. quinq.f       4991\n",
       "Cx. quinq.m       4979\n",
       "Cx. stigma.f      4992\n",
       "Cx. stigma.m      4983\n",
       "Cx. tarsalis.f    4981\n",
       "Cx. tarsalis.m    4986\n",
       "D. simulans       4992\n",
       "M. domestica      4995\n",
       "dtype: int64"
      ]
     },
     "execution_count": 16,
     "metadata": {},
     "output_type": "execute_result"
    }
   ],
   "source": [
    "df1.drop(columns=['insect'], inplace=True)\n",
    "data = pd.merge(df1, df2, on='Path_name', how='inner')\n",
    "# Distribución de las clases\n",
    "data.groupby('insect').size()"
   ]
  },
  {
   "cell_type": "code",
   "execution_count": 17,
   "id": "fdaa60a7-8135-4336-9941-e502de6207cc",
   "metadata": {},
   "outputs": [],
   "source": [
    "# Codificación de la variable objetivo\n",
    "from sklearn.preprocessing import LabelEncoder\n",
    "\n",
    "encoder = LabelEncoder()\n",
    "data.insect = encoder.fit_transform(data.insect)\n",
    "\n",
    "features = data.columns.tolist()\n",
    "features.remove('insect')\n",
    "features.remove('Path_name')\n",
    "\n",
    "X_train, X_test, y_train, y_test = train_test_split(data[features].values,\\\n",
    "                                                    data['insect'].values,\\\n",
    "                                                    test_size=0.2,\\\n",
    "                                                    random_state=7)"
   ]
  },
  {
   "cell_type": "code",
   "execution_count": 18,
   "id": "a0af790a-d7a7-4fa6-aaea-14b3eb67577d",
   "metadata": {
    "collapsed": true,
    "jupyter": {
     "outputs_hidden": true
    }
   },
   "outputs": [
    {
     "name": "stderr",
     "output_type": "stream",
     "text": [
      " 96%|█████████▋| 26/27 [32:35<01:11, 71.84s/it] "
     ]
    },
    {
     "name": "stdout",
     "output_type": "stream",
     "text": [
      "[LightGBM] [Info] Auto-choosing col-wise multi-threading, the overhead of testing was 0.058107 seconds.\n",
      "You can set `force_col_wise=true` to remove the overhead.\n",
      "[LightGBM] [Info] Total Bins 43060\n",
      "[LightGBM] [Info] Number of data points in the train set: 39888, number of used features: 171\n",
      "[LightGBM] [Info] Start training from score -2.297534\n",
      "[LightGBM] [Info] Start training from score -2.297534\n",
      "[LightGBM] [Info] Start training from score -2.307813\n",
      "[LightGBM] [Info] Start training from score -2.296786\n",
      "[LightGBM] [Info] Start training from score -2.317691\n",
      "[LightGBM] [Info] Start training from score -2.301032\n",
      "[LightGBM] [Info] Start training from score -2.300782\n",
      "[LightGBM] [Info] Start training from score -2.300531\n",
      "[LightGBM] [Info] Start training from score -2.295291\n",
      "[LightGBM] [Info] Start training from score -2.311095\n"
     ]
    },
    {
     "name": "stderr",
     "output_type": "stream",
     "text": [
      "100%|██████████| 27/27 [33:12<00:00, 73.78s/it]\n"
     ]
    }
   ],
   "source": [
    "clf = LazyClassifier(verbose=0,ignore_warnings=True, custom_metric=None)\n",
    "models,predictions = clf.fit(X_train, X_test, y_train, y_test)"
   ]
  },
  {
   "cell_type": "code",
   "execution_count": 19,
   "id": "340e0380-2fbb-4ce5-92ce-401d517a7717",
   "metadata": {},
   "outputs": [
    {
     "name": "stdout",
     "output_type": "stream",
     "text": [
      "                               Accuracy  Balanced Accuracy ROC AUC  F1 Score  \\\n",
      "Model                                                                          \n",
      "LGBMClassifier                     0.76               0.76    None      0.76   \n",
      "XGBClassifier                      0.76               0.76    None      0.76   \n",
      "SVC                                0.76               0.76    None      0.76   \n",
      "RandomForestClassifier             0.72               0.72    None      0.72   \n",
      "ExtraTreesClassifier               0.72               0.72    None      0.71   \n",
      "NuSVC                              0.70               0.70    None      0.69   \n",
      "LogisticRegression                 0.67               0.67    None      0.67   \n",
      "KNeighborsClassifier               0.67               0.67    None      0.67   \n",
      "BaggingClassifier                  0.66               0.66    None      0.66   \n",
      "LinearSVC                          0.65               0.65    None      0.65   \n",
      "CalibratedClassifierCV             0.65               0.65    None      0.65   \n",
      "LinearDiscriminantAnalysis         0.64               0.64    None      0.64   \n",
      "RidgeClassifier                    0.62               0.62    None      0.60   \n",
      "RidgeClassifierCV                  0.62               0.62    None      0.60   \n",
      "SGDClassifier                      0.61               0.61    None      0.61   \n",
      "NearestCentroid                    0.58               0.58    None      0.58   \n",
      "BernoulliNB                        0.57               0.57    None      0.56   \n",
      "DecisionTreeClassifier             0.56               0.56    None      0.56   \n",
      "GaussianNB                         0.55               0.56    None      0.53   \n",
      "AdaBoostClassifier                 0.55               0.55    None      0.54   \n",
      "PassiveAggressiveClassifier        0.53               0.53    None      0.52   \n",
      "Perceptron                         0.53               0.53    None      0.52   \n",
      "ExtraTreeClassifier                0.46               0.47    None      0.46   \n",
      "QuadraticDiscriminantAnalysis      0.45               0.45    None      0.41   \n",
      "DummyClassifier                    0.10               0.10    None      0.02   \n",
      "\n",
      "                               Time Taken  \n",
      "Model                                      \n",
      "LGBMClassifier                      36.30  \n",
      "XGBClassifier                       73.07  \n",
      "SVC                                254.61  \n",
      "RandomForestClassifier              96.91  \n",
      "ExtraTreesClassifier                20.31  \n",
      "NuSVC                              706.93  \n",
      "LogisticRegression                   4.34  \n",
      "KNeighborsClassifier                 5.16  \n",
      "BaggingClassifier                  142.20  \n",
      "LinearSVC                          253.37  \n",
      "CalibratedClassifierCV             264.52  \n",
      "LinearDiscriminantAnalysis           1.92  \n",
      "RidgeClassifier                      0.54  \n",
      "RidgeClassifierCV                    1.90  \n",
      "SGDClassifier                       20.33  \n",
      "NearestCentroid                      0.43  \n",
      "BernoulliNB                          0.52  \n",
      "DecisionTreeClassifier              21.25  \n",
      "GaussianNB                           0.66  \n",
      "AdaBoostClassifier                  79.93  \n",
      "PassiveAggressiveClassifier          2.70  \n",
      "Perceptron                           1.43  \n",
      "ExtraTreeClassifier                  0.56  \n",
      "QuadraticDiscriminantAnalysis        1.48  \n",
      "DummyClassifier                      0.37  \n"
     ]
    }
   ],
   "source": [
    "print(models)"
   ]
  },
  {
   "cell_type": "markdown",
   "id": "70bb5d4a-8c0c-41a5-98c8-a8cce70e2586",
   "metadata": {},
   "source": [
    "# Temporal + DWT "
   ]
  },
  {
   "cell_type": "code",
   "execution_count": 2,
   "id": "efc88817-8fc0-486a-8f8d-1b4030ea46b6",
   "metadata": {},
   "outputs": [],
   "source": [
    "df1 = pd.read_csv(\"../Features/Resultados/clean_temporal_insect.csv\")\n",
    "df2 = pd.read_csv(\"../Features/Resultados/clean_dwt_db5_5_insect.csv\")"
   ]
  },
  {
   "cell_type": "code",
   "execution_count": 3,
   "id": "652af0fa-818c-4104-bd64-8e5d9b86bcb1",
   "metadata": {},
   "outputs": [
    {
     "data": {
      "text/plain": [
       "insect\n",
       "Ae. aegypti.f     5000\n",
       "Ae. aegypti.m     4999\n",
       "Cx. quinq.f       4999\n",
       "Cx. quinq.m       4997\n",
       "Cx. stigma.f      4999\n",
       "Cx. stigma.m      4997\n",
       "Cx. tarsalis.f    5000\n",
       "Cx. tarsalis.m    4998\n",
       "D. simulans       4999\n",
       "M. domestica      4999\n",
       "dtype: int64"
      ]
     },
     "execution_count": 3,
     "metadata": {},
     "output_type": "execute_result"
    }
   ],
   "source": [
    "df1.drop(columns=['insect'], inplace=True)\n",
    "data = pd.merge(df1, df2, on='Path_name', how='inner')\n",
    "# Distribución de las clases\n",
    "data.groupby('insect').size()"
   ]
  },
  {
   "cell_type": "code",
   "execution_count": 4,
   "id": "9e12b787-bca8-4cc8-9a3d-0e47469ce041",
   "metadata": {},
   "outputs": [],
   "source": [
    "# Codificación de la variable objetivo\n",
    "from sklearn.preprocessing import LabelEncoder\n",
    "\n",
    "encoder = LabelEncoder()\n",
    "data.insect = encoder.fit_transform(data.insect)\n",
    "\n",
    "features = data.columns.tolist()\n",
    "features.remove('insect')\n",
    "features.remove('Path_name')\n",
    "\n",
    "X_train, X_test, y_train, y_test = train_test_split(data[features].values,\\\n",
    "                                                    data['insect'].values,\\\n",
    "                                                    test_size=0.2,\\\n",
    "                                                    random_state=7)"
   ]
  },
  {
   "cell_type": "code",
   "execution_count": 5,
   "id": "1abfeaa3-d582-42b4-b57f-7197452db479",
   "metadata": {
    "collapsed": true,
    "jupyter": {
     "outputs_hidden": true
    }
   },
   "outputs": [
    {
     "name": "stderr",
     "output_type": "stream",
     "text": [
      "  4%|▎         | 1/27 [00:12<05:15, 12.13s/it]"
     ]
    },
    {
     "name": "stdout",
     "output_type": "stream",
     "text": [
      "{'Model': 'AdaBoostClassifier', 'Accuracy': 0.3687737547509502, 'Balanced Accuracy': 0.3687251700513141, 'ROC AUC': None, 'F1 Score': 0.35361421122311937, 'Time taken': 12.133350133895874}\n"
     ]
    },
    {
     "name": "stderr",
     "output_type": "stream",
     "text": [
      " 11%|█         | 3/27 [00:29<03:20,  8.36s/it]"
     ]
    },
    {
     "name": "stdout",
     "output_type": "stream",
     "text": [
      "{'Model': 'BaggingClassifier', 'Accuracy': 0.47959591918383676, 'Balanced Accuracy': 0.4801023398986753, 'ROC AUC': None, 'F1 Score': 0.4754229503756838, 'Time taken': 17.417358875274658}\n",
      "{'Model': 'BernoulliNB', 'Accuracy': 0.22684536907381475, 'Balanced Accuracy': 0.22557325606303263, 'ROC AUC': None, 'F1 Score': 0.20036391849195587, 'Time taken': 0.16488003730773926}\n"
     ]
    },
    {
     "name": "stderr",
     "output_type": "stream",
     "text": [
      " 15%|█▍        | 4/27 [01:21<09:44, 25.40s/it]"
     ]
    },
    {
     "name": "stdout",
     "output_type": "stream",
     "text": [
      "{'Model': 'CalibratedClassifierCV', 'Accuracy': 0.4320864172834567, 'Balanced Accuracy': 0.4324388413927994, 'ROC AUC': None, 'F1 Score': 0.4114530795834119, 'Time taken': 51.50896406173706}\n"
     ]
    },
    {
     "name": "stderr",
     "output_type": "stream",
     "text": [
      " 22%|██▏       | 6/27 [01:23<04:25, 12.66s/it]"
     ]
    },
    {
     "name": "stdout",
     "output_type": "stream",
     "text": [
      "{'Model': 'DecisionTreeClassifier', 'Accuracy': 0.3804760952190438, 'Balanced Accuracy': 0.3803001011800874, 'ROC AUC': None, 'F1 Score': 0.3806830379534669, 'Time taken': 2.678530216217041}\n",
      "{'Model': 'DummyClassifier', 'Accuracy': 0.09671934386877376, 'Balanced Accuracy': 0.1, 'ROC AUC': None, 'F1 Score': 0.017059298772659232, 'Time taken': 0.07016515731811523}\n"
     ]
    },
    {
     "name": "stderr",
     "output_type": "stream",
     "text": [
      " 30%|██▉       | 8/27 [01:24<02:17,  7.26s/it]"
     ]
    },
    {
     "name": "stdout",
     "output_type": "stream",
     "text": [
      "{'Model': 'ExtraTreeClassifier', 'Accuracy': 0.2966593318663733, 'Balanced Accuracy': 0.29639855432188444, 'ROC AUC': None, 'F1 Score': 0.2975880406744895, 'Time taken': 0.16006112098693848}\n"
     ]
    },
    {
     "name": "stderr",
     "output_type": "stream",
     "text": [
      " 37%|███▋      | 10/27 [01:35<01:43,  6.08s/it]"
     ]
    },
    {
     "name": "stdout",
     "output_type": "stream",
     "text": [
      "{'Model': 'ExtraTreesClassifier', 'Accuracy': 0.5191038207641528, 'Balanced Accuracy': 0.5192824704916302, 'ROC AUC': None, 'F1 Score': 0.509661848949384, 'Time taken': 10.765563726425171}\n",
      "{'Model': 'GaussianNB', 'Accuracy': 0.2570514102820564, 'Balanced Accuracy': 0.25609504239616354, 'ROC AUC': None, 'F1 Score': 0.23936314871725733, 'Time taken': 0.12314391136169434}\n"
     ]
    },
    {
     "name": "stderr",
     "output_type": "stream",
     "text": [
      " 44%|████▍     | 12/27 [01:37<00:55,  3.70s/it]"
     ]
    },
    {
     "name": "stdout",
     "output_type": "stream",
     "text": [
      "{'Model': 'KNeighborsClassifier', 'Accuracy': 0.40938187637527507, 'Balanced Accuracy': 0.41028650011376905, 'ROC AUC': None, 'F1 Score': 0.40709723713552715, 'Time taken': 2.068815231323242}\n",
      "{'Model': 'LinearDiscriminantAnalysis', 'Accuracy': 0.4349869973994799, 'Balanced Accuracy': 0.4352441357650842, 'ROC AUC': None, 'F1 Score': 0.42998324168297664, 'Time taken': 0.20228791236877441}\n"
     ]
    },
    {
     "name": "stderr",
     "output_type": "stream",
     "text": [
      " 48%|████▊     | 13/27 [03:23<07:36, 32.64s/it]"
     ]
    },
    {
     "name": "stdout",
     "output_type": "stream",
     "text": [
      "{'Model': 'LinearSVC', 'Accuracy': 0.42208441688337667, 'Balanced Accuracy': 0.42305166247595505, 'ROC AUC': None, 'F1 Score': 0.3828051489743034, 'Time taken': 106.52968096733093}\n"
     ]
    },
    {
     "name": "stderr",
     "output_type": "stream",
     "text": [
      " 52%|█████▏    | 14/27 [03:25<05:09, 23.78s/it]"
     ]
    },
    {
     "name": "stdout",
     "output_type": "stream",
     "text": [
      "{'Model': 'LogisticRegression', 'Accuracy': 0.4388877775555111, 'Balanced Accuracy': 0.43924725884921684, 'ROC AUC': None, 'F1 Score': 0.4252789681765808, 'Time taken': 1.7488758563995361}\n",
      "{'Model': 'NearestCentroid', 'Accuracy': 0.2454490898179636, 'Balanced Accuracy': 0.24432944244640004, 'ROC AUC': None, 'F1 Score': 0.2304066480803985, 'Time taken': 0.08994507789611816}\n"
     ]
    },
    {
     "name": "stderr",
     "output_type": "stream",
     "text": [
      " 59%|█████▉    | 16/27 [10:15<19:19, 105.39s/it]"
     ]
    },
    {
     "name": "stdout",
     "output_type": "stream",
     "text": [
      "{'Model': 'NuSVC', 'Accuracy': 0.5199039807961592, 'Balanced Accuracy': 0.5200431625375423, 'ROC AUC': None, 'F1 Score': 0.513564941582866, 'Time taken': 409.8897726535797}\n"
     ]
    },
    {
     "name": "stderr",
     "output_type": "stream",
     "text": [
      " 63%|██████▎   | 17/27 [10:16<13:19, 79.94s/it] "
     ]
    },
    {
     "name": "stdout",
     "output_type": "stream",
     "text": [
      "{'Model': 'PassiveAggressiveClassifier', 'Accuracy': 0.2631526305261052, 'Balanced Accuracy': 0.26311003334602645, 'ROC AUC': None, 'F1 Score': 0.25381029617389345, 'Time taken': 0.8326051235198975}\n"
     ]
    },
    {
     "name": "stderr",
     "output_type": "stream",
     "text": [
      " 70%|███████   | 19/27 [10:17<05:48, 43.56s/it]"
     ]
    },
    {
     "name": "stdout",
     "output_type": "stream",
     "text": [
      "{'Model': 'Perceptron', 'Accuracy': 0.22844568913782756, 'Balanced Accuracy': 0.22890865756485584, 'ROC AUC': None, 'F1 Score': 0.22800220393529363, 'Time taken': 0.9329662322998047}\n",
      "{'Model': 'QuadraticDiscriminantAnalysis', 'Accuracy': 0.373374674934987, 'Balanced Accuracy': 0.37324236278267736, 'ROC AUC': None, 'F1 Score': 0.3210796739027042, 'Time taken': 0.13977885246276855}\n"
     ]
    },
    {
     "name": "stderr",
     "output_type": "stream",
     "text": [
      " 78%|███████▊  | 21/27 [10:49<02:53, 28.84s/it]"
     ]
    },
    {
     "name": "stdout",
     "output_type": "stream",
     "text": [
      "{'Model': 'RandomForestClassifier', 'Accuracy': 0.5336067213442689, 'Balanced Accuracy': 0.5337261875707178, 'ROC AUC': None, 'F1 Score': 0.5257227658314692, 'Time taken': 31.629947900772095}\n",
      "{'Model': 'RidgeClassifier', 'Accuracy': 0.39797959591918386, 'Balanced Accuracy': 0.3989143011462229, 'ROC AUC': None, 'F1 Score': 0.3567626673944436, 'Time taken': 0.1057138442993164}\n"
     ]
    },
    {
     "name": "stderr",
     "output_type": "stream",
     "text": [
      " 81%|████████▏ | 22/27 [10:49<01:42, 20.58s/it]"
     ]
    },
    {
     "name": "stdout",
     "output_type": "stream",
     "text": [
      "{'Model': 'RidgeClassifierCV', 'Accuracy': 0.40798159631926384, 'Balanced Accuracy': 0.40897470540164704, 'ROC AUC': None, 'F1 Score': 0.36843238060811834, 'Time taken': 0.22895097732543945}\n"
     ]
    },
    {
     "name": "stderr",
     "output_type": "stream",
     "text": [
      " 85%|████████▌ | 23/27 [10:52<01:01, 15.37s/it]"
     ]
    },
    {
     "name": "stdout",
     "output_type": "stream",
     "text": [
      "{'Model': 'SGDClassifier', 'Accuracy': 0.34226845369073816, 'Balanced Accuracy': 0.34160208359234, 'ROC AUC': None, 'F1 Score': 0.31881699260129637, 'Time taken': 2.721229076385498}\n"
     ]
    },
    {
     "name": "stderr",
     "output_type": "stream",
     "text": [
      " 89%|████████▉ | 24/27 [14:51<04:03, 81.33s/it]"
     ]
    },
    {
     "name": "stdout",
     "output_type": "stream",
     "text": [
      "{'Model': 'SVC', 'Accuracy': 0.5510102020404081, 'Balanced Accuracy': 0.5511598948826122, 'ROC AUC': None, 'F1 Score': 0.5451115581606624, 'Time taken': 239.4626989364624}\n"
     ]
    },
    {
     "name": "stderr",
     "output_type": "stream",
     "text": [
      " 96%|█████████▋| 26/27 [15:07<00:47, 47.67s/it]"
     ]
    },
    {
     "name": "stdout",
     "output_type": "stream",
     "text": [
      "{'Model': 'XGBClassifier', 'Accuracy': 0.5628125625125024, 'Balanced Accuracy': 0.5629001500813178, 'ROC AUC': None, 'F1 Score': 0.5590994693503882, 'Time taken': 15.293097019195557}\n",
      "[LightGBM] [Info] Auto-choosing col-wise multi-threading, the overhead of testing was 0.011869 seconds.\n",
      "You can set `force_col_wise=true` to remove the overhead.\n",
      "[LightGBM] [Info] Total Bins 5865\n",
      "[LightGBM] [Info] Number of data points in the train set: 39989, number of used features: 23\n",
      "[LightGBM] [Info] Start training from score -2.294094\n",
      "[LightGBM] [Info] Start training from score -2.298816\n",
      "[LightGBM] [Info] Start training from score -2.301311\n",
      "[LightGBM] [Info] Start training from score -2.296080\n",
      "[LightGBM] [Info] Start training from score -2.308328\n",
      "[LightGBM] [Info] Start training from score -2.300811\n",
      "[LightGBM] [Info] Start training from score -2.304813\n",
      "[LightGBM] [Info] Start training from score -2.310342\n",
      "[LightGBM] [Info] Start training from score -2.303561\n",
      "[LightGBM] [Info] Start training from score -2.307825\n"
     ]
    },
    {
     "name": "stderr",
     "output_type": "stream",
     "text": [
      "100%|██████████| 27/27 [15:15<00:00, 33.89s/it]"
     ]
    },
    {
     "name": "stdout",
     "output_type": "stream",
     "text": [
      "{'Model': 'LGBMClassifier', 'Accuracy': 0.5637127425485097, 'Balanced Accuracy': 0.5639263057484138, 'ROC AUC': None, 'F1 Score': 0.5585530651803727, 'Time taken': 8.14320182800293}\n"
     ]
    },
    {
     "name": "stderr",
     "output_type": "stream",
     "text": [
      "\n"
     ]
    }
   ],
   "source": [
    "clf = LazyClassifier(verbose=0,ignore_warnings=True, custom_metric=None)\n",
    "models,predictions = clf.fit(X_train, X_test, y_train, y_test)"
   ]
  },
  {
   "cell_type": "code",
   "execution_count": 6,
   "id": "37b6e7b4-d6e2-48e5-93a6-cd24cf45a303",
   "metadata": {},
   "outputs": [
    {
     "name": "stdout",
     "output_type": "stream",
     "text": [
      "                               Accuracy  Balanced Accuracy ROC AUC  F1 Score  \\\n",
      "Model                                                                          \n",
      "LGBMClassifier                     0.56               0.56    None      0.56   \n",
      "XGBClassifier                      0.56               0.56    None      0.56   \n",
      "SVC                                0.55               0.55    None      0.55   \n",
      "RandomForestClassifier             0.53               0.53    None      0.53   \n",
      "NuSVC                              0.52               0.52    None      0.51   \n",
      "ExtraTreesClassifier               0.52               0.52    None      0.51   \n",
      "BaggingClassifier                  0.48               0.48    None      0.48   \n",
      "LogisticRegression                 0.44               0.44    None      0.43   \n",
      "LinearDiscriminantAnalysis         0.43               0.44    None      0.43   \n",
      "CalibratedClassifierCV             0.43               0.43    None      0.41   \n",
      "LinearSVC                          0.42               0.42    None      0.38   \n",
      "KNeighborsClassifier               0.41               0.41    None      0.41   \n",
      "RidgeClassifierCV                  0.41               0.41    None      0.37   \n",
      "RidgeClassifier                    0.40               0.40    None      0.36   \n",
      "DecisionTreeClassifier             0.38               0.38    None      0.38   \n",
      "QuadraticDiscriminantAnalysis      0.37               0.37    None      0.32   \n",
      "AdaBoostClassifier                 0.37               0.37    None      0.35   \n",
      "SGDClassifier                      0.34               0.34    None      0.32   \n",
      "ExtraTreeClassifier                0.30               0.30    None      0.30   \n",
      "PassiveAggressiveClassifier        0.26               0.26    None      0.25   \n",
      "GaussianNB                         0.26               0.26    None      0.24   \n",
      "NearestCentroid                    0.25               0.24    None      0.23   \n",
      "Perceptron                         0.23               0.23    None      0.23   \n",
      "BernoulliNB                        0.23               0.23    None      0.20   \n",
      "DummyClassifier                    0.10               0.10    None      0.02   \n",
      "\n",
      "                               Time Taken  \n",
      "Model                                      \n",
      "LGBMClassifier                       8.14  \n",
      "XGBClassifier                       15.29  \n",
      "SVC                                239.46  \n",
      "RandomForestClassifier              31.63  \n",
      "NuSVC                              409.89  \n",
      "ExtraTreesClassifier                10.77  \n",
      "BaggingClassifier                   17.42  \n",
      "LogisticRegression                   1.75  \n",
      "LinearDiscriminantAnalysis           0.20  \n",
      "CalibratedClassifierCV              51.51  \n",
      "LinearSVC                          106.53  \n",
      "KNeighborsClassifier                 2.07  \n",
      "RidgeClassifierCV                    0.23  \n",
      "RidgeClassifier                      0.11  \n",
      "DecisionTreeClassifier               2.68  \n",
      "QuadraticDiscriminantAnalysis        0.14  \n",
      "AdaBoostClassifier                  12.13  \n",
      "SGDClassifier                        2.72  \n",
      "ExtraTreeClassifier                  0.16  \n",
      "PassiveAggressiveClassifier          0.83  \n",
      "GaussianNB                           0.12  \n",
      "NearestCentroid                      0.09  \n",
      "Perceptron                           0.93  \n",
      "BernoulliNB                          0.16  \n",
      "DummyClassifier                      0.07  \n"
     ]
    }
   ],
   "source": [
    "print(models)"
   ]
  },
  {
   "cell_type": "markdown",
   "id": "a10e5f2f-d088-4451-a082-ba25ea56d0b5",
   "metadata": {},
   "source": [
    "# Temporal + WPD  "
   ]
  },
  {
   "cell_type": "code",
   "execution_count": 7,
   "id": "fb4486d4-01b9-41fc-8ade-1fab07228d50",
   "metadata": {},
   "outputs": [],
   "source": [
    "df1 = pd.read_csv(\"../Features/Resultados/clean_temporal_insect.csv\")\n",
    "df2 = pd.read_csv(\"../Features/Resultados/clean_wpd_db5_5_insect.csv\")"
   ]
  },
  {
   "cell_type": "code",
   "execution_count": 8,
   "id": "3ec95155-3029-4749-82a3-9b8ad2dccf3d",
   "metadata": {},
   "outputs": [
    {
     "data": {
      "text/plain": [
       "insect\n",
       "Ae. aegypti.f     5000\n",
       "Ae. aegypti.m     4999\n",
       "Cx. quinq.f       4999\n",
       "Cx. quinq.m       4997\n",
       "Cx. stigma.f      4999\n",
       "Cx. stigma.m      4997\n",
       "Cx. tarsalis.f    5000\n",
       "Cx. tarsalis.m    4998\n",
       "D. simulans       4999\n",
       "M. domestica      4999\n",
       "dtype: int64"
      ]
     },
     "execution_count": 8,
     "metadata": {},
     "output_type": "execute_result"
    }
   ],
   "source": [
    "df1.drop(columns=['insect'], inplace=True)\n",
    "data = pd.merge(df1, df2, on='Path_name', how='inner')\n",
    "# Distribución de las clases\n",
    "data.groupby('insect').size()"
   ]
  },
  {
   "cell_type": "code",
   "execution_count": 9,
   "id": "70dc2ef8-d0a7-4797-bef6-4e6b62dc340e",
   "metadata": {},
   "outputs": [],
   "source": [
    "# Codificación de la variable objetivo\n",
    "from sklearn.preprocessing import LabelEncoder\n",
    "\n",
    "encoder = LabelEncoder()\n",
    "data.insect = encoder.fit_transform(data.insect)\n",
    "\n",
    "features = data.columns.tolist()\n",
    "features.remove('insect')\n",
    "features.remove('Path_name')\n",
    "\n",
    "X_train, X_test, y_train, y_test = train_test_split(data[features].values,\\\n",
    "                                                    data['insect'].values,\\\n",
    "                                                    test_size=0.2,\\\n",
    "                                                    random_state=7)"
   ]
  },
  {
   "cell_type": "code",
   "execution_count": 10,
   "id": "e988a30d-7008-44d5-ab7f-e1e0c96e8964",
   "metadata": {
    "collapsed": true,
    "jupyter": {
     "outputs_hidden": true
    }
   },
   "outputs": [
    {
     "name": "stderr",
     "output_type": "stream",
     "text": [
      "  4%|▎         | 1/27 [00:11<05:03, 11.69s/it]"
     ]
    },
    {
     "name": "stdout",
     "output_type": "stream",
     "text": [
      "{'Model': 'AdaBoostClassifier', 'Accuracy': 0.38837767553510705, 'Balanced Accuracy': 0.38832569616851725, 'ROC AUC': None, 'F1 Score': 0.38365713335258433, 'Time taken': 11.684901714324951}\n"
     ]
    },
    {
     "name": "stderr",
     "output_type": "stream",
     "text": [
      " 11%|█         | 3/27 [00:28<03:12,  8.02s/it]"
     ]
    },
    {
     "name": "stdout",
     "output_type": "stream",
     "text": [
      "{'Model': 'BaggingClassifier', 'Accuracy': 0.48599719943988795, 'Balanced Accuracy': 0.4861104333114219, 'ROC AUC': None, 'F1 Score': 0.4834576978945304, 'Time taken': 16.737723112106323}\n",
      "{'Model': 'BernoulliNB', 'Accuracy': 0.22664532906581317, 'Balanced Accuracy': 0.22557820303317566, 'ROC AUC': None, 'F1 Score': 0.20856201481703232, 'Time taken': 0.1291179656982422}\n"
     ]
    },
    {
     "name": "stderr",
     "output_type": "stream",
     "text": [
      " 15%|█▍        | 4/27 [01:11<08:24, 21.93s/it]"
     ]
    },
    {
     "name": "stdout",
     "output_type": "stream",
     "text": [
      "{'Model': 'CalibratedClassifierCV', 'Accuracy': 0.42468493698739745, 'Balanced Accuracy': 0.42474841285073006, 'ROC AUC': None, 'F1 Score': 0.40763139740442755, 'Time taken': 43.25687766075134}\n"
     ]
    },
    {
     "name": "stderr",
     "output_type": "stream",
     "text": [
      " 22%|██▏       | 6/27 [01:14<03:51, 11.03s/it]"
     ]
    },
    {
     "name": "stdout",
     "output_type": "stream",
     "text": [
      "{'Model': 'DecisionTreeClassifier', 'Accuracy': 0.3890778155631126, 'Balanced Accuracy': 0.38885593682454705, 'ROC AUC': None, 'F1 Score': 0.3893474463815994, 'Time taken': 2.640434980392456}\n",
      "{'Model': 'DummyClassifier', 'Accuracy': 0.09671934386877376, 'Balanced Accuracy': 0.1, 'ROC AUC': None, 'F1 Score': 0.017059298772659232, 'Time taken': 0.07297778129577637}\n"
     ]
    },
    {
     "name": "stderr",
     "output_type": "stream",
     "text": [
      " 30%|██▉       | 8/27 [01:14<02:00,  6.33s/it]"
     ]
    },
    {
     "name": "stdout",
     "output_type": "stream",
     "text": [
      "{'Model': 'ExtraTreeClassifier', 'Accuracy': 0.3023604720944189, 'Balanced Accuracy': 0.30216427552612346, 'ROC AUC': None, 'F1 Score': 0.30310876710008017, 'Time taken': 0.1667957305908203}\n"
     ]
    },
    {
     "name": "stderr",
     "output_type": "stream",
     "text": [
      " 37%|███▋      | 10/27 [01:25<01:34,  5.55s/it]"
     ]
    },
    {
     "name": "stdout",
     "output_type": "stream",
     "text": [
      "{'Model': 'ExtraTreesClassifier', 'Accuracy': 0.5014002800560112, 'Balanced Accuracy': 0.5010685266558683, 'ROC AUC': None, 'F1 Score': 0.494200968255373, 'Time taken': 10.77484917640686}\n",
      "{'Model': 'GaussianNB', 'Accuracy': 0.2474494898979796, 'Balanced Accuracy': 0.2469461960358752, 'ROC AUC': None, 'F1 Score': 0.2406606045842413, 'Time taken': 0.12223100662231445}\n"
     ]
    },
    {
     "name": "stderr",
     "output_type": "stream",
     "text": [
      " 41%|████      | 11/27 [01:28<01:15,  4.71s/it]"
     ]
    },
    {
     "name": "stdout",
     "output_type": "stream",
     "text": [
      "{'Model': 'KNeighborsClassifier', 'Accuracy': 0.3857771554310862, 'Balanced Accuracy': 0.38673957707554346, 'ROC AUC': None, 'F1 Score': 0.38678728503776566, 'Time taken': 2.3862459659576416}\n"
     ]
    },
    {
     "name": "stderr",
     "output_type": "stream",
     "text": [
      " 44%|████▍     | 12/27 [01:28<00:52,  3.49s/it]"
     ]
    },
    {
     "name": "stdout",
     "output_type": "stream",
     "text": [
      "{'Model': 'LinearDiscriminantAnalysis', 'Accuracy': 0.41778355671134226, 'Balanced Accuracy': 0.41789920534910896, 'ROC AUC': None, 'F1 Score': 0.41557759162248076, 'Time taken': 0.2443068027496338}\n"
     ]
    },
    {
     "name": "stderr",
     "output_type": "stream",
     "text": [
      " 48%|████▊     | 13/27 [03:20<07:55, 33.95s/it]"
     ]
    },
    {
     "name": "stdout",
     "output_type": "stream",
     "text": [
      "{'Model': 'LinearSVC', 'Accuracy': 0.4219843968793759, 'Balanced Accuracy': 0.4217520519468983, 'ROC AUC': None, 'F1 Score': 0.3880027888678199, 'Time taken': 111.70843315124512}\n"
     ]
    },
    {
     "name": "stderr",
     "output_type": "stream",
     "text": [
      " 52%|█████▏    | 14/27 [03:22<05:22, 24.81s/it]"
     ]
    },
    {
     "name": "stdout",
     "output_type": "stream",
     "text": [
      "{'Model': 'LogisticRegression', 'Accuracy': 0.4525905181036207, 'Balanced Accuracy': 0.4523663705796766, 'ROC AUC': None, 'F1 Score': 0.4434802662015792, 'Time taken': 2.095482110977173}\n",
      "{'Model': 'NearestCentroid', 'Accuracy': 0.2571514302860572, 'Balanced Accuracy': 0.25594568009354546, 'ROC AUC': None, 'F1 Score': 0.24742531639270926, 'Time taken': 0.09517383575439453}\n"
     ]
    },
    {
     "name": "stderr",
     "output_type": "stream",
     "text": [
      " 59%|█████▉    | 16/27 [09:43<18:13, 99.43s/it]"
     ]
    },
    {
     "name": "stdout",
     "output_type": "stream",
     "text": [
      "{'Model': 'NuSVC', 'Accuracy': 0.5091018203640728, 'Balanced Accuracy': 0.5089959379361063, 'ROC AUC': None, 'F1 Score': 0.5043836280994061, 'Time taken': 380.89595794677734}\n"
     ]
    },
    {
     "name": "stderr",
     "output_type": "stream",
     "text": [
      " 63%|██████▎   | 17/27 [09:43<12:34, 75.42s/it]"
     ]
    },
    {
     "name": "stdout",
     "output_type": "stream",
     "text": [
      "{'Model': 'PassiveAggressiveClassifier', 'Accuracy': 0.27165433086617324, 'Balanced Accuracy': 0.2723530123257511, 'ROC AUC': None, 'F1 Score': 0.27204347672497176, 'Time taken': 0.7972640991210938}\n"
     ]
    },
    {
     "name": "stderr",
     "output_type": "stream",
     "text": [
      " 70%|███████   | 19/27 [09:44<05:28, 41.06s/it]"
     ]
    },
    {
     "name": "stdout",
     "output_type": "stream",
     "text": [
      "{'Model': 'Perceptron', 'Accuracy': 0.2940588117623525, 'Balanced Accuracy': 0.2939208109230293, 'ROC AUC': None, 'F1 Score': 0.2986769148901517, 'Time taken': 0.7164149284362793}\n",
      "{'Model': 'QuadraticDiscriminantAnalysis', 'Accuracy': 0.3131626325265053, 'Balanced Accuracy': 0.312931017337253, 'ROC AUC': None, 'F1 Score': 0.2805621335437318, 'Time taken': 0.13170790672302246}\n"
     ]
    },
    {
     "name": "stderr",
     "output_type": "stream",
     "text": [
      " 78%|███████▊  | 21/27 [10:16<02:45, 27.51s/it]"
     ]
    },
    {
     "name": "stdout",
     "output_type": "stream",
     "text": [
      "{'Model': 'RandomForestClassifier', 'Accuracy': 0.529005801160232, 'Balanced Accuracy': 0.528576892778786, 'ROC AUC': None, 'F1 Score': 0.5214491170699088, 'Time taken': 31.415994882583618}\n",
      "{'Model': 'RidgeClassifier', 'Accuracy': 0.39467893578715746, 'Balanced Accuracy': 0.39502693547267054, 'ROC AUC': None, 'F1 Score': 0.3608960635535236, 'Time taken': 0.10057592391967773}\n"
     ]
    },
    {
     "name": "stderr",
     "output_type": "stream",
     "text": [
      " 81%|████████▏ | 22/27 [10:16<01:38, 19.63s/it]"
     ]
    },
    {
     "name": "stdout",
     "output_type": "stream",
     "text": [
      "{'Model': 'RidgeClassifierCV', 'Accuracy': 0.3951790358071614, 'Balanced Accuracy': 0.39551880770362163, 'ROC AUC': None, 'F1 Score': 0.36166243364088874, 'Time taken': 0.21343493461608887}\n"
     ]
    },
    {
     "name": "stderr",
     "output_type": "stream",
     "text": [
      " 85%|████████▌ | 23/27 [10:19<00:58, 14.75s/it]"
     ]
    },
    {
     "name": "stdout",
     "output_type": "stream",
     "text": [
      "{'Model': 'SGDClassifier', 'Accuracy': 0.34266853370674133, 'Balanced Accuracy': 0.3429090112001556, 'ROC AUC': None, 'F1 Score': 0.3118989244514329, 'Time taken': 2.923862934112549}\n"
     ]
    },
    {
     "name": "stderr",
     "output_type": "stream",
     "text": [
      " 89%|████████▉ | 24/27 [13:57<03:43, 74.62s/it]"
     ]
    },
    {
     "name": "stdout",
     "output_type": "stream",
     "text": [
      "{'Model': 'SVC', 'Accuracy': 0.5289057811562312, 'Balanced Accuracy': 0.5287642918210388, 'ROC AUC': None, 'F1 Score': 0.5224820669810781, 'Time taken': 218.12828278541565}\n"
     ]
    },
    {
     "name": "stderr",
     "output_type": "stream",
     "text": [
      " 96%|█████████▋| 26/27 [14:07<00:42, 42.75s/it]"
     ]
    },
    {
     "name": "stdout",
     "output_type": "stream",
     "text": [
      "{'Model': 'XGBClassifier', 'Accuracy': 0.5560112022404481, 'Balanced Accuracy': 0.5553830891571091, 'ROC AUC': None, 'F1 Score': 0.5514204294343026, 'Time taken': 9.706010103225708}\n",
      "[LightGBM] [Info] Auto-choosing col-wise multi-threading, the overhead of testing was 0.006463 seconds.\n",
      "You can set `force_col_wise=true` to remove the overhead.\n",
      "[LightGBM] [Info] Total Bins 5865\n",
      "[LightGBM] [Info] Number of data points in the train set: 39989, number of used features: 23\n",
      "[LightGBM] [Info] Start training from score -2.294094\n",
      "[LightGBM] [Info] Start training from score -2.298816\n",
      "[LightGBM] [Info] Start training from score -2.301311\n",
      "[LightGBM] [Info] Start training from score -2.296080\n",
      "[LightGBM] [Info] Start training from score -2.308328\n",
      "[LightGBM] [Info] Start training from score -2.300811\n",
      "[LightGBM] [Info] Start training from score -2.304813\n",
      "[LightGBM] [Info] Start training from score -2.310342\n",
      "[LightGBM] [Info] Start training from score -2.303561\n",
      "[LightGBM] [Info] Start training from score -2.307825\n"
     ]
    },
    {
     "name": "stderr",
     "output_type": "stream",
     "text": [
      "100%|██████████| 27/27 [14:12<00:00, 31.58s/it]"
     ]
    },
    {
     "name": "stdout",
     "output_type": "stream",
     "text": [
      "{'Model': 'LGBMClassifier', 'Accuracy': 0.5516103220644129, 'Balanced Accuracy': 0.5508789404655695, 'ROC AUC': None, 'F1 Score': 0.5465930088287169, 'Time taken': 5.431277751922607}\n"
     ]
    },
    {
     "name": "stderr",
     "output_type": "stream",
     "text": [
      "\n"
     ]
    }
   ],
   "source": [
    "clf = LazyClassifier(verbose=0,ignore_warnings=True, custom_metric=None)\n",
    "models,predictions = clf.fit(X_train, X_test, y_train, y_test)"
   ]
  },
  {
   "cell_type": "code",
   "execution_count": 11,
   "id": "3f98d1e6-d7d8-4a21-9df6-b880f446a8c3",
   "metadata": {},
   "outputs": [
    {
     "name": "stdout",
     "output_type": "stream",
     "text": [
      "                               Accuracy  Balanced Accuracy ROC AUC  F1 Score  \\\n",
      "Model                                                                          \n",
      "XGBClassifier                      0.56               0.56    None      0.55   \n",
      "LGBMClassifier                     0.55               0.55    None      0.55   \n",
      "SVC                                0.53               0.53    None      0.52   \n",
      "RandomForestClassifier             0.53               0.53    None      0.52   \n",
      "NuSVC                              0.51               0.51    None      0.50   \n",
      "ExtraTreesClassifier               0.50               0.50    None      0.49   \n",
      "BaggingClassifier                  0.49               0.49    None      0.48   \n",
      "LogisticRegression                 0.45               0.45    None      0.44   \n",
      "CalibratedClassifierCV             0.42               0.42    None      0.41   \n",
      "LinearSVC                          0.42               0.42    None      0.39   \n",
      "LinearDiscriminantAnalysis         0.42               0.42    None      0.42   \n",
      "RidgeClassifierCV                  0.40               0.40    None      0.36   \n",
      "RidgeClassifier                    0.39               0.40    None      0.36   \n",
      "DecisionTreeClassifier             0.39               0.39    None      0.39   \n",
      "AdaBoostClassifier                 0.39               0.39    None      0.38   \n",
      "KNeighborsClassifier               0.39               0.39    None      0.39   \n",
      "SGDClassifier                      0.34               0.34    None      0.31   \n",
      "QuadraticDiscriminantAnalysis      0.31               0.31    None      0.28   \n",
      "ExtraTreeClassifier                0.30               0.30    None      0.30   \n",
      "Perceptron                         0.29               0.29    None      0.30   \n",
      "PassiveAggressiveClassifier        0.27               0.27    None      0.27   \n",
      "NearestCentroid                    0.26               0.26    None      0.25   \n",
      "GaussianNB                         0.25               0.25    None      0.24   \n",
      "BernoulliNB                        0.23               0.23    None      0.21   \n",
      "DummyClassifier                    0.10               0.10    None      0.02   \n",
      "\n",
      "                               Time Taken  \n",
      "Model                                      \n",
      "XGBClassifier                        9.71  \n",
      "LGBMClassifier                       5.43  \n",
      "SVC                                218.13  \n",
      "RandomForestClassifier              31.42  \n",
      "NuSVC                              380.90  \n",
      "ExtraTreesClassifier                10.77  \n",
      "BaggingClassifier                   16.74  \n",
      "LogisticRegression                   2.10  \n",
      "CalibratedClassifierCV              43.26  \n",
      "LinearSVC                          111.71  \n",
      "LinearDiscriminantAnalysis           0.24  \n",
      "RidgeClassifierCV                    0.21  \n",
      "RidgeClassifier                      0.10  \n",
      "DecisionTreeClassifier               2.64  \n",
      "AdaBoostClassifier                  11.68  \n",
      "KNeighborsClassifier                 2.39  \n",
      "SGDClassifier                        2.92  \n",
      "QuadraticDiscriminantAnalysis        0.13  \n",
      "ExtraTreeClassifier                  0.17  \n",
      "Perceptron                           0.72  \n",
      "PassiveAggressiveClassifier          0.80  \n",
      "NearestCentroid                      0.10  \n",
      "GaussianNB                           0.12  \n",
      "BernoulliNB                          0.13  \n",
      "DummyClassifier                      0.07  \n"
     ]
    }
   ],
   "source": [
    "print(models)"
   ]
  },
  {
   "cell_type": "markdown",
   "id": "46d1914f-e6bc-4634-97cd-67ff0c6fb3c4",
   "metadata": {},
   "source": [
    "# Temporal + DWPD"
   ]
  },
  {
   "cell_type": "code",
   "execution_count": 20,
   "id": "ea6a0bae-efac-4f75-ab05-884ffd493a41",
   "metadata": {},
   "outputs": [],
   "source": [
    "df1 = pd.read_csv(\"../Features/Resultados/clean_temporal_insect.csv\")\n",
    "df2 = pd.read_csv(\"../Features/Resultados/clean_dwpd_db5_5_insect.csv\")"
   ]
  },
  {
   "cell_type": "code",
   "execution_count": 21,
   "id": "2e460eff-832a-4f27-882b-72f7af1a75f4",
   "metadata": {},
   "outputs": [
    {
     "data": {
      "text/plain": [
       "insect\n",
       "Ae. aegypti.f     5000\n",
       "Ae. aegypti.m     4999\n",
       "Cx. quinq.f       4999\n",
       "Cx. quinq.m       4997\n",
       "Cx. stigma.f      4999\n",
       "Cx. stigma.m      4997\n",
       "Cx. tarsalis.f    5000\n",
       "Cx. tarsalis.m    4998\n",
       "D. simulans       4999\n",
       "M. domestica      4999\n",
       "dtype: int64"
      ]
     },
     "execution_count": 21,
     "metadata": {},
     "output_type": "execute_result"
    }
   ],
   "source": [
    "df1.drop(columns=['insect'], inplace=True)\n",
    "data = pd.merge(df1, df2, on='Path_name', how='inner')\n",
    "# Distribución de las clases\n",
    "data.groupby('insect').size()"
   ]
  },
  {
   "cell_type": "code",
   "execution_count": 22,
   "id": "0eab3ff3-be58-4596-b4ec-c804abaf74da",
   "metadata": {},
   "outputs": [],
   "source": [
    "# Codificación de la variable objetivo\n",
    "from sklearn.preprocessing import LabelEncoder\n",
    "\n",
    "encoder = LabelEncoder()\n",
    "data.insect = encoder.fit_transform(data.insect)\n",
    "\n",
    "features = data.columns.tolist()\n",
    "features.remove('insect')\n",
    "features.remove('Path_name')\n",
    "\n",
    "X_train, X_test, y_train, y_test = train_test_split(data[features].values,\\\n",
    "                                                    data['insect'].values,\\\n",
    "                                                    test_size=0.2,\\\n",
    "                                                    random_state=7)"
   ]
  },
  {
   "cell_type": "code",
   "execution_count": 23,
   "id": "6ed8d81f-b54b-4098-9a0f-a93a77e9baa8",
   "metadata": {
    "collapsed": true,
    "jupyter": {
     "outputs_hidden": true
    }
   },
   "outputs": [
    {
     "name": "stderr",
     "output_type": "stream",
     "text": [
      "  4%|▎         | 1/27 [00:11<04:56, 11.41s/it]"
     ]
    },
    {
     "name": "stdout",
     "output_type": "stream",
     "text": [
      "{'Model': 'AdaBoostClassifier', 'Accuracy': 0.3727745549109822, 'Balanced Accuracy': 0.3724613118000898, 'ROC AUC': None, 'F1 Score': 0.35960476794921414, 'Time taken': 11.40556788444519}\n"
     ]
    },
    {
     "name": "stderr",
     "output_type": "stream",
     "text": [
      " 11%|█         | 3/27 [00:29<03:17,  8.24s/it]"
     ]
    },
    {
     "name": "stdout",
     "output_type": "stream",
     "text": [
      "{'Model': 'BaggingClassifier', 'Accuracy': 0.4756951390278056, 'Balanced Accuracy': 0.47612034292963107, 'ROC AUC': None, 'F1 Score': 0.47218575340890806, 'Time taken': 17.57693886756897}\n",
      "{'Model': 'BernoulliNB', 'Accuracy': 0.22564512902580516, 'Balanced Accuracy': 0.22439908343875925, 'ROC AUC': None, 'F1 Score': 0.19957452776364862, 'Time taken': 0.15534591674804688}\n"
     ]
    },
    {
     "name": "stderr",
     "output_type": "stream",
     "text": [
      " 15%|█▍        | 4/27 [01:17<09:14, 24.09s/it]"
     ]
    },
    {
     "name": "stdout",
     "output_type": "stream",
     "text": [
      "{'Model': 'CalibratedClassifierCV', 'Accuracy': 0.4284856971394279, 'Balanced Accuracy': 0.4288390683996786, 'ROC AUC': None, 'F1 Score': 0.4078266886771862, 'Time taken': 48.382903814315796}\n"
     ]
    },
    {
     "name": "stderr",
     "output_type": "stream",
     "text": [
      " 22%|██▏       | 6/27 [01:20<04:12, 12.03s/it]"
     ]
    },
    {
     "name": "stdout",
     "output_type": "stream",
     "text": [
      "{'Model': 'DecisionTreeClassifier', 'Accuracy': 0.38867773554710944, 'Balanced Accuracy': 0.3885153386633691, 'ROC AUC': None, 'F1 Score': 0.3886213235848783, 'Time taken': 2.6214611530303955}\n",
      "{'Model': 'DummyClassifier', 'Accuracy': 0.09671934386877376, 'Balanced Accuracy': 0.1, 'ROC AUC': None, 'F1 Score': 0.017059298772659232, 'Time taken': 0.09029078483581543}\n"
     ]
    },
    {
     "name": "stderr",
     "output_type": "stream",
     "text": [
      " 30%|██▉       | 8/27 [01:20<02:11,  6.91s/it]"
     ]
    },
    {
     "name": "stdout",
     "output_type": "stream",
     "text": [
      "{'Model': 'ExtraTreeClassifier', 'Accuracy': 0.28885777155431086, 'Balanced Accuracy': 0.28869778999988527, 'ROC AUC': None, 'F1 Score': 0.2895395056384842, 'Time taken': 0.20943999290466309}\n"
     ]
    },
    {
     "name": "stderr",
     "output_type": "stream",
     "text": [
      " 37%|███▋      | 10/27 [01:31<01:39,  5.87s/it]"
     ]
    },
    {
     "name": "stdout",
     "output_type": "stream",
     "text": [
      "{'Model': 'ExtraTreesClassifier', 'Accuracy': 0.5185037007401481, 'Balanced Accuracy': 0.5187678383619935, 'ROC AUC': None, 'F1 Score': 0.5094504433988738, 'Time taken': 10.632107019424438}\n",
      "{'Model': 'GaussianNB', 'Accuracy': 0.255751150230046, 'Balanced Accuracy': 0.2548363019982583, 'ROC AUC': None, 'F1 Score': 0.23796251765218235, 'Time taken': 0.16041994094848633}\n"
     ]
    },
    {
     "name": "stderr",
     "output_type": "stream",
     "text": [
      " 41%|████      | 11/27 [01:33<01:17,  4.82s/it]"
     ]
    },
    {
     "name": "stdout",
     "output_type": "stream",
     "text": [
      "{'Model': 'KNeighborsClassifier', 'Accuracy': 0.41028205641128224, 'Balanced Accuracy': 0.41097568418522723, 'ROC AUC': None, 'F1 Score': 0.40962621926926956, 'Time taken': 1.8939201831817627}\n"
     ]
    },
    {
     "name": "stderr",
     "output_type": "stream",
     "text": [
      " 44%|████▍     | 12/27 [01:33<00:53,  3.58s/it]"
     ]
    },
    {
     "name": "stdout",
     "output_type": "stream",
     "text": [
      "{'Model': 'LinearDiscriminantAnalysis', 'Accuracy': 0.4344868973794759, 'Balanced Accuracy': 0.4347225726019438, 'ROC AUC': None, 'F1 Score': 0.42993416492122144, 'Time taken': 0.2851250171661377}\n"
     ]
    },
    {
     "name": "stderr",
     "output_type": "stream",
     "text": [
      " 48%|████▊     | 13/27 [03:25<07:59, 34.23s/it]"
     ]
    },
    {
     "name": "stdout",
     "output_type": "stream",
     "text": [
      "{'Model': 'LinearSVC', 'Accuracy': 0.4176835367073415, 'Balanced Accuracy': 0.41869066120402076, 'ROC AUC': None, 'F1 Score': 0.37808509677745267, 'Time taken': 112.49970483779907}\n"
     ]
    },
    {
     "name": "stderr",
     "output_type": "stream",
     "text": [
      " 56%|█████▌    | 15/27 [03:28<03:32, 17.75s/it]"
     ]
    },
    {
     "name": "stdout",
     "output_type": "stream",
     "text": [
      "{'Model': 'LogisticRegression', 'Accuracy': 0.4388877775555111, 'Balanced Accuracy': 0.43930613124442736, 'ROC AUC': None, 'F1 Score': 0.4252819753339018, 'Time taken': 1.9398539066314697}\n",
      "{'Model': 'NearestCentroid', 'Accuracy': 0.2453490698139628, 'Balanced Accuracy': 0.24420492237921504, 'ROC AUC': None, 'F1 Score': 0.23111429217252202, 'Time taken': 0.1121668815612793}\n"
     ]
    },
    {
     "name": "stderr",
     "output_type": "stream",
     "text": [
      " 59%|█████▉    | 16/27 [10:43<25:42, 140.25s/it]"
     ]
    },
    {
     "name": "stdout",
     "output_type": "stream",
     "text": [
      "{'Model': 'NuSVC', 'Accuracy': 0.5161032206441288, 'Balanced Accuracy': 0.5162728698895235, 'ROC AUC': None, 'F1 Score': 0.5099208976492712, 'Time taken': 435.33442783355713}\n"
     ]
    },
    {
     "name": "stderr",
     "output_type": "stream",
     "text": [
      " 63%|██████▎   | 17/27 [10:44<16:31, 99.13s/it] "
     ]
    },
    {
     "name": "stdout",
     "output_type": "stream",
     "text": [
      "{'Model': 'PassiveAggressiveClassifier', 'Accuracy': 0.26555311062212444, 'Balanced Accuracy': 0.26541580896787603, 'ROC AUC': None, 'F1 Score': 0.2537879678136483, 'Time taken': 1.0099210739135742}\n"
     ]
    },
    {
     "name": "stderr",
     "output_type": "stream",
     "text": [
      " 67%|██████▋   | 18/27 [10:45<10:29, 69.94s/it]"
     ]
    },
    {
     "name": "stdout",
     "output_type": "stream",
     "text": [
      "{'Model': 'Perceptron', 'Accuracy': 0.27375475095019003, 'Balanced Accuracy': 0.2740582114314913, 'ROC AUC': None, 'F1 Score': 0.22950299392048382, 'Time taken': 0.762706995010376}\n"
     ]
    },
    {
     "name": "stderr",
     "output_type": "stream",
     "text": [
      " 70%|███████   | 19/27 [10:45<06:33, 49.20s/it]"
     ]
    },
    {
     "name": "stdout",
     "output_type": "stream",
     "text": [
      "{'Model': 'QuadraticDiscriminantAnalysis', 'Accuracy': 0.3702740548109622, 'Balanced Accuracy': 0.3701253973133264, 'ROC AUC': None, 'F1 Score': 0.3154824793334142, 'Time taken': 0.2553689479827881}\n"
     ]
    },
    {
     "name": "stderr",
     "output_type": "stream",
     "text": [
      " 78%|███████▊  | 21/27 [11:18<03:07, 31.19s/it]"
     ]
    },
    {
     "name": "stdout",
     "output_type": "stream",
     "text": [
      "{'Model': 'RandomForestClassifier', 'Accuracy': 0.5343068613722745, 'Balanced Accuracy': 0.5344063174515806, 'ROC AUC': None, 'F1 Score': 0.5262578322256678, 'Time taken': 33.190268993377686}\n",
      "{'Model': 'RidgeClassifier', 'Accuracy': 0.39897979595919186, 'Balanced Accuracy': 0.39989675127578117, 'ROC AUC': None, 'F1 Score': 0.35833876408604154, 'Time taken': 0.12967181205749512}\n"
     ]
    },
    {
     "name": "stderr",
     "output_type": "stream",
     "text": [
      " 81%|████████▏ | 22/27 [11:19<01:49, 21.94s/it]"
     ]
    },
    {
     "name": "stdout",
     "output_type": "stream",
     "text": [
      "{'Model': 'RidgeClassifierCV', 'Accuracy': 0.40608121624324867, 'Balanced Accuracy': 0.407032023331458, 'ROC AUC': None, 'F1 Score': 0.36649533317218763, 'Time taken': 0.2671480178833008}\n"
     ]
    },
    {
     "name": "stderr",
     "output_type": "stream",
     "text": [
      " 85%|████████▌ | 23/27 [11:22<01:05, 16.29s/it]"
     ]
    },
    {
     "name": "stdout",
     "output_type": "stream",
     "text": [
      "{'Model': 'SGDClassifier', 'Accuracy': 0.3482696539307862, 'Balanced Accuracy': 0.3468815275590744, 'ROC AUC': None, 'F1 Score': 0.33073739307635297, 'Time taken': 3.074251890182495}\n"
     ]
    },
    {
     "name": "stderr",
     "output_type": "stream",
     "text": [
      " 89%|████████▉ | 24/27 [15:31<04:18, 86.08s/it]"
     ]
    },
    {
     "name": "stdout",
     "output_type": "stream",
     "text": [
      "{'Model': 'SVC', 'Accuracy': 0.5471094218843768, 'Balanced Accuracy': 0.5472800972820705, 'ROC AUC': None, 'F1 Score': 0.5407342581700486, 'Time taken': 249.21767711639404}\n"
     ]
    },
    {
     "name": "stderr",
     "output_type": "stream",
     "text": [
      " 96%|█████████▋| 26/27 [15:42<00:49, 49.01s/it]"
     ]
    },
    {
     "name": "stdout",
     "output_type": "stream",
     "text": [
      "{'Model': 'XGBClassifier', 'Accuracy': 0.5667133426685337, 'Balanced Accuracy': 0.5668323717458172, 'ROC AUC': None, 'F1 Score': 0.5627797596683172, 'Time taken': 11.419557809829712}\n",
      "[LightGBM] [Info] Auto-choosing col-wise multi-threading, the overhead of testing was 0.006253 seconds.\n",
      "You can set `force_col_wise=true` to remove the overhead.\n",
      "[LightGBM] [Info] Total Bins 5865\n",
      "[LightGBM] [Info] Number of data points in the train set: 39989, number of used features: 23\n",
      "[LightGBM] [Info] Start training from score -2.294094\n",
      "[LightGBM] [Info] Start training from score -2.298816\n",
      "[LightGBM] [Info] Start training from score -2.301311\n",
      "[LightGBM] [Info] Start training from score -2.296080\n",
      "[LightGBM] [Info] Start training from score -2.308328\n",
      "[LightGBM] [Info] Start training from score -2.300811\n",
      "[LightGBM] [Info] Start training from score -2.304813\n",
      "[LightGBM] [Info] Start training from score -2.310342\n",
      "[LightGBM] [Info] Start training from score -2.303561\n",
      "[LightGBM] [Info] Start training from score -2.307825\n"
     ]
    },
    {
     "name": "stderr",
     "output_type": "stream",
     "text": [
      "100%|██████████| 27/27 [15:49<00:00, 35.17s/it]"
     ]
    },
    {
     "name": "stdout",
     "output_type": "stream",
     "text": [
      "{'Model': 'LGBMClassifier', 'Accuracy': 0.5656131226245249, 'Balanced Accuracy': 0.5657311321851148, 'ROC AUC': None, 'F1 Score': 0.5610754247010856, 'Time taken': 6.799309015274048}\n"
     ]
    },
    {
     "name": "stderr",
     "output_type": "stream",
     "text": [
      "\n"
     ]
    }
   ],
   "source": [
    "clf = LazyClassifier(verbose=0,ignore_warnings=True, custom_metric=None)\n",
    "models,predictions = clf.fit(X_train, X_test, y_train, y_test)"
   ]
  },
  {
   "cell_type": "code",
   "execution_count": 24,
   "id": "7976a904-ce49-4bb6-bbf6-e5984a850c4f",
   "metadata": {},
   "outputs": [
    {
     "name": "stdout",
     "output_type": "stream",
     "text": [
      "                               Accuracy  Balanced Accuracy ROC AUC  F1 Score  \\\n",
      "Model                                                                          \n",
      "XGBClassifier                      0.57               0.57    None      0.56   \n",
      "LGBMClassifier                     0.57               0.57    None      0.56   \n",
      "SVC                                0.55               0.55    None      0.54   \n",
      "RandomForestClassifier             0.53               0.53    None      0.53   \n",
      "ExtraTreesClassifier               0.52               0.52    None      0.51   \n",
      "NuSVC                              0.52               0.52    None      0.51   \n",
      "BaggingClassifier                  0.48               0.48    None      0.47   \n",
      "LogisticRegression                 0.44               0.44    None      0.43   \n",
      "LinearDiscriminantAnalysis         0.43               0.43    None      0.43   \n",
      "CalibratedClassifierCV             0.43               0.43    None      0.41   \n",
      "LinearSVC                          0.42               0.42    None      0.38   \n",
      "KNeighborsClassifier               0.41               0.41    None      0.41   \n",
      "RidgeClassifierCV                  0.41               0.41    None      0.37   \n",
      "RidgeClassifier                    0.40               0.40    None      0.36   \n",
      "DecisionTreeClassifier             0.39               0.39    None      0.39   \n",
      "AdaBoostClassifier                 0.37               0.37    None      0.36   \n",
      "QuadraticDiscriminantAnalysis      0.37               0.37    None      0.32   \n",
      "SGDClassifier                      0.35               0.35    None      0.33   \n",
      "ExtraTreeClassifier                0.29               0.29    None      0.29   \n",
      "Perceptron                         0.27               0.27    None      0.23   \n",
      "PassiveAggressiveClassifier        0.27               0.27    None      0.25   \n",
      "GaussianNB                         0.26               0.25    None      0.24   \n",
      "NearestCentroid                    0.25               0.24    None      0.23   \n",
      "BernoulliNB                        0.23               0.22    None      0.20   \n",
      "DummyClassifier                    0.10               0.10    None      0.02   \n",
      "\n",
      "                               Time Taken  \n",
      "Model                                      \n",
      "XGBClassifier                       11.42  \n",
      "LGBMClassifier                       6.80  \n",
      "SVC                                249.22  \n",
      "RandomForestClassifier              33.19  \n",
      "ExtraTreesClassifier                10.63  \n",
      "NuSVC                              435.33  \n",
      "BaggingClassifier                   17.58  \n",
      "LogisticRegression                   1.94  \n",
      "LinearDiscriminantAnalysis           0.29  \n",
      "CalibratedClassifierCV              48.38  \n",
      "LinearSVC                          112.50  \n",
      "KNeighborsClassifier                 1.89  \n",
      "RidgeClassifierCV                    0.27  \n",
      "RidgeClassifier                      0.13  \n",
      "DecisionTreeClassifier               2.62  \n",
      "AdaBoostClassifier                  11.41  \n",
      "QuadraticDiscriminantAnalysis        0.26  \n",
      "SGDClassifier                        3.07  \n",
      "ExtraTreeClassifier                  0.21  \n",
      "Perceptron                           0.76  \n",
      "PassiveAggressiveClassifier          1.01  \n",
      "GaussianNB                           0.16  \n",
      "NearestCentroid                      0.11  \n",
      "BernoulliNB                          0.16  \n",
      "DummyClassifier                      0.09  \n"
     ]
    }
   ],
   "source": [
    "print(models)"
   ]
  },
  {
   "cell_type": "markdown",
   "id": "961858e4-73d0-4fce-b282-689fcd224361",
   "metadata": {},
   "source": [
    "# Temporal + MFCC"
   ]
  },
  {
   "cell_type": "code",
   "execution_count": 25,
   "id": "18b2b09f-7387-4c68-bd54-d67f5615c8c1",
   "metadata": {},
   "outputs": [],
   "source": [
    "df1 = pd.read_csv(\"../Features/Resultados/clean_temporal_insect.csv\")\n",
    "df2 = pd.read_csv(\"../Features/Resultados/clean_mfcc_insect.csv\")"
   ]
  },
  {
   "cell_type": "code",
   "execution_count": 26,
   "id": "8f8247da-5220-4ead-b9dd-5990607b2509",
   "metadata": {},
   "outputs": [
    {
     "data": {
      "text/plain": [
       "insect\n",
       "Ae. aegypti.f     5000\n",
       "Ae. aegypti.m     4999\n",
       "Cx. quinq.f       4999\n",
       "Cx. quinq.m       4997\n",
       "Cx. stigma.f      4999\n",
       "Cx. stigma.m      4997\n",
       "Cx. tarsalis.f    5000\n",
       "Cx. tarsalis.m    4998\n",
       "D. simulans       4999\n",
       "M. domestica      4999\n",
       "dtype: int64"
      ]
     },
     "execution_count": 26,
     "metadata": {},
     "output_type": "execute_result"
    }
   ],
   "source": [
    "df1.drop(columns=['insect'], inplace=True)\n",
    "data = pd.merge(df1, df2, on='Path_name', how='inner')\n",
    "# Distribución de las clases\n",
    "data.groupby('insect').size()"
   ]
  },
  {
   "cell_type": "code",
   "execution_count": 27,
   "id": "e758e580-900c-4697-82d4-ea308c6e5bf2",
   "metadata": {},
   "outputs": [],
   "source": [
    "# Codificación de la variable objetivo\n",
    "from sklearn.preprocessing import LabelEncoder\n",
    "\n",
    "encoder = LabelEncoder()\n",
    "data.insect = encoder.fit_transform(data.insect)\n",
    "\n",
    "features = data.columns.tolist()\n",
    "features.remove('insect')\n",
    "features.remove('Path_name')\n",
    "\n",
    "X_train, X_test, y_train, y_test = train_test_split(data[features].values,\\\n",
    "                                                    data['insect'].values,\\\n",
    "                                                    test_size=0.2,\\\n",
    "                                                    random_state=7)"
   ]
  },
  {
   "cell_type": "code",
   "execution_count": 28,
   "id": "4187cec2-af5e-4914-9e35-1cdc47f00eb8",
   "metadata": {
    "collapsed": true,
    "jupyter": {
     "outputs_hidden": true
    }
   },
   "outputs": [
    {
     "name": "stderr",
     "output_type": "stream",
     "text": [
      " 96%|█████████▋| 26/27 [30:35<01:06, 66.86s/it] "
     ]
    },
    {
     "name": "stdout",
     "output_type": "stream",
     "text": [
      "[LightGBM] [Info] Auto-choosing col-wise multi-threading, the overhead of testing was 0.060933 seconds.\n",
      "You can set `force_col_wise=true` to remove the overhead.\n",
      "[LightGBM] [Info] Total Bins 41055\n",
      "[LightGBM] [Info] Number of data points in the train set: 39989, number of used features: 161\n",
      "[LightGBM] [Info] Start training from score -2.294094\n",
      "[LightGBM] [Info] Start training from score -2.298816\n",
      "[LightGBM] [Info] Start training from score -2.301311\n",
      "[LightGBM] [Info] Start training from score -2.296080\n",
      "[LightGBM] [Info] Start training from score -2.308328\n",
      "[LightGBM] [Info] Start training from score -2.300811\n",
      "[LightGBM] [Info] Start training from score -2.304813\n",
      "[LightGBM] [Info] Start training from score -2.310342\n",
      "[LightGBM] [Info] Start training from score -2.303561\n",
      "[LightGBM] [Info] Start training from score -2.307825\n"
     ]
    },
    {
     "name": "stderr",
     "output_type": "stream",
     "text": [
      "100%|██████████| 27/27 [31:09<00:00, 69.23s/it]\n"
     ]
    }
   ],
   "source": [
    "clf = LazyClassifier(verbose=0,ignore_warnings=True, custom_metric=None)\n",
    "models,predictions = clf.fit(X_train, X_test, y_train, y_test)"
   ]
  },
  {
   "cell_type": "code",
   "execution_count": 29,
   "id": "674c8190-3d0b-4f97-8949-799bfb1608ab",
   "metadata": {},
   "outputs": [
    {
     "name": "stdout",
     "output_type": "stream",
     "text": [
      "                               Accuracy  Balanced Accuracy ROC AUC  F1 Score  \\\n",
      "Model                                                                          \n",
      "XGBClassifier                      0.76               0.76    None      0.76   \n",
      "LGBMClassifier                     0.76               0.76    None      0.76   \n",
      "SVC                                0.75               0.75    None      0.75   \n",
      "RandomForestClassifier             0.71               0.71    None      0.71   \n",
      "ExtraTreesClassifier               0.71               0.71    None      0.70   \n",
      "NuSVC                              0.70               0.70    None      0.70   \n",
      "KNeighborsClassifier               0.67               0.67    None      0.67   \n",
      "LogisticRegression                 0.67               0.67    None      0.66   \n",
      "BaggingClassifier                  0.66               0.66    None      0.66   \n",
      "CalibratedClassifierCV             0.63               0.63    None      0.63   \n",
      "LinearSVC                          0.63               0.63    None      0.61   \n",
      "LinearDiscriminantAnalysis         0.63               0.63    None      0.63   \n",
      "RidgeClassifier                    0.58               0.58    None      0.56   \n",
      "RidgeClassifierCV                  0.58               0.58    None      0.56   \n",
      "SGDClassifier                      0.58               0.58    None      0.56   \n",
      "NearestCentroid                    0.57               0.57    None      0.57   \n",
      "BernoulliNB                        0.55               0.55    None      0.55   \n",
      "DecisionTreeClassifier             0.55               0.55    None      0.55   \n",
      "GaussianNB                         0.54               0.54    None      0.51   \n",
      "AdaBoostClassifier                 0.53               0.53    None      0.52   \n",
      "Perceptron                         0.48               0.48    None      0.47   \n",
      "PassiveAggressiveClassifier        0.48               0.48    None      0.47   \n",
      "ExtraTreeClassifier                0.47               0.47    None      0.47   \n",
      "QuadraticDiscriminantAnalysis      0.41               0.42    None      0.37   \n",
      "DummyClassifier                    0.10               0.10    None      0.02   \n",
      "\n",
      "                               Time Taken  \n",
      "Model                                      \n",
      "XGBClassifier                       65.13  \n",
      "LGBMClassifier                      33.64  \n",
      "SVC                                239.06  \n",
      "RandomForestClassifier              92.52  \n",
      "ExtraTreesClassifier                19.61  \n",
      "NuSVC                              690.50  \n",
      "KNeighborsClassifier                 4.88  \n",
      "LogisticRegression                   4.33  \n",
      "BaggingClassifier                  133.76  \n",
      "CalibratedClassifierCV             209.02  \n",
      "LinearSVC                          256.22  \n",
      "LinearDiscriminantAnalysis           1.77  \n",
      "RidgeClassifier                      0.51  \n",
      "RidgeClassifierCV                    1.88  \n",
      "SGDClassifier                       17.65  \n",
      "NearestCentroid                      0.45  \n",
      "BernoulliNB                          0.50  \n",
      "DecisionTreeClassifier              19.52  \n",
      "GaussianNB                           0.59  \n",
      "AdaBoostClassifier                  71.03  \n",
      "Perceptron                           1.96  \n",
      "PassiveAggressiveClassifier          2.16  \n",
      "ExtraTreeClassifier                  0.56  \n",
      "QuadraticDiscriminantAnalysis        1.32  \n",
      "DummyClassifier                      0.34  \n"
     ]
    }
   ],
   "source": [
    "print(models)"
   ]
  },
  {
   "cell_type": "markdown",
   "id": "15f48edc-1746-4ed2-97b8-d11684496873",
   "metadata": {},
   "source": [
    "# DWT + PWD "
   ]
  },
  {
   "cell_type": "code",
   "execution_count": 12,
   "id": "a2696a72-6d4f-44f5-ac66-6e1aa43fe0a1",
   "metadata": {},
   "outputs": [],
   "source": [
    "df1 = pd.read_csv(\"../Features/Resultados/clean_dwt_db5_5_insect.csv\")\n",
    "df2 = pd.read_csv(\"../Features/Resultados/clean_wpd_db5_5_insect.csv\")"
   ]
  },
  {
   "cell_type": "code",
   "execution_count": 13,
   "id": "76489d17-75be-4192-843d-2ad19bbda153",
   "metadata": {},
   "outputs": [
    {
     "data": {
      "text/plain": [
       "insect\n",
       "Ae. aegypti.f     5000\n",
       "Ae. aegypti.m     5000\n",
       "Cx. quinq.f       4999\n",
       "Cx. quinq.m       5000\n",
       "Cx. stigma.f      4999\n",
       "Cx. stigma.m      5000\n",
       "Cx. tarsalis.f    5000\n",
       "Cx. tarsalis.m    4998\n",
       "D. simulans       4999\n",
       "M. domestica      4999\n",
       "dtype: int64"
      ]
     },
     "execution_count": 13,
     "metadata": {},
     "output_type": "execute_result"
    }
   ],
   "source": [
    "df1.drop(columns=['insect'], inplace=True)\n",
    "data = pd.merge(df1, df2, on='Path_name', how='inner')\n",
    "# Distribución de las clases\n",
    "data.groupby('insect').size()"
   ]
  },
  {
   "cell_type": "code",
   "execution_count": 14,
   "id": "70e977ae-56d5-490d-ab4a-62d4a153d5a2",
   "metadata": {},
   "outputs": [],
   "source": [
    "# Codificación de la variable objetivo\n",
    "from sklearn.preprocessing import LabelEncoder\n",
    "\n",
    "encoder = LabelEncoder()\n",
    "data.insect = encoder.fit_transform(data.insect)\n",
    "\n",
    "features = data.columns.tolist()\n",
    "features.remove('insect')\n",
    "features.remove('Path_name')\n",
    "\n",
    "X_train, X_test, y_train, y_test = train_test_split(data[features].values,\\\n",
    "                                                    data['insect'].values,\\\n",
    "                                                    test_size=0.2,\\\n",
    "                                                    random_state=7)"
   ]
  },
  {
   "cell_type": "code",
   "execution_count": 15,
   "id": "81a30040-54cb-4ed5-8d27-25d968409bff",
   "metadata": {
    "collapsed": true,
    "jupyter": {
     "outputs_hidden": true
    }
   },
   "outputs": [
    {
     "name": "stderr",
     "output_type": "stream",
     "text": [
      "  4%|▎         | 1/27 [00:11<04:54, 11.31s/it]"
     ]
    },
    {
     "name": "stdout",
     "output_type": "stream",
     "text": [
      "{'Model': 'AdaBoostClassifier', 'Accuracy': 0.39003900390039004, 'Balanced Accuracy': 0.390000837193851, 'ROC AUC': None, 'F1 Score': 0.38146664665526786, 'Time taken': 11.312802791595459}\n"
     ]
    },
    {
     "name": "stderr",
     "output_type": "stream",
     "text": [
      " 11%|█         | 3/27 [00:27<03:04,  7.70s/it]"
     ]
    },
    {
     "name": "stdout",
     "output_type": "stream",
     "text": [
      "{'Model': 'BaggingClassifier', 'Accuracy': 0.48244824482448245, 'Balanced Accuracy': 0.48334555471263874, 'ROC AUC': None, 'F1 Score': 0.4804824501099352, 'Time taken': 16.025501251220703}\n",
      "{'Model': 'BernoulliNB', 'Accuracy': 0.24112411241124113, 'Balanced Accuracy': 0.23952409263025362, 'ROC AUC': None, 'F1 Score': 0.2235510437909314, 'Time taken': 0.10725998878479004}\n"
     ]
    },
    {
     "name": "stderr",
     "output_type": "stream",
     "text": [
      " 15%|█▍        | 4/27 [01:04<07:22, 19.24s/it]"
     ]
    },
    {
     "name": "stdout",
     "output_type": "stream",
     "text": [
      "{'Model': 'CalibratedClassifierCV', 'Accuracy': 0.48544854485448546, 'Balanced Accuracy': 0.484900267835186, 'ROC AUC': None, 'F1 Score': 0.47121453551284564, 'Time taken': 36.9332799911499}\n"
     ]
    },
    {
     "name": "stderr",
     "output_type": "stream",
     "text": [
      " 22%|██▏       | 6/27 [01:06<03:24,  9.73s/it]"
     ]
    },
    {
     "name": "stdout",
     "output_type": "stream",
     "text": [
      "{'Model': 'DecisionTreeClassifier', 'Accuracy': 0.39583958395839586, 'Balanced Accuracy': 0.3963571801987197, 'ROC AUC': None, 'F1 Score': 0.39669509526044067, 'Time taken': 2.525045871734619}\n",
      "{'Model': 'DummyClassifier', 'Accuracy': 0.0965096509650965, 'Balanced Accuracy': 0.1, 'ROC AUC': None, 'F1 Score': 0.016988656180466643, 'Time taken': 0.0656898021697998}\n"
     ]
    },
    {
     "name": "stderr",
     "output_type": "stream",
     "text": [
      " 30%|██▉       | 8/27 [01:07<01:46,  5.59s/it]"
     ]
    },
    {
     "name": "stdout",
     "output_type": "stream",
     "text": [
      "{'Model': 'ExtraTreeClassifier', 'Accuracy': 0.30993099309930994, 'Balanced Accuracy': 0.31041251287934346, 'ROC AUC': None, 'F1 Score': 0.3104103480307761, 'Time taken': 0.16355133056640625}\n"
     ]
    },
    {
     "name": "stderr",
     "output_type": "stream",
     "text": [
      " 37%|███▋      | 10/27 [01:16<01:23,  4.89s/it]"
     ]
    },
    {
     "name": "stdout",
     "output_type": "stream",
     "text": [
      "{'Model': 'ExtraTreesClassifier', 'Accuracy': 0.512951295129513, 'Balanced Accuracy': 0.5133423425010659, 'ROC AUC': None, 'F1 Score': 0.5071383298334422, 'Time taken': 9.443928718566895}\n",
      "{'Model': 'GaussianNB', 'Accuracy': 0.23952395239523952, 'Balanced Accuracy': 0.2397653158591973, 'ROC AUC': None, 'F1 Score': 0.23022552732225238, 'Time taken': 0.10378527641296387}\n"
     ]
    },
    {
     "name": "stderr",
     "output_type": "stream",
     "text": [
      " 44%|████▍     | 12/27 [01:18<00:44,  2.99s/it]"
     ]
    },
    {
     "name": "stdout",
     "output_type": "stream",
     "text": [
      "{'Model': 'KNeighborsClassifier', 'Accuracy': 0.4099409940994099, 'Balanced Accuracy': 0.41090432467211535, 'ROC AUC': None, 'F1 Score': 0.409488899673303, 'Time taken': 1.739027976989746}\n",
      "{'Model': 'LinearDiscriminantAnalysis', 'Accuracy': 0.47574757475747576, 'Balanced Accuracy': 0.47586935145755194, 'ROC AUC': None, 'F1 Score': 0.4762975341600821, 'Time taken': 0.1884300708770752}\n"
     ]
    },
    {
     "name": "stderr",
     "output_type": "stream",
     "text": [
      " 48%|████▊     | 13/27 [02:47<06:20, 27.15s/it]"
     ]
    },
    {
     "name": "stdout",
     "output_type": "stream",
     "text": [
      "{'Model': 'LinearSVC', 'Accuracy': 0.48644864486448647, 'Balanced Accuracy': 0.4860336450158723, 'ROC AUC': None, 'F1 Score': 0.4589719402988364, 'Time taken': 88.82510495185852}\n"
     ]
    },
    {
     "name": "stderr",
     "output_type": "stream",
     "text": [
      " 52%|█████▏    | 14/27 [02:49<04:17, 19.84s/it]"
     ]
    },
    {
     "name": "stdout",
     "output_type": "stream",
     "text": [
      "{'Model': 'LogisticRegression', 'Accuracy': 0.5197519751975197, 'Balanced Accuracy': 0.5196597213164142, 'ROC AUC': None, 'F1 Score': 0.5164393307926962, 'Time taken': 1.6526508331298828}\n",
      "{'Model': 'NearestCentroid', 'Accuracy': 0.255025502550255, 'Balanced Accuracy': 0.2534937734458488, 'ROC AUC': None, 'F1 Score': 0.24599053881393887, 'Time taken': 0.08475184440612793}\n"
     ]
    },
    {
     "name": "stderr",
     "output_type": "stream",
     "text": [
      " 59%|█████▉    | 16/27 [08:42<16:36, 90.57s/it]"
     ]
    },
    {
     "name": "stdout",
     "output_type": "stream",
     "text": [
      "{'Model': 'NuSVC', 'Accuracy': 0.534953495349535, 'Balanced Accuracy': 0.5352191110379684, 'ROC AUC': None, 'F1 Score': 0.5321107478811284, 'Time taken': 353.7167148590088}\n"
     ]
    },
    {
     "name": "stderr",
     "output_type": "stream",
     "text": [
      " 63%|██████▎   | 17/27 [08:43<11:26, 68.69s/it]"
     ]
    },
    {
     "name": "stdout",
     "output_type": "stream",
     "text": [
      "{'Model': 'PassiveAggressiveClassifier', 'Accuracy': 0.2968296829682968, 'Balanced Accuracy': 0.29672960215999067, 'ROC AUC': None, 'F1 Score': 0.29567806229280374, 'Time taken': 0.6814749240875244}\n"
     ]
    },
    {
     "name": "stderr",
     "output_type": "stream",
     "text": [
      " 70%|███████   | 19/27 [08:44<04:59, 37.44s/it]"
     ]
    },
    {
     "name": "stdout",
     "output_type": "stream",
     "text": [
      "{'Model': 'Perceptron', 'Accuracy': 0.35293529352935293, 'Balanced Accuracy': 0.3540022465141012, 'ROC AUC': None, 'F1 Score': 0.33770569111559867, 'Time taken': 0.8227388858795166}\n",
      "{'Model': 'QuadraticDiscriminantAnalysis', 'Accuracy': 0.3765376537653765, 'Balanced Accuracy': 0.3761427658449791, 'ROC AUC': None, 'F1 Score': 0.3368673792011682, 'Time taken': 0.13308191299438477}\n"
     ]
    },
    {
     "name": "stderr",
     "output_type": "stream",
     "text": [
      " 78%|███████▊  | 21/27 [09:16<02:33, 25.66s/it]"
     ]
    },
    {
     "name": "stdout",
     "output_type": "stream",
     "text": [
      "{'Model': 'RandomForestClassifier', 'Accuracy': 0.525952595259526, 'Balanced Accuracy': 0.5261203775127417, 'ROC AUC': None, 'F1 Score': 0.5217880569824582, 'Time taken': 31.54140067100525}\n",
      "{'Model': 'RidgeClassifier', 'Accuracy': 0.45304530453045305, 'Balanced Accuracy': 0.4532823066789454, 'ROC AUC': None, 'F1 Score': 0.4200631244482448, 'Time taken': 0.10634803771972656}\n"
     ]
    },
    {
     "name": "stderr",
     "output_type": "stream",
     "text": [
      " 81%|████████▏ | 22/27 [09:16<01:31, 18.31s/it]"
     ]
    },
    {
     "name": "stdout",
     "output_type": "stream",
     "text": [
      "{'Model': 'RidgeClassifierCV', 'Accuracy': 0.4535453545354535, 'Balanced Accuracy': 0.4537665105501253, 'ROC AUC': None, 'F1 Score': 0.4208162309377484, 'Time taken': 0.2163691520690918}\n"
     ]
    },
    {
     "name": "stderr",
     "output_type": "stream",
     "text": [
      " 85%|████████▌ | 23/27 [09:18<00:54, 13.63s/it]"
     ]
    },
    {
     "name": "stdout",
     "output_type": "stream",
     "text": [
      "{'Model': 'SGDClassifier', 'Accuracy': 0.40424042404240423, 'Balanced Accuracy': 0.40475222743851963, 'ROC AUC': None, 'F1 Score': 0.373496465468692, 'Time taken': 2.2708990573883057}\n"
     ]
    },
    {
     "name": "stderr",
     "output_type": "stream",
     "text": [
      " 89%|████████▉ | 24/27 [12:32<03:19, 66.62s/it]"
     ]
    },
    {
     "name": "stdout",
     "output_type": "stream",
     "text": [
      "{'Model': 'SVC', 'Accuracy': 0.5595559555955596, 'Balanced Accuracy': 0.5599065057434163, 'ROC AUC': None, 'F1 Score': 0.5558067409866769, 'Time taken': 193.63348197937012}\n"
     ]
    },
    {
     "name": "stderr",
     "output_type": "stream",
     "text": [
      " 96%|█████████▋| 26/27 [12:42<00:38, 38.39s/it]"
     ]
    },
    {
     "name": "stdout",
     "output_type": "stream",
     "text": [
      "{'Model': 'XGBClassifier', 'Accuracy': 0.5534553455345534, 'Balanced Accuracy': 0.5535967290115564, 'ROC AUC': None, 'F1 Score': 0.5515323231479518, 'Time taken': 9.652659177780151}\n",
      "[LightGBM] [Info] Auto-choosing col-wise multi-threading, the overhead of testing was 0.006209 seconds.\n",
      "You can set `force_col_wise=true` to remove the overhead.\n",
      "[LightGBM] [Info] Total Bins 6120\n",
      "[LightGBM] [Info] Number of data points in the train set: 39995, number of used features: 24\n",
      "[LightGBM] [Info] Start training from score -2.293996\n",
      "[LightGBM] [Info] Start training from score -2.298966\n",
      "[LightGBM] [Info] Start training from score -2.302960\n",
      "[LightGBM] [Info] Start training from score -2.293748\n",
      "[LightGBM] [Info] Start training from score -2.314027\n",
      "[LightGBM] [Info] Start training from score -2.295484\n",
      "[LightGBM] [Info] Start training from score -2.308478\n",
      "[LightGBM] [Info] Start training from score -2.309485\n",
      "[LightGBM] [Info] Start training from score -2.300712\n",
      "[LightGBM] [Info] Start training from score -2.308227\n"
     ]
    },
    {
     "name": "stderr",
     "output_type": "stream",
     "text": [
      "100%|██████████| 27/27 [12:47<00:00, 28.42s/it]"
     ]
    },
    {
     "name": "stdout",
     "output_type": "stream",
     "text": [
      "{'Model': 'LGBMClassifier', 'Accuracy': 0.5578557855785579, 'Balanced Accuracy': 0.5580097687394318, 'ROC AUC': None, 'F1 Score': 0.5558709644106021, 'Time taken': 5.409921884536743}\n"
     ]
    },
    {
     "name": "stderr",
     "output_type": "stream",
     "text": [
      "\n"
     ]
    }
   ],
   "source": [
    "clf = LazyClassifier(verbose=1,ignore_warnings=True, custom_metric=None)\n",
    "models,predictions = clf.fit(X_train, X_test, y_train, y_test)"
   ]
  },
  {
   "cell_type": "code",
   "execution_count": 16,
   "id": "3a90ef32-9aae-41c2-9306-5e10020b2ed4",
   "metadata": {},
   "outputs": [
    {
     "name": "stdout",
     "output_type": "stream",
     "text": [
      "                               Accuracy  Balanced Accuracy ROC AUC  F1 Score  \\\n",
      "Model                                                                          \n",
      "SVC                                0.56               0.56    None      0.56   \n",
      "LGBMClassifier                     0.56               0.56    None      0.56   \n",
      "XGBClassifier                      0.55               0.55    None      0.55   \n",
      "NuSVC                              0.53               0.54    None      0.53   \n",
      "RandomForestClassifier             0.53               0.53    None      0.52   \n",
      "LogisticRegression                 0.52               0.52    None      0.52   \n",
      "ExtraTreesClassifier               0.51               0.51    None      0.51   \n",
      "LinearSVC                          0.49               0.49    None      0.46   \n",
      "CalibratedClassifierCV             0.49               0.48    None      0.47   \n",
      "BaggingClassifier                  0.48               0.48    None      0.48   \n",
      "LinearDiscriminantAnalysis         0.48               0.48    None      0.48   \n",
      "RidgeClassifierCV                  0.45               0.45    None      0.42   \n",
      "RidgeClassifier                    0.45               0.45    None      0.42   \n",
      "KNeighborsClassifier               0.41               0.41    None      0.41   \n",
      "SGDClassifier                      0.40               0.40    None      0.37   \n",
      "DecisionTreeClassifier             0.40               0.40    None      0.40   \n",
      "AdaBoostClassifier                 0.39               0.39    None      0.38   \n",
      "QuadraticDiscriminantAnalysis      0.38               0.38    None      0.34   \n",
      "Perceptron                         0.35               0.35    None      0.34   \n",
      "ExtraTreeClassifier                0.31               0.31    None      0.31   \n",
      "PassiveAggressiveClassifier        0.30               0.30    None      0.30   \n",
      "NearestCentroid                    0.26               0.25    None      0.25   \n",
      "GaussianNB                         0.24               0.24    None      0.23   \n",
      "BernoulliNB                        0.24               0.24    None      0.22   \n",
      "DummyClassifier                    0.10               0.10    None      0.02   \n",
      "\n",
      "                               Time Taken  \n",
      "Model                                      \n",
      "SVC                                193.63  \n",
      "LGBMClassifier                       5.41  \n",
      "XGBClassifier                        9.65  \n",
      "NuSVC                              353.72  \n",
      "RandomForestClassifier              31.54  \n",
      "LogisticRegression                   1.65  \n",
      "ExtraTreesClassifier                 9.44  \n",
      "LinearSVC                           88.83  \n",
      "CalibratedClassifierCV              36.93  \n",
      "BaggingClassifier                   16.03  \n",
      "LinearDiscriminantAnalysis           0.19  \n",
      "RidgeClassifierCV                    0.22  \n",
      "RidgeClassifier                      0.11  \n",
      "KNeighborsClassifier                 1.74  \n",
      "SGDClassifier                        2.27  \n",
      "DecisionTreeClassifier               2.53  \n",
      "AdaBoostClassifier                  11.31  \n",
      "QuadraticDiscriminantAnalysis        0.13  \n",
      "Perceptron                           0.82  \n",
      "ExtraTreeClassifier                  0.16  \n",
      "PassiveAggressiveClassifier          0.68  \n",
      "NearestCentroid                      0.08  \n",
      "GaussianNB                           0.10  \n",
      "BernoulliNB                          0.11  \n",
      "DummyClassifier                      0.07  \n"
     ]
    }
   ],
   "source": [
    "print(models)"
   ]
  },
  {
   "cell_type": "markdown",
   "id": "abce2806-0ef3-4b3e-8a77-3e40b3a26ad2",
   "metadata": {},
   "source": [
    "# DWT + DWPD"
   ]
  },
  {
   "cell_type": "code",
   "execution_count": 2,
   "id": "e5901a23-f25a-4e8d-9233-ddebc3660973",
   "metadata": {},
   "outputs": [],
   "source": [
    "df1 = pd.read_csv(\"../Features/Resultados/clean_dwt_db5_5_insect.csv\")\n",
    "df2 = pd.read_csv(\"../Features/Resultados/clean_dwpd_db5_5_insect.csv\")"
   ]
  },
  {
   "cell_type": "code",
   "execution_count": 3,
   "id": "48988b15-4672-482a-ac4a-879a84cad786",
   "metadata": {},
   "outputs": [
    {
     "data": {
      "text/plain": [
       "insect\n",
       "Ae. aegypti.f     5000\n",
       "Ae. aegypti.m     5000\n",
       "Cx. quinq.f       4999\n",
       "Cx. quinq.m       5000\n",
       "Cx. stigma.f      4999\n",
       "Cx. stigma.m      5000\n",
       "Cx. tarsalis.f    5000\n",
       "Cx. tarsalis.m    4998\n",
       "D. simulans       4999\n",
       "M. domestica      4999\n",
       "dtype: int64"
      ]
     },
     "execution_count": 3,
     "metadata": {},
     "output_type": "execute_result"
    }
   ],
   "source": [
    "df1.drop(columns=['insect'], inplace=True)\n",
    "data = pd.merge(df1, df2, on='Path_name', how='inner')\n",
    "# Distribución de las clases\n",
    "data.groupby('insect').size()"
   ]
  },
  {
   "cell_type": "code",
   "execution_count": 4,
   "id": "8974b83e-c025-4978-b279-5a45d44283b7",
   "metadata": {},
   "outputs": [],
   "source": [
    "# Codificación de la variable objetivo\n",
    "from sklearn.preprocessing import LabelEncoder\n",
    "\n",
    "encoder = LabelEncoder()\n",
    "data.insect = encoder.fit_transform(data.insect)\n",
    "\n",
    "features = data.columns.tolist()\n",
    "features.remove('insect')\n",
    "features.remove('Path_name')\n",
    "\n",
    "X_train, X_test, y_train, y_test = train_test_split(data[features].values,\\\n",
    "                                                    data['insect'].values,\\\n",
    "                                                    test_size=0.2,\\\n",
    "                                                    random_state=7)"
   ]
  },
  {
   "cell_type": "code",
   "execution_count": 5,
   "id": "2ea42790-8d8c-4f61-9bfa-7efcf08d36da",
   "metadata": {
    "collapsed": true,
    "jupyter": {
     "outputs_hidden": true
    }
   },
   "outputs": [
    {
     "name": "stderr",
     "output_type": "stream",
     "text": [
      " 96%|█████████▋| 26/27 [15:36<00:47, 47.41s/it] "
     ]
    },
    {
     "name": "stdout",
     "output_type": "stream",
     "text": [
      "[LightGBM] [Info] Auto-choosing col-wise multi-threading, the overhead of testing was 0.013524 seconds.\n",
      "You can set `force_col_wise=true` to remove the overhead.\n",
      "[LightGBM] [Info] Total Bins 6120\n",
      "[LightGBM] [Info] Number of data points in the train set: 39995, number of used features: 24\n",
      "[LightGBM] [Info] Start training from score -2.293996\n",
      "[LightGBM] [Info] Start training from score -2.298966\n",
      "[LightGBM] [Info] Start training from score -2.302960\n",
      "[LightGBM] [Info] Start training from score -2.293748\n",
      "[LightGBM] [Info] Start training from score -2.314027\n",
      "[LightGBM] [Info] Start training from score -2.295484\n",
      "[LightGBM] [Info] Start training from score -2.308478\n",
      "[LightGBM] [Info] Start training from score -2.309485\n",
      "[LightGBM] [Info] Start training from score -2.300712\n",
      "[LightGBM] [Info] Start training from score -2.308227\n"
     ]
    },
    {
     "name": "stderr",
     "output_type": "stream",
     "text": [
      "100%|██████████| 27/27 [15:41<00:00, 34.88s/it]\n"
     ]
    }
   ],
   "source": [
    "clf = LazyClassifier(verbose=0,ignore_warnings=True, custom_metric=None)\n",
    "models,predictions = clf.fit(X_train, X_test, y_train, y_test)"
   ]
  },
  {
   "cell_type": "code",
   "execution_count": 6,
   "id": "e279f978-a01d-421c-938c-082062ad5de2",
   "metadata": {},
   "outputs": [
    {
     "name": "stdout",
     "output_type": "stream",
     "text": [
      "                               Accuracy  Balanced Accuracy ROC AUC  F1 Score  \\\n",
      "Model                                                                          \n",
      "XGBClassifier                      0.46               0.46    None      0.45   \n",
      "NuSVC                              0.46               0.46    None      0.45   \n",
      "LGBMClassifier                     0.46               0.46    None      0.45   \n",
      "SVC                                0.45               0.45    None      0.43   \n",
      "RandomForestClassifier             0.44               0.44    None      0.43   \n",
      "ExtraTreesClassifier               0.43               0.43    None      0.42   \n",
      "LinearDiscriminantAnalysis         0.40               0.40    None      0.39   \n",
      "BaggingClassifier                  0.39               0.39    None      0.39   \n",
      "CalibratedClassifierCV             0.38               0.38    None      0.36   \n",
      "LinearSVC                          0.38               0.38    None      0.34   \n",
      "LogisticRegression                 0.38               0.38    None      0.36   \n",
      "RidgeClassifierCV                  0.37               0.37    None      0.33   \n",
      "RidgeClassifier                    0.36               0.36    None      0.31   \n",
      "KNeighborsClassifier               0.34               0.34    None      0.34   \n",
      "AdaBoostClassifier                 0.33               0.33    None      0.31   \n",
      "QuadraticDiscriminantAnalysis      0.31               0.31    None      0.27   \n",
      "DecisionTreeClassifier             0.31               0.31    None      0.31   \n",
      "SGDClassifier                      0.30               0.30    None      0.27   \n",
      "ExtraTreeClassifier                0.28               0.28    None      0.28   \n",
      "PassiveAggressiveClassifier        0.26               0.26    None      0.24   \n",
      "GaussianNB                         0.23               0.23    None      0.22   \n",
      "NearestCentroid                    0.23               0.23    None      0.21   \n",
      "BernoulliNB                        0.21               0.21    None      0.18   \n",
      "Perceptron                         0.19               0.19    None      0.18   \n",
      "DummyClassifier                    0.10               0.10    None      0.02   \n",
      "\n",
      "                               Time Taken  \n",
      "Model                                      \n",
      "XGBClassifier                        9.90  \n",
      "NuSVC                              414.17  \n",
      "LGBMClassifier                       5.47  \n",
      "SVC                                242.85  \n",
      "RandomForestClassifier              32.61  \n",
      "ExtraTreesClassifier                11.32  \n",
      "LinearDiscriminantAnalysis           0.29  \n",
      "BaggingClassifier                   20.31  \n",
      "CalibratedClassifierCV              45.85  \n",
      "LinearSVC                          131.34  \n",
      "LogisticRegression                   1.85  \n",
      "RidgeClassifierCV                    0.24  \n",
      "RidgeClassifier                      0.11  \n",
      "KNeighborsClassifier                 3.03  \n",
      "AdaBoostClassifier                  14.42  \n",
      "QuadraticDiscriminantAnalysis        0.14  \n",
      "DecisionTreeClassifier               2.90  \n",
      "SGDClassifier                        2.51  \n",
      "ExtraTreeClassifier                  0.16  \n",
      "PassiveAggressiveClassifier          0.96  \n",
      "GaussianNB                           0.14  \n",
      "NearestCentroid                      0.10  \n",
      "BernoulliNB                          0.13  \n",
      "Perceptron                           0.86  \n",
      "DummyClassifier                      0.07  \n"
     ]
    }
   ],
   "source": [
    "print(models)"
   ]
  },
  {
   "cell_type": "markdown",
   "id": "7d3857ae-7b3c-499f-89ed-3e1bc5f74cee",
   "metadata": {},
   "source": [
    "# DWPD + WPD "
   ]
  },
  {
   "cell_type": "code",
   "execution_count": 19,
   "id": "6c88e857-0339-4880-969d-b0997ff5faff",
   "metadata": {},
   "outputs": [],
   "source": [
    "df1 = pd.read_csv(\"../Features/Resultados/clean_wpd_db5_5_insect.csv\")\n",
    "df2 = pd.read_csv(\"../Features/Resultados/clean_dwpd_db5_5_insect.csv\")"
   ]
  },
  {
   "cell_type": "code",
   "execution_count": 20,
   "id": "e5c14848-6498-41dc-ba06-8d7656d0fef8",
   "metadata": {},
   "outputs": [
    {
     "data": {
      "text/plain": [
       "insect\n",
       "Ae. aegypti.f     5000\n",
       "Ae. aegypti.m     5000\n",
       "Cx. quinq.f       4999\n",
       "Cx. quinq.m       5000\n",
       "Cx. stigma.f      4999\n",
       "Cx. stigma.m      5000\n",
       "Cx. tarsalis.f    5000\n",
       "Cx. tarsalis.m    4998\n",
       "D. simulans       4999\n",
       "M. domestica      4999\n",
       "dtype: int64"
      ]
     },
     "execution_count": 20,
     "metadata": {},
     "output_type": "execute_result"
    }
   ],
   "source": [
    "df1.drop(columns=['insect'], inplace=True)\n",
    "data = pd.merge(df1, df2, on='Path_name', how='inner')\n",
    "# Distribución de las clases\n",
    "data.groupby('insect').size()"
   ]
  },
  {
   "cell_type": "code",
   "execution_count": 21,
   "id": "ce4c864c-62a6-4480-b35a-6c53f1c5a84f",
   "metadata": {},
   "outputs": [],
   "source": [
    "# Codificación de la variable objetivo\n",
    "encoder = LabelEncoder()\n",
    "data.insect = encoder.fit_transform(data.insect)\n",
    "\n",
    "features = data.columns.tolist()\n",
    "features.remove('insect')\n",
    "features.remove('Path_name')\n",
    "\n",
    "X_train, X_test, y_train, y_test = train_test_split(data[features].values,\\\n",
    "                                                    data['insect'].values,\\\n",
    "                                                    test_size=0.2,\\\n",
    "                                                    random_state=7)"
   ]
  },
  {
   "cell_type": "code",
   "execution_count": 22,
   "id": "1d66646d-b78f-47b8-8d4e-b5bdcc3e8d5d",
   "metadata": {
    "collapsed": true,
    "jupyter": {
     "outputs_hidden": true
    }
   },
   "outputs": [
    {
     "name": "stderr",
     "output_type": "stream",
     "text": [
      " 96%|█████████▋| 26/27 [14:58<00:43, 43.08s/it] "
     ]
    },
    {
     "name": "stdout",
     "output_type": "stream",
     "text": [
      "[LightGBM] [Info] Auto-choosing col-wise multi-threading, the overhead of testing was 0.007175 seconds.\n",
      "You can set `force_col_wise=true` to remove the overhead.\n",
      "[LightGBM] [Info] Total Bins 6120\n",
      "[LightGBM] [Info] Number of data points in the train set: 39995, number of used features: 24\n",
      "[LightGBM] [Info] Start training from score -2.293996\n",
      "[LightGBM] [Info] Start training from score -2.298966\n",
      "[LightGBM] [Info] Start training from score -2.302960\n",
      "[LightGBM] [Info] Start training from score -2.293748\n",
      "[LightGBM] [Info] Start training from score -2.314027\n",
      "[LightGBM] [Info] Start training from score -2.295484\n",
      "[LightGBM] [Info] Start training from score -2.308478\n",
      "[LightGBM] [Info] Start training from score -2.309485\n",
      "[LightGBM] [Info] Start training from score -2.300712\n",
      "[LightGBM] [Info] Start training from score -2.308227\n"
     ]
    },
    {
     "name": "stderr",
     "output_type": "stream",
     "text": [
      "100%|██████████| 27/27 [15:04<00:00, 33.49s/it]\n"
     ]
    }
   ],
   "source": [
    "clf = LazyClassifier(verbose=0,ignore_warnings=True, custom_metric=None)\n",
    "models,predictions = clf.fit(X_train, X_test, y_train, y_test)"
   ]
  },
  {
   "cell_type": "code",
   "execution_count": 23,
   "id": "cace241d-341a-4bc4-aac5-32cc5971cb16",
   "metadata": {},
   "outputs": [
    {
     "name": "stdout",
     "output_type": "stream",
     "text": [
      "                               Accuracy  Balanced Accuracy ROC AUC  F1 Score  \\\n",
      "Model                                                                          \n",
      "SVC                                0.56               0.56    None      0.55   \n",
      "LGBMClassifier                     0.55               0.55    None      0.55   \n",
      "XGBClassifier                      0.55               0.55    None      0.55   \n",
      "NuSVC                              0.53               0.53    None      0.53   \n",
      "RandomForestClassifier             0.52               0.52    None      0.52   \n",
      "LogisticRegression                 0.52               0.52    None      0.52   \n",
      "ExtraTreesClassifier               0.51               0.51    None      0.51   \n",
      "CalibratedClassifierCV             0.49               0.49    None      0.48   \n",
      "BaggingClassifier                  0.49               0.49    None      0.49   \n",
      "LinearSVC                          0.49               0.49    None      0.46   \n",
      "LinearDiscriminantAnalysis         0.48               0.48    None      0.48   \n",
      "RidgeClassifierCV                  0.46               0.46    None      0.43   \n",
      "RidgeClassifier                    0.46               0.46    None      0.42   \n",
      "KNeighborsClassifier               0.41               0.41    None      0.41   \n",
      "SGDClassifier                      0.40               0.40    None      0.37   \n",
      "AdaBoostClassifier                 0.39               0.39    None      0.38   \n",
      "DecisionTreeClassifier             0.39               0.39    None      0.39   \n",
      "QuadraticDiscriminantAnalysis      0.37               0.37    None      0.34   \n",
      "Perceptron                         0.35               0.35    None      0.36   \n",
      "ExtraTreeClassifier                0.31               0.31    None      0.31   \n",
      "PassiveAggressiveClassifier        0.30               0.30    None      0.29   \n",
      "NearestCentroid                    0.25               0.25    None      0.24   \n",
      "GaussianNB                         0.24               0.24    None      0.23   \n",
      "BernoulliNB                        0.24               0.24    None      0.22   \n",
      "DummyClassifier                    0.10               0.10    None      0.02   \n",
      "\n",
      "                               Time Taken  \n",
      "Model                                      \n",
      "SVC                                215.92  \n",
      "LGBMClassifier                       5.88  \n",
      "XGBClassifier                       10.44  \n",
      "NuSVC                              424.42  \n",
      "RandomForestClassifier              34.70  \n",
      "LogisticRegression                   1.77  \n",
      "ExtraTreesClassifier                14.60  \n",
      "CalibratedClassifierCV              40.02  \n",
      "BaggingClassifier                   16.96  \n",
      "LinearSVC                          116.69  \n",
      "LinearDiscriminantAnalysis           0.35  \n",
      "RidgeClassifierCV                    0.28  \n",
      "RidgeClassifier                      0.14  \n",
      "KNeighborsClassifier                 2.37  \n",
      "SGDClassifier                        2.58  \n",
      "AdaBoostClassifier                  12.09  \n",
      "DecisionTreeClassifier               2.63  \n",
      "QuadraticDiscriminantAnalysis        0.16  \n",
      "Perceptron                           0.73  \n",
      "ExtraTreeClassifier                  0.16  \n",
      "PassiveAggressiveClassifier          0.72  \n",
      "NearestCentroid                      0.09  \n",
      "GaussianNB                           0.19  \n",
      "BernoulliNB                          0.14  \n",
      "DummyClassifier                      0.07  \n"
     ]
    }
   ],
   "source": [
    "print(models)"
   ]
  },
  {
   "cell_type": "markdown",
   "id": "60359a97-5394-476c-b3ba-1329df2558c3",
   "metadata": {},
   "source": [
    "# DWT + MFCC"
   ]
  },
  {
   "cell_type": "code",
   "execution_count": 7,
   "id": "4dd6736c-67ab-4c18-89c5-3bec687dc11f",
   "metadata": {},
   "outputs": [],
   "source": [
    "df1 = pd.read_csv(\"../Features/Resultados/clean_dwt_db5_5_insect.csv\")\n",
    "df2 = pd.read_csv(\"../Features/Resultados/clean_mfcc_insect.csv\")"
   ]
  },
  {
   "cell_type": "code",
   "execution_count": 8,
   "id": "9deec317-e5a7-469c-a10b-6107d5127584",
   "metadata": {},
   "outputs": [
    {
     "data": {
      "text/plain": [
       "insect\n",
       "Ae. aegypti.f     5000\n",
       "Ae. aegypti.m     5000\n",
       "Cx. quinq.f       4999\n",
       "Cx. quinq.m       5000\n",
       "Cx. stigma.f      4999\n",
       "Cx. stigma.m      5000\n",
       "Cx. tarsalis.f    5000\n",
       "Cx. tarsalis.m    4998\n",
       "D. simulans       4999\n",
       "M. domestica      4999\n",
       "dtype: int64"
      ]
     },
     "execution_count": 8,
     "metadata": {},
     "output_type": "execute_result"
    }
   ],
   "source": [
    "df1.drop(columns=['insect'], inplace=True)\n",
    "data = pd.merge(df1, df2, on='Path_name', how='inner')\n",
    "# Distribución de las clases\n",
    "data.groupby('insect').size()"
   ]
  },
  {
   "cell_type": "code",
   "execution_count": 9,
   "id": "aa6515b1-60f5-49dc-acc2-a1d673292240",
   "metadata": {},
   "outputs": [],
   "source": [
    "# Codificación de la variable objetivo\n",
    "from sklearn.preprocessing import LabelEncoder\n",
    "\n",
    "encoder = LabelEncoder()\n",
    "data.insect = encoder.fit_transform(data.insect)\n",
    "\n",
    "features = data.columns.tolist()\n",
    "features.remove('insect')\n",
    "features.remove('Path_name')\n",
    "\n",
    "X_train, X_test, y_train, y_test = train_test_split(data[features].values,\\\n",
    "                                                    data['insect'].values,\\\n",
    "                                                    test_size=0.2,\\\n",
    "                                                    random_state=7)"
   ]
  },
  {
   "cell_type": "code",
   "execution_count": 10,
   "id": "ce72f2f1-fdb6-4b3d-bc8b-efbe7523d178",
   "metadata": {
    "collapsed": true,
    "jupyter": {
     "outputs_hidden": true
    }
   },
   "outputs": [
    {
     "name": "stderr",
     "output_type": "stream",
     "text": [
      " 96%|█████████▋| 26/27 [29:00<01:07, 67.73s/it] "
     ]
    },
    {
     "name": "stdout",
     "output_type": "stream",
     "text": [
      "[LightGBM] [Info] Auto-choosing col-wise multi-threading, the overhead of testing was 0.053595 seconds.\n",
      "You can set `force_col_wise=true` to remove the overhead.\n",
      "[LightGBM] [Info] Total Bins 41310\n",
      "[LightGBM] [Info] Number of data points in the train set: 39995, number of used features: 162\n",
      "[LightGBM] [Info] Start training from score -2.293996\n",
      "[LightGBM] [Info] Start training from score -2.298966\n",
      "[LightGBM] [Info] Start training from score -2.302960\n",
      "[LightGBM] [Info] Start training from score -2.293748\n",
      "[LightGBM] [Info] Start training from score -2.314027\n",
      "[LightGBM] [Info] Start training from score -2.295484\n",
      "[LightGBM] [Info] Start training from score -2.308478\n",
      "[LightGBM] [Info] Start training from score -2.309485\n",
      "[LightGBM] [Info] Start training from score -2.300712\n",
      "[LightGBM] [Info] Start training from score -2.308227\n"
     ]
    },
    {
     "name": "stderr",
     "output_type": "stream",
     "text": [
      "100%|██████████| 27/27 [29:34<00:00, 65.72s/it]\n"
     ]
    }
   ],
   "source": [
    "clf = LazyClassifier(verbose=0,ignore_warnings=True, custom_metric=None)\n",
    "models,predictions = clf.fit(X_train, X_test, y_train, y_test)"
   ]
  },
  {
   "cell_type": "code",
   "execution_count": 11,
   "id": "8ec324a7-a9c8-4330-b2a4-f037419539d7",
   "metadata": {},
   "outputs": [
    {
     "name": "stdout",
     "output_type": "stream",
     "text": [
      "                               Accuracy  Balanced Accuracy ROC AUC  F1 Score  \\\n",
      "Model                                                                          \n",
      "SVC                                0.74               0.74    None      0.74   \n",
      "LGBMClassifier                     0.74               0.74    None      0.74   \n",
      "XGBClassifier                      0.74               0.74    None      0.74   \n",
      "RandomForestClassifier             0.71               0.71    None      0.70   \n",
      "ExtraTreesClassifier               0.70               0.70    None      0.70   \n",
      "NuSVC                              0.69               0.69    None      0.69   \n",
      "LogisticRegression                 0.66               0.66    None      0.66   \n",
      "KNeighborsClassifier               0.66               0.66    None      0.65   \n",
      "BaggingClassifier                  0.66               0.66    None      0.65   \n",
      "CalibratedClassifierCV             0.64               0.64    None      0.63   \n",
      "LinearSVC                          0.63               0.63    None      0.62   \n",
      "LinearDiscriminantAnalysis         0.62               0.62    None      0.62   \n",
      "SGDClassifier                      0.59               0.59    None      0.58   \n",
      "RidgeClassifier                    0.59               0.59    None      0.56   \n",
      "RidgeClassifierCV                  0.59               0.59    None      0.56   \n",
      "NearestCentroid                    0.58               0.58    None      0.57   \n",
      "DecisionTreeClassifier             0.55               0.55    None      0.55   \n",
      "GaussianNB                         0.54               0.54    None      0.51   \n",
      "BernoulliNB                        0.54               0.54    None      0.54   \n",
      "AdaBoostClassifier                 0.52               0.52    None      0.50   \n",
      "Perceptron                         0.51               0.52    None      0.51   \n",
      "PassiveAggressiveClassifier        0.51               0.51    None      0.51   \n",
      "ExtraTreeClassifier                0.46               0.46    None      0.46   \n",
      "QuadraticDiscriminantAnalysis      0.43               0.43    None      0.38   \n",
      "DummyClassifier                    0.10               0.10    None      0.02   \n",
      "\n",
      "                               Time Taken  \n",
      "Model                                      \n",
      "SVC                                241.04  \n",
      "LGBMClassifier                      33.86  \n",
      "XGBClassifier                       69.78  \n",
      "RandomForestClassifier              89.33  \n",
      "ExtraTreesClassifier                18.98  \n",
      "NuSVC                              670.74  \n",
      "LogisticRegression                   4.38  \n",
      "KNeighborsClassifier                 4.73  \n",
      "BaggingClassifier                  128.37  \n",
      "CalibratedClassifierCV             127.60  \n",
      "LinearSVC                          268.66  \n",
      "LinearDiscriminantAnalysis           1.71  \n",
      "SGDClassifier                       15.59  \n",
      "RidgeClassifier                      0.54  \n",
      "RidgeClassifierCV                    1.76  \n",
      "NearestCentroid                      0.42  \n",
      "DecisionTreeClassifier              19.85  \n",
      "GaussianNB                           0.56  \n",
      "BernoulliNB                          0.48  \n",
      "AdaBoostClassifier                  69.34  \n",
      "Perceptron                           1.60  \n",
      "PassiveAggressiveClassifier          2.54  \n",
      "ExtraTreeClassifier                  0.52  \n",
      "QuadraticDiscriminantAnalysis        1.33  \n",
      "DummyClassifier                      0.35  \n"
     ]
    }
   ],
   "source": [
    "print(models)"
   ]
  },
  {
   "cell_type": "markdown",
   "id": "23b1fff7-dad4-43e0-abd6-a803ca09e70b",
   "metadata": {},
   "source": [
    "# DWPD + MFCC"
   ]
  },
  {
   "cell_type": "code",
   "execution_count": 12,
   "id": "658194ef-32aa-45bc-8836-0ffd77d0de5d",
   "metadata": {},
   "outputs": [],
   "source": [
    "df1 = pd.read_csv(\"../Features/Resultados/clean_dwpd_db5_5_insect.csv\")\n",
    "df2 = pd.read_csv(\"../Features/Resultados/clean_mfcc_insect.csv\")"
   ]
  },
  {
   "cell_type": "code",
   "execution_count": 13,
   "id": "bcc0daeb-6199-49ed-8c26-cda3aaae34e0",
   "metadata": {},
   "outputs": [
    {
     "data": {
      "text/plain": [
       "insect\n",
       "Ae. aegypti.f     5000\n",
       "Ae. aegypti.m     5000\n",
       "Cx. quinq.f       4999\n",
       "Cx. quinq.m       5000\n",
       "Cx. stigma.f      4999\n",
       "Cx. stigma.m      5000\n",
       "Cx. tarsalis.f    5000\n",
       "Cx. tarsalis.m    4998\n",
       "D. simulans       4999\n",
       "M. domestica      4999\n",
       "dtype: int64"
      ]
     },
     "execution_count": 13,
     "metadata": {},
     "output_type": "execute_result"
    }
   ],
   "source": [
    "df1.drop(columns=['insect'], inplace=True)\n",
    "data = pd.merge(df1, df2, on='Path_name', how='inner')\n",
    "# Distribución de las clases\n",
    "data.groupby('insect').size()"
   ]
  },
  {
   "cell_type": "code",
   "execution_count": 14,
   "id": "915f30a0-fc38-48a9-be46-de503d054600",
   "metadata": {},
   "outputs": [],
   "source": [
    "# Codificación de la variable objetivo\n",
    "from sklearn.preprocessing import LabelEncoder\n",
    "\n",
    "encoder = LabelEncoder()\n",
    "data.insect = encoder.fit_transform(data.insect)\n",
    "\n",
    "features = data.columns.tolist()\n",
    "features.remove('insect')\n",
    "features.remove('Path_name')\n",
    "\n",
    "X_train, X_test, y_train, y_test = train_test_split(data[features].values,\\\n",
    "                                                    data['insect'].values,\\\n",
    "                                                    test_size=0.2,\\\n",
    "                                                    random_state=7)"
   ]
  },
  {
   "cell_type": "code",
   "execution_count": 15,
   "id": "9f6ee88b-9d01-403d-bee0-2bda7ea2f95b",
   "metadata": {
    "collapsed": true,
    "jupyter": {
     "outputs_hidden": true
    }
   },
   "outputs": [
    {
     "name": "stderr",
     "output_type": "stream",
     "text": [
      " 96%|█████████▋| 26/27 [29:28<01:09, 69.74s/it] "
     ]
    },
    {
     "name": "stdout",
     "output_type": "stream",
     "text": [
      "[LightGBM] [Info] Auto-choosing col-wise multi-threading, the overhead of testing was 0.056277 seconds.\n",
      "You can set `force_col_wise=true` to remove the overhead.\n",
      "[LightGBM] [Info] Total Bins 41310\n",
      "[LightGBM] [Info] Number of data points in the train set: 39995, number of used features: 162\n",
      "[LightGBM] [Info] Start training from score -2.293996\n",
      "[LightGBM] [Info] Start training from score -2.298966\n",
      "[LightGBM] [Info] Start training from score -2.302960\n",
      "[LightGBM] [Info] Start training from score -2.293748\n",
      "[LightGBM] [Info] Start training from score -2.314027\n",
      "[LightGBM] [Info] Start training from score -2.295484\n",
      "[LightGBM] [Info] Start training from score -2.308478\n",
      "[LightGBM] [Info] Start training from score -2.309485\n",
      "[LightGBM] [Info] Start training from score -2.300712\n",
      "[LightGBM] [Info] Start training from score -2.308227\n"
     ]
    },
    {
     "name": "stderr",
     "output_type": "stream",
     "text": [
      "100%|██████████| 27/27 [30:02<00:00, 66.74s/it]\n"
     ]
    }
   ],
   "source": [
    "clf = LazyClassifier(verbose=0,ignore_warnings=True, custom_metric=None)\n",
    "models,predictions = clf.fit(X_train, X_test, y_train, y_test)"
   ]
  },
  {
   "cell_type": "code",
   "execution_count": 16,
   "id": "6bc478a4-8363-4b8f-af21-f0cc52adcb97",
   "metadata": {},
   "outputs": [
    {
     "name": "stdout",
     "output_type": "stream",
     "text": [
      "                               Accuracy  Balanced Accuracy ROC AUC  F1 Score  \\\n",
      "Model                                                                          \n",
      "SVC                                0.74               0.74    None      0.74   \n",
      "XGBClassifier                      0.74               0.74    None      0.74   \n",
      "LGBMClassifier                     0.74               0.74    None      0.74   \n",
      "RandomForestClassifier             0.71               0.71    None      0.70   \n",
      "ExtraTreesClassifier               0.70               0.70    None      0.70   \n",
      "NuSVC                              0.69               0.69    None      0.69   \n",
      "KNeighborsClassifier               0.66               0.66    None      0.66   \n",
      "LogisticRegression                 0.66               0.66    None      0.66   \n",
      "BaggingClassifier                  0.65               0.65    None      0.65   \n",
      "CalibratedClassifierCV             0.64               0.64    None      0.63   \n",
      "LinearSVC                          0.63               0.63    None      0.62   \n",
      "LinearDiscriminantAnalysis         0.62               0.62    None      0.62   \n",
      "SGDClassifier                      0.59               0.59    None      0.58   \n",
      "RidgeClassifier                    0.59               0.59    None      0.57   \n",
      "RidgeClassifierCV                  0.59               0.59    None      0.57   \n",
      "NearestCentroid                    0.57               0.58    None      0.57   \n",
      "DecisionTreeClassifier             0.55               0.55    None      0.55   \n",
      "GaussianNB                         0.54               0.54    None      0.52   \n",
      "BernoulliNB                        0.54               0.54    None      0.54   \n",
      "AdaBoostClassifier                 0.53               0.53    None      0.52   \n",
      "PassiveAggressiveClassifier        0.51               0.51    None      0.51   \n",
      "Perceptron                         0.49               0.50    None      0.49   \n",
      "ExtraTreeClassifier                0.47               0.47    None      0.47   \n",
      "QuadraticDiscriminantAnalysis      0.43               0.43    None      0.39   \n",
      "DummyClassifier                    0.10               0.10    None      0.02   \n",
      "\n",
      "                               Time Taken  \n",
      "Model                                      \n",
      "SVC                                251.11  \n",
      "XGBClassifier                       65.09  \n",
      "LGBMClassifier                      33.50  \n",
      "RandomForestClassifier             113.22  \n",
      "ExtraTreesClassifier                19.32  \n",
      "NuSVC                              682.90  \n",
      "KNeighborsClassifier                 5.27  \n",
      "LogisticRegression                   4.20  \n",
      "BaggingClassifier                  130.12  \n",
      "CalibratedClassifierCV             115.09  \n",
      "LinearSVC                          257.91  \n",
      "LinearDiscriminantAnalysis           1.72  \n",
      "SGDClassifier                       19.00  \n",
      "RidgeClassifier                      0.70  \n",
      "RidgeClassifierCV                    2.27  \n",
      "NearestCentroid                      0.43  \n",
      "DecisionTreeClassifier              20.45  \n",
      "GaussianNB                           0.56  \n",
      "BernoulliNB                          0.53  \n",
      "AdaBoostClassifier                  70.62  \n",
      "PassiveAggressiveClassifier          3.01  \n",
      "Perceptron                           1.89  \n",
      "ExtraTreeClassifier                  0.56  \n",
      "QuadraticDiscriminantAnalysis        1.83  \n",
      "DummyClassifier                      0.37  \n"
     ]
    }
   ],
   "source": [
    "print(models)"
   ]
  },
  {
   "cell_type": "markdown",
   "id": "b6ef97cc-4902-43e6-98fa-c8b87975a396",
   "metadata": {},
   "source": [
    "# Espectral + Temporal + DWT "
   ]
  },
  {
   "cell_type": "code",
   "execution_count": 20,
   "id": "f7682124-4f02-4a03-8aff-9219c812a04b",
   "metadata": {},
   "outputs": [],
   "source": [
    "df1 = pd.read_csv(\"../Features/Resultados/clean_spectral_insect.csv\")\n",
    "df2 = pd.read_csv(\"../Features/Resultados/clean_temporal_insect.csv\")\n",
    "df3 = pd.read_csv(\"../Features/Resultados/clean_dwt_db5_5_insect.csv\")"
   ]
  },
  {
   "cell_type": "code",
   "execution_count": 21,
   "id": "f470bb77-2189-4cee-b830-5569fbba2359",
   "metadata": {},
   "outputs": [
    {
     "data": {
      "text/plain": [
       "insect\n",
       "Ae. aegypti.f     4975\n",
       "Ae. aegypti.m     4986\n",
       "Cx. quinq.f       4991\n",
       "Cx. quinq.m       4979\n",
       "Cx. stigma.f      4992\n",
       "Cx. stigma.m      4983\n",
       "Cx. tarsalis.f    4981\n",
       "Cx. tarsalis.m    4986\n",
       "D. simulans       4992\n",
       "M. domestica      4995\n",
       "dtype: int64"
      ]
     },
     "execution_count": 21,
     "metadata": {},
     "output_type": "execute_result"
    }
   ],
   "source": [
    "df1.drop(columns=['insect'], inplace=True)\n",
    "df2.drop(columns=['insect'], inplace=True)\n",
    "\n",
    "df12 = pd.merge(df1, df2, on='Path_name', how='inner')\n",
    "data = pd.merge(df12, df3, on='Path_name', how='inner')\n",
    "\n",
    "# Distribución de las clases\n",
    "data.groupby('insect').size()"
   ]
  },
  {
   "cell_type": "code",
   "execution_count": 22,
   "id": "67afc3c7-8c26-490a-9c67-ebee1decc044",
   "metadata": {},
   "outputs": [],
   "source": [
    "# Codificación de la variable objetivo\n",
    "from sklearn.preprocessing import LabelEncoder\n",
    "\n",
    "encoder = LabelEncoder()\n",
    "data.insect = encoder.fit_transform(data.insect)\n",
    "\n",
    "features = data.columns.tolist()\n",
    "features.remove('insect')\n",
    "features.remove('Path_name')\n",
    "\n",
    "X_train, X_test, y_train, y_test = train_test_split(data[features].values,\\\n",
    "                                                    data['insect'].values,\\\n",
    "                                                    test_size=0.2,\\\n",
    "                                                    random_state=7)"
   ]
  },
  {
   "cell_type": "code",
   "execution_count": 23,
   "id": "5cb2988a-33f3-4e27-83b6-c5279d3f0148",
   "metadata": {
    "collapsed": true,
    "jupyter": {
     "outputs_hidden": true
    }
   },
   "outputs": [
    {
     "name": "stderr",
     "output_type": "stream",
     "text": [
      "  4%|▎         | 1/27 [00:20<08:59, 20.74s/it]"
     ]
    },
    {
     "name": "stdout",
     "output_type": "stream",
     "text": [
      "{'Model': 'AdaBoostClassifier', 'Accuracy': 0.5313878860810268, 'Balanced Accuracy': 0.5332881572465957, 'ROC AUC': None, 'F1 Score': 0.5177461004051425, 'Time taken': 20.741995096206665}\n"
     ]
    },
    {
     "name": "stderr",
     "output_type": "stream",
     "text": [
      " 11%|█         | 3/27 [00:53<06:03, 15.13s/it]"
     ]
    },
    {
     "name": "stdout",
     "output_type": "stream",
     "text": [
      "{'Model': 'BaggingClassifier', 'Accuracy': 0.6304653028479743, 'Balanced Accuracy': 0.6313545134514247, 'ROC AUC': None, 'F1 Score': 0.6293153981541716, 'Time taken': 32.579524993896484}\n",
      "{'Model': 'BernoulliNB', 'Accuracy': 0.33574007220216606, 'Balanced Accuracy': 0.33484864724534746, 'ROC AUC': None, 'F1 Score': 0.32166418141526315, 'Time taken': 0.16917204856872559}\n"
     ]
    },
    {
     "name": "stderr",
     "output_type": "stream",
     "text": [
      " 19%|█▊        | 5/27 [03:08<14:41, 40.05s/it]"
     ]
    },
    {
     "name": "stdout",
     "output_type": "stream",
     "text": [
      "{'Model': 'CalibratedClassifierCV', 'Accuracy': 0.5400120336943441, 'Balanced Accuracy': 0.5407541629763098, 'ROC AUC': None, 'F1 Score': 0.5316167606788138, 'Time taken': 135.32875227928162}\n"
     ]
    },
    {
     "name": "stderr",
     "output_type": "stream",
     "text": [
      " 26%|██▌       | 7/27 [03:13<06:18, 18.92s/it]"
     ]
    },
    {
     "name": "stdout",
     "output_type": "stream",
     "text": [
      "{'Model': 'DecisionTreeClassifier', 'Accuracy': 0.5419173686321701, 'Balanced Accuracy': 0.5425653240919769, 'ROC AUC': None, 'F1 Score': 0.5424122554206016, 'Time taken': 4.759282827377319}\n",
      "{'Model': 'DummyClassifier', 'Accuracy': 0.09767348576012835, 'Balanced Accuracy': 0.1, 'ROC AUC': None, 'F1 Score': 0.01738241825879134, 'Time taken': 0.11210298538208008}\n"
     ]
    },
    {
     "name": "stderr",
     "output_type": "stream",
     "text": [
      " 30%|██▉       | 8/27 [03:14<04:06, 12.97s/it]"
     ]
    },
    {
     "name": "stdout",
     "output_type": "stream",
     "text": [
      "{'Model': 'ExtraTreeClassifier', 'Accuracy': 0.381468110709988, 'Balanced Accuracy': 0.3818051714427316, 'ROC AUC': None, 'F1 Score': 0.3812240514344869, 'Time taken': 0.23399901390075684}\n"
     ]
    },
    {
     "name": "stderr",
     "output_type": "stream",
     "text": [
      " 37%|███▋      | 10/27 [03:26<02:29,  8.78s/it]"
     ]
    },
    {
     "name": "stdout",
     "output_type": "stream",
     "text": [
      "{'Model': 'ExtraTreesClassifier', 'Accuracy': 0.6582430806257521, 'Balanced Accuracy': 0.658680753910037, 'ROC AUC': None, 'F1 Score': 0.6533657474767874, 'Time taken': 11.818051815032959}\n",
      "{'Model': 'GaussianNB', 'Accuracy': 0.3397513036502206, 'Balanced Accuracy': 0.3404705893191764, 'ROC AUC': None, 'F1 Score': 0.31688992768719526, 'Time taken': 0.1897447109222412}\n"
     ]
    },
    {
     "name": "stderr",
     "output_type": "stream",
     "text": [
      " 41%|████      | 11/27 [03:28<01:48,  6.75s/it]"
     ]
    },
    {
     "name": "stdout",
     "output_type": "stream",
     "text": [
      "{'Model': 'KNeighborsClassifier', 'Accuracy': 0.5041115122342559, 'Balanced Accuracy': 0.5055339639560193, 'ROC AUC': None, 'F1 Score': 0.5050160534919851, 'Time taken': 2.1697957515716553}\n"
     ]
    },
    {
     "name": "stderr",
     "output_type": "stream",
     "text": [
      " 44%|████▍     | 12/27 [03:28<01:12,  4.82s/it]"
     ]
    },
    {
     "name": "stdout",
     "output_type": "stream",
     "text": [
      "{'Model': 'LinearDiscriminantAnalysis', 'Accuracy': 0.5387083834737264, 'Balanced Accuracy': 0.539171932216303, 'ROC AUC': None, 'F1 Score': 0.536849107756193, 'Time taken': 0.39231204986572266}\n"
     ]
    },
    {
     "name": "stderr",
     "output_type": "stream",
     "text": [
      " 48%|████▊     | 13/27 [05:41<10:08, 43.47s/it]"
     ]
    },
    {
     "name": "stdout",
     "output_type": "stream",
     "text": [
      "{'Model': 'LinearSVC', 'Accuracy': 0.5343963096670677, 'Balanced Accuracy': 0.535513785914364, 'ROC AUC': None, 'F1 Score': 0.5151046201623078, 'Time taken': 132.4204442501068}\n"
     ]
    },
    {
     "name": "stderr",
     "output_type": "stream",
     "text": [
      " 56%|█████▌    | 15/27 [05:43<04:20, 21.69s/it]"
     ]
    },
    {
     "name": "stdout",
     "output_type": "stream",
     "text": [
      "{'Model': 'LogisticRegression', 'Accuracy': 0.5690934616927397, 'Balanced Accuracy': 0.5693057204024148, 'ROC AUC': None, 'F1 Score': 0.56381138546582, 'Time taken': 2.1453661918640137}\n",
      "{'Model': 'NearestCentroid', 'Accuracy': 0.32942238267148016, 'Balanced Accuracy': 0.3286792884036672, 'ROC AUC': None, 'F1 Score': 0.32209688807448295, 'Time taken': 0.1388380527496338}\n"
     ]
    },
    {
     "name": "stderr",
     "output_type": "stream",
     "text": [
      " 59%|█████▉    | 16/27 [14:00<30:14, 164.94s/it]"
     ]
    },
    {
     "name": "stdout",
     "output_type": "stream",
     "text": [
      "{'Model': 'NuSVC', 'Accuracy': 0.6305655836341757, 'Balanced Accuracy': 0.6305545447472823, 'ROC AUC': None, 'F1 Score': 0.6283763257832361, 'Time taken': 497.587424993515}\n"
     ]
    },
    {
     "name": "stderr",
     "output_type": "stream",
     "text": [
      " 63%|██████▎   | 17/27 [14:02<19:16, 115.67s/it]"
     ]
    },
    {
     "name": "stdout",
     "output_type": "stream",
     "text": [
      "{'Model': 'PassiveAggressiveClassifier', 'Accuracy': 0.36331728840754113, 'Balanced Accuracy': 0.3632457358127629, 'ROC AUC': None, 'F1 Score': 0.34489199210183374, 'Time taken': 1.1001250743865967}\n"
     ]
    },
    {
     "name": "stderr",
     "output_type": "stream",
     "text": [
      " 67%|██████▋   | 18/27 [14:03<12:11, 81.25s/it] "
     ]
    },
    {
     "name": "stdout",
     "output_type": "stream",
     "text": [
      "{'Model': 'Perceptron', 'Accuracy': 0.37434817488969113, 'Balanced Accuracy': 0.37417866149198387, 'ROC AUC': None, 'F1 Score': 0.35343838504141817, 'Time taken': 1.1282618045806885}\n"
     ]
    },
    {
     "name": "stderr",
     "output_type": "stream",
     "text": [
      " 70%|███████   | 19/27 [14:03<07:35, 56.93s/it]"
     ]
    },
    {
     "name": "stdout",
     "output_type": "stream",
     "text": [
      "{'Model': 'QuadraticDiscriminantAnalysis', 'Accuracy': 0.4548736462093863, 'Balanced Accuracy': 0.4551627270086679, 'ROC AUC': None, 'F1 Score': 0.4254356307165245, 'Time taken': 0.2769200801849365}\n"
     ]
    },
    {
     "name": "stderr",
     "output_type": "stream",
     "text": [
      " 78%|███████▊  | 21/27 [14:46<03:41, 36.97s/it]"
     ]
    },
    {
     "name": "stdout",
     "output_type": "stream",
     "text": [
      "{'Model': 'RandomForestClassifier', 'Accuracy': 0.6775972723626154, 'Balanced Accuracy': 0.6780537825101223, 'ROC AUC': None, 'F1 Score': 0.6749395098001488, 'Time taken': 43.042256116867065}\n",
      "{'Model': 'RidgeClassifier', 'Accuracy': 0.5034095467308464, 'Balanced Accuracy': 0.5045441922122548, 'ROC AUC': None, 'F1 Score': 0.4799081401319651, 'Time taken': 0.15385007858276367}\n"
     ]
    },
    {
     "name": "stderr",
     "output_type": "stream",
     "text": [
      " 81%|████████▏ | 22/27 [14:47<02:09, 26.00s/it]"
     ]
    },
    {
     "name": "stdout",
     "output_type": "stream",
     "text": [
      "{'Model': 'RidgeClassifierCV', 'Accuracy': 0.5087244283995187, 'Balanced Accuracy': 0.5098264277056592, 'ROC AUC': None, 'F1 Score': 0.48572891994888756, 'Time taken': 0.4113290309906006}\n"
     ]
    },
    {
     "name": "stderr",
     "output_type": "stream",
     "text": [
      " 85%|████████▌ | 23/27 [14:51<01:17, 19.47s/it]"
     ]
    },
    {
     "name": "stdout",
     "output_type": "stream",
     "text": [
      "{'Model': 'SGDClassifier', 'Accuracy': 0.45697954271961494, 'Balanced Accuracy': 0.4574689334157645, 'ROC AUC': None, 'F1 Score': 0.4324130554587642, 'Time taken': 4.243365049362183}\n"
     ]
    },
    {
     "name": "stderr",
     "output_type": "stream",
     "text": [
      " 89%|████████▉ | 24/27 [18:38<04:05, 81.80s/it]"
     ]
    },
    {
     "name": "stdout",
     "output_type": "stream",
     "text": [
      "{'Model': 'SVC', 'Accuracy': 0.6823104693140795, 'Balanced Accuracy': 0.6824300545695487, 'ROC AUC': None, 'F1 Score': 0.6800116929963124, 'Time taken': 227.18868279457092}\n"
     ]
    },
    {
     "name": "stderr",
     "output_type": "stream",
     "text": [
      " 96%|█████████▋| 26/27 [18:55<00:47, 47.88s/it]"
     ]
    },
    {
     "name": "stdout",
     "output_type": "stream",
     "text": [
      "{'Model': 'XGBClassifier', 'Accuracy': 0.7180104292017649, 'Balanced Accuracy': 0.7181882686163338, 'ROC AUC': None, 'F1 Score': 0.7175536942654077, 'Time taken': 16.614152193069458}\n",
      "[LightGBM] [Info] Auto-choosing col-wise multi-threading, the overhead of testing was 0.014078 seconds.\n",
      "You can set `force_col_wise=true` to remove the overhead.\n",
      "[LightGBM] [Info] Total Bins 10675\n",
      "[LightGBM] [Info] Number of data points in the train set: 39888, number of used features: 44\n",
      "[LightGBM] [Info] Start training from score -2.297534\n",
      "[LightGBM] [Info] Start training from score -2.297534\n",
      "[LightGBM] [Info] Start training from score -2.307813\n",
      "[LightGBM] [Info] Start training from score -2.296786\n",
      "[LightGBM] [Info] Start training from score -2.317691\n",
      "[LightGBM] [Info] Start training from score -2.301032\n",
      "[LightGBM] [Info] Start training from score -2.300782\n",
      "[LightGBM] [Info] Start training from score -2.300531\n",
      "[LightGBM] [Info] Start training from score -2.295291\n",
      "[LightGBM] [Info] Start training from score -2.311095\n"
     ]
    },
    {
     "name": "stderr",
     "output_type": "stream",
     "text": [
      "100%|██████████| 27/27 [19:03<00:00, 42.37s/it]"
     ]
    },
    {
     "name": "stdout",
     "output_type": "stream",
     "text": [
      "{'Model': 'LGBMClassifier', 'Accuracy': 0.7113918973124749, 'Balanced Accuracy': 0.7114078424032785, 'ROC AUC': None, 'F1 Score': 0.7104909372919327, 'Time taken': 8.818283081054688}\n"
     ]
    },
    {
     "name": "stderr",
     "output_type": "stream",
     "text": [
      "\n"
     ]
    }
   ],
   "source": [
    "clf = LazyClassifier(verbose=1,ignore_warnings=True, custom_metric=None)\n",
    "models,predictions = clf.fit(X_train, X_test, y_train, y_test)"
   ]
  },
  {
   "cell_type": "code",
   "execution_count": 24,
   "id": "041fc3b1-530a-4e16-beb5-61924c8e552e",
   "metadata": {},
   "outputs": [
    {
     "name": "stdout",
     "output_type": "stream",
     "text": [
      "                               Accuracy  Balanced Accuracy ROC AUC  F1 Score  \\\n",
      "Model                                                                          \n",
      "XGBClassifier                      0.72               0.72    None      0.72   \n",
      "LGBMClassifier                     0.71               0.71    None      0.71   \n",
      "SVC                                0.68               0.68    None      0.68   \n",
      "RandomForestClassifier             0.68               0.68    None      0.67   \n",
      "ExtraTreesClassifier               0.66               0.66    None      0.65   \n",
      "BaggingClassifier                  0.63               0.63    None      0.63   \n",
      "NuSVC                              0.63               0.63    None      0.63   \n",
      "LogisticRegression                 0.57               0.57    None      0.56   \n",
      "DecisionTreeClassifier             0.54               0.54    None      0.54   \n",
      "CalibratedClassifierCV             0.54               0.54    None      0.53   \n",
      "LinearDiscriminantAnalysis         0.54               0.54    None      0.54   \n",
      "LinearSVC                          0.53               0.54    None      0.52   \n",
      "AdaBoostClassifier                 0.53               0.53    None      0.52   \n",
      "RidgeClassifierCV                  0.51               0.51    None      0.49   \n",
      "KNeighborsClassifier               0.50               0.51    None      0.51   \n",
      "RidgeClassifier                    0.50               0.50    None      0.48   \n",
      "SGDClassifier                      0.46               0.46    None      0.43   \n",
      "QuadraticDiscriminantAnalysis      0.45               0.46    None      0.43   \n",
      "ExtraTreeClassifier                0.38               0.38    None      0.38   \n",
      "Perceptron                         0.37               0.37    None      0.35   \n",
      "PassiveAggressiveClassifier        0.36               0.36    None      0.34   \n",
      "GaussianNB                         0.34               0.34    None      0.32   \n",
      "BernoulliNB                        0.34               0.33    None      0.32   \n",
      "NearestCentroid                    0.33               0.33    None      0.32   \n",
      "DummyClassifier                    0.10               0.10    None      0.02   \n",
      "\n",
      "                               Time Taken  \n",
      "Model                                      \n",
      "XGBClassifier                       16.61  \n",
      "LGBMClassifier                       8.82  \n",
      "SVC                                227.19  \n",
      "RandomForestClassifier              43.04  \n",
      "ExtraTreesClassifier                11.82  \n",
      "BaggingClassifier                   32.58  \n",
      "NuSVC                              497.59  \n",
      "LogisticRegression                   2.15  \n",
      "DecisionTreeClassifier               4.76  \n",
      "CalibratedClassifierCV             135.33  \n",
      "LinearDiscriminantAnalysis           0.39  \n",
      "LinearSVC                          132.42  \n",
      "AdaBoostClassifier                  20.74  \n",
      "RidgeClassifierCV                    0.41  \n",
      "KNeighborsClassifier                 2.17  \n",
      "RidgeClassifier                      0.15  \n",
      "SGDClassifier                        4.24  \n",
      "QuadraticDiscriminantAnalysis        0.28  \n",
      "ExtraTreeClassifier                  0.23  \n",
      "Perceptron                           1.13  \n",
      "PassiveAggressiveClassifier          1.10  \n",
      "GaussianNB                           0.19  \n",
      "BernoulliNB                          0.17  \n",
      "NearestCentroid                      0.14  \n",
      "DummyClassifier                      0.11  \n"
     ]
    }
   ],
   "source": [
    "print(models)"
   ]
  },
  {
   "cell_type": "markdown",
   "id": "fe2b9d64-a31c-42b2-95b0-6b16ad4f87f9",
   "metadata": {},
   "source": [
    "# Escpectral + Temporal + WPD "
   ]
  },
  {
   "cell_type": "code",
   "execution_count": 25,
   "id": "a8fa9b8f-d25f-448d-93cd-2daa9ef47f93",
   "metadata": {},
   "outputs": [],
   "source": [
    "df1 = pd.read_csv(\"../Features/Resultados/clean_spectral_insect.csv\")\n",
    "df2 = pd.read_csv(\"../Features/Resultados/clean_temporal_insect.csv\")\n",
    "df3 = pd.read_csv(\"../Features/Resultados/clean_wpd_db5_5_insect.csv\")"
   ]
  },
  {
   "cell_type": "code",
   "execution_count": 26,
   "id": "3e9d6a8e-82de-4ed5-abc8-0ea15455ef79",
   "metadata": {},
   "outputs": [
    {
     "data": {
      "text/plain": [
       "insect\n",
       "Ae. aegypti.f     4975\n",
       "Ae. aegypti.m     4986\n",
       "Cx. quinq.f       4991\n",
       "Cx. quinq.m       4979\n",
       "Cx. stigma.f      4992\n",
       "Cx. stigma.m      4983\n",
       "Cx. tarsalis.f    4981\n",
       "Cx. tarsalis.m    4986\n",
       "D. simulans       4992\n",
       "M. domestica      4995\n",
       "dtype: int64"
      ]
     },
     "execution_count": 26,
     "metadata": {},
     "output_type": "execute_result"
    }
   ],
   "source": [
    "df1.drop(columns=['insect'], inplace=True)\n",
    "df2.drop(columns=['insect'], inplace=True)\n",
    "\n",
    "df12 = pd.merge(df1, df2, on='Path_name', how='inner')\n",
    "data = pd.merge(df12, df3, on='Path_name', how='inner')\n",
    "\n",
    "# Distribución de las clases\n",
    "data.groupby('insect').size()"
   ]
  },
  {
   "cell_type": "code",
   "execution_count": 27,
   "id": "609ceac5-e75e-4221-a972-cb60089eea97",
   "metadata": {},
   "outputs": [],
   "source": [
    "# Codificación de la variable objetivo\n",
    "from sklearn.preprocessing import LabelEncoder\n",
    "\n",
    "encoder = LabelEncoder()\n",
    "data.insect = encoder.fit_transform(data.insect)\n",
    "\n",
    "features = data.columns.tolist()\n",
    "features.remove('insect')\n",
    "features.remove('Path_name')\n",
    "\n",
    "X_train, X_test, y_train, y_test = train_test_split(data[features].values,\\\n",
    "                                                    data['insect'].values,\\\n",
    "                                                    test_size=0.2,\\\n",
    "                                                    random_state=7)"
   ]
  },
  {
   "cell_type": "code",
   "execution_count": 28,
   "id": "5b06922b-160e-4a8a-842c-db7324432bec",
   "metadata": {
    "collapsed": true,
    "jupyter": {
     "outputs_hidden": true
    }
   },
   "outputs": [
    {
     "name": "stderr",
     "output_type": "stream",
     "text": [
      "  4%|▎         | 1/27 [00:19<08:26, 19.48s/it]"
     ]
    },
    {
     "name": "stdout",
     "output_type": "stream",
     "text": [
      "{'Model': 'AdaBoostClassifier', 'Accuracy': 0.5145407139991978, 'Balanced Accuracy': 0.5168280100525917, 'ROC AUC': None, 'F1 Score': 0.5031497619131365, 'Time taken': 19.4766628742218}\n"
     ]
    },
    {
     "name": "stderr",
     "output_type": "stream",
     "text": [
      " 11%|█         | 3/27 [00:50<05:45, 14.38s/it]"
     ]
    },
    {
     "name": "stdout",
     "output_type": "stream",
     "text": [
      "{'Model': 'BaggingClassifier', 'Accuracy': 0.6290613718411552, 'Balanced Accuracy': 0.6299737648906424, 'ROC AUC': None, 'F1 Score': 0.6274928823397183, 'Time taken': 31.111626148223877}\n",
      "{'Model': 'BernoulliNB', 'Accuracy': 0.33553951062976334, 'Balanced Accuracy': 0.33512349035626976, 'ROC AUC': None, 'F1 Score': 0.3282001017469982, 'Time taken': 0.16393184661865234}\n"
     ]
    },
    {
     "name": "stderr",
     "output_type": "stream",
     "text": [
      " 19%|█▊        | 5/27 [02:51<13:15, 36.17s/it]"
     ]
    },
    {
     "name": "stdout",
     "output_type": "stream",
     "text": [
      "{'Model': 'CalibratedClassifierCV', 'Accuracy': 0.547131969514641, 'Balanced Accuracy': 0.5479027654859088, 'ROC AUC': None, 'F1 Score': 0.5398603329784379, 'Time taken': 121.10951900482178}\n"
     ]
    },
    {
     "name": "stderr",
     "output_type": "stream",
     "text": [
      " 26%|██▌       | 7/27 [02:56<05:44, 17.21s/it]"
     ]
    },
    {
     "name": "stdout",
     "output_type": "stream",
     "text": [
      "{'Model': 'DecisionTreeClassifier', 'Accuracy': 0.5484356197352587, 'Balanced Accuracy': 0.5490899931527062, 'ROC AUC': None, 'F1 Score': 0.5487275289052069, 'Time taken': 4.834497928619385}\n",
      "{'Model': 'DummyClassifier', 'Accuracy': 0.09767348576012835, 'Balanced Accuracy': 0.1, 'ROC AUC': None, 'F1 Score': 0.01738241825879134, 'Time taken': 0.1083672046661377}\n"
     ]
    },
    {
     "name": "stderr",
     "output_type": "stream",
     "text": [
      " 30%|██▉       | 8/27 [02:57<03:44, 11.81s/it]"
     ]
    },
    {
     "name": "stdout",
     "output_type": "stream",
     "text": [
      "{'Model': 'ExtraTreeClassifier', 'Accuracy': 0.3724428399518652, 'Balanced Accuracy': 0.37311314070781054, 'ROC AUC': None, 'F1 Score': 0.3724825509963137, 'Time taken': 0.23616695404052734}\n"
     ]
    },
    {
     "name": "stderr",
     "output_type": "stream",
     "text": [
      " 33%|███▎      | 9/27 [03:08<03:32, 11.82s/it]"
     ]
    },
    {
     "name": "stdout",
     "output_type": "stream",
     "text": [
      "{'Model': 'ExtraTreesClassifier', 'Accuracy': 0.657942238267148, 'Balanced Accuracy': 0.658650706667323, 'ROC AUC': None, 'F1 Score': 0.653597348128733, 'Time taken': 11.847448110580444}\n"
     ]
    },
    {
     "name": "stderr",
     "output_type": "stream",
     "text": [
      " 37%|███▋      | 10/27 [03:09<02:19,  8.23s/it]"
     ]
    },
    {
     "name": "stdout",
     "output_type": "stream",
     "text": [
      "{'Model': 'GaussianNB', 'Accuracy': 0.33664259927797835, 'Balanced Accuracy': 0.33762178916598484, 'ROC AUC': None, 'F1 Score': 0.3199041354363761, 'Time taken': 0.20604896545410156}\n"
     ]
    },
    {
     "name": "stderr",
     "output_type": "stream",
     "text": [
      " 41%|████      | 11/27 [03:11<01:41,  6.36s/it]"
     ]
    },
    {
     "name": "stdout",
     "output_type": "stream",
     "text": [
      "{'Model': 'KNeighborsClassifier', 'Accuracy': 0.5075210589651022, 'Balanced Accuracy': 0.5092946860437549, 'ROC AUC': None, 'F1 Score': 0.5065485398952133, 'Time taken': 2.1155178546905518}\n"
     ]
    },
    {
     "name": "stderr",
     "output_type": "stream",
     "text": [
      " 44%|████▍     | 12/27 [03:11<01:08,  4.55s/it]"
     ]
    },
    {
     "name": "stdout",
     "output_type": "stream",
     "text": [
      "{'Model': 'LinearDiscriminantAnalysis', 'Accuracy': 0.5281789009225832, 'Balanced Accuracy': 0.5290936404850741, 'ROC AUC': None, 'F1 Score': 0.526992184467302, 'Time taken': 0.39344310760498047}\n"
     ]
    },
    {
     "name": "stderr",
     "output_type": "stream",
     "text": [
      " 48%|████▊     | 13/27 [05:20<09:50, 42.18s/it]"
     ]
    },
    {
     "name": "stdout",
     "output_type": "stream",
     "text": [
      "{'Model': 'LinearSVC', 'Accuracy': 0.5433212996389891, 'Balanced Accuracy': 0.543899361182817, 'ROC AUC': None, 'F1 Score': 0.5279124228611417, 'Time taken': 128.7868368625641}\n"
     ]
    },
    {
     "name": "stderr",
     "output_type": "stream",
     "text": [
      " 56%|█████▌    | 15/27 [05:22<04:12, 21.04s/it]"
     ]
    },
    {
     "name": "stdout",
     "output_type": "stream",
     "text": [
      "{'Model': 'LogisticRegression', 'Accuracy': 0.5664861612515042, 'Balanced Accuracy': 0.5669676860870257, 'ROC AUC': None, 'F1 Score': 0.5624336405788406, 'Time taken': 2.04119610786438}\n",
      "{'Model': 'NearestCentroid', 'Accuracy': 0.3380465302847974, 'Balanced Accuracy': 0.3373862175838994, 'ROC AUC': None, 'F1 Score': 0.3388350363033075, 'Time taken': 0.1272878646850586}\n"
     ]
    },
    {
     "name": "stderr",
     "output_type": "stream",
     "text": [
      " 59%|█████▉    | 16/27 [13:29<29:33, 161.24s/it]"
     ]
    },
    {
     "name": "stdout",
     "output_type": "stream",
     "text": [
      "{'Model': 'NuSVC', 'Accuracy': 0.6268551945447253, 'Balanced Accuracy': 0.6270375341740688, 'ROC AUC': None, 'F1 Score': 0.6247013037735605, 'Time taken': 486.81601905822754}\n"
     ]
    },
    {
     "name": "stderr",
     "output_type": "stream",
     "text": [
      " 63%|██████▎   | 17/27 [13:30<18:50, 113.10s/it]"
     ]
    },
    {
     "name": "stdout",
     "output_type": "stream",
     "text": [
      "{'Model': 'PassiveAggressiveClassifier', 'Accuracy': 0.34205776173285196, 'Balanced Accuracy': 0.34321120625393686, 'ROC AUC': None, 'F1 Score': 0.3312662596452401, 'Time taken': 1.1461071968078613}\n"
     ]
    },
    {
     "name": "stderr",
     "output_type": "stream",
     "text": [
      " 67%|██████▋   | 18/27 [13:31<11:54, 79.44s/it] "
     ]
    },
    {
     "name": "stdout",
     "output_type": "stream",
     "text": [
      "{'Model': 'Perceptron', 'Accuracy': 0.39510629763337346, 'Balanced Accuracy': 0.39582940470109146, 'ROC AUC': None, 'F1 Score': 0.39952900760519516, 'Time taken': 1.0927751064300537}\n"
     ]
    },
    {
     "name": "stderr",
     "output_type": "stream",
     "text": [
      " 70%|███████   | 19/27 [13:31<07:25, 55.66s/it]"
     ]
    },
    {
     "name": "stdout",
     "output_type": "stream",
     "text": [
      "{'Model': 'QuadraticDiscriminantAnalysis', 'Accuracy': 0.4288006417970317, 'Balanced Accuracy': 0.42987639297878255, 'ROC AUC': None, 'F1 Score': 0.4036799475092561, 'Time taken': 0.2620511054992676}\n"
     ]
    },
    {
     "name": "stderr",
     "output_type": "stream",
     "text": [
      " 78%|███████▊  | 21/27 [14:15<03:38, 36.47s/it]"
     ]
    },
    {
     "name": "stdout",
     "output_type": "stream",
     "text": [
      "{'Model': 'RandomForestClassifier', 'Accuracy': 0.6792017649418371, 'Balanced Accuracy': 0.6797296649705735, 'ROC AUC': None, 'F1 Score': 0.6769133168612148, 'Time taken': 43.59619092941284}\n",
      "{'Model': 'RidgeClassifier', 'Accuracy': 0.5016044925792218, 'Balanced Accuracy': 0.501983801037839, 'ROC AUC': None, 'F1 Score': 0.4795589776072744, 'Time taken': 0.160261869430542}\n"
     ]
    },
    {
     "name": "stderr",
     "output_type": "stream",
     "text": [
      " 81%|████████▏ | 22/27 [14:16<02:08, 25.65s/it]"
     ]
    },
    {
     "name": "stdout",
     "output_type": "stream",
     "text": [
      "{'Model': 'RidgeClassifierCV', 'Accuracy': 0.5020056157240272, 'Balanced Accuracy': 0.502339807206674, 'ROC AUC': None, 'F1 Score': 0.4801034993868217, 'Time taken': 0.4174771308898926}\n"
     ]
    },
    {
     "name": "stderr",
     "output_type": "stream",
     "text": [
      " 85%|████████▌ | 23/27 [14:20<01:16, 19.12s/it]"
     ]
    },
    {
     "name": "stdout",
     "output_type": "stream",
     "text": [
      "{'Model': 'SGDClassifier', 'Accuracy': 0.5053148816686723, 'Balanced Accuracy': 0.504344336210183, 'ROC AUC': None, 'F1 Score': 0.47989065865026653, 'Time taken': 3.8865411281585693}\n"
     ]
    },
    {
     "name": "stderr",
     "output_type": "stream",
     "text": [
      " 89%|████████▉ | 24/27 [18:01<03:59, 79.84s/it]"
     ]
    },
    {
     "name": "stdout",
     "output_type": "stream",
     "text": [
      "{'Model': 'SVC', 'Accuracy': 0.6786000802246289, 'Balanced Accuracy': 0.6787870438545343, 'ROC AUC': None, 'F1 Score': 0.6756503464296689, 'Time taken': 221.49848294258118}\n"
     ]
    },
    {
     "name": "stderr",
     "output_type": "stream",
     "text": [
      " 96%|█████████▋| 26/27 [18:18<00:46, 46.90s/it]"
     ]
    },
    {
     "name": "stdout",
     "output_type": "stream",
     "text": [
      "{'Model': 'XGBClassifier', 'Accuracy': 0.7155034095467309, 'Balanced Accuracy': 0.7159521456200116, 'ROC AUC': None, 'F1 Score': 0.7150245285755648, 'Time taken': 16.934279918670654}\n",
      "[LightGBM] [Info] Auto-choosing col-wise multi-threading, the overhead of testing was 0.015914 seconds.\n",
      "You can set `force_col_wise=true` to remove the overhead.\n",
      "[LightGBM] [Info] Total Bins 10675\n",
      "[LightGBM] [Info] Number of data points in the train set: 39888, number of used features: 44\n",
      "[LightGBM] [Info] Start training from score -2.297534\n",
      "[LightGBM] [Info] Start training from score -2.297534\n",
      "[LightGBM] [Info] Start training from score -2.307813\n",
      "[LightGBM] [Info] Start training from score -2.296786\n",
      "[LightGBM] [Info] Start training from score -2.317691\n",
      "[LightGBM] [Info] Start training from score -2.301032\n",
      "[LightGBM] [Info] Start training from score -2.300782\n",
      "[LightGBM] [Info] Start training from score -2.300531\n",
      "[LightGBM] [Info] Start training from score -2.295291\n",
      "[LightGBM] [Info] Start training from score -2.311095\n"
     ]
    },
    {
     "name": "stderr",
     "output_type": "stream",
     "text": [
      "100%|██████████| 27/27 [18:27<00:00, 41.01s/it]"
     ]
    },
    {
     "name": "stdout",
     "output_type": "stream",
     "text": [
      "{'Model': 'LGBMClassifier', 'Accuracy': 0.712795828319294, 'Balanced Accuracy': 0.7131375298687446, 'ROC AUC': None, 'F1 Score': 0.7122336858963099, 'Time taken': 8.723404169082642}\n"
     ]
    },
    {
     "name": "stderr",
     "output_type": "stream",
     "text": [
      "\n"
     ]
    }
   ],
   "source": [
    "clf = LazyClassifier(verbose=1,ignore_warnings=True, custom_metric=None)\n",
    "models,predictions = clf.fit(X_train, X_test, y_train, y_test)"
   ]
  },
  {
   "cell_type": "code",
   "execution_count": 29,
   "id": "c643a277-93f9-42bd-aa97-404b599f9c8d",
   "metadata": {},
   "outputs": [
    {
     "name": "stdout",
     "output_type": "stream",
     "text": [
      "                               Accuracy  Balanced Accuracy ROC AUC  F1 Score  \\\n",
      "Model                                                                          \n",
      "XGBClassifier                      0.72               0.72    None      0.72   \n",
      "LGBMClassifier                     0.71               0.71    None      0.71   \n",
      "RandomForestClassifier             0.68               0.68    None      0.68   \n",
      "SVC                                0.68               0.68    None      0.68   \n",
      "ExtraTreesClassifier               0.66               0.66    None      0.65   \n",
      "BaggingClassifier                  0.63               0.63    None      0.63   \n",
      "NuSVC                              0.63               0.63    None      0.62   \n",
      "LogisticRegression                 0.57               0.57    None      0.56   \n",
      "DecisionTreeClassifier             0.55               0.55    None      0.55   \n",
      "CalibratedClassifierCV             0.55               0.55    None      0.54   \n",
      "LinearSVC                          0.54               0.54    None      0.53   \n",
      "LinearDiscriminantAnalysis         0.53               0.53    None      0.53   \n",
      "AdaBoostClassifier                 0.51               0.52    None      0.50   \n",
      "KNeighborsClassifier               0.51               0.51    None      0.51   \n",
      "SGDClassifier                      0.51               0.50    None      0.48   \n",
      "RidgeClassifierCV                  0.50               0.50    None      0.48   \n",
      "RidgeClassifier                    0.50               0.50    None      0.48   \n",
      "QuadraticDiscriminantAnalysis      0.43               0.43    None      0.40   \n",
      "Perceptron                         0.40               0.40    None      0.40   \n",
      "ExtraTreeClassifier                0.37               0.37    None      0.37   \n",
      "PassiveAggressiveClassifier        0.34               0.34    None      0.33   \n",
      "GaussianNB                         0.34               0.34    None      0.32   \n",
      "NearestCentroid                    0.34               0.34    None      0.34   \n",
      "BernoulliNB                        0.34               0.34    None      0.33   \n",
      "DummyClassifier                    0.10               0.10    None      0.02   \n",
      "\n",
      "                               Time Taken  \n",
      "Model                                      \n",
      "XGBClassifier                       16.93  \n",
      "LGBMClassifier                       8.72  \n",
      "RandomForestClassifier              43.60  \n",
      "SVC                                221.50  \n",
      "ExtraTreesClassifier                11.85  \n",
      "BaggingClassifier                   31.11  \n",
      "NuSVC                              486.82  \n",
      "LogisticRegression                   2.04  \n",
      "DecisionTreeClassifier               4.83  \n",
      "CalibratedClassifierCV             121.11  \n",
      "LinearSVC                          128.79  \n",
      "LinearDiscriminantAnalysis           0.39  \n",
      "AdaBoostClassifier                  19.48  \n",
      "KNeighborsClassifier                 2.12  \n",
      "SGDClassifier                        3.89  \n",
      "RidgeClassifierCV                    0.42  \n",
      "RidgeClassifier                      0.16  \n",
      "QuadraticDiscriminantAnalysis        0.26  \n",
      "Perceptron                           1.09  \n",
      "ExtraTreeClassifier                  0.24  \n",
      "PassiveAggressiveClassifier          1.15  \n",
      "GaussianNB                           0.21  \n",
      "NearestCentroid                      0.13  \n",
      "BernoulliNB                          0.16  \n",
      "DummyClassifier                      0.11  \n"
     ]
    }
   ],
   "source": [
    "print(models)"
   ]
  },
  {
   "cell_type": "markdown",
   "id": "f252ed63-01b1-4116-b805-14f22d88d0d1",
   "metadata": {},
   "source": [
    "# Espectral + DWT + PWD "
   ]
  },
  {
   "cell_type": "code",
   "execution_count": 30,
   "id": "57e97ecd-2acd-4470-96d3-1b8bb96cdc7d",
   "metadata": {},
   "outputs": [],
   "source": [
    "df1 = pd.read_csv(\"../Features/Resultados/clean_spectral_insect.csv\")\n",
    "df2 = pd.read_csv(\"../Features/Resultados/clean_dwt_db5_5_insect.csv\")\n",
    "df3 = pd.read_csv(\"../Features/Resultados/clean_wpd_db5_5_insect.csv\")"
   ]
  },
  {
   "cell_type": "code",
   "execution_count": 31,
   "id": "e710848d-076a-404d-8351-6684d86c110b",
   "metadata": {},
   "outputs": [
    {
     "data": {
      "text/plain": [
       "insect\n",
       "Ae. aegypti.f     4975\n",
       "Ae. aegypti.m     4986\n",
       "Cx. quinq.f       4991\n",
       "Cx. quinq.m       4979\n",
       "Cx. stigma.f      4992\n",
       "Cx. stigma.m      4983\n",
       "Cx. tarsalis.f    4981\n",
       "Cx. tarsalis.m    4986\n",
       "D. simulans       4992\n",
       "M. domestica      4995\n",
       "dtype: int64"
      ]
     },
     "execution_count": 31,
     "metadata": {},
     "output_type": "execute_result"
    }
   ],
   "source": [
    "df1.drop(columns=['insect'], inplace=True)\n",
    "df2.drop(columns=['insect'], inplace=True)\n",
    "\n",
    "df12 = pd.merge(df1, df2, on='Path_name', how='inner')\n",
    "data = pd.merge(df12, df3, on='Path_name', how='inner')\n",
    "\n",
    "# Distribución de las clases\n",
    "data.groupby('insect').size()"
   ]
  },
  {
   "cell_type": "code",
   "execution_count": 32,
   "id": "46d27ae6-b712-40e2-a1e6-b62ba4d59d23",
   "metadata": {},
   "outputs": [],
   "source": [
    "# Codificación de la variable objetivo\n",
    "from sklearn.preprocessing import LabelEncoder\n",
    "\n",
    "encoder = LabelEncoder()\n",
    "data.insect = encoder.fit_transform(data.insect)\n",
    "\n",
    "features = data.columns.tolist()\n",
    "features.remove('insect')\n",
    "features.remove('Path_name')\n",
    "\n",
    "X_train, X_test, y_train, y_test = train_test_split(data[features].values,\\\n",
    "                                                    data['insect'].values,\\\n",
    "                                                    test_size=0.2,\\\n",
    "                                                    random_state=7)"
   ]
  },
  {
   "cell_type": "code",
   "execution_count": 34,
   "id": "620f92a6-08a0-491a-885e-7ab730f7e348",
   "metadata": {
    "collapsed": true,
    "jupyter": {
     "outputs_hidden": true
    }
   },
   "outputs": [
    {
     "name": "stderr",
     "output_type": "stream",
     "text": [
      " 96%|█████████▋| 26/27 [18:52<00:49, 49.27s/it] "
     ]
    },
    {
     "name": "stdout",
     "output_type": "stream",
     "text": [
      "[LightGBM] [Info] Auto-choosing col-wise multi-threading, the overhead of testing was 0.013342 seconds.\n",
      "You can set `force_col_wise=true` to remove the overhead.\n",
      "[LightGBM] [Info] Total Bins 10930\n",
      "[LightGBM] [Info] Number of data points in the train set: 39888, number of used features: 45\n",
      "[LightGBM] [Info] Start training from score -2.297534\n",
      "[LightGBM] [Info] Start training from score -2.297534\n",
      "[LightGBM] [Info] Start training from score -2.307813\n",
      "[LightGBM] [Info] Start training from score -2.296786\n",
      "[LightGBM] [Info] Start training from score -2.317691\n",
      "[LightGBM] [Info] Start training from score -2.301032\n",
      "[LightGBM] [Info] Start training from score -2.300782\n",
      "[LightGBM] [Info] Start training from score -2.300531\n",
      "[LightGBM] [Info] Start training from score -2.295291\n",
      "[LightGBM] [Info] Start training from score -2.311095\n"
     ]
    },
    {
     "name": "stderr",
     "output_type": "stream",
     "text": [
      "100%|██████████| 27/27 [19:01<00:00, 42.27s/it]\n"
     ]
    }
   ],
   "source": [
    "clf = LazyClassifier(verbose=0,ignore_warnings=True, custom_metric=None)\n",
    "models,predictions = clf.fit(X_train, X_test, y_train, y_test)"
   ]
  },
  {
   "cell_type": "code",
   "execution_count": 35,
   "id": "71f7a075-6004-45ec-bc33-c2c61361ae33",
   "metadata": {},
   "outputs": [
    {
     "name": "stdout",
     "output_type": "stream",
     "text": [
      "                               Accuracy  Balanced Accuracy ROC AUC  F1 Score  \\\n",
      "Model                                                                          \n",
      "LGBMClassifier                     0.70               0.70    None      0.70   \n",
      "XGBClassifier                      0.70               0.70    None      0.70   \n",
      "RandomForestClassifier             0.67               0.67    None      0.67   \n",
      "SVC                                0.67               0.67    None      0.67   \n",
      "ExtraTreesClassifier               0.65               0.66    None      0.65   \n",
      "BaggingClassifier                  0.62               0.62    None      0.62   \n",
      "NuSVC                              0.62               0.62    None      0.62   \n",
      "LogisticRegression                 0.61               0.61    None      0.60   \n",
      "LinearSVC                          0.59               0.59    None      0.58   \n",
      "CalibratedClassifierCV             0.59               0.59    None      0.58   \n",
      "LinearDiscriminantAnalysis         0.57               0.57    None      0.57   \n",
      "RidgeClassifierCV                  0.56               0.56    None      0.54   \n",
      "RidgeClassifier                    0.56               0.56    None      0.54   \n",
      "DecisionTreeClassifier             0.54               0.54    None      0.54   \n",
      "SGDClassifier                      0.53               0.53    None      0.51   \n",
      "AdaBoostClassifier                 0.51               0.52    None      0.50   \n",
      "KNeighborsClassifier               0.51               0.51    None      0.51   \n",
      "QuadraticDiscriminantAnalysis      0.46               0.46    None      0.44   \n",
      "PassiveAggressiveClassifier        0.43               0.43    None      0.42   \n",
      "Perceptron                         0.42               0.43    None      0.42   \n",
      "ExtraTreeClassifier                0.39               0.39    None      0.39   \n",
      "BernoulliNB                        0.35               0.35    None      0.34   \n",
      "GaussianNB                         0.34               0.34    None      0.33   \n",
      "NearestCentroid                    0.34               0.34    None      0.34   \n",
      "DummyClassifier                    0.10               0.10    None      0.02   \n",
      "\n",
      "                               Time Taken  \n",
      "Model                                      \n",
      "LGBMClassifier                       9.23  \n",
      "XGBClassifier                       17.08  \n",
      "RandomForestClassifier              46.19  \n",
      "SVC                                233.30  \n",
      "ExtraTreesClassifier                12.04  \n",
      "BaggingClassifier                   31.89  \n",
      "NuSVC                              528.71  \n",
      "LogisticRegression                   2.17  \n",
      "LinearSVC                          123.00  \n",
      "CalibratedClassifierCV             102.81  \n",
      "LinearDiscriminantAnalysis           0.41  \n",
      "RidgeClassifierCV                    0.42  \n",
      "RidgeClassifier                      0.16  \n",
      "DecisionTreeClassifier               4.93  \n",
      "SGDClassifier                        3.59  \n",
      "AdaBoostClassifier                  19.93  \n",
      "KNeighborsClassifier                 2.22  \n",
      "QuadraticDiscriminantAnalysis        0.29  \n",
      "PassiveAggressiveClassifier          1.02  \n",
      "Perceptron                           0.97  \n",
      "ExtraTreeClassifier                  0.24  \n",
      "BernoulliNB                          0.17  \n",
      "GaussianNB                           0.20  \n",
      "NearestCentroid                      0.14  \n",
      "DummyClassifier                      0.11  \n"
     ]
    }
   ],
   "source": [
    "print(models)"
   ]
  },
  {
   "cell_type": "markdown",
   "id": "48e18811-3648-4795-80fb-a79908f5f2da",
   "metadata": {},
   "source": [
    "# Temporal + DWT + PWD "
   ]
  },
  {
   "cell_type": "code",
   "execution_count": 36,
   "id": "33c21e7c-9970-45b3-b926-a4ac77ec4c07",
   "metadata": {},
   "outputs": [],
   "source": [
    "df1 = pd.read_csv(\"../Features/Resultados/clean_temporal_insect.csv\")\n",
    "df2 = pd.read_csv(\"../Features/Resultados/clean_dwt_db5_5_insect.csv\")\n",
    "df3 = pd.read_csv(\"../Features/Resultados/clean_wpd_db5_5_insect.csv\")"
   ]
  },
  {
   "cell_type": "code",
   "execution_count": 37,
   "id": "747d9e8c-07bb-48dd-b095-fa52614ec23a",
   "metadata": {},
   "outputs": [
    {
     "data": {
      "text/plain": [
       "insect\n",
       "Ae. aegypti.f     5000\n",
       "Ae. aegypti.m     4999\n",
       "Cx. quinq.f       4999\n",
       "Cx. quinq.m       4997\n",
       "Cx. stigma.f      4999\n",
       "Cx. stigma.m      4997\n",
       "Cx. tarsalis.f    5000\n",
       "Cx. tarsalis.m    4998\n",
       "D. simulans       4999\n",
       "M. domestica      4999\n",
       "dtype: int64"
      ]
     },
     "execution_count": 37,
     "metadata": {},
     "output_type": "execute_result"
    }
   ],
   "source": [
    "df1.drop(columns=['insect'], inplace=True)\n",
    "df2.drop(columns=['insect'], inplace=True)\n",
    "\n",
    "df12 = pd.merge(df1, df2, on='Path_name', how='inner')\n",
    "data = pd.merge(df12, df3, on='Path_name', how='inner')\n",
    "\n",
    "# Distribución de las clases\n",
    "data.groupby('insect').size()"
   ]
  },
  {
   "cell_type": "code",
   "execution_count": 38,
   "id": "f2b5f6e2-e9b3-4933-b2ef-68c30c47b62b",
   "metadata": {},
   "outputs": [],
   "source": [
    "# Codificación de la variable objetivo\n",
    "from sklearn.preprocessing import LabelEncoder\n",
    "\n",
    "encoder = LabelEncoder()\n",
    "data.insect = encoder.fit_transform(data.insect)\n",
    "\n",
    "features = data.columns.tolist()\n",
    "features.remove('insect')\n",
    "features.remove('Path_name')\n",
    "\n",
    "X_train, X_test, y_train, y_test = train_test_split(data[features].values,\\\n",
    "                                                    data['insect'].values,\\\n",
    "                                                    test_size=0.2,\\\n",
    "                                                    random_state=7)"
   ]
  },
  {
   "cell_type": "code",
   "execution_count": 39,
   "id": "b568bc52-e72c-4679-b1e1-32f6d6fa312e",
   "metadata": {
    "collapsed": true,
    "jupyter": {
     "outputs_hidden": true
    }
   },
   "outputs": [
    {
     "name": "stderr",
     "output_type": "stream",
     "text": [
      " 96%|█████████▋| 26/27 [17:33<00:50, 50.23s/it] "
     ]
    },
    {
     "name": "stdout",
     "output_type": "stream",
     "text": [
      "[LightGBM] [Info] Auto-choosing col-wise multi-threading, the overhead of testing was 0.009889 seconds.\n",
      "You can set `force_col_wise=true` to remove the overhead.\n",
      "[LightGBM] [Info] Total Bins 8925\n",
      "[LightGBM] [Info] Number of data points in the train set: 39989, number of used features: 35\n",
      "[LightGBM] [Info] Start training from score -2.294094\n",
      "[LightGBM] [Info] Start training from score -2.298816\n",
      "[LightGBM] [Info] Start training from score -2.301311\n",
      "[LightGBM] [Info] Start training from score -2.296080\n",
      "[LightGBM] [Info] Start training from score -2.308328\n",
      "[LightGBM] [Info] Start training from score -2.300811\n",
      "[LightGBM] [Info] Start training from score -2.304813\n",
      "[LightGBM] [Info] Start training from score -2.310342\n",
      "[LightGBM] [Info] Start training from score -2.303561\n",
      "[LightGBM] [Info] Start training from score -2.307825\n"
     ]
    },
    {
     "name": "stderr",
     "output_type": "stream",
     "text": [
      "100%|██████████| 27/27 [17:40<00:00, 39.29s/it]\n"
     ]
    }
   ],
   "source": [
    "clf = LazyClassifier(verbose=0,ignore_warnings=True, custom_metric=None)\n",
    "models,predictions = clf.fit(X_train, X_test, y_train, y_test)"
   ]
  },
  {
   "cell_type": "code",
   "execution_count": 40,
   "id": "083c078d-b346-4c41-8ee5-61823d8e3196",
   "metadata": {},
   "outputs": [
    {
     "name": "stdout",
     "output_type": "stream",
     "text": [
      "                               Accuracy  Balanced Accuracy ROC AUC  F1 Score  \\\n",
      "Model                                                                          \n",
      "XGBClassifier                      0.64               0.64    None      0.63   \n",
      "LGBMClassifier                     0.64               0.64    None      0.63   \n",
      "SVC                                0.63               0.63    None      0.62   \n",
      "RandomForestClassifier             0.60               0.60    None      0.59   \n",
      "NuSVC                              0.59               0.59    None      0.58   \n",
      "LogisticRegression                 0.58               0.58    None      0.57   \n",
      "ExtraTreesClassifier               0.57               0.57    None      0.57   \n",
      "BaggingClassifier                  0.57               0.57    None      0.57   \n",
      "CalibratedClassifierCV             0.54               0.54    None      0.53   \n",
      "LinearSVC                          0.53               0.53    None      0.51   \n",
      "LinearDiscriminantAnalysis         0.53               0.53    None      0.53   \n",
      "RidgeClassifierCV                  0.50               0.50    None      0.48   \n",
      "RidgeClassifier                    0.50               0.50    None      0.47   \n",
      "KNeighborsClassifier               0.46               0.46    None      0.46   \n",
      "SGDClassifier                      0.46               0.46    None      0.42   \n",
      "DecisionTreeClassifier             0.45               0.45    None      0.45   \n",
      "AdaBoostClassifier                 0.43               0.43    None      0.42   \n",
      "QuadraticDiscriminantAnalysis      0.41               0.41    None      0.37   \n",
      "Perceptron                         0.35               0.35    None      0.34   \n",
      "PassiveAggressiveClassifier        0.34               0.34    None      0.34   \n",
      "ExtraTreeClassifier                0.32               0.32    None      0.32   \n",
      "NearestCentroid                    0.27               0.26    None      0.26   \n",
      "GaussianNB                         0.26               0.26    None      0.25   \n",
      "BernoulliNB                        0.24               0.24    None      0.23   \n",
      "DummyClassifier                    0.10               0.10    None      0.02   \n",
      "\n",
      "                               Time Taken  \n",
      "Model                                      \n",
      "XGBClassifier                       14.21  \n",
      "LGBMClassifier                       7.73  \n",
      "SVC                                247.59  \n",
      "RandomForestClassifier              38.50  \n",
      "NuSVC                              491.17  \n",
      "LogisticRegression                   1.93  \n",
      "ExtraTreesClassifier                11.14  \n",
      "BaggingClassifier                   24.08  \n",
      "CalibratedClassifierCV              74.43  \n",
      "LinearSVC                          121.74  \n",
      "LinearDiscriminantAnalysis           0.29  \n",
      "RidgeClassifierCV                    0.35  \n",
      "RidgeClassifier                      0.15  \n",
      "KNeighborsClassifier                 1.89  \n",
      "SGDClassifier                        3.47  \n",
      "DecisionTreeClassifier               3.65  \n",
      "AdaBoostClassifier                  15.62  \n",
      "QuadraticDiscriminantAnalysis        0.21  \n",
      "Perceptron                           0.88  \n",
      "PassiveAggressiveClassifier          1.02  \n",
      "ExtraTreeClassifier                  0.20  \n",
      "NearestCentroid                      0.11  \n",
      "GaussianNB                           0.16  \n",
      "BernoulliNB                          0.14  \n",
      "DummyClassifier                      0.10  \n"
     ]
    }
   ],
   "source": [
    "print(models)"
   ]
  },
  {
   "cell_type": "markdown",
   "id": "883f98ad-49cf-4bc9-b76e-58789c82254c",
   "metadata": {},
   "source": [
    "# Espectral + Temporal + DWT + PWD "
   ]
  },
  {
   "cell_type": "code",
   "execution_count": 41,
   "id": "ab308549-135a-43ec-80de-6100ac0b7ce8",
   "metadata": {},
   "outputs": [],
   "source": [
    "df1 = pd.read_csv(\"../Features/Resultados/clean_spectral_insect.csv\")\n",
    "df2 = pd.read_csv(\"../Features/Resultados/clean_temporal_insect.csv\")\n",
    "df3 = pd.read_csv(\"../Features/Resultados/clean_dwt_db5_5_insect.csv\")\n",
    "df4 = pd.read_csv(\"../Features/Resultados/clean_wpd_db5_5_insect.csv\")"
   ]
  },
  {
   "cell_type": "code",
   "execution_count": 42,
   "id": "fa44e495-92d7-4844-bcb0-5c47983cd877",
   "metadata": {},
   "outputs": [
    {
     "data": {
      "text/plain": [
       "insect\n",
       "Ae. aegypti.f     4975\n",
       "Ae. aegypti.m     4986\n",
       "Cx. quinq.f       4991\n",
       "Cx. quinq.m       4979\n",
       "Cx. stigma.f      4992\n",
       "Cx. stigma.m      4983\n",
       "Cx. tarsalis.f    4981\n",
       "Cx. tarsalis.m    4986\n",
       "D. simulans       4992\n",
       "M. domestica      4995\n",
       "dtype: int64"
      ]
     },
     "execution_count": 42,
     "metadata": {},
     "output_type": "execute_result"
    }
   ],
   "source": [
    "df1.drop(columns=['insect'], inplace=True)\n",
    "df2.drop(columns=['insect'], inplace=True)\n",
    "df3.drop(columns=['insect'], inplace=True)\n",
    "\n",
    "df12 = pd.merge(df1, df2, on='Path_name', how='inner')\n",
    "df34 = pd.merge(df3, df4, on='Path_name', how='inner')\n",
    "\n",
    "data = pd.merge(df12, df34, on='Path_name', how='inner')\n",
    "\n",
    "# Distribución de las clases\n",
    "data.groupby('insect').size()"
   ]
  },
  {
   "cell_type": "code",
   "execution_count": 43,
   "id": "8f2bcc84-f62e-43a6-ab78-166114ce073a",
   "metadata": {},
   "outputs": [],
   "source": [
    "# Codificación de la variable objetivo\n",
    "encoder = LabelEncoder()\n",
    "data.insect = encoder.fit_transform(data.insect)\n",
    "\n",
    "features = data.columns.tolist()\n",
    "features.remove('insect')\n",
    "features.remove('Path_name')\n",
    "\n",
    "X_train, X_test, y_train, y_test = train_test_split(data[features].values,\\\n",
    "                                                    data['insect'].values,\\\n",
    "                                                    test_size=0.2,\\\n",
    "                                                    random_state=7)"
   ]
  },
  {
   "cell_type": "code",
   "execution_count": 44,
   "id": "df20ee92-47e5-48a5-9fc1-87bea22b03ea",
   "metadata": {
    "collapsed": true,
    "jupyter": {
     "outputs_hidden": true
    }
   },
   "outputs": [
    {
     "name": "stderr",
     "output_type": "stream",
     "text": [
      " 96%|█████████▋| 26/27 [20:16<00:50, 50.68s/it] "
     ]
    },
    {
     "name": "stdout",
     "output_type": "stream",
     "text": [
      "[LightGBM] [Info] Auto-choosing col-wise multi-threading, the overhead of testing was 0.016906 seconds.\n",
      "You can set `force_col_wise=true` to remove the overhead.\n",
      "[LightGBM] [Info] Total Bins 13735\n",
      "[LightGBM] [Info] Number of data points in the train set: 39888, number of used features: 56\n",
      "[LightGBM] [Info] Start training from score -2.297534\n",
      "[LightGBM] [Info] Start training from score -2.297534\n",
      "[LightGBM] [Info] Start training from score -2.307813\n",
      "[LightGBM] [Info] Start training from score -2.296786\n",
      "[LightGBM] [Info] Start training from score -2.317691\n",
      "[LightGBM] [Info] Start training from score -2.301032\n",
      "[LightGBM] [Info] Start training from score -2.300782\n",
      "[LightGBM] [Info] Start training from score -2.300531\n",
      "[LightGBM] [Info] Start training from score -2.295291\n",
      "[LightGBM] [Info] Start training from score -2.311095\n"
     ]
    },
    {
     "name": "stderr",
     "output_type": "stream",
     "text": [
      "100%|██████████| 27/27 [20:28<00:00, 45.48s/it]\n"
     ]
    }
   ],
   "source": [
    "clf = LazyClassifier(verbose=0,ignore_warnings=True, custom_metric=None)\n",
    "models,predictions = clf.fit(X_train, X_test, y_train, y_test)"
   ]
  },
  {
   "cell_type": "code",
   "execution_count": 45,
   "id": "42a80b13-63a2-4707-a891-93caab72aca2",
   "metadata": {},
   "outputs": [
    {
     "name": "stdout",
     "output_type": "stream",
     "text": [
      "                               Accuracy  Balanced Accuracy ROC AUC  F1 Score  \\\n",
      "Model                                                                          \n",
      "XGBClassifier                      0.72               0.72    None      0.72   \n",
      "LGBMClassifier                     0.72               0.72    None      0.71   \n",
      "SVC                                0.69               0.69    None      0.69   \n",
      "RandomForestClassifier             0.69               0.69    None      0.68   \n",
      "ExtraTreesClassifier               0.67               0.67    None      0.66   \n",
      "BaggingClassifier                  0.64               0.64    None      0.64   \n",
      "NuSVC                              0.63               0.63    None      0.63   \n",
      "LogisticRegression                 0.63               0.63    None      0.63   \n",
      "CalibratedClassifierCV             0.61               0.61    None      0.61   \n",
      "LinearSVC                          0.61               0.61    None      0.60   \n",
      "LinearDiscriminantAnalysis         0.59               0.59    None      0.59   \n",
      "RidgeClassifier                    0.57               0.57    None      0.56   \n",
      "RidgeClassifierCV                  0.57               0.57    None      0.55   \n",
      "SGDClassifier                      0.56               0.56    None      0.55   \n",
      "DecisionTreeClassifier             0.55               0.55    None      0.55   \n",
      "AdaBoostClassifier                 0.52               0.53    None      0.52   \n",
      "KNeighborsClassifier               0.52               0.52    None      0.52   \n",
      "QuadraticDiscriminantAnalysis      0.48               0.48    None      0.45   \n",
      "Perceptron                         0.43               0.43    None      0.43   \n",
      "PassiveAggressiveClassifier        0.41               0.41    None      0.41   \n",
      "ExtraTreeClassifier                0.38               0.38    None      0.38   \n",
      "BernoulliNB                        0.33               0.33    None      0.32   \n",
      "GaussianNB                         0.33               0.33    None      0.31   \n",
      "NearestCentroid                    0.33               0.33    None      0.33   \n",
      "DummyClassifier                    0.10               0.10    None      0.02   \n",
      "\n",
      "                               Time Taken  \n",
      "Model                                      \n",
      "XGBClassifier                       21.98  \n",
      "LGBMClassifier                      11.37  \n",
      "SVC                                231.96  \n",
      "RandomForestClassifier              51.49  \n",
      "ExtraTreesClassifier                13.86  \n",
      "BaggingClassifier                   39.30  \n",
      "NuSVC                              540.62  \n",
      "LogisticRegression                   2.32  \n",
      "CalibratedClassifierCV             136.97  \n",
      "LinearSVC                          135.41  \n",
      "LinearDiscriminantAnalysis           0.52  \n",
      "RidgeClassifier                      0.20  \n",
      "RidgeClassifierCV                    0.56  \n",
      "SGDClassifier                        4.54  \n",
      "DecisionTreeClassifier               6.94  \n",
      "AdaBoostClassifier                  23.81  \n",
      "KNeighborsClassifier                 2.39  \n",
      "QuadraticDiscriminantAnalysis        0.35  \n",
      "Perceptron                           1.16  \n",
      "PassiveAggressiveClassifier          1.20  \n",
      "ExtraTreeClassifier                  0.26  \n",
      "BernoulliNB                          0.20  \n",
      "GaussianNB                           0.22  \n",
      "NearestCentroid                      0.15  \n",
      "DummyClassifier                      0.13  \n"
     ]
    }
   ],
   "source": [
    "print(models)"
   ]
  },
  {
   "cell_type": "markdown",
   "id": "c03b300b-5498-4078-9f16-783232e8d090",
   "metadata": {},
   "source": [
    "# Espectral + Temporal + DWPD + PWD + MFCC"
   ]
  },
  {
   "cell_type": "code",
   "execution_count": 24,
   "id": "6464fdcc-8df7-4535-9f98-356d17ef645b",
   "metadata": {},
   "outputs": [],
   "source": [
    "df1 = pd.read_csv(\"../Features/Resultados/clean_spectral_insect.csv\")\n",
    "df2 = pd.read_csv(\"../Features/Resultados/clean_temporal_insect.csv\")\n",
    "df3 = pd.read_csv(\"../Features/Resultados/clean_dwpd_db5_5_insect.csv\")\n",
    "df4 = pd.read_csv(\"../Features/Resultados/clean_wpd_db5_5_insect.csv\")\n",
    "df5 = pd.read_csv(\"../Features/Resultados/clean_mfcc_insect.csv\")"
   ]
  },
  {
   "cell_type": "code",
   "execution_count": 25,
   "id": "4e72a869-397d-49fd-9c47-e285cf46890d",
   "metadata": {},
   "outputs": [
    {
     "data": {
      "text/plain": [
       "insect\n",
       "Ae. aegypti.f     4975\n",
       "Ae. aegypti.m     4986\n",
       "Cx. quinq.f       4991\n",
       "Cx. quinq.m       4979\n",
       "Cx. stigma.f      4992\n",
       "Cx. stigma.m      4983\n",
       "Cx. tarsalis.f    4981\n",
       "Cx. tarsalis.m    4986\n",
       "D. simulans       4992\n",
       "M. domestica      4995\n",
       "dtype: int64"
      ]
     },
     "execution_count": 25,
     "metadata": {},
     "output_type": "execute_result"
    }
   ],
   "source": [
    "df1.drop(columns=['insect'], inplace=True)\n",
    "df2.drop(columns=['insect'], inplace=True)\n",
    "df3.drop(columns=['insect'], inplace=True)\n",
    "df4.drop(columns=['insect'], inplace=True)\n",
    "\n",
    "\n",
    "df12 = pd.merge(df1, df2, on='Path_name', how='inner')\n",
    "df34 = pd.merge(df3, df4, on='Path_name', how='inner')\n",
    "df1234 = pd.merge(df12, df34, on='Path_name', how='inner')\n",
    "\n",
    "data = pd.merge(df1234, df5, on='Path_name', how='inner')\n",
    "\n",
    "# Distribución de las clases\n",
    "data.groupby('insect').size()"
   ]
  },
  {
   "cell_type": "code",
   "execution_count": 26,
   "id": "a48be5d1-38e3-43cc-8929-037d8689854f",
   "metadata": {},
   "outputs": [],
   "source": [
    "# Codificación de la variable objetivo\n",
    "encoder = LabelEncoder()\n",
    "data.insect = encoder.fit_transform(data.insect)\n",
    "\n",
    "features = data.columns.tolist()\n",
    "features.remove('insect')\n",
    "features.remove('Path_name')\n",
    "\n",
    "X_train, X_test, y_train, y_test = train_test_split(data[features].values,\\\n",
    "                                                    data['insect'].values,\\\n",
    "                                                    test_size=0.2,\\\n",
    "                                                    random_state=7)"
   ]
  },
  {
   "cell_type": "code",
   "execution_count": 27,
   "id": "8b8ff0a2-6461-416c-913e-e3930ce1711b",
   "metadata": {
    "collapsed": true,
    "jupyter": {
     "outputs_hidden": true
    }
   },
   "outputs": [
    {
     "name": "stderr",
     "output_type": "stream",
     "text": [
      " 96%|█████████▋| 26/27 [41:10<01:24, 84.82s/it]  "
     ]
    },
    {
     "name": "stdout",
     "output_type": "stream",
     "text": [
      "[LightGBM] [Info] Auto-choosing col-wise multi-threading, the overhead of testing was 0.075086 seconds.\n",
      "You can set `force_col_wise=true` to remove the overhead.\n",
      "[LightGBM] [Info] Total Bins 51985\n",
      "[LightGBM] [Info] Number of data points in the train set: 39888, number of used features: 206\n",
      "[LightGBM] [Info] Start training from score -2.297534\n",
      "[LightGBM] [Info] Start training from score -2.297534\n",
      "[LightGBM] [Info] Start training from score -2.307813\n",
      "[LightGBM] [Info] Start training from score -2.296786\n",
      "[LightGBM] [Info] Start training from score -2.317691\n",
      "[LightGBM] [Info] Start training from score -2.301032\n",
      "[LightGBM] [Info] Start training from score -2.300782\n",
      "[LightGBM] [Info] Start training from score -2.300531\n",
      "[LightGBM] [Info] Start training from score -2.295291\n",
      "[LightGBM] [Info] Start training from score -2.311095\n"
     ]
    },
    {
     "name": "stderr",
     "output_type": "stream",
     "text": [
      "100%|██████████| 27/27 [41:57<00:00, 93.25s/it]\n"
     ]
    }
   ],
   "source": [
    "clf = LazyClassifier(verbose=0,ignore_warnings=True, custom_metric=None)\n",
    "models,predictions = clf.fit(X_train, X_test, y_train, y_test)"
   ]
  },
  {
   "cell_type": "code",
   "execution_count": 28,
   "id": "0cfedba6-2b05-414f-8010-49aebd777fe7",
   "metadata": {},
   "outputs": [
    {
     "name": "stdout",
     "output_type": "stream",
     "text": [
      "                               Accuracy  Balanced Accuracy ROC AUC  F1 Score  \\\n",
      "Model                                                                          \n",
      "LGBMClassifier                     0.77               0.77    None      0.77   \n",
      "XGBClassifier                      0.77               0.77    None      0.77   \n",
      "SVC                                0.76               0.76    None      0.76   \n",
      "RandomForestClassifier             0.73               0.73    None      0.73   \n",
      "ExtraTreesClassifier               0.72               0.72    None      0.72   \n",
      "LogisticRegression                 0.70               0.70    None      0.70   \n",
      "NuSVC                              0.70               0.70    None      0.70   \n",
      "CalibratedClassifierCV             0.69               0.69    None      0.69   \n",
      "LinearSVC                          0.69               0.69    None      0.68   \n",
      "KNeighborsClassifier               0.68               0.68    None      0.67   \n",
      "BaggingClassifier                  0.67               0.67    None      0.67   \n",
      "LinearDiscriminantAnalysis         0.66               0.66    None      0.66   \n",
      "SGDClassifier                      0.66               0.66    None      0.66   \n",
      "RidgeClassifier                    0.64               0.64    None      0.63   \n",
      "RidgeClassifierCV                  0.64               0.64    None      0.63   \n",
      "NearestCentroid                    0.57               0.57    None      0.57   \n",
      "DecisionTreeClassifier             0.57               0.57    None      0.57   \n",
      "Perceptron                         0.57               0.57    None      0.55   \n",
      "BernoulliNB                        0.55               0.55    None      0.55   \n",
      "PassiveAggressiveClassifier        0.55               0.55    None      0.52   \n",
      "AdaBoostClassifier                 0.54               0.55    None      0.53   \n",
      "GaussianNB                         0.54               0.54    None      0.51   \n",
      "QuadraticDiscriminantAnalysis      0.50               0.50    None      0.46   \n",
      "ExtraTreeClassifier                0.46               0.46    None      0.46   \n",
      "DummyClassifier                    0.10               0.10    None      0.02   \n",
      "\n",
      "                               Time Taken  \n",
      "Model                                      \n",
      "LGBMClassifier                      47.45  \n",
      "XGBClassifier                       98.22  \n",
      "SVC                                288.41  \n",
      "RandomForestClassifier             106.65  \n",
      "ExtraTreesClassifier                21.68  \n",
      "LogisticRegression                   5.25  \n",
      "NuSVC                              809.71  \n",
      "CalibratedClassifierCV             550.39  \n",
      "LinearSVC                          264.65  \n",
      "KNeighborsClassifier                 5.87  \n",
      "BaggingClassifier                  166.28  \n",
      "LinearDiscriminantAnalysis           2.29  \n",
      "SGDClassifier                       22.20  \n",
      "RidgeClassifier                      0.69  \n",
      "RidgeClassifierCV                    2.45  \n",
      "NearestCentroid                      0.57  \n",
      "DecisionTreeClassifier              25.94  \n",
      "Perceptron                           2.21  \n",
      "BernoulliNB                          0.64  \n",
      "PassiveAggressiveClassifier          3.20  \n",
      "AdaBoostClassifier                  88.69  \n",
      "GaussianNB                           0.74  \n",
      "QuadraticDiscriminantAnalysis        2.02  \n",
      "ExtraTreeClassifier                  0.66  \n",
      "DummyClassifier                      0.40  \n"
     ]
    }
   ],
   "source": [
    "print(models)"
   ]
  },
  {
   "cell_type": "markdown",
   "id": "12c9243f-fa42-41fc-a4e7-482f86a91bc8",
   "metadata": {},
   "source": [
    "# Todas "
   ]
  },
  {
   "cell_type": "code",
   "execution_count": 3,
   "id": "5d46f2df-43ec-414b-9f75-b992f8fd31f7",
   "metadata": {},
   "outputs": [],
   "source": [
    "df1 = pd.read_csv(\"../Features/Resultados/clean_spectral_insect.csv\")\n",
    "df2 = pd.read_csv(\"../Features/Resultados/clean_temporal_insect.csv\")\n",
    "df3 = pd.read_csv(\"../Features/Resultados/clean_dwt_db5_5_insect.csv\")\n",
    "df4 = pd.read_csv(\"../Features/Resultados/clean_dwpd_db5_5_insect.csv\")\n",
    "df5 = pd.read_csv(\"../Features/Resultados/clean_wpd_db5_5_insect.csv\")\n",
    "df6 = pd.read_csv(\"../Features/Resultados/clean_mfcc_insect.csv\")"
   ]
  },
  {
   "cell_type": "code",
   "execution_count": 4,
   "id": "ec8dc050-b4b1-4726-a5de-2749c09ba53b",
   "metadata": {},
   "outputs": [
    {
     "data": {
      "text/plain": [
       "insect\n",
       "Ae. aegypti.f     4975\n",
       "Ae. aegypti.m     4986\n",
       "Cx. quinq.f       4991\n",
       "Cx. quinq.m       4979\n",
       "Cx. stigma.f      4992\n",
       "Cx. stigma.m      4983\n",
       "Cx. tarsalis.f    4981\n",
       "Cx. tarsalis.m    4986\n",
       "D. simulans       4992\n",
       "M. domestica      4995\n",
       "dtype: int64"
      ]
     },
     "execution_count": 4,
     "metadata": {},
     "output_type": "execute_result"
    }
   ],
   "source": [
    "df1.drop(columns=['insect'], inplace=True)\n",
    "df2.drop(columns=['insect'], inplace=True)\n",
    "df3.drop(columns=['insect'], inplace=True)\n",
    "df4.drop(columns=['insect'], inplace=True)\n",
    "df5.drop(columns=['insect'], inplace=True)\n",
    "\n",
    "df12 = pd.merge(df1, df2, on='Path_name', how='inner')\n",
    "df34 = pd.merge(df3, df4, on='Path_name', how='inner')\n",
    "df56 = pd.merge(df5, df6, on='Path_name', how='inner')\n",
    "df1234 = pd.merge(df12, df34, on='Path_name', how='inner')\n",
    "\n",
    "data = pd.merge(df1234, df56, on='Path_name', how='inner')\n",
    "\n",
    "# Distribución de las clases\n",
    "data.groupby('insect').size()"
   ]
  },
  {
   "cell_type": "code",
   "execution_count": 5,
   "id": "24446459-3d62-429d-915e-e07af86ea649",
   "metadata": {},
   "outputs": [],
   "source": [
    "# Codificación de la variable objetivo\n",
    "encoder = LabelEncoder()\n",
    "data.insect = encoder.fit_transform(data.insect)\n",
    "\n",
    "features = data.columns.tolist()\n",
    "features.remove('insect')\n",
    "features.remove('Path_name')\n",
    "\n",
    "X_train, X_test, y_train, y_test = train_test_split(data[features].values,\\\n",
    "                                                    data['insect'].values,\\\n",
    "                                                    test_size=0.2,\\\n",
    "                                                    random_state=7)"
   ]
  },
  {
   "cell_type": "code",
   "execution_count": 6,
   "id": "05657eac-5819-415a-a443-ce405e6457a1",
   "metadata": {
    "collapsed": true,
    "jupyter": {
     "outputs_hidden": true
    }
   },
   "outputs": [
    {
     "name": "stderr",
     "output_type": "stream",
     "text": [
      " 96%|█████████▋| 26/27 [41:08<01:25, 85.89s/it]  "
     ]
    },
    {
     "name": "stdout",
     "output_type": "stream",
     "text": [
      "[LightGBM] [Info] Auto-choosing col-wise multi-threading, the overhead of testing was 0.080367 seconds.\n",
      "You can set `force_col_wise=true` to remove the overhead.\n",
      "[LightGBM] [Info] Total Bins 55045\n",
      "[LightGBM] [Info] Number of data points in the train set: 39888, number of used features: 218\n",
      "[LightGBM] [Info] Start training from score -2.297534\n",
      "[LightGBM] [Info] Start training from score -2.297534\n",
      "[LightGBM] [Info] Start training from score -2.307813\n",
      "[LightGBM] [Info] Start training from score -2.296786\n",
      "[LightGBM] [Info] Start training from score -2.317691\n",
      "[LightGBM] [Info] Start training from score -2.301032\n",
      "[LightGBM] [Info] Start training from score -2.300782\n",
      "[LightGBM] [Info] Start training from score -2.300531\n",
      "[LightGBM] [Info] Start training from score -2.295291\n",
      "[LightGBM] [Info] Start training from score -2.311095\n"
     ]
    },
    {
     "name": "stderr",
     "output_type": "stream",
     "text": [
      "100%|██████████| 27/27 [41:57<00:00, 93.23s/it]\n"
     ]
    }
   ],
   "source": [
    "clf = LazyClassifier(verbose=0,ignore_warnings=True, custom_metric=None)\n",
    "models,predictions = clf.fit(X_train, X_test, y_train, y_test)"
   ]
  },
  {
   "cell_type": "code",
   "execution_count": 10,
   "id": "e7f7e522-8f51-4070-8d0c-92b697ba7be9",
   "metadata": {},
   "outputs": [
    {
     "name": "stdout",
     "output_type": "stream",
     "text": [
      "                               Accuracy  Balanced Accuracy ROC AUC  F1 Score  \\\n",
      "Model                                                                          \n",
      "XGBClassifier                     77.74              77.75     NaN     77.74   \n",
      "LGBMClassifier                    77.63              77.63     NaN     77.61   \n",
      "SVC                               76.32              76.33     NaN     76.24   \n",
      "RandomForestClassifier            72.68              72.70     NaN     72.56   \n",
      "ExtraTreesClassifier              71.31              71.34     NaN     71.07   \n",
      "LogisticRegression                70.44              70.47     NaN     70.37   \n",
      "NuSVC                             70.07              70.06     NaN     70.01   \n",
      "CalibratedClassifierCV            69.34              69.38     NaN     69.10   \n",
      "LinearSVC                         69.01              69.04     NaN     68.71   \n",
      "KNeighborsClassifier              67.22              67.39     NaN     67.07   \n",
      "BaggingClassifier                 66.84              66.92     NaN     66.79   \n",
      "LinearDiscriminantAnalysis        66.68              66.72     NaN     66.74   \n",
      "SGDClassifier                     65.42              65.41     NaN     64.97   \n",
      "RidgeClassifierCV                 64.78              64.83     NaN     63.75   \n",
      "RidgeClassifier                   64.73              64.78     NaN     63.68   \n",
      "Perceptron                        58.54              58.58     NaN     58.09   \n",
      "DecisionTreeClassifier            56.56              56.65     NaN     56.60   \n",
      "NearestCentroid                   56.27              56.28     NaN     55.96   \n",
      "PassiveAggressiveClassifier       54.90              55.12     NaN     53.35   \n",
      "AdaBoostClassifier                54.45              54.65     NaN     53.39   \n",
      "BernoulliNB                       54.41              54.40     NaN     54.15   \n",
      "GaussianNB                        52.60              52.82     NaN     50.14   \n",
      "QuadraticDiscriminantAnalysis     49.27              49.62     NaN     45.89   \n",
      "ExtraTreeClassifier               47.97              48.01     NaN     47.99   \n",
      "DummyClassifier                    9.77              10.00     NaN      1.74   \n",
      "\n",
      "                               Time Taken  \n",
      "Model                                      \n",
      "XGBClassifier                    10900.81  \n",
      "LGBMClassifier                    4822.23  \n",
      "SVC                              28044.37  \n",
      "RandomForestClassifier           10390.15  \n",
      "ExtraTreesClassifier              2178.72  \n",
      "LogisticRegression                 504.61  \n",
      "NuSVC                            77879.76  \n",
      "CalibratedClassifierCV           55567.75  \n",
      "LinearSVC                        26555.71  \n",
      "KNeighborsClassifier               641.93  \n",
      "BaggingClassifier                17919.60  \n",
      "LinearDiscriminantAnalysis         244.23  \n",
      "SGDClassifier                     2444.55  \n",
      "RidgeClassifierCV                  250.04  \n",
      "RidgeClassifier                     65.98  \n",
      "Perceptron                         231.77  \n",
      "DecisionTreeClassifier            2773.34  \n",
      "NearestCentroid                     52.28  \n",
      "PassiveAggressiveClassifier        336.51  \n",
      "AdaBoostClassifier                9416.96  \n",
      "BernoulliNB                         64.07  \n",
      "GaussianNB                          73.80  \n",
      "QuadraticDiscriminantAnalysis      199.68  \n",
      "ExtraTreeClassifier                 68.52  \n",
      "DummyClassifier                     45.86  \n"
     ]
    }
   ],
   "source": [
    "print(models*100)"
   ]
  },
  {
   "cell_type": "code",
   "execution_count": 9,
   "id": "ff988189-fdc9-40fb-a23b-72be1bd4bfaa",
   "metadata": {},
   "outputs": [
    {
     "data": {
      "text/html": [
       "<div>\n",
       "<style scoped>\n",
       "    .dataframe tbody tr th:only-of-type {\n",
       "        vertical-align: middle;\n",
       "    }\n",
       "\n",
       "    .dataframe tbody tr th {\n",
       "        vertical-align: top;\n",
       "    }\n",
       "\n",
       "    .dataframe thead th {\n",
       "        text-align: right;\n",
       "    }\n",
       "</style>\n",
       "<table border=\"1\" class=\"dataframe\">\n",
       "  <thead>\n",
       "    <tr style=\"text-align: right;\">\n",
       "      <th></th>\n",
       "      <th>Accuracy</th>\n",
       "      <th>Balanced Accuracy</th>\n",
       "      <th>ROC AUC</th>\n",
       "      <th>F1 Score</th>\n",
       "      <th>Time Taken</th>\n",
       "    </tr>\n",
       "    <tr>\n",
       "      <th>Model</th>\n",
       "      <th></th>\n",
       "      <th></th>\n",
       "      <th></th>\n",
       "      <th></th>\n",
       "      <th></th>\n",
       "    </tr>\n",
       "  </thead>\n",
       "  <tbody>\n",
       "    <tr>\n",
       "      <th>XGBClassifier</th>\n",
       "      <td>77.74</td>\n",
       "      <td>77.75</td>\n",
       "      <td>NaN</td>\n",
       "      <td>77.74</td>\n",
       "      <td>10900.81</td>\n",
       "    </tr>\n",
       "    <tr>\n",
       "      <th>LGBMClassifier</th>\n",
       "      <td>77.63</td>\n",
       "      <td>77.63</td>\n",
       "      <td>NaN</td>\n",
       "      <td>77.61</td>\n",
       "      <td>4822.23</td>\n",
       "    </tr>\n",
       "    <tr>\n",
       "      <th>SVC</th>\n",
       "      <td>76.32</td>\n",
       "      <td>76.33</td>\n",
       "      <td>NaN</td>\n",
       "      <td>76.24</td>\n",
       "      <td>28044.37</td>\n",
       "    </tr>\n",
       "    <tr>\n",
       "      <th>RandomForestClassifier</th>\n",
       "      <td>72.68</td>\n",
       "      <td>72.70</td>\n",
       "      <td>NaN</td>\n",
       "      <td>72.56</td>\n",
       "      <td>10390.15</td>\n",
       "    </tr>\n",
       "    <tr>\n",
       "      <th>ExtraTreesClassifier</th>\n",
       "      <td>71.31</td>\n",
       "      <td>71.34</td>\n",
       "      <td>NaN</td>\n",
       "      <td>71.07</td>\n",
       "      <td>2178.72</td>\n",
       "    </tr>\n",
       "    <tr>\n",
       "      <th>LogisticRegression</th>\n",
       "      <td>70.44</td>\n",
       "      <td>70.47</td>\n",
       "      <td>NaN</td>\n",
       "      <td>70.37</td>\n",
       "      <td>504.61</td>\n",
       "    </tr>\n",
       "    <tr>\n",
       "      <th>NuSVC</th>\n",
       "      <td>70.07</td>\n",
       "      <td>70.06</td>\n",
       "      <td>NaN</td>\n",
       "      <td>70.01</td>\n",
       "      <td>77879.76</td>\n",
       "    </tr>\n",
       "    <tr>\n",
       "      <th>CalibratedClassifierCV</th>\n",
       "      <td>69.34</td>\n",
       "      <td>69.38</td>\n",
       "      <td>NaN</td>\n",
       "      <td>69.10</td>\n",
       "      <td>55567.75</td>\n",
       "    </tr>\n",
       "    <tr>\n",
       "      <th>LinearSVC</th>\n",
       "      <td>69.01</td>\n",
       "      <td>69.04</td>\n",
       "      <td>NaN</td>\n",
       "      <td>68.71</td>\n",
       "      <td>26555.71</td>\n",
       "    </tr>\n",
       "    <tr>\n",
       "      <th>KNeighborsClassifier</th>\n",
       "      <td>67.22</td>\n",
       "      <td>67.39</td>\n",
       "      <td>NaN</td>\n",
       "      <td>67.07</td>\n",
       "      <td>641.93</td>\n",
       "    </tr>\n",
       "    <tr>\n",
       "      <th>BaggingClassifier</th>\n",
       "      <td>66.84</td>\n",
       "      <td>66.92</td>\n",
       "      <td>NaN</td>\n",
       "      <td>66.79</td>\n",
       "      <td>17919.60</td>\n",
       "    </tr>\n",
       "    <tr>\n",
       "      <th>LinearDiscriminantAnalysis</th>\n",
       "      <td>66.68</td>\n",
       "      <td>66.72</td>\n",
       "      <td>NaN</td>\n",
       "      <td>66.74</td>\n",
       "      <td>244.23</td>\n",
       "    </tr>\n",
       "    <tr>\n",
       "      <th>SGDClassifier</th>\n",
       "      <td>65.42</td>\n",
       "      <td>65.41</td>\n",
       "      <td>NaN</td>\n",
       "      <td>64.97</td>\n",
       "      <td>2444.55</td>\n",
       "    </tr>\n",
       "    <tr>\n",
       "      <th>RidgeClassifierCV</th>\n",
       "      <td>64.78</td>\n",
       "      <td>64.83</td>\n",
       "      <td>NaN</td>\n",
       "      <td>63.75</td>\n",
       "      <td>250.04</td>\n",
       "    </tr>\n",
       "    <tr>\n",
       "      <th>RidgeClassifier</th>\n",
       "      <td>64.73</td>\n",
       "      <td>64.78</td>\n",
       "      <td>NaN</td>\n",
       "      <td>63.68</td>\n",
       "      <td>65.98</td>\n",
       "    </tr>\n",
       "    <tr>\n",
       "      <th>Perceptron</th>\n",
       "      <td>58.54</td>\n",
       "      <td>58.58</td>\n",
       "      <td>NaN</td>\n",
       "      <td>58.09</td>\n",
       "      <td>231.77</td>\n",
       "    </tr>\n",
       "    <tr>\n",
       "      <th>DecisionTreeClassifier</th>\n",
       "      <td>56.56</td>\n",
       "      <td>56.65</td>\n",
       "      <td>NaN</td>\n",
       "      <td>56.60</td>\n",
       "      <td>2773.34</td>\n",
       "    </tr>\n",
       "    <tr>\n",
       "      <th>NearestCentroid</th>\n",
       "      <td>56.27</td>\n",
       "      <td>56.28</td>\n",
       "      <td>NaN</td>\n",
       "      <td>55.96</td>\n",
       "      <td>52.28</td>\n",
       "    </tr>\n",
       "    <tr>\n",
       "      <th>PassiveAggressiveClassifier</th>\n",
       "      <td>54.90</td>\n",
       "      <td>55.12</td>\n",
       "      <td>NaN</td>\n",
       "      <td>53.35</td>\n",
       "      <td>336.51</td>\n",
       "    </tr>\n",
       "    <tr>\n",
       "      <th>AdaBoostClassifier</th>\n",
       "      <td>54.45</td>\n",
       "      <td>54.65</td>\n",
       "      <td>NaN</td>\n",
       "      <td>53.39</td>\n",
       "      <td>9416.96</td>\n",
       "    </tr>\n",
       "    <tr>\n",
       "      <th>BernoulliNB</th>\n",
       "      <td>54.41</td>\n",
       "      <td>54.40</td>\n",
       "      <td>NaN</td>\n",
       "      <td>54.15</td>\n",
       "      <td>64.07</td>\n",
       "    </tr>\n",
       "    <tr>\n",
       "      <th>GaussianNB</th>\n",
       "      <td>52.60</td>\n",
       "      <td>52.82</td>\n",
       "      <td>NaN</td>\n",
       "      <td>50.14</td>\n",
       "      <td>73.80</td>\n",
       "    </tr>\n",
       "    <tr>\n",
       "      <th>QuadraticDiscriminantAnalysis</th>\n",
       "      <td>49.27</td>\n",
       "      <td>49.62</td>\n",
       "      <td>NaN</td>\n",
       "      <td>45.89</td>\n",
       "      <td>199.68</td>\n",
       "    </tr>\n",
       "    <tr>\n",
       "      <th>ExtraTreeClassifier</th>\n",
       "      <td>47.97</td>\n",
       "      <td>48.01</td>\n",
       "      <td>NaN</td>\n",
       "      <td>47.99</td>\n",
       "      <td>68.52</td>\n",
       "    </tr>\n",
       "    <tr>\n",
       "      <th>DummyClassifier</th>\n",
       "      <td>9.77</td>\n",
       "      <td>10.00</td>\n",
       "      <td>NaN</td>\n",
       "      <td>1.74</td>\n",
       "      <td>45.86</td>\n",
       "    </tr>\n",
       "  </tbody>\n",
       "</table>\n",
       "</div>"
      ],
      "text/plain": [
       "                               Accuracy  Balanced Accuracy ROC AUC  F1 Score  \\\n",
       "Model                                                                          \n",
       "XGBClassifier                     77.74              77.75     NaN     77.74   \n",
       "LGBMClassifier                    77.63              77.63     NaN     77.61   \n",
       "SVC                               76.32              76.33     NaN     76.24   \n",
       "RandomForestClassifier            72.68              72.70     NaN     72.56   \n",
       "ExtraTreesClassifier              71.31              71.34     NaN     71.07   \n",
       "LogisticRegression                70.44              70.47     NaN     70.37   \n",
       "NuSVC                             70.07              70.06     NaN     70.01   \n",
       "CalibratedClassifierCV            69.34              69.38     NaN     69.10   \n",
       "LinearSVC                         69.01              69.04     NaN     68.71   \n",
       "KNeighborsClassifier              67.22              67.39     NaN     67.07   \n",
       "BaggingClassifier                 66.84              66.92     NaN     66.79   \n",
       "LinearDiscriminantAnalysis        66.68              66.72     NaN     66.74   \n",
       "SGDClassifier                     65.42              65.41     NaN     64.97   \n",
       "RidgeClassifierCV                 64.78              64.83     NaN     63.75   \n",
       "RidgeClassifier                   64.73              64.78     NaN     63.68   \n",
       "Perceptron                        58.54              58.58     NaN     58.09   \n",
       "DecisionTreeClassifier            56.56              56.65     NaN     56.60   \n",
       "NearestCentroid                   56.27              56.28     NaN     55.96   \n",
       "PassiveAggressiveClassifier       54.90              55.12     NaN     53.35   \n",
       "AdaBoostClassifier                54.45              54.65     NaN     53.39   \n",
       "BernoulliNB                       54.41              54.40     NaN     54.15   \n",
       "GaussianNB                        52.60              52.82     NaN     50.14   \n",
       "QuadraticDiscriminantAnalysis     49.27              49.62     NaN     45.89   \n",
       "ExtraTreeClassifier               47.97              48.01     NaN     47.99   \n",
       "DummyClassifier                    9.77              10.00     NaN      1.74   \n",
       "\n",
       "                               Time Taken  \n",
       "Model                                      \n",
       "XGBClassifier                    10900.81  \n",
       "LGBMClassifier                    4822.23  \n",
       "SVC                              28044.37  \n",
       "RandomForestClassifier           10390.15  \n",
       "ExtraTreesClassifier              2178.72  \n",
       "LogisticRegression                 504.61  \n",
       "NuSVC                            77879.76  \n",
       "CalibratedClassifierCV           55567.75  \n",
       "LinearSVC                        26555.71  \n",
       "KNeighborsClassifier               641.93  \n",
       "BaggingClassifier                17919.60  \n",
       "LinearDiscriminantAnalysis         244.23  \n",
       "SGDClassifier                     2444.55  \n",
       "RidgeClassifierCV                  250.04  \n",
       "RidgeClassifier                     65.98  \n",
       "Perceptron                         231.77  \n",
       "DecisionTreeClassifier            2773.34  \n",
       "NearestCentroid                     52.28  \n",
       "PassiveAggressiveClassifier        336.51  \n",
       "AdaBoostClassifier                9416.96  \n",
       "BernoulliNB                         64.07  \n",
       "GaussianNB                          73.80  \n",
       "QuadraticDiscriminantAnalysis      199.68  \n",
       "ExtraTreeClassifier                 68.52  \n",
       "DummyClassifier                     45.86  "
      ]
     },
     "execution_count": 9,
     "metadata": {},
     "output_type": "execute_result"
    }
   ],
   "source": [
    "models*100"
   ]
  },
  {
   "cell_type": "code",
   "execution_count": null,
   "id": "af442ceb-bdf3-47c5-bacb-872115cc66f3",
   "metadata": {},
   "outputs": [],
   "source": []
  }
 ],
 "metadata": {
  "kernelspec": {
   "display_name": "Python 3 (ipykernel)",
   "language": "python",
   "name": "python3"
  },
  "language_info": {
   "codemirror_mode": {
    "name": "ipython",
    "version": 3
   },
   "file_extension": ".py",
   "mimetype": "text/x-python",
   "name": "python",
   "nbconvert_exporter": "python",
   "pygments_lexer": "ipython3",
   "version": "3.11.6"
  }
 },
 "nbformat": 4,
 "nbformat_minor": 5
}
